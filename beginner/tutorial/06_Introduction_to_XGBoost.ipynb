{
 "cells": [
  {
   "cell_type": "markdown",
   "metadata": {},
   "source": [
    "<a id=\"introduction\"></a>\n",
    "# Introduction to XGBoost\n",
    "#### By Paul Hendricks\n",
    "-------\n",
    "\n",
    "In this notebook, we'll show how to work with GPU accelerated XGBoost in RAPIDS.\n",
    "\n",
    "**Table of Contents**\n",
    "\n",
    "* [Introduction to XGBoost](#introduction)\n",
    "* [Setup](#setup)\n",
    "* [Load Libraries](#libraries)\n",
    "* [Generate Data](#generate)\n",
    "  * [Load Data](#load)\n",
    "  * [Simulate Data](#simulate)\n",
    "  * [Split Data](#split)\n",
    "  * [Check Dimensions](#check)\n",
    "* [Convert NumPy data to DMatrix format](#convert)\n",
    "* [Set Parameters](#parameters)\n",
    "* [Train Model](#train)\n",
    "* [Conclusion](#conclusion)"
   ]
  },
  {
   "cell_type": "markdown",
   "metadata": {},
   "source": [
    "<a id=\"setup\"></a>\n",
    "## Setup\n",
    "\n",
    "This notebook was tested using the following Docker containers:\n",
    "\n",
    "* `rapidsai/rapidsai-nightly:0.7-cuda10.0-devel-ubuntu18.04-gcc7-py3.7` from [DockerHub - rapidsai/rapidsai-nightly](https://hub.docker.com/r/rapidsai/rapidsai-nightly)\n",
    "\n",
    "This notebook was run on the NVIDIA Tesla V100 GPU. Please be aware that your system may be different and you may need to modify the code or install packages to run the below examples. \n",
    "\n",
    "If you think you have found a bug or an error, please file an issue here: https://github.com/rapidsai/notebooks/issues\n",
    "\n",
    "Before we begin, let's check out our hardware setup by running the `nvidia-smi` command."
   ]
  },
  {
   "cell_type": "code",
   "execution_count": 1,
   "metadata": {
    "ExecuteTime": {
     "end_time": "2018-11-06T21:03:38.237293Z",
     "start_time": "2018-11-06T21:03:37.388285Z"
    }
   },
   "outputs": [
    {
     "name": "stdout",
     "output_type": "stream",
     "text": [
      "Fri May 24 18:00:37 2019       \n",
      "+-----------------------------------------------------------------------------+\n",
      "| NVIDIA-SMI 418.67       Driver Version: 418.67       CUDA Version: 10.1     |\n",
      "|-------------------------------+----------------------+----------------------+\n",
      "| GPU  Name        Persistence-M| Bus-Id        Disp.A | Volatile Uncorr. ECC |\n",
      "| Fan  Temp  Perf  Pwr:Usage/Cap|         Memory-Usage | GPU-Util  Compute M. |\n",
      "|===============================+======================+======================|\n",
      "|   0  Tesla V100-PCIE...  On   | 00000000:05:00.0 Off |                    0 |\n",
      "| N/A   35C    P0    40W / 250W |      0MiB / 32480MiB |      0%      Default |\n",
      "+-------------------------------+----------------------+----------------------+\n",
      "|   1  Tesla V100-PCIE...  On   | 00000000:06:00.0 Off |                    0 |\n",
      "| N/A   38C    P0    41W / 250W |      0MiB / 32480MiB |      0%      Default |\n",
      "+-------------------------------+----------------------+----------------------+\n",
      "|   2  Tesla V100-PCIE...  On   | 00000000:84:00.0 Off |                    0 |\n",
      "| N/A   37C    P0    44W / 250W |      0MiB / 32480MiB |      0%      Default |\n",
      "+-------------------------------+----------------------+----------------------+\n",
      "|   3  Tesla V100-PCIE...  On   | 00000000:85:00.0 Off |                    0 |\n",
      "| N/A   38C    P0    44W / 250W |      0MiB / 32480MiB |      0%      Default |\n",
      "+-------------------------------+----------------------+----------------------+\n",
      "                                                                               \n",
      "+-----------------------------------------------------------------------------+\n",
      "| Processes:                                                       GPU Memory |\n",
      "|  GPU       PID   Type   Process name                             Usage      |\n",
      "|=============================================================================|\n",
      "|  No running processes found                                                 |\n",
      "+-----------------------------------------------------------------------------+\n"
     ]
    }
   ],
   "source": [
    "!nvidia-smi"
   ]
  },
  {
   "cell_type": "markdown",
   "metadata": {},
   "source": [
    "Next, let's see what CUDA version we have."
   ]
  },
  {
   "cell_type": "code",
   "execution_count": 2,
   "metadata": {
    "ExecuteTime": {
     "end_time": "2018-11-06T21:03:39.490984Z",
     "start_time": "2018-11-06T21:03:39.134608Z"
    }
   },
   "outputs": [
    {
     "name": "stdout",
     "output_type": "stream",
     "text": [
      "nvcc: NVIDIA (R) Cuda compiler driver\r\n",
      "Copyright (c) 2005-2018 NVIDIA Corporation\r\n",
      "Built on Sat_Aug_25_21:08:01_CDT_2018\r\n",
      "Cuda compilation tools, release 10.0, V10.0.130\r\n"
     ]
    }
   ],
   "source": [
    "!nvcc --version"
   ]
  },
  {
   "cell_type": "markdown",
   "metadata": {},
   "source": [
    "<a id=\"libraries\"></a>\n",
    "## Load Libraries\n",
    "\n",
    "Let's load some of the libraries within the RAPIDs ecosystem and see which versions we have."
   ]
  },
  {
   "cell_type": "code",
   "execution_count": 3,
   "metadata": {
    "ExecuteTime": {
     "end_time": "2018-11-06T21:03:41.067879Z",
     "start_time": "2018-11-06T21:03:40.256654Z"
    }
   },
   "outputs": [
    {
     "name": "stdout",
     "output_type": "stream",
     "text": [
      "numpy Version: 1.16.2\n",
      "pandas Version: 0.23.4\n",
      "Scikit-Learn Version: 0.21.1\n",
      "XGBoost Version: 0.83.dev0\n"
     ]
    }
   ],
   "source": [
    "import numpy as np; print('numpy Version:', np.__version__)\n",
    "import pandas as pd; print('pandas Version:', pd.__version__)\n",
    "import sklearn; print('Scikit-Learn Version:', sklearn.__version__)\n",
    "import xgboost as xgb; print('XGBoost Version:', xgb.__version__)"
   ]
  },
  {
   "cell_type": "markdown",
   "metadata": {},
   "source": [
    "<a id=\"generate\"></a>\n",
    "## Generate Data\n",
    "\n",
    "<a id=\"load\"></a>\n",
    "### Load Data\n",
    "\n",
    "We can load the data using `pandas.read_csv`. We've provided a helper function `load_data` that will load data from a CSV file (and will only read the first 1 billion rows if that file is unreasonably big)."
   ]
  },
  {
   "cell_type": "code",
   "execution_count": 4,
   "metadata": {},
   "outputs": [],
   "source": [
    "# helper function for loading data\n",
    "def load_data(filename, n_rows):\n",
    "    if n_rows >= 1e9:\n",
    "        df = pd.read_csv(filename)\n",
    "    else:\n",
    "        df = pd.read_csv(filename, nrows=n_rows)\n",
    "    return df.values.astype(np.float32)"
   ]
  },
  {
   "cell_type": "markdown",
   "metadata": {},
   "source": [
    "<a id=\"simulate\"></a>\n",
    "### Simulate Data\n",
    "\n",
    "Alternatively, we can simulate data for our train and validation datasets. The features will be tabular with `n_rows` and `n_columns` in the training dataset, where each value is either of type `np.float32`. We can simulate data for both classification and regression using the `make_classification` or `make_regression` functions from the Scikit-Learn package."
   ]
  },
  {
   "cell_type": "code",
   "execution_count": 5,
   "metadata": {},
   "outputs": [],
   "source": [
    "from sklearn.datasets import make_classification, make_regression\n",
    "\n",
    "\n",
    "# helper function for simulating data\n",
    "def simulate_data(m, n, k=2, random_state=None, classification=True):\n",
    "    if classification:\n",
    "        features, labels = make_classification(n_samples=m, n_features=n, \n",
    "                                               n_informative=int(n/5), n_classes=k, \n",
    "                                              random_state=random_state)\n",
    "    else:\n",
    "        features, labels = make_regression(n_samples=m, n_features=n, \n",
    "                                           n_informative=int(n/5), n_targets=1, \n",
    "                                           random_state=random_state)\n",
    "    return np.c_[labels, features].astype(np.float32)"
   ]
  },
  {
   "cell_type": "code",
   "execution_count": 6,
   "metadata": {},
   "outputs": [],
   "source": [
    "# settings\n",
    "simulate = True\n",
    "classification = False  # change this to false to use regression\n",
    "n_rows = int(1e6)  # we'll use 1 millions rows\n",
    "n_columns = int(100)\n",
    "n_categories = 2\n",
    "random_state = np.random.RandomState(43210)"
   ]
  },
  {
   "cell_type": "code",
   "execution_count": 7,
   "metadata": {},
   "outputs": [
    {
     "name": "stdout",
     "output_type": "stream",
     "text": [
      "(1000000, 101)\n",
      "CPU times: user 8.66 s, sys: 1.41 s, total: 10.1 s\n",
      "Wall time: 6.06 s\n"
     ]
    }
   ],
   "source": [
    "%%time\n",
    "\n",
    "if simulate:\n",
    "    dataset = simulate_data(n_rows, n_columns, n_categories, \n",
    "                            random_state=random_state, \n",
    "                            classification=classification)\n",
    "else:\n",
    "    dataset = load_data('/tmp', n_rows)\n",
    "print(dataset.shape)"
   ]
  },
  {
   "cell_type": "markdown",
   "metadata": {},
   "source": [
    "<a id=\"split\"></a>\n",
    "### Split Data\n",
    "\n",
    "We'll split our dataset into a 80% training dataset and a 20% validation dataset."
   ]
  },
  {
   "cell_type": "code",
   "execution_count": 8,
   "metadata": {},
   "outputs": [],
   "source": [
    "# identify shape and indices\n",
    "n_rows, n_columns = dataset.shape\n",
    "train_size = 0.80\n",
    "train_index = int(n_rows * train_size)\n",
    "\n",
    "# split X, y\n",
    "X, y = dataset[:, 1:], dataset[:, 0]\n",
    "del dataset\n",
    "\n",
    "# split train data\n",
    "X_train, y_train = X[:train_index, :], y[:train_index]\n",
    "\n",
    "# split validation data\n",
    "X_validation, y_validation = X[train_index:, :], y[train_index:]"
   ]
  },
  {
   "cell_type": "markdown",
   "metadata": {},
   "source": [
    "<a id=\"check\"></a>\n",
    "### Check Dimensions\n",
    "\n",
    "We can check the dimensions and proportions of our training and validation dataets."
   ]
  },
  {
   "cell_type": "code",
   "execution_count": 9,
   "metadata": {},
   "outputs": [
    {
     "name": "stdout",
     "output_type": "stream",
     "text": [
      "X_train:  (800000, 100) float32 y_train:  (800000,) float32\n",
      "X_validation (200000, 100) float32 y_validation:  (200000,) float32\n",
      "X_train proportion: 0.8\n",
      "X_validation proportion: 0.2\n"
     ]
    }
   ],
   "source": [
    "# check dimensions\n",
    "print('X_train: ', X_train.shape, X_train.dtype, 'y_train: ', y_train.shape, y_train.dtype)\n",
    "print('X_validation', X_validation.shape, X_validation.dtype, 'y_validation: ', y_validation.shape, y_validation.dtype)\n",
    "\n",
    "# check the proportions\n",
    "total = X_train.shape[0] + X_validation.shape[0]\n",
    "print('X_train proportion:', X_train.shape[0] / total)\n",
    "print('X_validation proportion:', X_validation.shape[0] / total)"
   ]
  },
  {
   "cell_type": "markdown",
   "metadata": {},
   "source": [
    "<a id=\"convert\"></a>\n",
    "## Convert NumPy data to DMatrix format\n",
    "\n",
    "With out data loaded and formatted as NumPy arrays, our next step is to convert this to a `DMatrix` object that XGBoost can work with. We can instantiate an object of the `xgboost.DMatrix` by passing in the feature matrix as the first argument followed by the label vector using the `label=` keyword argument. To learn more about XGBoost's support for data structures other than NumPy arrays, see the documentation for the Data Interface:\n",
    "\n",
    "\n",
    "https://xgboost.readthedocs.io/en/latest/python/python_intro.html#data-interface"
   ]
  },
  {
   "cell_type": "code",
   "execution_count": 10,
   "metadata": {
    "ExecuteTime": {
     "end_time": "2018-11-06T21:03:55.278322Z",
     "start_time": "2018-11-06T21:03:54.059643Z"
    }
   },
   "outputs": [
    {
     "name": "stdout",
     "output_type": "stream",
     "text": [
      "CPU times: user 412 ms, sys: 225 ms, total: 636 ms\n",
      "Wall time: 635 ms\n"
     ]
    },
    {
     "name": "stderr",
     "output_type": "stream",
     "text": [
      "/conda/envs/rapids/lib/python3.7/site-packages/xgboost-0.83.dev0-py3.7.egg/xgboost/core.py:630: UserWarning: Use subset (sliced data) of np.ndarray is not recommended because it will generate extra copies and increase memory consumption\n",
      "  warnings.warn(\"Use subset (sliced data) of np.ndarray is not recommended \" +\n"
     ]
    }
   ],
   "source": [
    "%%time\n",
    "\n",
    "dtrain = xgb.DMatrix(X_train, label=y_train)\n",
    "dvalidation = xgb.DMatrix(X_validation, label=y_validation)"
   ]
  },
  {
   "cell_type": "markdown",
   "metadata": {},
   "source": [
    "<a id=\"parameters\"></a>\n",
    "## Set Parameters\n",
    "\n",
    "There are a number of parameters that can be set before XGBoost can be run. \n",
    "\n",
    "* General parameters relate to which booster we are using to do boosting, commonly tree or linear model\n",
    "* Booster parameters depend on which booster you have chosen\n",
    "* Learning task parameters decide on the learning scenario. For example, regression tasks may use different parameters with ranking tasks.\n",
    "\n",
    "For more information on the configurable parameters within the XGBoost module, see the documentation here:\n",
    "\n",
    "\n",
    "https://xgboost.readthedocs.io/en/latest/parameter.html"
   ]
  },
  {
   "cell_type": "code",
   "execution_count": 11,
   "metadata": {
    "ExecuteTime": {
     "end_time": "2018-11-06T21:03:57.443698Z",
     "start_time": "2018-11-06T21:03:57.438288Z"
    }
   },
   "outputs": [
    {
     "name": "stdout",
     "output_type": "stream",
     "text": [
      "{'silent': 1, 'tree_method': 'gpu_hist', 'n_gpus': 1, 'eval_metric': 'rmse', 'objective': 'reg:squarederror'}\n"
     ]
    }
   ],
   "source": [
    "# instantiate params\n",
    "params = {}\n",
    "\n",
    "# general params\n",
    "general_params = {'silent': 1}\n",
    "params.update(general_params)\n",
    "\n",
    "# booster params\n",
    "n_gpus = 1  # change this to -1 to use all GPUs available or 0 to use the CPU\n",
    "booster_params = {}\n",
    "\n",
    "if n_gpus != 0:\n",
    "    booster_params['tree_method'] = 'gpu_hist'\n",
    "    booster_params['n_gpus'] = n_gpus   \n",
    "params.update(booster_params)\n",
    "\n",
    "# learning task params\n",
    "learning_task_params = {}\n",
    "if classification:\n",
    "    learning_task_params['eval_metric'] = 'auc'\n",
    "    learning_task_params['objective'] = 'binary:logistic'\n",
    "else:\n",
    "    learning_task_params['eval_metric'] = 'rmse'\n",
    "    learning_task_params['objective'] = 'reg:squarederror'\n",
    "params.update(learning_task_params)\n",
    "print(params)"
   ]
  },
  {
   "cell_type": "markdown",
   "metadata": {},
   "source": [
    "<a id=\"train\"></a>\n",
    "## Train Model\n",
    "\n",
    "Now it's time to train our model! We can use the `xgb.train` function and pass in the parameters, training dataset, the number of boosting iterations, and the list of items to be evaluated during training. For more information on the parameters that can be passed into `xgb.train`, check out the documentation:\n",
    "\n",
    "\n",
    "https://xgboost.readthedocs.io/en/latest/python/python_api.html#xgboost.train"
   ]
  },
  {
   "cell_type": "code",
   "execution_count": 12,
   "metadata": {},
   "outputs": [],
   "source": [
    "# model training settings\n",
    "evallist = [(dvalidation, 'validation'), (dtrain, 'train')]\n",
    "num_round = 100"
   ]
  },
  {
   "cell_type": "code",
   "execution_count": 13,
   "metadata": {
    "ExecuteTime": {
     "end_time": "2018-11-06T21:04:50.201308Z",
     "start_time": "2018-11-06T21:04:00.363740Z"
    },
    "scrolled": true
   },
   "outputs": [
    {
     "name": "stdout",
     "output_type": "stream",
     "text": [
      "[0]\tvalidation-rmse:177.112\ttrain-rmse:176.77\n",
      "[1]\tvalidation-rmse:155.295\ttrain-rmse:154.896\n",
      "[2]\tvalidation-rmse:139.364\ttrain-rmse:138.909\n",
      "[3]\tvalidation-rmse:127.326\ttrain-rmse:126.869\n",
      "[4]\tvalidation-rmse:117.357\ttrain-rmse:116.847\n",
      "[5]\tvalidation-rmse:109.171\ttrain-rmse:108.61\n",
      "[6]\tvalidation-rmse:102.598\ttrain-rmse:101.984\n",
      "[7]\tvalidation-rmse:96.9497\ttrain-rmse:96.2146\n",
      "[8]\tvalidation-rmse:91.7657\ttrain-rmse:91.0073\n",
      "[9]\tvalidation-rmse:87.1612\ttrain-rmse:86.3357\n",
      "[10]\tvalidation-rmse:82.9774\ttrain-rmse:82.1197\n",
      "[11]\tvalidation-rmse:79.0616\ttrain-rmse:78.1721\n",
      "[12]\tvalidation-rmse:75.6349\ttrain-rmse:74.6923\n",
      "[13]\tvalidation-rmse:72.4321\ttrain-rmse:71.4086\n",
      "[14]\tvalidation-rmse:69.6851\ttrain-rmse:68.5905\n",
      "[15]\tvalidation-rmse:66.9602\ttrain-rmse:65.8484\n",
      "[16]\tvalidation-rmse:64.5078\ttrain-rmse:63.3696\n",
      "[17]\tvalidation-rmse:62.2351\ttrain-rmse:61.0773\n",
      "[18]\tvalidation-rmse:60.2102\ttrain-rmse:59.0042\n",
      "[19]\tvalidation-rmse:58.2566\ttrain-rmse:57.0363\n",
      "[20]\tvalidation-rmse:56.3911\ttrain-rmse:55.164\n",
      "[21]\tvalidation-rmse:54.7222\ttrain-rmse:53.4821\n",
      "[22]\tvalidation-rmse:53.1824\ttrain-rmse:51.9392\n",
      "[23]\tvalidation-rmse:51.5614\ttrain-rmse:50.2996\n",
      "[24]\tvalidation-rmse:50.2089\ttrain-rmse:48.9222\n",
      "[25]\tvalidation-rmse:48.8721\ttrain-rmse:47.5938\n",
      "[26]\tvalidation-rmse:47.6622\ttrain-rmse:46.3618\n",
      "[27]\tvalidation-rmse:46.4847\ttrain-rmse:45.1743\n",
      "[28]\tvalidation-rmse:45.3941\ttrain-rmse:44.0857\n",
      "[29]\tvalidation-rmse:44.4032\ttrain-rmse:43.0868\n",
      "[30]\tvalidation-rmse:43.4965\ttrain-rmse:42.1658\n",
      "[31]\tvalidation-rmse:42.641\ttrain-rmse:41.3053\n",
      "[32]\tvalidation-rmse:41.8203\ttrain-rmse:40.5092\n",
      "[33]\tvalidation-rmse:41.0995\ttrain-rmse:39.78\n",
      "[34]\tvalidation-rmse:40.3877\ttrain-rmse:39.0763\n",
      "[35]\tvalidation-rmse:39.7394\ttrain-rmse:38.4283\n",
      "[36]\tvalidation-rmse:39.1031\ttrain-rmse:37.8025\n",
      "[37]\tvalidation-rmse:38.5571\ttrain-rmse:37.257\n",
      "[38]\tvalidation-rmse:38.0501\ttrain-rmse:36.7458\n",
      "[39]\tvalidation-rmse:37.5731\ttrain-rmse:36.2773\n",
      "[40]\tvalidation-rmse:37.0621\ttrain-rmse:35.7721\n",
      "[41]\tvalidation-rmse:36.6506\ttrain-rmse:35.3713\n",
      "[42]\tvalidation-rmse:36.2745\ttrain-rmse:34.9976\n",
      "[43]\tvalidation-rmse:35.9161\ttrain-rmse:34.6511\n",
      "[44]\tvalidation-rmse:35.5747\ttrain-rmse:34.3213\n",
      "[45]\tvalidation-rmse:35.2818\ttrain-rmse:34.0254\n",
      "[46]\tvalidation-rmse:34.9919\ttrain-rmse:33.7485\n",
      "[47]\tvalidation-rmse:34.7461\ttrain-rmse:33.5081\n",
      "[48]\tvalidation-rmse:34.502\ttrain-rmse:33.2676\n",
      "[49]\tvalidation-rmse:34.2796\ttrain-rmse:33.049\n",
      "[50]\tvalidation-rmse:34.0627\ttrain-rmse:32.8362\n",
      "[51]\tvalidation-rmse:33.8242\ttrain-rmse:32.6099\n",
      "[52]\tvalidation-rmse:33.6554\ttrain-rmse:32.4403\n",
      "[53]\tvalidation-rmse:33.4825\ttrain-rmse:32.2749\n",
      "[54]\tvalidation-rmse:33.3189\ttrain-rmse:32.1155\n",
      "[55]\tvalidation-rmse:33.1764\ttrain-rmse:31.9765\n",
      "[56]\tvalidation-rmse:32.9394\ttrain-rmse:31.7451\n",
      "[57]\tvalidation-rmse:32.7909\ttrain-rmse:31.6056\n",
      "[58]\tvalidation-rmse:32.6847\ttrain-rmse:31.4997\n",
      "[59]\tvalidation-rmse:32.5842\ttrain-rmse:31.3978\n",
      "[60]\tvalidation-rmse:32.4229\ttrain-rmse:31.2387\n",
      "[61]\tvalidation-rmse:32.3358\ttrain-rmse:31.1509\n",
      "[62]\tvalidation-rmse:32.2578\ttrain-rmse:31.0746\n",
      "[63]\tvalidation-rmse:32.1648\ttrain-rmse:30.9862\n",
      "[64]\tvalidation-rmse:32.0961\ttrain-rmse:30.9212\n",
      "[65]\tvalidation-rmse:31.6598\ttrain-rmse:30.4878\n",
      "[66]\tvalidation-rmse:31.5853\ttrain-rmse:30.4162\n",
      "[67]\tvalidation-rmse:31.4469\ttrain-rmse:30.2707\n",
      "[68]\tvalidation-rmse:31.3956\ttrain-rmse:30.2172\n",
      "[69]\tvalidation-rmse:31.297\ttrain-rmse:30.1228\n",
      "[70]\tvalidation-rmse:31.2373\ttrain-rmse:30.0623\n",
      "[71]\tvalidation-rmse:31.1898\ttrain-rmse:30.0179\n",
      "[72]\tvalidation-rmse:31.1366\ttrain-rmse:29.9622\n",
      "[73]\tvalidation-rmse:31.0402\ttrain-rmse:29.8641\n",
      "[74]\tvalidation-rmse:30.8792\ttrain-rmse:29.7026\n",
      "[75]\tvalidation-rmse:30.8196\ttrain-rmse:29.6424\n",
      "[76]\tvalidation-rmse:30.5948\ttrain-rmse:29.4148\n",
      "[77]\tvalidation-rmse:30.5641\ttrain-rmse:29.3817\n",
      "[78]\tvalidation-rmse:30.5258\ttrain-rmse:29.3433\n",
      "[79]\tvalidation-rmse:30.4913\ttrain-rmse:29.3075\n",
      "[80]\tvalidation-rmse:30.4513\ttrain-rmse:29.2668\n",
      "[81]\tvalidation-rmse:30.4174\ttrain-rmse:29.2311\n",
      "[82]\tvalidation-rmse:30.2989\ttrain-rmse:29.1138\n",
      "[83]\tvalidation-rmse:30.2439\ttrain-rmse:29.057\n",
      "[84]\tvalidation-rmse:30.158\ttrain-rmse:28.9729\n",
      "[85]\tvalidation-rmse:30.0879\ttrain-rmse:28.9009\n",
      "[86]\tvalidation-rmse:30.0543\ttrain-rmse:28.8638\n",
      "[87]\tvalidation-rmse:30.0182\ttrain-rmse:28.8276\n",
      "[88]\tvalidation-rmse:29.7559\ttrain-rmse:28.5668\n",
      "[89]\tvalidation-rmse:29.7371\ttrain-rmse:28.5455\n",
      "[90]\tvalidation-rmse:29.6709\ttrain-rmse:28.4795\n",
      "[91]\tvalidation-rmse:29.478\ttrain-rmse:28.2898\n",
      "[92]\tvalidation-rmse:29.4469\ttrain-rmse:28.2583\n",
      "[93]\tvalidation-rmse:29.3812\ttrain-rmse:28.188\n",
      "[94]\tvalidation-rmse:29.3124\ttrain-rmse:28.119\n",
      "[95]\tvalidation-rmse:29.2945\ttrain-rmse:28.0958\n",
      "[96]\tvalidation-rmse:29.2521\ttrain-rmse:28.0504\n",
      "[97]\tvalidation-rmse:29.2395\ttrain-rmse:28.0337\n",
      "[98]\tvalidation-rmse:29.2054\ttrain-rmse:27.9917\n",
      "[99]\tvalidation-rmse:29.1898\ttrain-rmse:27.9731\n",
      "CPU times: user 812 ms, sys: 1.07 s, total: 1.88 s\n",
      "Wall time: 1.86 s\n"
     ]
    }
   ],
   "source": [
    "%%time\n",
    "\n",
    "bst = xgb.train(params, dtrain, num_round, evallist)"
   ]
  },
  {
   "cell_type": "markdown",
   "metadata": {},
   "source": [
    "<a id=\"conclusion\"></a>\n",
    "## Conclusion\n",
    "\n",
    "In this notebook, we showed how to work with GPU accelerated XGBoost in RAPIDS.\n",
    "\n",
    "To learn more about RAPIDS, be sure to check out: \n",
    "\n",
    "* [Open Source Website](http://rapids.ai)\n",
    "* [GitHub](https://github.com/rapidsai/)\n",
    "* [Press Release](https://nvidianews.nvidia.com/news/nvidia-introduces-rapids-open-source-gpu-acceleration-platform-for-large-scale-data-analytics-and-machine-learning)\n",
    "* [NVIDIA Blog](https://blogs.nvidia.com/blog/2018/10/10/rapids-data-science-open-source-community/)\n",
    "* [Developer Blog](https://devblogs.nvidia.com/gpu-accelerated-analytics-rapids/)\n",
    "* [NVIDIA Data Science Webpage](https://www.nvidia.com/en-us/deep-learning-ai/solutions/data-science/)"
   ]
  },
  {
   "cell_type": "code",
   "execution_count": null,
   "metadata": {},
   "outputs": [],
   "source": []
  }
 ],
 "metadata": {
  "kernelspec": {
   "display_name": "Python 3",
   "language": "python",
   "name": "python3"
  },
  "language_info": {
   "codemirror_mode": {
    "name": "ipython",
    "version": 3
   },
   "file_extension": ".py",
   "mimetype": "text/x-python",
   "name": "python",
   "nbconvert_exporter": "python",
   "pygments_lexer": "ipython3",
   "version": "3.7.3"
  }
 },
 "nbformat": 4,
 "nbformat_minor": 2
}
