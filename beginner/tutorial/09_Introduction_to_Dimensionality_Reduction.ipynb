{
 "cells": [
  {
   "cell_type": "markdown",
   "metadata": {},
   "source": [
    "<a id=\"introduction\"></a>\n",
    "## Introduction to Dimensionality Reduction\n",
    "#### By Paul Hendricks\n",
    "-------\n",
    "\n",
    "In this notebook, we will show how to do GPU accelerated Dimensionality Reduction in RAPIDS.\n",
    "\n",
    "**Table of Contents**\n",
    "\n",
    "* [Introduction to Dimensionality Reduction](#introduction)\n",
    "* [Principle Components Analysis](#pca)\n",
    "* [Truncated SVC](#tvsd)\n",
    "* [UMAP](#umap)\n",
    "* [Setup](#setup)\n",
    "* [Conclusion](#conclusion)\n",
    "\n",
    "Before going any further, let's make sure we have access to `matplotlib`, a popular Python library for visualizing data."
   ]
  },
  {
   "cell_type": "code",
   "execution_count": 1,
   "metadata": {},
   "outputs": [],
   "source": [
    "import os\n",
    "\n",
    "try:\n",
    "    import matplotlib\n",
    "except ModuleNotFoundError:\n",
    "    os.system('conda install -y matplotlib')"
   ]
  },
  {
   "cell_type": "markdown",
   "metadata": {},
   "source": [
    "<a id=\"setup\"></a>\n",
    "## Setup\n",
    "\n",
    "This notebook was tested using the following Docker containers:\n",
    "\n",
    "* `rapidsai/rapidsai-nightly:0.8-cuda10.0-devel-ubuntu18.04-gcc7-py3.7` from [DockerHub - rapidsai/rapidsai-nightly](https://hub.docker.com/r/rapidsai/rapidsai-nightly)\n",
    "\n",
    "This notebook was run on the NVIDIA Tesla V100 GPU. Please be aware that your system may be different and you may need to modify the code or install packages to run the below examples. \n",
    "\n",
    "If you think you have found a bug or an error, please file an issue here: https://github.com/rapidsai/notebooks/issues\n",
    "\n",
    "Before we begin, let's check out our hardware setup by running the `nvidia-smi` command."
   ]
  },
  {
   "cell_type": "code",
   "execution_count": 2,
   "metadata": {},
   "outputs": [
    {
     "name": "stdout",
     "output_type": "stream",
     "text": [
      "Mon Jun 10 02:57:51 2019       \n",
      "+-----------------------------------------------------------------------------+\n",
      "| NVIDIA-SMI 418.67       Driver Version: 418.67       CUDA Version: 10.1     |\n",
      "|-------------------------------+----------------------+----------------------+\n",
      "| GPU  Name        Persistence-M| Bus-Id        Disp.A | Volatile Uncorr. ECC |\n",
      "| Fan  Temp  Perf  Pwr:Usage/Cap|         Memory-Usage | GPU-Util  Compute M. |\n",
      "|===============================+======================+======================|\n",
      "|   0  Tesla V100-SXM2...  On   | 00000000:06:00.0 Off |                    0 |\n",
      "| N/A   38C    P0    57W / 300W |    660MiB / 16130MiB |      0%      Default |\n",
      "+-------------------------------+----------------------+----------------------+\n",
      "|   1  Tesla V100-SXM2...  On   | 00000000:07:00.0 Off |                    0 |\n",
      "| N/A   38C    P0    45W / 300W |     11MiB / 16130MiB |      0%      Default |\n",
      "+-------------------------------+----------------------+----------------------+\n",
      "|   2  Tesla V100-SXM2...  On   | 00000000:0A:00.0 Off |                    0 |\n",
      "| N/A   36C    P0    40W / 300W |     11MiB / 16130MiB |      0%      Default |\n",
      "+-------------------------------+----------------------+----------------------+\n",
      "|   3  Tesla V100-SXM2...  On   | 00000000:0B:00.0 Off |                    0 |\n",
      "| N/A   35C    P0    43W / 300W |     11MiB / 16130MiB |      0%      Default |\n",
      "+-------------------------------+----------------------+----------------------+\n",
      "|   4  Tesla V100-SXM2...  On   | 00000000:85:00.0 Off |                    0 |\n",
      "| N/A   35C    P0    43W / 300W |     11MiB / 16130MiB |      0%      Default |\n",
      "+-------------------------------+----------------------+----------------------+\n",
      "|   5  Tesla V100-SXM2...  On   | 00000000:86:00.0 Off |                    0 |\n",
      "| N/A   36C    P0    43W / 300W |     11MiB / 16130MiB |      0%      Default |\n",
      "+-------------------------------+----------------------+----------------------+\n",
      "|   6  Tesla V100-SXM2...  On   | 00000000:89:00.0 Off |                    0 |\n",
      "| N/A   37C    P0    42W / 300W |     11MiB / 16130MiB |      0%      Default |\n",
      "+-------------------------------+----------------------+----------------------+\n",
      "|   7  Tesla V100-SXM2...  On   | 00000000:8A:00.0 Off |                    0 |\n",
      "| N/A   35C    P0    40W / 300W |     11MiB / 16130MiB |      0%      Default |\n",
      "+-------------------------------+----------------------+----------------------+\n",
      "                                                                               \n",
      "+-----------------------------------------------------------------------------+\n",
      "| Processes:                                                       GPU Memory |\n",
      "|  GPU       PID   Type   Process name                             Usage      |\n",
      "|=============================================================================|\n",
      "+-----------------------------------------------------------------------------+\n"
     ]
    }
   ],
   "source": [
    "!nvidia-smi"
   ]
  },
  {
   "cell_type": "markdown",
   "metadata": {},
   "source": [
    "Next, let's see what CUDA version we have:"
   ]
  },
  {
   "cell_type": "code",
   "execution_count": 3,
   "metadata": {},
   "outputs": [
    {
     "name": "stdout",
     "output_type": "stream",
     "text": [
      "nvcc: NVIDIA (R) Cuda compiler driver\r\n",
      "Copyright (c) 2005-2018 NVIDIA Corporation\r\n",
      "Built on Sat_Aug_25_21:08:01_CDT_2018\r\n",
      "Cuda compilation tools, release 10.0, V10.0.130\r\n"
     ]
    }
   ],
   "source": [
    "!nvcc --version"
   ]
  },
  {
   "cell_type": "markdown",
   "metadata": {},
   "source": [
    "Next, let's load some helper functions from `matplotlib` and configure the Jupyter Notebook for visualization."
   ]
  },
  {
   "cell_type": "code",
   "execution_count": 4,
   "metadata": {},
   "outputs": [],
   "source": [
    "from matplotlib.colors import ListedColormap\n",
    "import matplotlib.pyplot as plt\n",
    "\n",
    "\n",
    "%matplotlib inline"
   ]
  },
  {
   "cell_type": "markdown",
   "metadata": {},
   "source": [
    "<a id=\"pca\"></a>\n",
    "## Principle Components Analysis\n",
    "\n",
    "To be edited."
   ]
  },
  {
   "cell_type": "code",
   "execution_count": 5,
   "metadata": {},
   "outputs": [
    {
     "name": "stdout",
     "output_type": "stream",
     "text": [
      "components:              0            1           2\n",
      "0   0.69225764   -0.5102837 -0.51028395\n",
      "1  -0.72165036  -0.48949987  -0.4895003\n",
      "explained variance: 0      8.510402\n",
      "1    0.48959687\n",
      "dtype: float32\n",
      "explained variance ratio: 0      0.9456003\n",
      "1    0.054399658\n",
      "dtype: float32\n",
      "singular values: 0    4.1256275\n",
      "1    0.9895422\n",
      "dtype: float32\n",
      "mean: 0    2.6666667\n",
      "1    2.3333333\n",
      "2    2.3333333\n",
      "dtype: float32\n",
      "noise variance: 0    0.0\n",
      "dtype: float32\n",
      "Inverse:               0           1\n",
      "0    -2.8547091 -0.42891636\n",
      "1  -0.121316016  0.80743366\n",
      "2     2.9760244 -0.37851727\n",
      "Input:            0          1          2\n",
      "0  1.0000001  3.9999993        4.0\n",
      "1        2.0  2.0000002  1.9999999\n",
      "2  4.9999995  1.0000006  1.0000001\n"
     ]
    }
   ],
   "source": [
    "# Both import methods supported\n",
    "from cuml import PCA\n",
    "from cuml.decomposition import PCA\n",
    "\n",
    "import cudf\n",
    "import numpy as np\n",
    "\n",
    "gdf_float = cudf.DataFrame()\n",
    "gdf_float['0'] = np.asarray([1.0,2.0,5.0], dtype = np.float32)\n",
    "gdf_float['1'] = np.asarray([4.0,2.0,1.0], dtype = np.float32)\n",
    "gdf_float['2'] = np.asarray([4.0,2.0,1.0], dtype = np.float32)\n",
    "\n",
    "pca_float = PCA(n_components = 2)\n",
    "pca_float.fit(gdf_float)\n",
    "\n",
    "print(f'components: {pca_float.components_}')\n",
    "print(f'explained variance: {pca_float.explained_variance_}')\n",
    "print(f'explained variance ratio: {pca_float.explained_variance_ratio_}')\n",
    "\n",
    "print(f'singular values: {pca_float.singular_values_}')\n",
    "print(f'mean: {pca_float.mean_}')\n",
    "print(f'noise variance: {pca_float.noise_variance_}')\n",
    "\n",
    "trans_gdf_float = pca_float.transform(gdf_float)\n",
    "print(f'Inverse: {trans_gdf_float}')\n",
    "\n",
    "input_gdf_float = pca_float.inverse_transform(trans_gdf_float)\n",
    "print(f'Input: {input_gdf_float}')"
   ]
  },
  {
   "cell_type": "markdown",
   "metadata": {},
   "source": [
    "<a id=\"tvsd\"></a>\n",
    "## Truncated SVD\n",
    "\n",
    "To be edited."
   ]
  },
  {
   "cell_type": "code",
   "execution_count": 6,
   "metadata": {},
   "outputs": [
    {
     "name": "stdout",
     "output_type": "stream",
     "text": [
      "components:            0            1           2\n",
      "0  0.5872595   0.57233125   0.5723313\n",
      "1  0.8093987  -0.41525516  -0.4152552\n",
      "explained variance: 0    0.49499735\n",
      "1     5.5050035\n",
      "dtype: float32\n",
      "explained variance ratio: 0    0.082499556\n",
      "1      0.9175005\n",
      "dtype: float32\n",
      "singular values: 0    7.4390235\n",
      "1    4.0817785\n",
      "dtype: float32\n",
      "Transformed matrix:           0             1\n",
      "0   5.16591    -2.5126426\n",
      "1  3.463844  -0.042223275\n",
      "2   4.08096     3.2164836\n",
      "Input matrix:            0          1           2\n",
      "0  0.9999999  3.9999995   3.9999998\n",
      "1  1.9999996  1.9999996   1.9999999\n",
      "2        5.0  0.9999995  0.99999964\n"
     ]
    }
   ],
   "source": [
    "# Both import methods supported\n",
    "from cuml import TruncatedSVD\n",
    "from cuml.decomposition import TruncatedSVD\n",
    "\n",
    "import cudf\n",
    "import numpy as np\n",
    "\n",
    "gdf_float = cudf.DataFrame()\n",
    "gdf_float['0'] = np.asarray([1.0,2.0,5.0], dtype = np.float32)\n",
    "gdf_float['1'] = np.asarray([4.0,2.0,1.0], dtype = np.float32)\n",
    "gdf_float['2'] = np.asarray([4.0,2.0,1.0], dtype = np.float32)\n",
    "\n",
    "tsvd_float = TruncatedSVD(n_components = 2, algorithm = \"jacobi\", n_iter = 20, tol = 1e-9)\n",
    "tsvd_float.fit(gdf_float)\n",
    "\n",
    "print(f'components: {tsvd_float.components_}')\n",
    "print(f'explained variance: {tsvd_float.explained_variance_}')\n",
    "print(f'explained variance ratio: {tsvd_float.explained_variance_ratio_}')\n",
    "print(f'singular values: {tsvd_float.singular_values_}')\n",
    "\n",
    "trans_gdf_float = tsvd_float.transform(gdf_float)\n",
    "print(f'Transformed matrix: {trans_gdf_float}')\n",
    "\n",
    "input_gdf_float = tsvd_float.inverse_transform(trans_gdf_float)\n",
    "print(f'Input matrix: {input_gdf_float}')"
   ]
  },
  {
   "cell_type": "markdown",
   "metadata": {},
   "source": [
    "<a id=\"umap\"></a>\n",
    "## UMAP\n",
    "\n",
    "To be edited."
   ]
  },
  {
   "cell_type": "code",
   "execution_count": null,
   "metadata": {},
   "outputs": [],
   "source": []
  },
  {
   "cell_type": "markdown",
   "metadata": {},
   "source": [
    "<a id=\"conclusion\"></a>\n",
    "## Conclusion\n",
    "\n",
    "In this notebook, we showed how to do GPU accelerated Dimensionality Reduction in RAPIDS.\n",
    "\n",
    "To learn more about RAPIDS, be sure to check out: \n",
    "\n",
    "* [Open Source Website](http://rapids.ai)\n",
    "* [GitHub](https://github.com/rapidsai/)\n",
    "* [Press Release](https://nvidianews.nvidia.com/news/nvidia-introduces-rapids-open-source-gpu-acceleration-platform-for-large-scale-data-analytics-and-machine-learning)\n",
    "* [NVIDIA Blog](https://blogs.nvidia.com/blog/2018/10/10/rapids-data-science-open-source-community/)\n",
    "* [Developer Blog](https://devblogs.nvidia.com/gpu-accelerated-analytics-rapids/)\n",
    "* [NVIDIA Data Science Webpage](https://www.nvidia.com/en-us/deep-learning-ai/solutions/data-science/)\n"
   ]
  },
  {
   "cell_type": "code",
   "execution_count": null,
   "metadata": {},
   "outputs": [],
   "source": []
  }
 ],
 "metadata": {
  "kernelspec": {
   "display_name": "Python 3",
   "language": "python",
   "name": "python3"
  },
  "language_info": {
   "codemirror_mode": {
    "name": "ipython",
    "version": 3
   },
   "file_extension": ".py",
   "mimetype": "text/x-python",
   "name": "python",
   "nbconvert_exporter": "python",
   "pygments_lexer": "ipython3",
   "version": "3.7.3"
  }
 },
 "nbformat": 4,
 "nbformat_minor": 2
}
