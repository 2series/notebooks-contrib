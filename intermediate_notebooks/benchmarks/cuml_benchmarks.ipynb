{
 "cells": [
  {
   "cell_type": "markdown",
   "metadata": {},
   "source": [
    "# Benchmark and Bounds Tests\n",
    "\n",
    "The purpose of this notebook is to benchmark all of the single GPU cuML algorithms against their skLearn counterparts, while also providing the ability to find and verify upper bounds. \n",
    "\n",
    "This benchmark will persist results into a file so that benchmarking may be continued, in the case of failure. \n",
    "\n",
    "Also supported is the ability to draw charts with the results, which should aid in presentations and transparency to end-users. "
   ]
  },
  {
   "cell_type": "markdown",
   "metadata": {},
   "source": [
    "## Notebook Credits\n",
    "### Authorship\n",
    "Original Author: Corey Nolet \n",
    "\n",
    "Last Edit: Corey Nolet, 06/25/2019    \n",
    "    \n",
    "### Test System Specs\n",
    "Test System Hardware: DGX-1 \n",
    "Test System Software: Ubuntu 16.04  \n",
    "RAPIDS Version: 0.8.0pre - Conda Install  \n",
    "Driver: 410.48\n",
    "CUDA: 10.0  \n",
    "\n",
    "### Known Working Systems\n",
    "RAPIDS Versions: 0.8+"
   ]
  },
  {
   "cell_type": "code",
   "execution_count": 22,
   "metadata": {},
   "outputs": [
    {
     "name": "stdout",
     "output_type": "stream",
     "text": [
      "0.7.0+1042.g194333f\n"
     ]
    }
   ],
   "source": [
    "import numpy as np\n",
    "import pandas as pd\n",
    "import cudf\n",
    "import os\n",
    "import time\n",
    "import pickle\n",
    "import cuml\n",
    "\n",
    "import matplotlib.pyplot as plt\n",
    "import seaborn as sns\n",
    "\n",
    "from pylab import rcParams\n",
    "rcParams['figure.figsize'] = 40, 20\n",
    "rcParams['figure.dpi'] = 100\n",
    "\n",
    "sns.set_style(\"darkgrid\")\n",
    "\n",
    "print(cuml.__version__)"
   ]
  },
  {
   "cell_type": "code",
   "execution_count": 31,
   "metadata": {},
   "outputs": [],
   "source": [
    "# Default parameters\n",
    "\n",
    "N_JOBS_SKLEARN = -1            # Passed to the n_jobs parameter, indicates number of cpu jobs to run\n",
    "                               # Note that some sklearn algorithms do not support n_jobs (e.g. PCA), so they run a single job\n",
    "RERUN_BENCH = True             # Set to true to force re-running even if a result is cached\n",
    "MAX_BENCH_ROW_COUNTS = -1      # When iterating over many row sizes, only consider first N options (for faster testing, set to -1 for all options)\n",
    "MAX_BENCH_FEATURE_COUNTS = -1  # When iterating over many feature counts, only consider first N options (for faster testing, set to -1 for all options)"
   ]
  },
  {
   "cell_type": "markdown",
   "metadata": {},
   "source": [
    "# Benchmark function definitions"
   ]
  },
  {
   "cell_type": "markdown",
   "metadata": {},
   "source": [
    "### Data loading functions"
   ]
  },
  {
   "cell_type": "code",
   "execution_count": 32,
   "metadata": {},
   "outputs": [],
   "source": [
    "import gzip\n",
    "\n",
    "def load_data_mortgage_X(nrows, ncols, cached = '../../../data/mortgage.npy.gz',source='mortgage', dtype = np.float32):\n",
    "    print(\"Loading \" + str(cached))\n",
    "    if os.path.exists(cached) and source=='mortgage':\n",
    "        print('use mortgage data')\n",
    "        with gzip.open(cached) as f:\n",
    "            X = np.load(f)\n",
    "        X = X[np.random.randint(0,X.shape[0]-1,nrows),:ncols]\n",
    "    else:\n",
    "        print('use random data')\n",
    "        X = np.random.random((nrows,ncols)).astype(dtype)\n",
    "    df = pd.DataFrame({'fea%d'%i:X[:,i] for i in range(X.shape[1])}).fillna(0)\n",
    "    return df\n",
    "\n",
    "def load_data_mortgage_Xy(nrows, ncols, dtype = np.float32):\n",
    "    \"\"\"\n",
    "    Generate a dataframe and series based on rows and cols\n",
    "    \"\"\"\n",
    "    X = load_data_mortgage_X(nrows, ncols, dtype = dtype)\n",
    "    y = load_data_mortgage_X(nrows, 1, dtype = dtype)[\"fea0\"]\n",
    "    return (X, y)\n",
    "\n",
    "\n",
    "def load_data_X(nrows, ncols, dtype = np.float32):\n",
    "    \"\"\"\n",
    "    Generate a single dataframe with specified rows and cols\n",
    "    \"\"\"\n",
    "    X = np.random.uniform(-1, 1, (nrows,ncols))\n",
    "    df = pd.DataFrame({'fea%d'%i:X[:,i].astype(dtype) for i in range(X.shape[1])})\n",
    "    return df\n",
    "\n",
    "def load_data_Xy(nrows, ncols, dtype = np.float32):\n",
    "    \"\"\"\n",
    "    Generate a dataframe and series based on rows and cols\n",
    "    \"\"\"\n",
    "    X = load_data_X(nrows, ncols, dtype)\n",
    "    y = load_data_X(nrows, 1, dtype)[\"fea0\"]\n",
    "    return (X, y)\n",
    "\n",
    "def load_data_X_npy(nrows, ncols, dtype=np.float32):\n",
    "    return np.random.uniform(-1, 1,(nrows, ncols))\n",
    "\n",
    "def load_data_Xy_npy(nrows, ncols, dtype = np.float32):\n",
    "    X = load_data_X_npy(nrows, ncols, dtype)\n",
    "    y = load_data_X_npy(nrows, 1, dtype)\n",
    "    return (X, y)\n",
    "    "
   ]
  },
  {
   "cell_type": "code",
   "execution_count": 33,
   "metadata": {},
   "outputs": [],
   "source": [
    "def pandas_convert(data):\n",
    "    if isinstance(data, tuple):\n",
    "        return tuple([pandas_convert(d) for d in data])\n",
    "    elif isinstance(data, pd.DataFrame):\n",
    "        return cudf.DataFrame.from_pandas(data)\n",
    "    elif isinstance(data, pd.Series):\n",
    "        return cudf.Series.from_pandas(data)\n",
    "    else:\n",
    "        raise Exception(\"Unsupported type %s\" % str(type(data)))\n",
    "        \n",
    "def no_convert(data):\n",
    "    if isinstance(data, tuple):\n",
    "        return tuple([d for d in data])\n",
    "    elif isinstance(data, np.ndarray):\n",
    "        return data\n",
    "    else:\n",
    "        raise Exception(\"Unsupported type %s\" % str(type(data)))\n"
   ]
  },
  {
   "cell_type": "markdown",
   "metadata": {},
   "source": [
    "### Pluggable benchmark function "
   ]
  },
  {
   "cell_type": "code",
   "execution_count": 34,
   "metadata": {},
   "outputs": [],
   "source": [
    "class SpeedupBenchmark(object):\n",
    "    \n",
    "    def __init__(self, converter = pandas_convert):\n",
    "        self.name = \"speedup\"\n",
    "        self.converter = converter\n",
    "    \n",
    "    def __str__(self):\n",
    "        return \"Speedup\"\n",
    "    \n",
    "    def run(self, algo, rows, dims, data):\n",
    "\n",
    "        data2 = self.converter(data)\n",
    "        cu_start = time.time()\n",
    "        algo.cuml(data2)\n",
    "        cu_elapsed = time.time() - cu_start\n",
    "        \n",
    "        sk_start = time.time()\n",
    "        algo.sk(data)\n",
    "        sk_elapsed = time.time() - float(sk_start)\n",
    "\n",
    "        # Needs to return the calculation and the name given to it.\n",
    "        return sk_elapsed / float(cu_elapsed)"
   ]
  },
  {
   "cell_type": "code",
   "execution_count": 35,
   "metadata": {},
   "outputs": [],
   "source": [
    "class BenchmarkRunner(object):\n",
    "    \n",
    "    def __init__(self, \n",
    "                 benchmarks = [SpeedupBenchmark()],\n",
    "                 out_filename = \"benchmark.pickle\",\n",
    "                 rerun = RERUN_BENCH,\n",
    "                 n_runs = 3,\n",
    "                 bench_rows = [2**x for x in range(13, 20)],\n",
    "                 bench_dims = [64, 128, 256, 512]):\n",
    "\n",
    "        self.benchmarks = benchmarks\n",
    "        self.rerun = rerun\n",
    "        self.n_runs = n_runs\n",
    "        self.bench_rows = bench_rows[:MAX_BENCH_ROW_COUNTS]\n",
    "        self.bench_dims = bench_dims[:MAX_BENCH_FEATURE_COUNTS]\n",
    "        self.out_filename = out_filename        \n",
    "        \n",
    "    def load_results(self):\n",
    "        \n",
    "        if os.path.exists(self.out_filename):\n",
    "            print(\"Loaded previous benchmark results from %s\" % (self.out_filename))\n",
    "            with open(self.out_filename, 'rb') as f:\n",
    "                return pickle.load(f)\n",
    "                \n",
    "        else:\n",
    "            return {}\n",
    "        \n",
    "    def store_results(self, final_results):\n",
    "        with open(self.out_filename, 'wb') as f:\n",
    "            pickle.dump(final_results, f)\n",
    "        \n",
    "            \n",
    "    def run(self, algo):\n",
    "        \n",
    "        final_results = self.load_results()\n",
    "        \n",
    "        for benchmark in self.benchmarks:\n",
    "            if algo.name in final_results:\n",
    "                results = final_results[algo.name]\n",
    "            else:\n",
    "                results = {}\n",
    "                final_results[algo.name] = results\n",
    "\n",
    "            for n_rows in self.bench_rows:\n",
    "                for n_dims in self.bench_dims:     \n",
    "                    if (n_rows, n_dims, benchmark.name) not in results or self.rerun:\n",
    "\n",
    "                        print(\"Running %s. (nrows=%d, n_dims=%d)\" % (str(algo), n_rows, n_dims))\n",
    "\n",
    "                        data = algo.load_data(n_rows, n_dims)\n",
    "                        runs = [benchmark.run(algo, n_rows, n_dims, data) for i in range(self.n_runs)]\n",
    "                        results[(n_rows, n_dims, benchmark.name)] = np.mean(runs)\n",
    "\n",
    "                        print(\"Benchmark for %s = %f\" % (str((n_rows, n_dims, benchmark.name)), \n",
    "                                                         results[(n_rows, n_dims, benchmark.name)]))\n",
    "                        \n",
    "                        self.store_results(final_results)\n",
    "\n",
    "                            \n",
    "    def chart(self, algo, title = \"cuML vs SKLearn\"):\n",
    "        \n",
    "        for benchmark in self.benchmarks:\n",
    "        \n",
    "            results = self.load_results()[algo.name]\n",
    "\n",
    "            final = {}\n",
    "\n",
    "            plts = []\n",
    "            for dim in self.bench_dims:\n",
    "                data = {k: v for (k, v) in results.items() if dim == k[1]}\n",
    "\n",
    "                if len(data) > 0:\n",
    "                    data = [(k[0], v) for k, v in data.items()]\n",
    "                    data.sort(key = lambda x: x[0])\n",
    "\n",
    "                    final[dim] = list(map(lambda x: x[1], data))\n",
    "\n",
    "                    keys = list(map(lambda x: np.log2(x[0]), data))\n",
    "                line = plt.plot(keys, final[dim], label = str(dim), linewidth = 3,  marker = 'o', markersize = 7)\n",
    "\n",
    "                plts.append(line[0])\n",
    "            leg = plt.legend(handles = plts, fontsize = 30)\n",
    "            leg.set_title(\"Dimensions\", prop = {'size':'x-large'})    \n",
    "            plt.title(\"%s %s: %s\" % (algo, benchmark, title), fontsize = 30)\n",
    "\n",
    "            plt.ylabel(str(benchmark), fontsize = 20)\n",
    "            plt.xlabel(\"Training Examples (2^x)\", fontsize = 40)\n",
    "\n",
    "            plt.tick_params(axis='both', which='major', labelsize=15)\n",
    "            plt.tick_params(axis='both', which='minor', labelsize=15)\n",
    "\n",
    "            plt.show()"
   ]
  },
  {
   "cell_type": "code",
   "execution_count": 36,
   "metadata": {},
   "outputs": [],
   "source": [
    "class BaseAlgorithm(object):\n",
    "    def __init__(self, load_data = load_data_X):\n",
    "        self.load_data = load_data"
   ]
  },
  {
   "cell_type": "markdown",
   "metadata": {},
   "source": [
    "# Benchmarks and Results"
   ]
  },
  {
   "cell_type": "markdown",
   "metadata": {},
   "source": [
    "### Nearest Neighbors"
   ]
  },
  {
   "cell_type": "code",
   "execution_count": 23,
   "metadata": {},
   "outputs": [],
   "source": [
    "from sklearn.neighbors import NearestNeighbors\n",
    "from cuml.neighbors import NearestNeighbors as cumlNN\n",
    "\n",
    "class NearestNeighborsAlgo(BaseAlgorithm):\n",
    "    \n",
    "    def __init__(self, n_neighbors = 1024, load_data = load_data_X):\n",
    "        self.n_neighbors = n_neighbors\n",
    "        self.name = \"nearest_neighbors\"\n",
    "\n",
    "        BaseAlgorithm.__init__(self, load_data)\n",
    "        \n",
    "    def __str__(self):\n",
    "        return \"NearestNeighbors\"\n",
    "        \n",
    "    def sk(self, X):\n",
    "        knn_sk = NearestNeighbors(n_neighbors = self.n_neighbors, algorithm = 'brute', n_jobs=N_JOBS_SKLEARN)\n",
    "        knn_sk.fit(X)\n",
    "        D_sk,I_sk = knn_sk.kneighbors(X[0:100])\n",
    "\n",
    "    def cuml(self, X):\n",
    "        knn_cuml = cumlNN(n_neighbors = self.n_neighbors)\n",
    "        knn_cuml.fit(X)\n",
    "        D_cuml,I_cuml = knn_cuml.kneighbors(X[0:100])\n"
   ]
  },
  {
   "cell_type": "code",
   "execution_count": 24,
   "metadata": {},
   "outputs": [
    {
     "name": "stdout",
     "output_type": "stream",
     "text": [
      "Loaded previous benchmark results from benchmark.pickle\n",
      "Running NearestNeighbors. (nrows=1048576, n_dims=64)\n",
      "Benchmark for (1048576, 64, 'speedup') = 6.181410\n",
      "Running NearestNeighbors. (nrows=1048576, n_dims=128)\n",
      "Benchmark for (1048576, 128, 'speedup') = 3.777027\n",
      "Running NearestNeighbors. (nrows=1048576, n_dims=256)\n",
      "Benchmark for (1048576, 256, 'speedup') = 2.637395\n",
      "Running NearestNeighbors. (nrows=2097152, n_dims=64)\n",
      "Benchmark for (2097152, 64, 'speedup') = 8.866336\n",
      "Running NearestNeighbors. (nrows=2097152, n_dims=128)\n",
      "Benchmark for (2097152, 128, 'speedup') = 6.115579\n",
      "Running NearestNeighbors. (nrows=2097152, n_dims=256)\n",
      "Benchmark for (2097152, 256, 'speedup') = 3.425108\n",
      "Running NearestNeighbors. (nrows=4194304, n_dims=64)\n",
      "Benchmark for (4194304, 64, 'speedup') = 10.130537\n",
      "Running NearestNeighbors. (nrows=4194304, n_dims=128)\n",
      "Benchmark for (4194304, 128, 'speedup') = 6.313551\n",
      "Running NearestNeighbors. (nrows=4194304, n_dims=256)\n",
      "Benchmark for (4194304, 256, 'speedup') = 3.446205\n"
     ]
    }
   ],
   "source": [
    "runner = BenchmarkRunner(benchmarks = [SpeedupBenchmark(no_convert)], bench_rows = [2**x for x in range(11, 24)])\n",
    "runner.run(NearestNeighborsAlgo(load_data = load_data_X_npy))"
   ]
  },
  {
   "cell_type": "code",
   "execution_count": null,
   "metadata": {},
   "outputs": [],
   "source": [
    "runner = BenchmarkRunner()\n",
    "runner.chart(NearestNeighborsAlgo())"
   ]
  },
  {
   "cell_type": "markdown",
   "metadata": {},
   "source": [
    "### DBSCAN"
   ]
  },
  {
   "cell_type": "code",
   "execution_count": 25,
   "metadata": {},
   "outputs": [],
   "source": [
    "from sklearn.cluster import DBSCAN as skDBSCAN\n",
    "from cuml import DBSCAN as cumlDBSCAN\n",
    "\n",
    "class DBSCANAlgo(BaseAlgorithm):\n",
    "    \n",
    "    def __init__(self, eps = 3, min_samples = 2):\n",
    "        self.name = \"dbscan\"\n",
    "        self.eps = 3\n",
    "        self.min_samples = 2\n",
    "        BaseAlgorithm.__init__(self)\n",
    "        \n",
    "    def __str__(self):\n",
    "        return \"DBSCAN\"\n",
    "\n",
    "    def sk(self, X):\n",
    "        clustering_sk = skDBSCAN(eps = self.eps, min_samples = self.min_samples, algorithm = \"brute\", n_jobs=N_JOBS_SKLEARN)\n",
    "        clustering_sk.fit(X)\n",
    "\n",
    "    def cuml(self, X):\n",
    "        clustering_cuml = cumlDBSCAN(eps = self.eps, min_samples = self.min_samples)\n",
    "        clustering_cuml.fit(X)"
   ]
  },
  {
   "cell_type": "code",
   "execution_count": 26,
   "metadata": {},
   "outputs": [
    {
     "name": "stdout",
     "output_type": "stream",
     "text": [
      "Loaded previous benchmark results from benchmark.pickle\n",
      "Running DBSCAN. (nrows=1024, n_dims=64)\n",
      "Benchmark for (1024, 64, 'speedup') = 0.496923\n",
      "Running DBSCAN. (nrows=1024, n_dims=128)\n",
      "Benchmark for (1024, 128, 'speedup') = 0.409368\n",
      "Running DBSCAN. (nrows=1024, n_dims=256)\n",
      "Benchmark for (1024, 256, 'speedup') = 0.548173\n",
      "Running DBSCAN. (nrows=2048, n_dims=64)\n"
     ]
    },
    {
     "name": "stderr",
     "output_type": "stream",
     "text": [
      "/raid/cjnolet/cuml5/lib/python3.7/site-packages/sklearn/neighbors/base.py:606: RuntimeWarning: invalid value encountered in less_equal\n",
      "  neigh_ind = [np.where(d <= radius)[0] for d in dist]\n",
      "/raid/cjnolet/cuml5/lib/python3.7/site-packages/sklearn/neighbors/base.py:606: RuntimeWarning: invalid value encountered in less_equal\n",
      "  neigh_ind = [np.where(d <= radius)[0] for d in dist]\n",
      "/raid/cjnolet/cuml5/lib/python3.7/site-packages/sklearn/neighbors/base.py:606: RuntimeWarning: invalid value encountered in less_equal\n",
      "  neigh_ind = [np.where(d <= radius)[0] for d in dist]\n"
     ]
    },
    {
     "name": "stdout",
     "output_type": "stream",
     "text": [
      "Benchmark for (2048, 64, 'speedup') = 0.800954\n",
      "Running DBSCAN. (nrows=2048, n_dims=128)\n"
     ]
    },
    {
     "name": "stderr",
     "output_type": "stream",
     "text": [
      "/raid/cjnolet/cuml5/lib/python3.7/site-packages/sklearn/neighbors/base.py:606: RuntimeWarning: invalid value encountered in less_equal\n",
      "  neigh_ind = [np.where(d <= radius)[0] for d in dist]\n",
      "/raid/cjnolet/cuml5/lib/python3.7/site-packages/sklearn/neighbors/base.py:606: RuntimeWarning: invalid value encountered in less_equal\n",
      "  neigh_ind = [np.where(d <= radius)[0] for d in dist]\n",
      "/raid/cjnolet/cuml5/lib/python3.7/site-packages/sklearn/neighbors/base.py:606: RuntimeWarning: invalid value encountered in less_equal\n",
      "  neigh_ind = [np.where(d <= radius)[0] for d in dist]\n"
     ]
    },
    {
     "name": "stdout",
     "output_type": "stream",
     "text": [
      "Benchmark for (2048, 128, 'speedup') = 0.532540\n",
      "Running DBSCAN. (nrows=2048, n_dims=256)\n"
     ]
    },
    {
     "name": "stderr",
     "output_type": "stream",
     "text": [
      "/raid/cjnolet/cuml5/lib/python3.7/site-packages/sklearn/neighbors/base.py:606: RuntimeWarning: invalid value encountered in less_equal\n",
      "  neigh_ind = [np.where(d <= radius)[0] for d in dist]\n",
      "/raid/cjnolet/cuml5/lib/python3.7/site-packages/sklearn/neighbors/base.py:606: RuntimeWarning: invalid value encountered in less_equal\n",
      "  neigh_ind = [np.where(d <= radius)[0] for d in dist]\n",
      "/raid/cjnolet/cuml5/lib/python3.7/site-packages/sklearn/neighbors/base.py:606: RuntimeWarning: invalid value encountered in less_equal\n",
      "  neigh_ind = [np.where(d <= radius)[0] for d in dist]\n"
     ]
    },
    {
     "name": "stdout",
     "output_type": "stream",
     "text": [
      "Benchmark for (2048, 256, 'speedup') = 0.769082\n",
      "Running DBSCAN. (nrows=4096, n_dims=64)\n"
     ]
    },
    {
     "name": "stderr",
     "output_type": "stream",
     "text": [
      "/raid/cjnolet/cuml5/lib/python3.7/site-packages/sklearn/neighbors/base.py:606: RuntimeWarning: invalid value encountered in less_equal\n",
      "  neigh_ind = [np.where(d <= radius)[0] for d in dist]\n",
      "/raid/cjnolet/cuml5/lib/python3.7/site-packages/sklearn/neighbors/base.py:606: RuntimeWarning: invalid value encountered in less_equal\n",
      "  neigh_ind = [np.where(d <= radius)[0] for d in dist]\n",
      "/raid/cjnolet/cuml5/lib/python3.7/site-packages/sklearn/neighbors/base.py:606: RuntimeWarning: invalid value encountered in less_equal\n",
      "  neigh_ind = [np.where(d <= radius)[0] for d in dist]\n"
     ]
    },
    {
     "name": "stdout",
     "output_type": "stream",
     "text": [
      "Benchmark for (4096, 64, 'speedup') = 1.876130\n",
      "Running DBSCAN. (nrows=4096, n_dims=128)\n"
     ]
    },
    {
     "name": "stderr",
     "output_type": "stream",
     "text": [
      "/raid/cjnolet/cuml5/lib/python3.7/site-packages/sklearn/neighbors/base.py:606: RuntimeWarning: invalid value encountered in less_equal\n",
      "  neigh_ind = [np.where(d <= radius)[0] for d in dist]\n",
      "/raid/cjnolet/cuml5/lib/python3.7/site-packages/sklearn/neighbors/base.py:606: RuntimeWarning: invalid value encountered in less_equal\n",
      "  neigh_ind = [np.where(d <= radius)[0] for d in dist]\n",
      "/raid/cjnolet/cuml5/lib/python3.7/site-packages/sklearn/neighbors/base.py:606: RuntimeWarning: invalid value encountered in less_equal\n",
      "  neigh_ind = [np.where(d <= radius)[0] for d in dist]\n"
     ]
    },
    {
     "name": "stdout",
     "output_type": "stream",
     "text": [
      "Benchmark for (4096, 128, 'speedup') = 1.523047\n",
      "Running DBSCAN. (nrows=4096, n_dims=256)\n"
     ]
    },
    {
     "name": "stderr",
     "output_type": "stream",
     "text": [
      "/raid/cjnolet/cuml5/lib/python3.7/site-packages/sklearn/neighbors/base.py:606: RuntimeWarning: invalid value encountered in less_equal\n",
      "  neigh_ind = [np.where(d <= radius)[0] for d in dist]\n",
      "/raid/cjnolet/cuml5/lib/python3.7/site-packages/sklearn/neighbors/base.py:606: RuntimeWarning: invalid value encountered in less_equal\n",
      "  neigh_ind = [np.where(d <= radius)[0] for d in dist]\n",
      "/raid/cjnolet/cuml5/lib/python3.7/site-packages/sklearn/neighbors/base.py:606: RuntimeWarning: invalid value encountered in less_equal\n",
      "  neigh_ind = [np.where(d <= radius)[0] for d in dist]\n"
     ]
    },
    {
     "name": "stdout",
     "output_type": "stream",
     "text": [
      "Benchmark for (4096, 256, 'speedup') = 1.094747\n",
      "Running DBSCAN. (nrows=8192, n_dims=64)\n"
     ]
    },
    {
     "name": "stderr",
     "output_type": "stream",
     "text": [
      "/raid/cjnolet/cuml5/lib/python3.7/site-packages/sklearn/neighbors/base.py:606: RuntimeWarning: invalid value encountered in less_equal\n",
      "  neigh_ind = [np.where(d <= radius)[0] for d in dist]\n",
      "/raid/cjnolet/cuml5/lib/python3.7/site-packages/sklearn/neighbors/base.py:606: RuntimeWarning: invalid value encountered in less_equal\n",
      "  neigh_ind = [np.where(d <= radius)[0] for d in dist]\n",
      "/raid/cjnolet/cuml5/lib/python3.7/site-packages/sklearn/neighbors/base.py:606: RuntimeWarning: invalid value encountered in less_equal\n",
      "  neigh_ind = [np.where(d <= radius)[0] for d in dist]\n"
     ]
    },
    {
     "name": "stdout",
     "output_type": "stream",
     "text": [
      "Benchmark for (8192, 64, 'speedup') = 7.368071\n",
      "Running DBSCAN. (nrows=8192, n_dims=128)\n"
     ]
    },
    {
     "name": "stderr",
     "output_type": "stream",
     "text": [
      "/raid/cjnolet/cuml5/lib/python3.7/site-packages/sklearn/neighbors/base.py:606: RuntimeWarning: invalid value encountered in less_equal\n",
      "  neigh_ind = [np.where(d <= radius)[0] for d in dist]\n",
      "/raid/cjnolet/cuml5/lib/python3.7/site-packages/sklearn/neighbors/base.py:606: RuntimeWarning: invalid value encountered in less_equal\n",
      "  neigh_ind = [np.where(d <= radius)[0] for d in dist]\n",
      "/raid/cjnolet/cuml5/lib/python3.7/site-packages/sklearn/neighbors/base.py:606: RuntimeWarning: invalid value encountered in less_equal\n",
      "  neigh_ind = [np.where(d <= radius)[0] for d in dist]\n"
     ]
    },
    {
     "name": "stdout",
     "output_type": "stream",
     "text": [
      "Benchmark for (8192, 128, 'speedup') = 5.129010\n",
      "Running DBSCAN. (nrows=8192, n_dims=256)\n"
     ]
    },
    {
     "name": "stderr",
     "output_type": "stream",
     "text": [
      "/raid/cjnolet/cuml5/lib/python3.7/site-packages/sklearn/neighbors/base.py:606: RuntimeWarning: invalid value encountered in less_equal\n",
      "  neigh_ind = [np.where(d <= radius)[0] for d in dist]\n",
      "/raid/cjnolet/cuml5/lib/python3.7/site-packages/sklearn/neighbors/base.py:606: RuntimeWarning: invalid value encountered in less_equal\n",
      "  neigh_ind = [np.where(d <= radius)[0] for d in dist]\n",
      "/raid/cjnolet/cuml5/lib/python3.7/site-packages/sklearn/neighbors/base.py:606: RuntimeWarning: invalid value encountered in less_equal\n",
      "  neigh_ind = [np.where(d <= radius)[0] for d in dist]\n"
     ]
    },
    {
     "name": "stdout",
     "output_type": "stream",
     "text": [
      "Benchmark for (8192, 256, 'speedup') = 4.086094\n",
      "Running DBSCAN. (nrows=16384, n_dims=64)\n"
     ]
    },
    {
     "name": "stderr",
     "output_type": "stream",
     "text": [
      "/raid/cjnolet/cuml5/lib/python3.7/site-packages/sklearn/neighbors/base.py:606: RuntimeWarning: invalid value encountered in less_equal\n",
      "  neigh_ind = [np.where(d <= radius)[0] for d in dist]\n",
      "/raid/cjnolet/cuml5/lib/python3.7/site-packages/sklearn/neighbors/base.py:606: RuntimeWarning: invalid value encountered in less_equal\n",
      "  neigh_ind = [np.where(d <= radius)[0] for d in dist]\n",
      "/raid/cjnolet/cuml5/lib/python3.7/site-packages/sklearn/neighbors/base.py:606: RuntimeWarning: invalid value encountered in less_equal\n",
      "  neigh_ind = [np.where(d <= radius)[0] for d in dist]\n",
      "/raid/cjnolet/cuml5/lib/python3.7/site-packages/sklearn/neighbors/base.py:606: RuntimeWarning: invalid value encountered in less_equal\n",
      "  neigh_ind = [np.where(d <= radius)[0] for d in dist]\n",
      "/raid/cjnolet/cuml5/lib/python3.7/site-packages/sklearn/neighbors/base.py:606: RuntimeWarning: invalid value encountered in less_equal\n",
      "  neigh_ind = [np.where(d <= radius)[0] for d in dist]\n",
      "/raid/cjnolet/cuml5/lib/python3.7/site-packages/sklearn/neighbors/base.py:606: RuntimeWarning: invalid value encountered in less_equal\n",
      "  neigh_ind = [np.where(d <= radius)[0] for d in dist]\n"
     ]
    },
    {
     "name": "stdout",
     "output_type": "stream",
     "text": [
      "Benchmark for (16384, 64, 'speedup') = 25.065906\n",
      "Running DBSCAN. (nrows=16384, n_dims=128)\n"
     ]
    },
    {
     "name": "stderr",
     "output_type": "stream",
     "text": [
      "/raid/cjnolet/cuml5/lib/python3.7/site-packages/sklearn/neighbors/base.py:606: RuntimeWarning: invalid value encountered in less_equal\n",
      "  neigh_ind = [np.where(d <= radius)[0] for d in dist]\n",
      "/raid/cjnolet/cuml5/lib/python3.7/site-packages/sklearn/neighbors/base.py:606: RuntimeWarning: invalid value encountered in less_equal\n",
      "  neigh_ind = [np.where(d <= radius)[0] for d in dist]\n",
      "/raid/cjnolet/cuml5/lib/python3.7/site-packages/sklearn/neighbors/base.py:606: RuntimeWarning: invalid value encountered in less_equal\n",
      "  neigh_ind = [np.where(d <= radius)[0] for d in dist]\n",
      "/raid/cjnolet/cuml5/lib/python3.7/site-packages/sklearn/neighbors/base.py:606: RuntimeWarning: invalid value encountered in less_equal\n",
      "  neigh_ind = [np.where(d <= radius)[0] for d in dist]\n",
      "/raid/cjnolet/cuml5/lib/python3.7/site-packages/sklearn/neighbors/base.py:606: RuntimeWarning: invalid value encountered in less_equal\n",
      "  neigh_ind = [np.where(d <= radius)[0] for d in dist]\n",
      "/raid/cjnolet/cuml5/lib/python3.7/site-packages/sklearn/neighbors/base.py:606: RuntimeWarning: invalid value encountered in less_equal\n",
      "  neigh_ind = [np.where(d <= radius)[0] for d in dist]\n"
     ]
    },
    {
     "name": "stdout",
     "output_type": "stream",
     "text": [
      "Benchmark for (16384, 128, 'speedup') = 22.121955\n",
      "Running DBSCAN. (nrows=16384, n_dims=256)\n"
     ]
    },
    {
     "name": "stderr",
     "output_type": "stream",
     "text": [
      "/raid/cjnolet/cuml5/lib/python3.7/site-packages/sklearn/neighbors/base.py:606: RuntimeWarning: invalid value encountered in less_equal\n",
      "  neigh_ind = [np.where(d <= radius)[0] for d in dist]\n",
      "/raid/cjnolet/cuml5/lib/python3.7/site-packages/sklearn/neighbors/base.py:606: RuntimeWarning: invalid value encountered in less_equal\n",
      "  neigh_ind = [np.where(d <= radius)[0] for d in dist]\n",
      "/raid/cjnolet/cuml5/lib/python3.7/site-packages/sklearn/neighbors/base.py:606: RuntimeWarning: invalid value encountered in less_equal\n",
      "  neigh_ind = [np.where(d <= radius)[0] for d in dist]\n",
      "/raid/cjnolet/cuml5/lib/python3.7/site-packages/sklearn/neighbors/base.py:606: RuntimeWarning: invalid value encountered in less_equal\n",
      "  neigh_ind = [np.where(d <= radius)[0] for d in dist]\n",
      "/raid/cjnolet/cuml5/lib/python3.7/site-packages/sklearn/neighbors/base.py:606: RuntimeWarning: invalid value encountered in less_equal\n",
      "  neigh_ind = [np.where(d <= radius)[0] for d in dist]\n",
      "/raid/cjnolet/cuml5/lib/python3.7/site-packages/sklearn/neighbors/base.py:606: RuntimeWarning: invalid value encountered in less_equal\n",
      "  neigh_ind = [np.where(d <= radius)[0] for d in dist]\n"
     ]
    },
    {
     "name": "stdout",
     "output_type": "stream",
     "text": [
      "Benchmark for (16384, 256, 'speedup') = 16.192003\n",
      "Running DBSCAN. (nrows=32768, n_dims=64)\n"
     ]
    },
    {
     "name": "stderr",
     "output_type": "stream",
     "text": [
      "/raid/cjnolet/cuml5/lib/python3.7/site-packages/sklearn/neighbors/base.py:606: RuntimeWarning: invalid value encountered in less_equal\n",
      "  neigh_ind = [np.where(d <= radius)[0] for d in dist]\n",
      "/raid/cjnolet/cuml5/lib/python3.7/site-packages/sklearn/neighbors/base.py:606: RuntimeWarning: invalid value encountered in less_equal\n",
      "  neigh_ind = [np.where(d <= radius)[0] for d in dist]\n",
      "/raid/cjnolet/cuml5/lib/python3.7/site-packages/sklearn/neighbors/base.py:606: RuntimeWarning: invalid value encountered in less_equal\n",
      "  neigh_ind = [np.where(d <= radius)[0] for d in dist]\n",
      "/raid/cjnolet/cuml5/lib/python3.7/site-packages/sklearn/neighbors/base.py:606: RuntimeWarning: invalid value encountered in less_equal\n",
      "  neigh_ind = [np.where(d <= radius)[0] for d in dist]\n",
      "/raid/cjnolet/cuml5/lib/python3.7/site-packages/sklearn/neighbors/base.py:606: RuntimeWarning: invalid value encountered in less_equal\n",
      "  neigh_ind = [np.where(d <= radius)[0] for d in dist]\n",
      "/raid/cjnolet/cuml5/lib/python3.7/site-packages/sklearn/neighbors/base.py:606: RuntimeWarning: invalid value encountered in less_equal\n",
      "  neigh_ind = [np.where(d <= radius)[0] for d in dist]\n",
      "/raid/cjnolet/cuml5/lib/python3.7/site-packages/sklearn/neighbors/base.py:606: RuntimeWarning: invalid value encountered in less_equal\n",
      "  neigh_ind = [np.where(d <= radius)[0] for d in dist]\n",
      "/raid/cjnolet/cuml5/lib/python3.7/site-packages/sklearn/neighbors/base.py:606: RuntimeWarning: invalid value encountered in less_equal\n",
      "  neigh_ind = [np.where(d <= radius)[0] for d in dist]\n",
      "/raid/cjnolet/cuml5/lib/python3.7/site-packages/sklearn/neighbors/base.py:606: RuntimeWarning: invalid value encountered in less_equal\n",
      "  neigh_ind = [np.where(d <= radius)[0] for d in dist]\n",
      "/raid/cjnolet/cuml5/lib/python3.7/site-packages/sklearn/neighbors/base.py:606: RuntimeWarning: invalid value encountered in less_equal\n",
      "  neigh_ind = [np.where(d <= radius)[0] for d in dist]\n",
      "/raid/cjnolet/cuml5/lib/python3.7/site-packages/sklearn/neighbors/base.py:606: RuntimeWarning: invalid value encountered in less_equal\n",
      "  neigh_ind = [np.where(d <= radius)[0] for d in dist]\n",
      "/raid/cjnolet/cuml5/lib/python3.7/site-packages/sklearn/neighbors/base.py:606: RuntimeWarning: invalid value encountered in less_equal\n",
      "  neigh_ind = [np.where(d <= radius)[0] for d in dist]\n",
      "/raid/cjnolet/cuml5/lib/python3.7/site-packages/sklearn/neighbors/base.py:606: RuntimeWarning: invalid value encountered in less_equal\n",
      "  neigh_ind = [np.where(d <= radius)[0] for d in dist]\n",
      "/raid/cjnolet/cuml5/lib/python3.7/site-packages/sklearn/neighbors/base.py:606: RuntimeWarning: invalid value encountered in less_equal\n",
      "  neigh_ind = [np.where(d <= radius)[0] for d in dist]\n",
      "/raid/cjnolet/cuml5/lib/python3.7/site-packages/sklearn/neighbors/base.py:606: RuntimeWarning: invalid value encountered in less_equal\n",
      "  neigh_ind = [np.where(d <= radius)[0] for d in dist]\n",
      "/raid/cjnolet/cuml5/lib/python3.7/site-packages/sklearn/neighbors/base.py:606: RuntimeWarning: invalid value encountered in less_equal\n",
      "  neigh_ind = [np.where(d <= radius)[0] for d in dist]\n",
      "/raid/cjnolet/cuml5/lib/python3.7/site-packages/sklearn/neighbors/base.py:606: RuntimeWarning: invalid value encountered in less_equal\n",
      "  neigh_ind = [np.where(d <= radius)[0] for d in dist]\n",
      "/raid/cjnolet/cuml5/lib/python3.7/site-packages/sklearn/neighbors/base.py:606: RuntimeWarning: invalid value encountered in less_equal\n",
      "  neigh_ind = [np.where(d <= radius)[0] for d in dist]\n",
      "/raid/cjnolet/cuml5/lib/python3.7/site-packages/sklearn/neighbors/base.py:606: RuntimeWarning: invalid value encountered in less_equal\n",
      "  neigh_ind = [np.where(d <= radius)[0] for d in dist]\n",
      "/raid/cjnolet/cuml5/lib/python3.7/site-packages/sklearn/neighbors/base.py:606: RuntimeWarning: invalid value encountered in less_equal\n",
      "  neigh_ind = [np.where(d <= radius)[0] for d in dist]\n",
      "/raid/cjnolet/cuml5/lib/python3.7/site-packages/sklearn/neighbors/base.py:606: RuntimeWarning: invalid value encountered in less_equal\n",
      "  neigh_ind = [np.where(d <= radius)[0] for d in dist]\n",
      "/raid/cjnolet/cuml5/lib/python3.7/site-packages/sklearn/neighbors/base.py:606: RuntimeWarning: invalid value encountered in less_equal\n",
      "  neigh_ind = [np.where(d <= radius)[0] for d in dist]\n",
      "/raid/cjnolet/cuml5/lib/python3.7/site-packages/sklearn/neighbors/base.py:606: RuntimeWarning: invalid value encountered in less_equal\n",
      "  neigh_ind = [np.where(d <= radius)[0] for d in dist]\n",
      "/raid/cjnolet/cuml5/lib/python3.7/site-packages/sklearn/neighbors/base.py:606: RuntimeWarning: invalid value encountered in less_equal\n",
      "  neigh_ind = [np.where(d <= radius)[0] for d in dist]\n"
     ]
    },
    {
     "name": "stdout",
     "output_type": "stream",
     "text": [
      "Benchmark for (32768, 64, 'speedup') = 88.013009\n",
      "Running DBSCAN. (nrows=32768, n_dims=128)\n"
     ]
    },
    {
     "name": "stderr",
     "output_type": "stream",
     "text": [
      "/raid/cjnolet/cuml5/lib/python3.7/site-packages/sklearn/neighbors/base.py:606: RuntimeWarning: invalid value encountered in less_equal\n",
      "  neigh_ind = [np.where(d <= radius)[0] for d in dist]\n",
      "/raid/cjnolet/cuml5/lib/python3.7/site-packages/sklearn/neighbors/base.py:606: RuntimeWarning: invalid value encountered in less_equal\n",
      "  neigh_ind = [np.where(d <= radius)[0] for d in dist]\n",
      "/raid/cjnolet/cuml5/lib/python3.7/site-packages/sklearn/neighbors/base.py:606: RuntimeWarning: invalid value encountered in less_equal\n",
      "  neigh_ind = [np.where(d <= radius)[0] for d in dist]\n",
      "/raid/cjnolet/cuml5/lib/python3.7/site-packages/sklearn/neighbors/base.py:606: RuntimeWarning: invalid value encountered in less_equal\n",
      "  neigh_ind = [np.where(d <= radius)[0] for d in dist]\n",
      "/raid/cjnolet/cuml5/lib/python3.7/site-packages/sklearn/neighbors/base.py:606: RuntimeWarning: invalid value encountered in less_equal\n",
      "  neigh_ind = [np.where(d <= radius)[0] for d in dist]\n",
      "/raid/cjnolet/cuml5/lib/python3.7/site-packages/sklearn/neighbors/base.py:606: RuntimeWarning: invalid value encountered in less_equal\n",
      "  neigh_ind = [np.where(d <= radius)[0] for d in dist]\n",
      "/raid/cjnolet/cuml5/lib/python3.7/site-packages/sklearn/neighbors/base.py:606: RuntimeWarning: invalid value encountered in less_equal\n",
      "  neigh_ind = [np.where(d <= radius)[0] for d in dist]\n",
      "/raid/cjnolet/cuml5/lib/python3.7/site-packages/sklearn/neighbors/base.py:606: RuntimeWarning: invalid value encountered in less_equal\n",
      "  neigh_ind = [np.where(d <= radius)[0] for d in dist]\n",
      "/raid/cjnolet/cuml5/lib/python3.7/site-packages/sklearn/neighbors/base.py:606: RuntimeWarning: invalid value encountered in less_equal\n",
      "  neigh_ind = [np.where(d <= radius)[0] for d in dist]\n",
      "/raid/cjnolet/cuml5/lib/python3.7/site-packages/sklearn/neighbors/base.py:606: RuntimeWarning: invalid value encountered in less_equal\n",
      "  neigh_ind = [np.where(d <= radius)[0] for d in dist]\n",
      "/raid/cjnolet/cuml5/lib/python3.7/site-packages/sklearn/neighbors/base.py:606: RuntimeWarning: invalid value encountered in less_equal\n",
      "  neigh_ind = [np.where(d <= radius)[0] for d in dist]\n",
      "/raid/cjnolet/cuml5/lib/python3.7/site-packages/sklearn/neighbors/base.py:606: RuntimeWarning: invalid value encountered in less_equal\n",
      "  neigh_ind = [np.where(d <= radius)[0] for d in dist]\n",
      "/raid/cjnolet/cuml5/lib/python3.7/site-packages/sklearn/neighbors/base.py:606: RuntimeWarning: invalid value encountered in less_equal\n",
      "  neigh_ind = [np.where(d <= radius)[0] for d in dist]\n",
      "/raid/cjnolet/cuml5/lib/python3.7/site-packages/sklearn/neighbors/base.py:606: RuntimeWarning: invalid value encountered in less_equal\n",
      "  neigh_ind = [np.where(d <= radius)[0] for d in dist]\n",
      "/raid/cjnolet/cuml5/lib/python3.7/site-packages/sklearn/neighbors/base.py:606: RuntimeWarning: invalid value encountered in less_equal\n",
      "  neigh_ind = [np.where(d <= radius)[0] for d in dist]\n",
      "/raid/cjnolet/cuml5/lib/python3.7/site-packages/sklearn/neighbors/base.py:606: RuntimeWarning: invalid value encountered in less_equal\n",
      "  neigh_ind = [np.where(d <= radius)[0] for d in dist]\n",
      "/raid/cjnolet/cuml5/lib/python3.7/site-packages/sklearn/neighbors/base.py:606: RuntimeWarning: invalid value encountered in less_equal\n",
      "  neigh_ind = [np.where(d <= radius)[0] for d in dist]\n",
      "/raid/cjnolet/cuml5/lib/python3.7/site-packages/sklearn/neighbors/base.py:606: RuntimeWarning: invalid value encountered in less_equal\n",
      "  neigh_ind = [np.where(d <= radius)[0] for d in dist]\n",
      "/raid/cjnolet/cuml5/lib/python3.7/site-packages/sklearn/neighbors/base.py:606: RuntimeWarning: invalid value encountered in less_equal\n",
      "  neigh_ind = [np.where(d <= radius)[0] for d in dist]\n",
      "/raid/cjnolet/cuml5/lib/python3.7/site-packages/sklearn/neighbors/base.py:606: RuntimeWarning: invalid value encountered in less_equal\n",
      "  neigh_ind = [np.where(d <= radius)[0] for d in dist]\n",
      "/raid/cjnolet/cuml5/lib/python3.7/site-packages/sklearn/neighbors/base.py:606: RuntimeWarning: invalid value encountered in less_equal\n",
      "  neigh_ind = [np.where(d <= radius)[0] for d in dist]\n",
      "/raid/cjnolet/cuml5/lib/python3.7/site-packages/sklearn/neighbors/base.py:606: RuntimeWarning: invalid value encountered in less_equal\n",
      "  neigh_ind = [np.where(d <= radius)[0] for d in dist]\n",
      "/raid/cjnolet/cuml5/lib/python3.7/site-packages/sklearn/neighbors/base.py:606: RuntimeWarning: invalid value encountered in less_equal\n",
      "  neigh_ind = [np.where(d <= radius)[0] for d in dist]\n",
      "/raid/cjnolet/cuml5/lib/python3.7/site-packages/sklearn/neighbors/base.py:606: RuntimeWarning: invalid value encountered in less_equal\n",
      "  neigh_ind = [np.where(d <= radius)[0] for d in dist]\n"
     ]
    },
    {
     "name": "stdout",
     "output_type": "stream",
     "text": [
      "Benchmark for (32768, 128, 'speedup') = 68.770075\n",
      "Running DBSCAN. (nrows=32768, n_dims=256)\n"
     ]
    },
    {
     "name": "stderr",
     "output_type": "stream",
     "text": [
      "/raid/cjnolet/cuml5/lib/python3.7/site-packages/sklearn/neighbors/base.py:606: RuntimeWarning: invalid value encountered in less_equal\n",
      "  neigh_ind = [np.where(d <= radius)[0] for d in dist]\n",
      "/raid/cjnolet/cuml5/lib/python3.7/site-packages/sklearn/neighbors/base.py:606: RuntimeWarning: invalid value encountered in less_equal\n",
      "  neigh_ind = [np.where(d <= radius)[0] for d in dist]\n",
      "/raid/cjnolet/cuml5/lib/python3.7/site-packages/sklearn/neighbors/base.py:606: RuntimeWarning: invalid value encountered in less_equal\n",
      "  neigh_ind = [np.where(d <= radius)[0] for d in dist]\n",
      "/raid/cjnolet/cuml5/lib/python3.7/site-packages/sklearn/neighbors/base.py:606: RuntimeWarning: invalid value encountered in less_equal\n",
      "  neigh_ind = [np.where(d <= radius)[0] for d in dist]\n",
      "/raid/cjnolet/cuml5/lib/python3.7/site-packages/sklearn/neighbors/base.py:606: RuntimeWarning: invalid value encountered in less_equal\n",
      "  neigh_ind = [np.where(d <= radius)[0] for d in dist]\n",
      "/raid/cjnolet/cuml5/lib/python3.7/site-packages/sklearn/neighbors/base.py:606: RuntimeWarning: invalid value encountered in less_equal\n",
      "  neigh_ind = [np.where(d <= radius)[0] for d in dist]\n",
      "/raid/cjnolet/cuml5/lib/python3.7/site-packages/sklearn/neighbors/base.py:606: RuntimeWarning: invalid value encountered in less_equal\n",
      "  neigh_ind = [np.where(d <= radius)[0] for d in dist]\n",
      "/raid/cjnolet/cuml5/lib/python3.7/site-packages/sklearn/neighbors/base.py:606: RuntimeWarning: invalid value encountered in less_equal\n",
      "  neigh_ind = [np.where(d <= radius)[0] for d in dist]\n",
      "/raid/cjnolet/cuml5/lib/python3.7/site-packages/sklearn/neighbors/base.py:606: RuntimeWarning: invalid value encountered in less_equal\n",
      "  neigh_ind = [np.where(d <= radius)[0] for d in dist]\n",
      "/raid/cjnolet/cuml5/lib/python3.7/site-packages/sklearn/neighbors/base.py:606: RuntimeWarning: invalid value encountered in less_equal\n",
      "  neigh_ind = [np.where(d <= radius)[0] for d in dist]\n",
      "/raid/cjnolet/cuml5/lib/python3.7/site-packages/sklearn/neighbors/base.py:606: RuntimeWarning: invalid value encountered in less_equal\n",
      "  neigh_ind = [np.where(d <= radius)[0] for d in dist]\n",
      "/raid/cjnolet/cuml5/lib/python3.7/site-packages/sklearn/neighbors/base.py:606: RuntimeWarning: invalid value encountered in less_equal\n",
      "  neigh_ind = [np.where(d <= radius)[0] for d in dist]\n",
      "/raid/cjnolet/cuml5/lib/python3.7/site-packages/sklearn/neighbors/base.py:606: RuntimeWarning: invalid value encountered in less_equal\n",
      "  neigh_ind = [np.where(d <= radius)[0] for d in dist]\n",
      "/raid/cjnolet/cuml5/lib/python3.7/site-packages/sklearn/neighbors/base.py:606: RuntimeWarning: invalid value encountered in less_equal\n",
      "  neigh_ind = [np.where(d <= radius)[0] for d in dist]\n",
      "/raid/cjnolet/cuml5/lib/python3.7/site-packages/sklearn/neighbors/base.py:606: RuntimeWarning: invalid value encountered in less_equal\n",
      "  neigh_ind = [np.where(d <= radius)[0] for d in dist]\n",
      "/raid/cjnolet/cuml5/lib/python3.7/site-packages/sklearn/neighbors/base.py:606: RuntimeWarning: invalid value encountered in less_equal\n",
      "  neigh_ind = [np.where(d <= radius)[0] for d in dist]\n",
      "/raid/cjnolet/cuml5/lib/python3.7/site-packages/sklearn/neighbors/base.py:606: RuntimeWarning: invalid value encountered in less_equal\n",
      "  neigh_ind = [np.where(d <= radius)[0] for d in dist]\n",
      "/raid/cjnolet/cuml5/lib/python3.7/site-packages/sklearn/neighbors/base.py:606: RuntimeWarning: invalid value encountered in less_equal\n",
      "  neigh_ind = [np.where(d <= radius)[0] for d in dist]\n",
      "/raid/cjnolet/cuml5/lib/python3.7/site-packages/sklearn/neighbors/base.py:606: RuntimeWarning: invalid value encountered in less_equal\n",
      "  neigh_ind = [np.where(d <= radius)[0] for d in dist]\n",
      "/raid/cjnolet/cuml5/lib/python3.7/site-packages/sklearn/neighbors/base.py:606: RuntimeWarning: invalid value encountered in less_equal\n",
      "  neigh_ind = [np.where(d <= radius)[0] for d in dist]\n",
      "/raid/cjnolet/cuml5/lib/python3.7/site-packages/sklearn/neighbors/base.py:606: RuntimeWarning: invalid value encountered in less_equal\n",
      "  neigh_ind = [np.where(d <= radius)[0] for d in dist]\n",
      "/raid/cjnolet/cuml5/lib/python3.7/site-packages/sklearn/neighbors/base.py:606: RuntimeWarning: invalid value encountered in less_equal\n",
      "  neigh_ind = [np.where(d <= radius)[0] for d in dist]\n",
      "/raid/cjnolet/cuml5/lib/python3.7/site-packages/sklearn/neighbors/base.py:606: RuntimeWarning: invalid value encountered in less_equal\n",
      "  neigh_ind = [np.where(d <= radius)[0] for d in dist]\n",
      "/raid/cjnolet/cuml5/lib/python3.7/site-packages/sklearn/neighbors/base.py:606: RuntimeWarning: invalid value encountered in less_equal\n",
      "  neigh_ind = [np.where(d <= radius)[0] for d in dist]\n"
     ]
    },
    {
     "name": "stdout",
     "output_type": "stream",
     "text": [
      "Benchmark for (32768, 256, 'speedup') = 52.392020\n"
     ]
    }
   ],
   "source": [
    "runner = BenchmarkRunner(bench_rows = [2**x for x in range(10, 17)])\n",
    "runner.run(DBSCANAlgo())"
   ]
  },
  {
   "cell_type": "code",
   "execution_count": 27,
   "metadata": {},
   "outputs": [
    {
     "name": "stdout",
     "output_type": "stream",
     "text": [
      "Loaded previous benchmark results from benchmark.pickle\n"
     ]
    },
    {
     "data": {
      "image/png": "[encoded data removed]",
      "text/plain": [
       "<Figure size 432x288 with 1 Axes>"
      ]
     },
     "metadata": {
      "needs_background": "light"
     },
     "output_type": "display_data"
    }
   ],
   "source": [
    "runner = BenchmarkRunner(bench_rows = [2**x for x in range(10, 17)])\n",
    "runner.chart(DBSCANAlgo())"
   ]
  },
  {
   "cell_type": "markdown",
   "metadata": {},
   "source": [
    "### UMAP"
   ]
  },
  {
   "cell_type": "code",
   "execution_count": 46,
   "metadata": {},
   "outputs": [],
   "source": [
    "from umap import UMAP as skUMAP\n",
    "from cuml.manifold.umap import UMAP as cumlUMAP\n",
    "\n",
    "class UMAPAlgo(BaseAlgorithm):\n",
    "    \n",
    "    def __init__(self, n_neighbors = 5, n_epochs = 500):\n",
    "        self.name = \"umap\"\n",
    "        self.n_neighbors = n_neighbors\n",
    "        self.n_epochs = n_epochs\n",
    "        BaseAlgorithm.__init__(self)\n",
    "        \n",
    "    def __str__(self):\n",
    "        return \"UMAP\"\n",
    "\n",
    "    def sk(self, X):\n",
    "        clustering_sk = skUMAP(n_neighbors = self.n_neighbors, n_epochs = self.n_epochs)\n",
    "        clustering_sk.fit(X)\n",
    "\n",
    "    def cuml(self, X):\n",
    "        clustering_cuml = cumlUMAP(n_neighbors = self.n_neighbors, n_epochs = self.n_epochs)\n",
    "        clustering_cuml.fit(X)"
   ]
  },
  {
   "cell_type": "code",
   "execution_count": 29,
   "metadata": {
    "scrolled": true
   },
   "outputs": [
    {
     "name": "stdout",
     "output_type": "stream",
     "text": [
      "Loaded previous benchmark results from benchmark.pickle\n",
      "Running UMAP. (nrows=4096, n_dims=64)\n"
     ]
    },
    {
     "name": "stderr",
     "output_type": "stream",
     "text": [
      "/raid/cjnolet/cuml5/lib/python3.7/site-packages/umap/rp_tree.py:450: NumbaWarning: \n",
      "Compilation is falling back to object mode WITH looplifting enabled because Function \"make_euclidean_tree\" failed type inference due to: Cannot unify RandomProjectionTreeNode(array(int64, 1d, C), bool, none, none, none, none) and RandomProjectionTreeNode(none, bool, array(float32, 1d, C), float64, RandomProjectionTreeNode(array(int64, 1d, C), bool, none, none, none, none), RandomProjectionTreeNode(array(int64, 1d, C), bool, none, none, none, none)) for '$14.16', defined at /raid/cjnolet/cuml5/lib/python3.7/site-packages/umap/rp_tree.py (457)\n",
      "\n",
      "File \"../../../../cuml5/lib/python3.7/site-packages/umap/rp_tree.py\", line 457:\n",
      "def make_euclidean_tree(data, indices, rng_state, leaf_size=30):\n",
      "    <source elided>\n",
      "\n",
      "        left_node = make_euclidean_tree(data, left_indices, rng_state, leaf_size)\n",
      "        ^\n",
      "\n",
      "[1] During: resolving callee type: recursive(type(CPUDispatcher(<function make_euclidean_tree at 0x7f8ebe162d90>)))\n",
      "[2] During: typing of call at /raid/cjnolet/cuml5/lib/python3.7/site-packages/umap/rp_tree.py (457)\n",
      "\n",
      "\n",
      "File \"../../../../cuml5/lib/python3.7/site-packages/umap/rp_tree.py\", line 457:\n",
      "def make_euclidean_tree(data, indices, rng_state, leaf_size=30):\n",
      "    <source elided>\n",
      "\n",
      "        left_node = make_euclidean_tree(data, left_indices, rng_state, leaf_size)\n",
      "        ^\n",
      "\n",
      "  @numba.jit()\n",
      "/raid/cjnolet/cuml5/lib/python3.7/site-packages/numba/compiler.py:725: NumbaWarning: Function \"make_euclidean_tree\" was compiled in object mode without forceobj=True.\n",
      "\n",
      "File \"../../../../cuml5/lib/python3.7/site-packages/umap/rp_tree.py\", line 451:\n",
      "@numba.jit()\n",
      "def make_euclidean_tree(data, indices, rng_state, leaf_size=30):\n",
      "^\n",
      "\n",
      "  self.func_ir.loc))\n",
      "/raid/cjnolet/cuml5/lib/python3.7/site-packages/numba/compiler.py:734: NumbaDeprecationWarning: \n",
      "Fall-back from the nopython compilation path to the object mode compilation path has been detected, this is deprecated behaviour.\n",
      "\n",
      "For more information visit http://numba.pydata.org/numba-doc/latest/reference/deprecation.html#deprecation-of-object-mode-fall-back-behaviour-when-using-jit\n",
      "\n",
      "File \"../../../../cuml5/lib/python3.7/site-packages/umap/rp_tree.py\", line 451:\n",
      "@numba.jit()\n",
      "def make_euclidean_tree(data, indices, rng_state, leaf_size=30):\n",
      "^\n",
      "\n",
      "  warnings.warn(errors.NumbaDeprecationWarning(msg, self.func_ir.loc))\n",
      "/raid/cjnolet/cuml5/lib/python3.7/site-packages/umap/nndescent.py:92: NumbaPerformanceWarning: \n",
      "The keyword argument 'parallel=True' was specified but no transformation for parallel execution was possible.\n",
      "\n",
      "To find out why, try turning on parallel diagnostics, see http://numba.pydata.org/numba-doc/latest/user/parallel.html#diagnostics for help.\n",
      "\n",
      "File \"../../../../cuml5/lib/python3.7/site-packages/umap/utils.py\", line 409:\n",
      "@numba.njit(parallel=True)\n",
      "def build_candidates(current_graph, n_vertices, n_neighbors, max_candidates, rng_state):\n",
      "^\n",
      "\n",
      "  current_graph, n_vertices, n_neighbors, max_candidates, rng_state\n",
      "/raid/cjnolet/cuml5/lib/python3.7/site-packages/numba/compiler.py:588: NumbaPerformanceWarning: \n",
      "The keyword argument 'parallel=True' was specified but no transformation for parallel execution was possible.\n",
      "\n",
      "To find out why, try turning on parallel diagnostics, see http://numba.pydata.org/numba-doc/latest/user/parallel.html#diagnostics for help.\n",
      "\n",
      "File \"../../../../cuml5/lib/python3.7/site-packages/umap/nndescent.py\", line 47:\n",
      "    @numba.njit(parallel=True)\n",
      "    def nn_descent(\n",
      "    ^\n",
      "\n",
      "  self.func_ir.loc))\n",
      "/raid/cjnolet/cuml5/lib/python3.7/site-packages/umap/umap_.py:349: NumbaWarning: \n",
      "Compilation is falling back to object mode WITH looplifting enabled because Function \"fuzzy_simplicial_set\" failed type inference due to: Untyped global name 'nearest_neighbors': cannot determine Numba type of <class 'function'>\n",
      "\n",
      "File \"../../../../cuml5/lib/python3.7/site-packages/umap/umap_.py\", line 467:\n",
      "def fuzzy_simplicial_set(\n",
      "    <source elided>\n",
      "    if knn_indices is None or knn_dists is None:\n",
      "        knn_indices, knn_dists, _ = nearest_neighbors(\n",
      "        ^\n",
      "\n",
      "  @numba.jit()\n",
      "/raid/cjnolet/cuml5/lib/python3.7/site-packages/numba/compiler.py:725: NumbaWarning: Function \"fuzzy_simplicial_set\" was compiled in object mode without forceobj=True.\n",
      "\n",
      "File \"../../../../cuml5/lib/python3.7/site-packages/umap/umap_.py\", line 350:\n",
      "@numba.jit()\n",
      "def fuzzy_simplicial_set(\n",
      "^\n",
      "\n",
      "  self.func_ir.loc))\n",
      "/raid/cjnolet/cuml5/lib/python3.7/site-packages/numba/compiler.py:734: NumbaDeprecationWarning: \n",
      "Fall-back from the nopython compilation path to the object mode compilation path has been detected, this is deprecated behaviour.\n",
      "\n",
      "For more information visit http://numba.pydata.org/numba-doc/latest/reference/deprecation.html#deprecation-of-object-mode-fall-back-behaviour-when-using-jit\n",
      "\n",
      "File \"../../../../cuml5/lib/python3.7/site-packages/umap/umap_.py\", line 350:\n",
      "@numba.jit()\n",
      "def fuzzy_simplicial_set(\n",
      "^\n",
      "\n",
      "  warnings.warn(errors.NumbaDeprecationWarning(msg, self.func_ir.loc))\n",
      "/raid/cjnolet/cuml5/lib/python3.7/site-packages/numba/compiler.py:588: NumbaPerformanceWarning: \n",
      "The keyword argument 'parallel=True' was specified but no transformation for parallel execution was possible.\n",
      "\n",
      "To find out why, try turning on parallel diagnostics, see http://numba.pydata.org/numba-doc/latest/user/parallel.html#diagnostics for help.\n",
      "\n",
      "File \"../../../../cuml5/lib/python3.7/site-packages/umap/nndescent.py\", line 47:\n",
      "    @numba.njit(parallel=True)\n",
      "    def nn_descent(\n",
      "    ^\n",
      "\n",
      "  self.func_ir.loc))\n",
      "/raid/cjnolet/cuml5/lib/python3.7/site-packages/numba/compiler.py:588: NumbaPerformanceWarning: \n",
      "The keyword argument 'parallel=True' was specified but no transformation for parallel execution was possible.\n",
      "\n",
      "To find out why, try turning on parallel diagnostics, see http://numba.pydata.org/numba-doc/latest/user/parallel.html#diagnostics for help.\n",
      "\n",
      "File \"../../../../cuml5/lib/python3.7/site-packages/umap/nndescent.py\", line 47:\n",
      "    @numba.njit(parallel=True)\n",
      "    def nn_descent(\n",
      "    ^\n",
      "\n",
      "  self.func_ir.loc))\n"
     ]
    },
    {
     "name": "stdout",
     "output_type": "stream",
     "text": [
      "Benchmark for (4096, 64, 'speedup') = 11.789598\n",
      "Running UMAP. (nrows=4096, n_dims=128)\n"
     ]
    },
    {
     "name": "stderr",
     "output_type": "stream",
     "text": [
      "/raid/cjnolet/cuml5/lib/python3.7/site-packages/numba/compiler.py:588: NumbaPerformanceWarning: \n",
      "The keyword argument 'parallel=True' was specified but no transformation for parallel execution was possible.\n",
      "\n",
      "To find out why, try turning on parallel diagnostics, see http://numba.pydata.org/numba-doc/latest/user/parallel.html#diagnostics for help.\n",
      "\n",
      "File \"../../../../cuml5/lib/python3.7/site-packages/umap/nndescent.py\", line 47:\n",
      "    @numba.njit(parallel=True)\n",
      "    def nn_descent(\n",
      "    ^\n",
      "\n",
      "  self.func_ir.loc))\n",
      "/raid/cjnolet/cuml5/lib/python3.7/site-packages/numba/compiler.py:588: NumbaPerformanceWarning: \n",
      "The keyword argument 'parallel=True' was specified but no transformation for parallel execution was possible.\n",
      "\n",
      "To find out why, try turning on parallel diagnostics, see http://numba.pydata.org/numba-doc/latest/user/parallel.html#diagnostics for help.\n",
      "\n",
      "File \"../../../../cuml5/lib/python3.7/site-packages/umap/nndescent.py\", line 47:\n",
      "    @numba.njit(parallel=True)\n",
      "    def nn_descent(\n",
      "    ^\n",
      "\n",
      "  self.func_ir.loc))\n",
      "/raid/cjnolet/cuml5/lib/python3.7/site-packages/numba/compiler.py:588: NumbaPerformanceWarning: \n",
      "The keyword argument 'parallel=True' was specified but no transformation for parallel execution was possible.\n",
      "\n",
      "To find out why, try turning on parallel diagnostics, see http://numba.pydata.org/numba-doc/latest/user/parallel.html#diagnostics for help.\n",
      "\n",
      "File \"../../../../cuml5/lib/python3.7/site-packages/umap/nndescent.py\", line 47:\n",
      "    @numba.njit(parallel=True)\n",
      "    def nn_descent(\n",
      "    ^\n",
      "\n",
      "  self.func_ir.loc))\n"
     ]
    },
    {
     "name": "stdout",
     "output_type": "stream",
     "text": [
      "Benchmark for (4096, 128, 'speedup') = 9.166705\n",
      "Running UMAP. (nrows=4096, n_dims=256)\n"
     ]
    },
    {
     "name": "stderr",
     "output_type": "stream",
     "text": [
      "/raid/cjnolet/cuml5/lib/python3.7/site-packages/numba/compiler.py:588: NumbaPerformanceWarning: \n",
      "The keyword argument 'parallel=True' was specified but no transformation for parallel execution was possible.\n",
      "\n",
      "To find out why, try turning on parallel diagnostics, see http://numba.pydata.org/numba-doc/latest/user/parallel.html#diagnostics for help.\n",
      "\n",
      "File \"../../../../cuml5/lib/python3.7/site-packages/umap/nndescent.py\", line 47:\n",
      "    @numba.njit(parallel=True)\n",
      "    def nn_descent(\n",
      "    ^\n",
      "\n",
      "  self.func_ir.loc))\n",
      "/raid/cjnolet/cuml5/lib/python3.7/site-packages/numba/compiler.py:588: NumbaPerformanceWarning: \n",
      "The keyword argument 'parallel=True' was specified but no transformation for parallel execution was possible.\n",
      "\n",
      "To find out why, try turning on parallel diagnostics, see http://numba.pydata.org/numba-doc/latest/user/parallel.html#diagnostics for help.\n",
      "\n",
      "File \"../../../../cuml5/lib/python3.7/site-packages/umap/nndescent.py\", line 47:\n",
      "    @numba.njit(parallel=True)\n",
      "    def nn_descent(\n",
      "    ^\n",
      "\n",
      "  self.func_ir.loc))\n",
      "/raid/cjnolet/cuml5/lib/python3.7/site-packages/numba/compiler.py:588: NumbaPerformanceWarning: \n",
      "The keyword argument 'parallel=True' was specified but no transformation for parallel execution was possible.\n",
      "\n",
      "To find out why, try turning on parallel diagnostics, see http://numba.pydata.org/numba-doc/latest/user/parallel.html#diagnostics for help.\n",
      "\n",
      "File \"../../../../cuml5/lib/python3.7/site-packages/umap/nndescent.py\", line 47:\n",
      "    @numba.njit(parallel=True)\n",
      "    def nn_descent(\n",
      "    ^\n",
      "\n",
      "  self.func_ir.loc))\n"
     ]
    },
    {
     "name": "stdout",
     "output_type": "stream",
     "text": [
      "Benchmark for (4096, 256, 'speedup') = 9.815435\n",
      "Running UMAP. (nrows=8192, n_dims=64)\n"
     ]
    },
    {
     "name": "stderr",
     "output_type": "stream",
     "text": [
      "/raid/cjnolet/cuml5/lib/python3.7/site-packages/numba/compiler.py:588: NumbaPerformanceWarning: \n",
      "The keyword argument 'parallel=True' was specified but no transformation for parallel execution was possible.\n",
      "\n",
      "To find out why, try turning on parallel diagnostics, see http://numba.pydata.org/numba-doc/latest/user/parallel.html#diagnostics for help.\n",
      "\n",
      "File \"../../../../cuml5/lib/python3.7/site-packages/umap/nndescent.py\", line 47:\n",
      "    @numba.njit(parallel=True)\n",
      "    def nn_descent(\n",
      "    ^\n",
      "\n",
      "  self.func_ir.loc))\n",
      "/raid/cjnolet/cuml5/lib/python3.7/site-packages/numba/compiler.py:588: NumbaPerformanceWarning: \n",
      "The keyword argument 'parallel=True' was specified but no transformation for parallel execution was possible.\n",
      "\n",
      "To find out why, try turning on parallel diagnostics, see http://numba.pydata.org/numba-doc/latest/user/parallel.html#diagnostics for help.\n",
      "\n",
      "File \"../../../../cuml5/lib/python3.7/site-packages/umap/nndescent.py\", line 47:\n",
      "    @numba.njit(parallel=True)\n",
      "    def nn_descent(\n",
      "    ^\n",
      "\n",
      "  self.func_ir.loc))\n",
      "/raid/cjnolet/cuml5/lib/python3.7/site-packages/numba/compiler.py:588: NumbaPerformanceWarning: \n",
      "The keyword argument 'parallel=True' was specified but no transformation for parallel execution was possible.\n",
      "\n",
      "To find out why, try turning on parallel diagnostics, see http://numba.pydata.org/numba-doc/latest/user/parallel.html#diagnostics for help.\n",
      "\n",
      "File \"../../../../cuml5/lib/python3.7/site-packages/umap/nndescent.py\", line 47:\n",
      "    @numba.njit(parallel=True)\n",
      "    def nn_descent(\n",
      "    ^\n",
      "\n",
      "  self.func_ir.loc))\n"
     ]
    },
    {
     "name": "stdout",
     "output_type": "stream",
     "text": [
      "Benchmark for (8192, 64, 'speedup') = 19.604745\n",
      "Running UMAP. (nrows=8192, n_dims=128)\n"
     ]
    },
    {
     "name": "stderr",
     "output_type": "stream",
     "text": [
      "/raid/cjnolet/cuml5/lib/python3.7/site-packages/numba/compiler.py:588: NumbaPerformanceWarning: \n",
      "The keyword argument 'parallel=True' was specified but no transformation for parallel execution was possible.\n",
      "\n",
      "To find out why, try turning on parallel diagnostics, see http://numba.pydata.org/numba-doc/latest/user/parallel.html#diagnostics for help.\n",
      "\n",
      "File \"../../../../cuml5/lib/python3.7/site-packages/umap/nndescent.py\", line 47:\n",
      "    @numba.njit(parallel=True)\n",
      "    def nn_descent(\n",
      "    ^\n",
      "\n",
      "  self.func_ir.loc))\n",
      "/raid/cjnolet/cuml5/lib/python3.7/site-packages/numba/compiler.py:588: NumbaPerformanceWarning: \n",
      "The keyword argument 'parallel=True' was specified but no transformation for parallel execution was possible.\n",
      "\n",
      "To find out why, try turning on parallel diagnostics, see http://numba.pydata.org/numba-doc/latest/user/parallel.html#diagnostics for help.\n",
      "\n",
      "File \"../../../../cuml5/lib/python3.7/site-packages/umap/nndescent.py\", line 47:\n",
      "    @numba.njit(parallel=True)\n",
      "    def nn_descent(\n",
      "    ^\n",
      "\n",
      "  self.func_ir.loc))\n",
      "/raid/cjnolet/cuml5/lib/python3.7/site-packages/numba/compiler.py:588: NumbaPerformanceWarning: \n",
      "The keyword argument 'parallel=True' was specified but no transformation for parallel execution was possible.\n",
      "\n",
      "To find out why, try turning on parallel diagnostics, see http://numba.pydata.org/numba-doc/latest/user/parallel.html#diagnostics for help.\n",
      "\n",
      "File \"../../../../cuml5/lib/python3.7/site-packages/umap/nndescent.py\", line 47:\n",
      "    @numba.njit(parallel=True)\n",
      "    def nn_descent(\n",
      "    ^\n",
      "\n",
      "  self.func_ir.loc))\n"
     ]
    },
    {
     "name": "stdout",
     "output_type": "stream",
     "text": [
      "Benchmark for (8192, 128, 'speedup') = 19.115289\n",
      "Running UMAP. (nrows=8192, n_dims=256)\n"
     ]
    },
    {
     "name": "stderr",
     "output_type": "stream",
     "text": [
      "/raid/cjnolet/cuml5/lib/python3.7/site-packages/numba/compiler.py:588: NumbaPerformanceWarning: \n",
      "The keyword argument 'parallel=True' was specified but no transformation for parallel execution was possible.\n",
      "\n",
      "To find out why, try turning on parallel diagnostics, see http://numba.pydata.org/numba-doc/latest/user/parallel.html#diagnostics for help.\n",
      "\n",
      "File \"../../../../cuml5/lib/python3.7/site-packages/umap/nndescent.py\", line 47:\n",
      "    @numba.njit(parallel=True)\n",
      "    def nn_descent(\n",
      "    ^\n",
      "\n",
      "  self.func_ir.loc))\n",
      "/raid/cjnolet/cuml5/lib/python3.7/site-packages/numba/compiler.py:588: NumbaPerformanceWarning: \n",
      "The keyword argument 'parallel=True' was specified but no transformation for parallel execution was possible.\n",
      "\n",
      "To find out why, try turning on parallel diagnostics, see http://numba.pydata.org/numba-doc/latest/user/parallel.html#diagnostics for help.\n",
      "\n",
      "File \"../../../../cuml5/lib/python3.7/site-packages/umap/nndescent.py\", line 47:\n",
      "    @numba.njit(parallel=True)\n",
      "    def nn_descent(\n",
      "    ^\n",
      "\n",
      "  self.func_ir.loc))\n",
      "/raid/cjnolet/cuml5/lib/python3.7/site-packages/numba/compiler.py:588: NumbaPerformanceWarning: \n",
      "The keyword argument 'parallel=True' was specified but no transformation for parallel execution was possible.\n",
      "\n",
      "To find out why, try turning on parallel diagnostics, see http://numba.pydata.org/numba-doc/latest/user/parallel.html#diagnostics for help.\n",
      "\n",
      "File \"../../../../cuml5/lib/python3.7/site-packages/umap/nndescent.py\", line 47:\n",
      "    @numba.njit(parallel=True)\n",
      "    def nn_descent(\n",
      "    ^\n",
      "\n",
      "  self.func_ir.loc))\n"
     ]
    },
    {
     "name": "stdout",
     "output_type": "stream",
     "text": [
      "Benchmark for (8192, 256, 'speedup') = 17.576009\n",
      "Running UMAP. (nrows=16384, n_dims=64)\n"
     ]
    },
    {
     "name": "stderr",
     "output_type": "stream",
     "text": [
      "/raid/cjnolet/cuml5/lib/python3.7/site-packages/numba/compiler.py:588: NumbaPerformanceWarning: \n",
      "The keyword argument 'parallel=True' was specified but no transformation for parallel execution was possible.\n",
      "\n",
      "To find out why, try turning on parallel diagnostics, see http://numba.pydata.org/numba-doc/latest/user/parallel.html#diagnostics for help.\n",
      "\n",
      "File \"../../../../cuml5/lib/python3.7/site-packages/umap/nndescent.py\", line 47:\n",
      "    @numba.njit(parallel=True)\n",
      "    def nn_descent(\n",
      "    ^\n",
      "\n",
      "  self.func_ir.loc))\n",
      "/raid/cjnolet/cuml5/lib/python3.7/site-packages/numba/compiler.py:588: NumbaPerformanceWarning: \n",
      "The keyword argument 'parallel=True' was specified but no transformation for parallel execution was possible.\n",
      "\n",
      "To find out why, try turning on parallel diagnostics, see http://numba.pydata.org/numba-doc/latest/user/parallel.html#diagnostics for help.\n",
      "\n",
      "File \"../../../../cuml5/lib/python3.7/site-packages/umap/nndescent.py\", line 47:\n",
      "    @numba.njit(parallel=True)\n",
      "    def nn_descent(\n",
      "    ^\n",
      "\n",
      "  self.func_ir.loc))\n",
      "/raid/cjnolet/cuml5/lib/python3.7/site-packages/numba/compiler.py:588: NumbaPerformanceWarning: \n",
      "The keyword argument 'parallel=True' was specified but no transformation for parallel execution was possible.\n",
      "\n",
      "To find out why, try turning on parallel diagnostics, see http://numba.pydata.org/numba-doc/latest/user/parallel.html#diagnostics for help.\n",
      "\n",
      "File \"../../../../cuml5/lib/python3.7/site-packages/umap/nndescent.py\", line 47:\n",
      "    @numba.njit(parallel=True)\n",
      "    def nn_descent(\n",
      "    ^\n",
      "\n",
      "  self.func_ir.loc))\n"
     ]
    },
    {
     "name": "stdout",
     "output_type": "stream",
     "text": [
      "Benchmark for (16384, 64, 'speedup') = 32.849509\n",
      "Running UMAP. (nrows=16384, n_dims=128)\n"
     ]
    },
    {
     "name": "stderr",
     "output_type": "stream",
     "text": [
      "/raid/cjnolet/cuml5/lib/python3.7/site-packages/numba/compiler.py:588: NumbaPerformanceWarning: \n",
      "The keyword argument 'parallel=True' was specified but no transformation for parallel execution was possible.\n",
      "\n",
      "To find out why, try turning on parallel diagnostics, see http://numba.pydata.org/numba-doc/latest/user/parallel.html#diagnostics for help.\n",
      "\n",
      "File \"../../../../cuml5/lib/python3.7/site-packages/umap/nndescent.py\", line 47:\n",
      "    @numba.njit(parallel=True)\n",
      "    def nn_descent(\n",
      "    ^\n",
      "\n",
      "  self.func_ir.loc))\n",
      "/raid/cjnolet/cuml5/lib/python3.7/site-packages/numba/compiler.py:588: NumbaPerformanceWarning: \n",
      "The keyword argument 'parallel=True' was specified but no transformation for parallel execution was possible.\n",
      "\n",
      "To find out why, try turning on parallel diagnostics, see http://numba.pydata.org/numba-doc/latest/user/parallel.html#diagnostics for help.\n",
      "\n",
      "File \"../../../../cuml5/lib/python3.7/site-packages/umap/nndescent.py\", line 47:\n",
      "    @numba.njit(parallel=True)\n",
      "    def nn_descent(\n",
      "    ^\n",
      "\n",
      "  self.func_ir.loc))\n",
      "/raid/cjnolet/cuml5/lib/python3.7/site-packages/numba/compiler.py:588: NumbaPerformanceWarning: \n",
      "The keyword argument 'parallel=True' was specified but no transformation for parallel execution was possible.\n",
      "\n",
      "To find out why, try turning on parallel diagnostics, see http://numba.pydata.org/numba-doc/latest/user/parallel.html#diagnostics for help.\n",
      "\n",
      "File \"../../../../cuml5/lib/python3.7/site-packages/umap/nndescent.py\", line 47:\n",
      "    @numba.njit(parallel=True)\n",
      "    def nn_descent(\n",
      "    ^\n",
      "\n",
      "  self.func_ir.loc))\n"
     ]
    },
    {
     "name": "stdout",
     "output_type": "stream",
     "text": [
      "Benchmark for (16384, 128, 'speedup') = 33.950535\n",
      "Running UMAP. (nrows=16384, n_dims=256)\n"
     ]
    },
    {
     "name": "stderr",
     "output_type": "stream",
     "text": [
      "/raid/cjnolet/cuml5/lib/python3.7/site-packages/numba/compiler.py:588: NumbaPerformanceWarning: \n",
      "The keyword argument 'parallel=True' was specified but no transformation for parallel execution was possible.\n",
      "\n",
      "To find out why, try turning on parallel diagnostics, see http://numba.pydata.org/numba-doc/latest/user/parallel.html#diagnostics for help.\n",
      "\n",
      "File \"../../../../cuml5/lib/python3.7/site-packages/umap/nndescent.py\", line 47:\n",
      "    @numba.njit(parallel=True)\n",
      "    def nn_descent(\n",
      "    ^\n",
      "\n",
      "  self.func_ir.loc))\n",
      "/raid/cjnolet/cuml5/lib/python3.7/site-packages/numba/compiler.py:588: NumbaPerformanceWarning: \n",
      "The keyword argument 'parallel=True' was specified but no transformation for parallel execution was possible.\n",
      "\n",
      "To find out why, try turning on parallel diagnostics, see http://numba.pydata.org/numba-doc/latest/user/parallel.html#diagnostics for help.\n",
      "\n",
      "File \"../../../../cuml5/lib/python3.7/site-packages/umap/nndescent.py\", line 47:\n",
      "    @numba.njit(parallel=True)\n",
      "    def nn_descent(\n",
      "    ^\n",
      "\n",
      "  self.func_ir.loc))\n",
      "/raid/cjnolet/cuml5/lib/python3.7/site-packages/numba/compiler.py:588: NumbaPerformanceWarning: \n",
      "The keyword argument 'parallel=True' was specified but no transformation for parallel execution was possible.\n",
      "\n",
      "To find out why, try turning on parallel diagnostics, see http://numba.pydata.org/numba-doc/latest/user/parallel.html#diagnostics for help.\n",
      "\n",
      "File \"../../../../cuml5/lib/python3.7/site-packages/umap/nndescent.py\", line 47:\n",
      "    @numba.njit(parallel=True)\n",
      "    def nn_descent(\n",
      "    ^\n",
      "\n",
      "  self.func_ir.loc))\n"
     ]
    },
    {
     "name": "stdout",
     "output_type": "stream",
     "text": [
      "Benchmark for (16384, 256, 'speedup') = 32.892538\n",
      "Running UMAP. (nrows=32768, n_dims=64)\n"
     ]
    },
    {
     "name": "stderr",
     "output_type": "stream",
     "text": [
      "/raid/cjnolet/cuml5/lib/python3.7/site-packages/numba/compiler.py:588: NumbaPerformanceWarning: \n",
      "The keyword argument 'parallel=True' was specified but no transformation for parallel execution was possible.\n",
      "\n",
      "To find out why, try turning on parallel diagnostics, see http://numba.pydata.org/numba-doc/latest/user/parallel.html#diagnostics for help.\n",
      "\n",
      "File \"../../../../cuml5/lib/python3.7/site-packages/umap/nndescent.py\", line 47:\n",
      "    @numba.njit(parallel=True)\n",
      "    def nn_descent(\n",
      "    ^\n",
      "\n",
      "  self.func_ir.loc))\n",
      "/raid/cjnolet/cuml5/lib/python3.7/site-packages/numba/compiler.py:588: NumbaPerformanceWarning: \n",
      "The keyword argument 'parallel=True' was specified but no transformation for parallel execution was possible.\n",
      "\n",
      "To find out why, try turning on parallel diagnostics, see http://numba.pydata.org/numba-doc/latest/user/parallel.html#diagnostics for help.\n",
      "\n",
      "File \"../../../../cuml5/lib/python3.7/site-packages/umap/nndescent.py\", line 47:\n",
      "    @numba.njit(parallel=True)\n",
      "    def nn_descent(\n",
      "    ^\n",
      "\n",
      "  self.func_ir.loc))\n",
      "/raid/cjnolet/cuml5/lib/python3.7/site-packages/numba/compiler.py:588: NumbaPerformanceWarning: \n",
      "The keyword argument 'parallel=True' was specified but no transformation for parallel execution was possible.\n",
      "\n",
      "To find out why, try turning on parallel diagnostics, see http://numba.pydata.org/numba-doc/latest/user/parallel.html#diagnostics for help.\n",
      "\n",
      "File \"../../../../cuml5/lib/python3.7/site-packages/umap/nndescent.py\", line 47:\n",
      "    @numba.njit(parallel=True)\n",
      "    def nn_descent(\n",
      "    ^\n",
      "\n",
      "  self.func_ir.loc))\n"
     ]
    },
    {
     "name": "stdout",
     "output_type": "stream",
     "text": [
      "Benchmark for (32768, 64, 'speedup') = 61.838032\n",
      "Running UMAP. (nrows=32768, n_dims=128)\n"
     ]
    },
    {
     "name": "stderr",
     "output_type": "stream",
     "text": [
      "/raid/cjnolet/cuml5/lib/python3.7/site-packages/numba/compiler.py:588: NumbaPerformanceWarning: \n",
      "The keyword argument 'parallel=True' was specified but no transformation for parallel execution was possible.\n",
      "\n",
      "To find out why, try turning on parallel diagnostics, see http://numba.pydata.org/numba-doc/latest/user/parallel.html#diagnostics for help.\n",
      "\n",
      "File \"../../../../cuml5/lib/python3.7/site-packages/umap/nndescent.py\", line 47:\n",
      "    @numba.njit(parallel=True)\n",
      "    def nn_descent(\n",
      "    ^\n",
      "\n",
      "  self.func_ir.loc))\n",
      "/raid/cjnolet/cuml5/lib/python3.7/site-packages/numba/compiler.py:588: NumbaPerformanceWarning: \n",
      "The keyword argument 'parallel=True' was specified but no transformation for parallel execution was possible.\n",
      "\n",
      "To find out why, try turning on parallel diagnostics, see http://numba.pydata.org/numba-doc/latest/user/parallel.html#diagnostics for help.\n",
      "\n",
      "File \"../../../../cuml5/lib/python3.7/site-packages/umap/nndescent.py\", line 47:\n",
      "    @numba.njit(parallel=True)\n",
      "    def nn_descent(\n",
      "    ^\n",
      "\n",
      "  self.func_ir.loc))\n",
      "/raid/cjnolet/cuml5/lib/python3.7/site-packages/numba/compiler.py:588: NumbaPerformanceWarning: \n",
      "The keyword argument 'parallel=True' was specified but no transformation for parallel execution was possible.\n",
      "\n",
      "To find out why, try turning on parallel diagnostics, see http://numba.pydata.org/numba-doc/latest/user/parallel.html#diagnostics for help.\n",
      "\n",
      "File \"../../../../cuml5/lib/python3.7/site-packages/umap/nndescent.py\", line 47:\n",
      "    @numba.njit(parallel=True)\n",
      "    def nn_descent(\n",
      "    ^\n",
      "\n",
      "  self.func_ir.loc))\n"
     ]
    },
    {
     "name": "stdout",
     "output_type": "stream",
     "text": [
      "Benchmark for (32768, 128, 'speedup') = 54.819890\n",
      "Running UMAP. (nrows=32768, n_dims=256)\n"
     ]
    },
    {
     "name": "stderr",
     "output_type": "stream",
     "text": [
      "/raid/cjnolet/cuml5/lib/python3.7/site-packages/numba/compiler.py:588: NumbaPerformanceWarning: \n",
      "The keyword argument 'parallel=True' was specified but no transformation for parallel execution was possible.\n",
      "\n",
      "To find out why, try turning on parallel diagnostics, see http://numba.pydata.org/numba-doc/latest/user/parallel.html#diagnostics for help.\n",
      "\n",
      "File \"../../../../cuml5/lib/python3.7/site-packages/umap/nndescent.py\", line 47:\n",
      "    @numba.njit(parallel=True)\n",
      "    def nn_descent(\n",
      "    ^\n",
      "\n",
      "  self.func_ir.loc))\n",
      "/raid/cjnolet/cuml5/lib/python3.7/site-packages/numba/compiler.py:588: NumbaPerformanceWarning: \n",
      "The keyword argument 'parallel=True' was specified but no transformation for parallel execution was possible.\n",
      "\n",
      "To find out why, try turning on parallel diagnostics, see http://numba.pydata.org/numba-doc/latest/user/parallel.html#diagnostics for help.\n",
      "\n",
      "File \"../../../../cuml5/lib/python3.7/site-packages/umap/nndescent.py\", line 47:\n",
      "    @numba.njit(parallel=True)\n",
      "    def nn_descent(\n",
      "    ^\n",
      "\n",
      "  self.func_ir.loc))\n",
      "/raid/cjnolet/cuml5/lib/python3.7/site-packages/numba/compiler.py:588: NumbaPerformanceWarning: \n",
      "The keyword argument 'parallel=True' was specified but no transformation for parallel execution was possible.\n",
      "\n",
      "To find out why, try turning on parallel diagnostics, see http://numba.pydata.org/numba-doc/latest/user/parallel.html#diagnostics for help.\n",
      "\n",
      "File \"../../../../cuml5/lib/python3.7/site-packages/umap/nndescent.py\", line 47:\n",
      "    @numba.njit(parallel=True)\n",
      "    def nn_descent(\n",
      "    ^\n",
      "\n",
      "  self.func_ir.loc))\n"
     ]
    },
    {
     "name": "stdout",
     "output_type": "stream",
     "text": [
      "Benchmark for (32768, 256, 'speedup') = 39.172925\n",
      "Running UMAP. (nrows=65536, n_dims=64)\n"
     ]
    },
    {
     "name": "stderr",
     "output_type": "stream",
     "text": [
      "/raid/cjnolet/cuml5/lib/python3.7/site-packages/numba/compiler.py:588: NumbaPerformanceWarning: \n",
      "The keyword argument 'parallel=True' was specified but no transformation for parallel execution was possible.\n",
      "\n",
      "To find out why, try turning on parallel diagnostics, see http://numba.pydata.org/numba-doc/latest/user/parallel.html#diagnostics for help.\n",
      "\n",
      "File \"../../../../cuml5/lib/python3.7/site-packages/umap/nndescent.py\", line 47:\n",
      "    @numba.njit(parallel=True)\n",
      "    def nn_descent(\n",
      "    ^\n",
      "\n",
      "  self.func_ir.loc))\n",
      "/raid/cjnolet/cuml5/lib/python3.7/site-packages/numba/compiler.py:588: NumbaPerformanceWarning: \n",
      "The keyword argument 'parallel=True' was specified but no transformation for parallel execution was possible.\n",
      "\n",
      "To find out why, try turning on parallel diagnostics, see http://numba.pydata.org/numba-doc/latest/user/parallel.html#diagnostics for help.\n",
      "\n",
      "File \"../../../../cuml5/lib/python3.7/site-packages/umap/nndescent.py\", line 47:\n",
      "    @numba.njit(parallel=True)\n",
      "    def nn_descent(\n",
      "    ^\n",
      "\n",
      "  self.func_ir.loc))\n",
      "/raid/cjnolet/cuml5/lib/python3.7/site-packages/numba/compiler.py:588: NumbaPerformanceWarning: \n",
      "The keyword argument 'parallel=True' was specified but no transformation for parallel execution was possible.\n",
      "\n",
      "To find out why, try turning on parallel diagnostics, see http://numba.pydata.org/numba-doc/latest/user/parallel.html#diagnostics for help.\n",
      "\n",
      "File \"../../../../cuml5/lib/python3.7/site-packages/umap/nndescent.py\", line 47:\n",
      "    @numba.njit(parallel=True)\n",
      "    def nn_descent(\n",
      "    ^\n",
      "\n",
      "  self.func_ir.loc))\n"
     ]
    },
    {
     "name": "stdout",
     "output_type": "stream",
     "text": [
      "Benchmark for (65536, 64, 'speedup') = 94.522386\n",
      "Running UMAP. (nrows=65536, n_dims=128)\n"
     ]
    },
    {
     "name": "stderr",
     "output_type": "stream",
     "text": [
      "/raid/cjnolet/cuml5/lib/python3.7/site-packages/numba/compiler.py:588: NumbaPerformanceWarning: \n",
      "The keyword argument 'parallel=True' was specified but no transformation for parallel execution was possible.\n",
      "\n",
      "To find out why, try turning on parallel diagnostics, see http://numba.pydata.org/numba-doc/latest/user/parallel.html#diagnostics for help.\n",
      "\n",
      "File \"../../../../cuml5/lib/python3.7/site-packages/umap/nndescent.py\", line 47:\n",
      "    @numba.njit(parallel=True)\n",
      "    def nn_descent(\n",
      "    ^\n",
      "\n",
      "  self.func_ir.loc))\n",
      "/raid/cjnolet/cuml5/lib/python3.7/site-packages/numba/compiler.py:588: NumbaPerformanceWarning: \n",
      "The keyword argument 'parallel=True' was specified but no transformation for parallel execution was possible.\n",
      "\n",
      "To find out why, try turning on parallel diagnostics, see http://numba.pydata.org/numba-doc/latest/user/parallel.html#diagnostics for help.\n",
      "\n",
      "File \"../../../../cuml5/lib/python3.7/site-packages/umap/nndescent.py\", line 47:\n",
      "    @numba.njit(parallel=True)\n",
      "    def nn_descent(\n",
      "    ^\n",
      "\n",
      "  self.func_ir.loc))\n",
      "/raid/cjnolet/cuml5/lib/python3.7/site-packages/numba/compiler.py:588: NumbaPerformanceWarning: \n",
      "The keyword argument 'parallel=True' was specified but no transformation for parallel execution was possible.\n",
      "\n",
      "To find out why, try turning on parallel diagnostics, see http://numba.pydata.org/numba-doc/latest/user/parallel.html#diagnostics for help.\n",
      "\n",
      "File \"../../../../cuml5/lib/python3.7/site-packages/umap/nndescent.py\", line 47:\n",
      "    @numba.njit(parallel=True)\n",
      "    def nn_descent(\n",
      "    ^\n",
      "\n",
      "  self.func_ir.loc))\n"
     ]
    },
    {
     "name": "stdout",
     "output_type": "stream",
     "text": [
      "Benchmark for (65536, 128, 'speedup') = 90.715664\n",
      "Running UMAP. (nrows=65536, n_dims=256)\n"
     ]
    },
    {
     "name": "stderr",
     "output_type": "stream",
     "text": [
      "/raid/cjnolet/cuml5/lib/python3.7/site-packages/numba/compiler.py:588: NumbaPerformanceWarning: \n",
      "The keyword argument 'parallel=True' was specified but no transformation for parallel execution was possible.\n",
      "\n",
      "To find out why, try turning on parallel diagnostics, see http://numba.pydata.org/numba-doc/latest/user/parallel.html#diagnostics for help.\n",
      "\n",
      "File \"../../../../cuml5/lib/python3.7/site-packages/umap/nndescent.py\", line 47:\n",
      "    @numba.njit(parallel=True)\n",
      "    def nn_descent(\n",
      "    ^\n",
      "\n",
      "  self.func_ir.loc))\n",
      "/raid/cjnolet/cuml5/lib/python3.7/site-packages/numba/compiler.py:588: NumbaPerformanceWarning: \n",
      "The keyword argument 'parallel=True' was specified but no transformation for parallel execution was possible.\n",
      "\n",
      "To find out why, try turning on parallel diagnostics, see http://numba.pydata.org/numba-doc/latest/user/parallel.html#diagnostics for help.\n",
      "\n",
      "File \"../../../../cuml5/lib/python3.7/site-packages/umap/nndescent.py\", line 47:\n",
      "    @numba.njit(parallel=True)\n",
      "    def nn_descent(\n",
      "    ^\n",
      "\n",
      "  self.func_ir.loc))\n",
      "/raid/cjnolet/cuml5/lib/python3.7/site-packages/numba/compiler.py:588: NumbaPerformanceWarning: \n",
      "The keyword argument 'parallel=True' was specified but no transformation for parallel execution was possible.\n",
      "\n",
      "To find out why, try turning on parallel diagnostics, see http://numba.pydata.org/numba-doc/latest/user/parallel.html#diagnostics for help.\n",
      "\n",
      "File \"../../../../cuml5/lib/python3.7/site-packages/umap/nndescent.py\", line 47:\n",
      "    @numba.njit(parallel=True)\n",
      "    def nn_descent(\n",
      "    ^\n",
      "\n",
      "  self.func_ir.loc))\n"
     ]
    },
    {
     "name": "stdout",
     "output_type": "stream",
     "text": [
      "Benchmark for (65536, 256, 'speedup') = 106.263817\n",
      "Running UMAP. (nrows=131072, n_dims=64)\n"
     ]
    },
    {
     "name": "stderr",
     "output_type": "stream",
     "text": [
      "/raid/cjnolet/cuml5/lib/python3.7/site-packages/numba/compiler.py:588: NumbaPerformanceWarning: \n",
      "The keyword argument 'parallel=True' was specified but no transformation for parallel execution was possible.\n",
      "\n",
      "To find out why, try turning on parallel diagnostics, see http://numba.pydata.org/numba-doc/latest/user/parallel.html#diagnostics for help.\n",
      "\n",
      "File \"../../../../cuml5/lib/python3.7/site-packages/umap/nndescent.py\", line 47:\n",
      "    @numba.njit(parallel=True)\n",
      "    def nn_descent(\n",
      "    ^\n",
      "\n",
      "  self.func_ir.loc))\n",
      "/raid/cjnolet/cuml5/lib/python3.7/site-packages/numba/compiler.py:588: NumbaPerformanceWarning: \n",
      "The keyword argument 'parallel=True' was specified but no transformation for parallel execution was possible.\n",
      "\n",
      "To find out why, try turning on parallel diagnostics, see http://numba.pydata.org/numba-doc/latest/user/parallel.html#diagnostics for help.\n",
      "\n",
      "File \"../../../../cuml5/lib/python3.7/site-packages/umap/nndescent.py\", line 47:\n",
      "    @numba.njit(parallel=True)\n",
      "    def nn_descent(\n",
      "    ^\n",
      "\n",
      "  self.func_ir.loc))\n",
      "/raid/cjnolet/cuml5/lib/python3.7/site-packages/numba/compiler.py:588: NumbaPerformanceWarning: \n",
      "The keyword argument 'parallel=True' was specified but no transformation for parallel execution was possible.\n",
      "\n",
      "To find out why, try turning on parallel diagnostics, see http://numba.pydata.org/numba-doc/latest/user/parallel.html#diagnostics for help.\n",
      "\n",
      "File \"../../../../cuml5/lib/python3.7/site-packages/umap/nndescent.py\", line 47:\n",
      "    @numba.njit(parallel=True)\n",
      "    def nn_descent(\n",
      "    ^\n",
      "\n",
      "  self.func_ir.loc))\n"
     ]
    },
    {
     "name": "stdout",
     "output_type": "stream",
     "text": [
      "Benchmark for (131072, 64, 'speedup') = 136.116251\n",
      "Running UMAP. (nrows=131072, n_dims=128)\n"
     ]
    },
    {
     "name": "stderr",
     "output_type": "stream",
     "text": [
      "/raid/cjnolet/cuml5/lib/python3.7/site-packages/numba/compiler.py:588: NumbaPerformanceWarning: \n",
      "The keyword argument 'parallel=True' was specified but no transformation for parallel execution was possible.\n",
      "\n",
      "To find out why, try turning on parallel diagnostics, see http://numba.pydata.org/numba-doc/latest/user/parallel.html#diagnostics for help.\n",
      "\n",
      "File \"../../../../cuml5/lib/python3.7/site-packages/umap/nndescent.py\", line 47:\n",
      "    @numba.njit(parallel=True)\n",
      "    def nn_descent(\n",
      "    ^\n",
      "\n",
      "  self.func_ir.loc))\n"
     ]
    },
    {
     "ename": "KeyboardInterrupt",
     "evalue": "",
     "output_type": "error",
     "traceback": [
      "\u001b[0;31m---------------------------------------------------------------------------\u001b[0m",
      "\u001b[0;31mKeyboardInterrupt\u001b[0m                         Traceback (most recent call last)",
      "\u001b[0;32m<ipython-input-29-d414c88f4fcb>\u001b[0m in \u001b[0;36m<module>\u001b[0;34m\u001b[0m\n\u001b[1;32m      1\u001b[0m \u001b[0mrunner\u001b[0m \u001b[0;34m=\u001b[0m \u001b[0mBenchmarkRunner\u001b[0m\u001b[0;34m(\u001b[0m\u001b[0mbench_rows\u001b[0m \u001b[0;34m=\u001b[0m \u001b[0;34m[\u001b[0m\u001b[0;36m2\u001b[0m\u001b[0;34m**\u001b[0m\u001b[0mx\u001b[0m \u001b[0;32mfor\u001b[0m \u001b[0mx\u001b[0m \u001b[0;32min\u001b[0m \u001b[0mrange\u001b[0m\u001b[0;34m(\u001b[0m\u001b[0;36m12\u001b[0m\u001b[0;34m,\u001b[0m \u001b[0;36m20\u001b[0m\u001b[0;34m)\u001b[0m\u001b[0;34m]\u001b[0m\u001b[0;34m)\u001b[0m\u001b[0;34m\u001b[0m\u001b[0;34m\u001b[0m\u001b[0m\n\u001b[0;32m----> 2\u001b[0;31m \u001b[0mrunner\u001b[0m\u001b[0;34m.\u001b[0m\u001b[0mrun\u001b[0m\u001b[0;34m(\u001b[0m\u001b[0mUMAPAlgo\u001b[0m\u001b[0;34m(\u001b[0m\u001b[0;34m)\u001b[0m\u001b[0;34m)\u001b[0m\u001b[0;34m\u001b[0m\u001b[0;34m\u001b[0m\u001b[0m\n\u001b[0m",
      "\u001b[0;32m<ipython-input-21-27ca3e3f2836>\u001b[0m in \u001b[0;36mrun\u001b[0;34m(self, algo)\u001b[0m\n\u001b[1;32m     49\u001b[0m \u001b[0;34m\u001b[0m\u001b[0m\n\u001b[1;32m     50\u001b[0m                         \u001b[0mdata\u001b[0m \u001b[0;34m=\u001b[0m \u001b[0malgo\u001b[0m\u001b[0;34m.\u001b[0m\u001b[0mload_data\u001b[0m\u001b[0;34m(\u001b[0m\u001b[0mn_rows\u001b[0m\u001b[0;34m,\u001b[0m \u001b[0mn_dims\u001b[0m\u001b[0;34m)\u001b[0m\u001b[0;34m\u001b[0m\u001b[0;34m\u001b[0m\u001b[0m\n\u001b[0;32m---> 51\u001b[0;31m                         \u001b[0mruns\u001b[0m \u001b[0;34m=\u001b[0m \u001b[0;34m[\u001b[0m\u001b[0mbenchmark\u001b[0m\u001b[0;34m.\u001b[0m\u001b[0mrun\u001b[0m\u001b[0;34m(\u001b[0m\u001b[0malgo\u001b[0m\u001b[0;34m,\u001b[0m \u001b[0mn_rows\u001b[0m\u001b[0;34m,\u001b[0m \u001b[0mn_dims\u001b[0m\u001b[0;34m,\u001b[0m \u001b[0mdata\u001b[0m\u001b[0;34m)\u001b[0m \u001b[0;32mfor\u001b[0m \u001b[0mi\u001b[0m \u001b[0;32min\u001b[0m \u001b[0mrange\u001b[0m\u001b[0;34m(\u001b[0m\u001b[0mself\u001b[0m\u001b[0;34m.\u001b[0m\u001b[0mn_runs\u001b[0m\u001b[0;34m)\u001b[0m\u001b[0;34m]\u001b[0m\u001b[0;34m\u001b[0m\u001b[0;34m\u001b[0m\u001b[0m\n\u001b[0m\u001b[1;32m     52\u001b[0m                         \u001b[0mresults\u001b[0m\u001b[0;34m[\u001b[0m\u001b[0;34m(\u001b[0m\u001b[0mn_rows\u001b[0m\u001b[0;34m,\u001b[0m \u001b[0mn_dims\u001b[0m\u001b[0;34m,\u001b[0m \u001b[0mbenchmark\u001b[0m\u001b[0;34m.\u001b[0m\u001b[0mname\u001b[0m\u001b[0;34m)\u001b[0m\u001b[0;34m]\u001b[0m \u001b[0;34m=\u001b[0m \u001b[0mnp\u001b[0m\u001b[0;34m.\u001b[0m\u001b[0mmean\u001b[0m\u001b[0;34m(\u001b[0m\u001b[0mruns\u001b[0m\u001b[0;34m)\u001b[0m\u001b[0;34m\u001b[0m\u001b[0;34m\u001b[0m\u001b[0m\n\u001b[1;32m     53\u001b[0m \u001b[0;34m\u001b[0m\u001b[0m\n",
      "\u001b[0;32m<ipython-input-21-27ca3e3f2836>\u001b[0m in \u001b[0;36m<listcomp>\u001b[0;34m(.0)\u001b[0m\n\u001b[1;32m     49\u001b[0m \u001b[0;34m\u001b[0m\u001b[0m\n\u001b[1;32m     50\u001b[0m                         \u001b[0mdata\u001b[0m \u001b[0;34m=\u001b[0m \u001b[0malgo\u001b[0m\u001b[0;34m.\u001b[0m\u001b[0mload_data\u001b[0m\u001b[0;34m(\u001b[0m\u001b[0mn_rows\u001b[0m\u001b[0;34m,\u001b[0m \u001b[0mn_dims\u001b[0m\u001b[0;34m)\u001b[0m\u001b[0;34m\u001b[0m\u001b[0;34m\u001b[0m\u001b[0m\n\u001b[0;32m---> 51\u001b[0;31m                         \u001b[0mruns\u001b[0m \u001b[0;34m=\u001b[0m \u001b[0;34m[\u001b[0m\u001b[0mbenchmark\u001b[0m\u001b[0;34m.\u001b[0m\u001b[0mrun\u001b[0m\u001b[0;34m(\u001b[0m\u001b[0malgo\u001b[0m\u001b[0;34m,\u001b[0m \u001b[0mn_rows\u001b[0m\u001b[0;34m,\u001b[0m \u001b[0mn_dims\u001b[0m\u001b[0;34m,\u001b[0m \u001b[0mdata\u001b[0m\u001b[0;34m)\u001b[0m \u001b[0;32mfor\u001b[0m \u001b[0mi\u001b[0m \u001b[0;32min\u001b[0m \u001b[0mrange\u001b[0m\u001b[0;34m(\u001b[0m\u001b[0mself\u001b[0m\u001b[0;34m.\u001b[0m\u001b[0mn_runs\u001b[0m\u001b[0;34m)\u001b[0m\u001b[0;34m]\u001b[0m\u001b[0;34m\u001b[0m\u001b[0;34m\u001b[0m\u001b[0m\n\u001b[0m\u001b[1;32m     52\u001b[0m                         \u001b[0mresults\u001b[0m\u001b[0;34m[\u001b[0m\u001b[0;34m(\u001b[0m\u001b[0mn_rows\u001b[0m\u001b[0;34m,\u001b[0m \u001b[0mn_dims\u001b[0m\u001b[0;34m,\u001b[0m \u001b[0mbenchmark\u001b[0m\u001b[0;34m.\u001b[0m\u001b[0mname\u001b[0m\u001b[0;34m)\u001b[0m\u001b[0;34m]\u001b[0m \u001b[0;34m=\u001b[0m \u001b[0mnp\u001b[0m\u001b[0;34m.\u001b[0m\u001b[0mmean\u001b[0m\u001b[0;34m(\u001b[0m\u001b[0mruns\u001b[0m\u001b[0;34m)\u001b[0m\u001b[0;34m\u001b[0m\u001b[0;34m\u001b[0m\u001b[0m\n\u001b[1;32m     53\u001b[0m \u001b[0;34m\u001b[0m\u001b[0m\n",
      "\u001b[0;32m<ipython-input-20-23cd78f28165>\u001b[0m in \u001b[0;36mrun\u001b[0;34m(self, algo, rows, dims, data)\u001b[0m\n\u001b[1;32m     16\u001b[0m \u001b[0;34m\u001b[0m\u001b[0m\n\u001b[1;32m     17\u001b[0m         \u001b[0msk_start\u001b[0m \u001b[0;34m=\u001b[0m \u001b[0mtime\u001b[0m\u001b[0;34m.\u001b[0m\u001b[0mtime\u001b[0m\u001b[0;34m(\u001b[0m\u001b[0;34m)\u001b[0m\u001b[0;34m\u001b[0m\u001b[0;34m\u001b[0m\u001b[0m\n\u001b[0;32m---> 18\u001b[0;31m         \u001b[0malgo\u001b[0m\u001b[0;34m.\u001b[0m\u001b[0msk\u001b[0m\u001b[0;34m(\u001b[0m\u001b[0mdata\u001b[0m\u001b[0;34m)\u001b[0m\u001b[0;34m\u001b[0m\u001b[0;34m\u001b[0m\u001b[0m\n\u001b[0m\u001b[1;32m     19\u001b[0m         \u001b[0msk_elapsed\u001b[0m \u001b[0;34m=\u001b[0m \u001b[0mtime\u001b[0m\u001b[0;34m.\u001b[0m\u001b[0mtime\u001b[0m\u001b[0;34m(\u001b[0m\u001b[0;34m)\u001b[0m \u001b[0;34m-\u001b[0m \u001b[0mfloat\u001b[0m\u001b[0;34m(\u001b[0m\u001b[0msk_start\u001b[0m\u001b[0;34m)\u001b[0m\u001b[0;34m\u001b[0m\u001b[0;34m\u001b[0m\u001b[0m\n\u001b[1;32m     20\u001b[0m \u001b[0;34m\u001b[0m\u001b[0m\n",
      "\u001b[0;32m<ipython-input-28-bae7bf31659d>\u001b[0m in \u001b[0;36msk\u001b[0;34m(self, X)\u001b[0m\n\u001b[1;32m     15\u001b[0m     \u001b[0;32mdef\u001b[0m \u001b[0msk\u001b[0m\u001b[0;34m(\u001b[0m\u001b[0mself\u001b[0m\u001b[0;34m,\u001b[0m \u001b[0mX\u001b[0m\u001b[0;34m)\u001b[0m\u001b[0;34m:\u001b[0m\u001b[0;34m\u001b[0m\u001b[0;34m\u001b[0m\u001b[0m\n\u001b[1;32m     16\u001b[0m         \u001b[0mclustering_sk\u001b[0m \u001b[0;34m=\u001b[0m \u001b[0mskUMAP\u001b[0m\u001b[0;34m(\u001b[0m\u001b[0mn_neighbors\u001b[0m \u001b[0;34m=\u001b[0m \u001b[0mself\u001b[0m\u001b[0;34m.\u001b[0m\u001b[0mn_neighbors\u001b[0m\u001b[0;34m,\u001b[0m \u001b[0mn_epochs\u001b[0m \u001b[0;34m=\u001b[0m \u001b[0mself\u001b[0m\u001b[0;34m.\u001b[0m\u001b[0mn_epochs\u001b[0m\u001b[0;34m)\u001b[0m\u001b[0;34m\u001b[0m\u001b[0;34m\u001b[0m\u001b[0m\n\u001b[0;32m---> 17\u001b[0;31m         \u001b[0mclustering_sk\u001b[0m\u001b[0;34m.\u001b[0m\u001b[0mfit\u001b[0m\u001b[0;34m(\u001b[0m\u001b[0mX\u001b[0m\u001b[0;34m)\u001b[0m\u001b[0;34m\u001b[0m\u001b[0;34m\u001b[0m\u001b[0m\n\u001b[0m\u001b[1;32m     18\u001b[0m \u001b[0;34m\u001b[0m\u001b[0m\n\u001b[1;32m     19\u001b[0m     \u001b[0;32mdef\u001b[0m \u001b[0mcuml\u001b[0m\u001b[0;34m(\u001b[0m\u001b[0mself\u001b[0m\u001b[0;34m,\u001b[0m \u001b[0mX\u001b[0m\u001b[0;34m)\u001b[0m\u001b[0;34m:\u001b[0m\u001b[0;34m\u001b[0m\u001b[0;34m\u001b[0m\u001b[0m\n",
      "\u001b[0;32m/raid/cjnolet/cuml5/lib/python3.7/site-packages/umap/umap_.py\u001b[0m in \u001b[0;36mfit\u001b[0;34m(self, X, y)\u001b[0m\n\u001b[1;32m   1563\u001b[0m             \u001b[0mself\u001b[0m\u001b[0;34m.\u001b[0m\u001b[0mmetric\u001b[0m\u001b[0;34m,\u001b[0m\u001b[0;34m\u001b[0m\u001b[0;34m\u001b[0m\u001b[0m\n\u001b[1;32m   1564\u001b[0m             \u001b[0mself\u001b[0m\u001b[0;34m.\u001b[0m\u001b[0m_metric_kwds\u001b[0m\u001b[0;34m,\u001b[0m\u001b[0;34m\u001b[0m\u001b[0;34m\u001b[0m\u001b[0m\n\u001b[0;32m-> 1565\u001b[0;31m             \u001b[0mself\u001b[0m\u001b[0;34m.\u001b[0m\u001b[0mverbose\u001b[0m\u001b[0;34m,\u001b[0m\u001b[0;34m\u001b[0m\u001b[0;34m\u001b[0m\u001b[0m\n\u001b[0m\u001b[1;32m   1566\u001b[0m         )\n\u001b[1;32m   1567\u001b[0m \u001b[0;34m\u001b[0m\u001b[0m\n",
      "\u001b[0;32m/raid/cjnolet/cuml5/lib/python3.7/site-packages/umap/umap_.py\u001b[0m in \u001b[0;36msimplicial_set_embedding\u001b[0;34m(data, graph, n_components, initial_alpha, a, b, gamma, negative_sample_rate, n_epochs, init, random_state, metric, metric_kwds, verbose)\u001b[0m\n\u001b[1;32m   1005\u001b[0m         \u001b[0minitial_alpha\u001b[0m\u001b[0;34m,\u001b[0m\u001b[0;34m\u001b[0m\u001b[0;34m\u001b[0m\u001b[0m\n\u001b[1;32m   1006\u001b[0m         \u001b[0mnegative_sample_rate\u001b[0m\u001b[0;34m,\u001b[0m\u001b[0;34m\u001b[0m\u001b[0;34m\u001b[0m\u001b[0m\n\u001b[0;32m-> 1007\u001b[0;31m         \u001b[0mverbose\u001b[0m\u001b[0;34m=\u001b[0m\u001b[0mverbose\u001b[0m\u001b[0;34m,\u001b[0m\u001b[0;34m\u001b[0m\u001b[0;34m\u001b[0m\u001b[0m\n\u001b[0m\u001b[1;32m   1008\u001b[0m     )\n\u001b[1;32m   1009\u001b[0m \u001b[0;34m\u001b[0m\u001b[0m\n",
      "\u001b[0;31mKeyboardInterrupt\u001b[0m: "
     ]
    }
   ],
   "source": [
    "runner = BenchmarkRunner(bench_rows = [2**x for x in range(12, 20)])\n",
    "runner.run(UMAPAlgo())"
   ]
  },
  {
   "cell_type": "code",
   "execution_count": 47,
   "metadata": {},
   "outputs": [
    {
     "name": "stdout",
     "output_type": "stream",
     "text": [
      "Loaded previous benchmark results from benchmark.pickle\n"
     ]
    },
    {
     "data": {
      "image/png": "[encoded data removed]",
      "text/plain": [
       "<Figure size 432x288 with 1 Axes>"
      ]
     },
     "metadata": {
      "needs_background": "light"
     },
     "output_type": "display_data"
    }
   ],
   "source": [
    "runner = BenchmarkRunner(bench_rows = [2**x for x in range(12, 20)])\n",
    "runner.chart(UMAPAlgo())"
   ]
  },
  {
   "cell_type": "markdown",
   "metadata": {},
   "source": [
    "### K-means Clustering"
   ]
  },
  {
   "cell_type": "code",
   "execution_count": 30,
   "metadata": {},
   "outputs": [],
   "source": [
    "from sklearn.cluster import KMeans as skKmeans\n",
    "from cuml.cluster import KMeans as cumlKmeans\n",
    "\n",
    "class KMeansAlgo(BaseAlgorithm):\n",
    "    \n",
    "    def __init__(self, n_clusters=5):\n",
    "        self.name = \"kmeans\"\n",
    "        self.n_clusters = n_clusters\n",
    "        BaseAlgorithm.__init__(self, load_data_X_npy)\n",
    "        \n",
    "    def __str__(self):\n",
    "        return \"KMeans\"\n",
    "\n",
    "    def sk(self, X):\n",
    "        clustering_sk = skKmeans(n_clusters=self.n_clusters, n_jobs=N_JOBS_SKLEARN)\n",
    "        clustering_sk.fit(X)\n",
    "\n",
    "    def cuml(self, X):\n",
    "        clustering_cuml = cumlKmeans(n_clusters=self.n_clusters)\n",
    "        clustering_cuml.fit(X)"
   ]
  },
  {
   "cell_type": "code",
   "execution_count": 31,
   "metadata": {},
   "outputs": [
    {
     "name": "stdout",
     "output_type": "stream",
     "text": [
      "Loaded previous benchmark results from benchmark.pickle\n",
      "Running KMeans. (nrows=4096, n_dims=64)\n",
      "Benchmark for (4096, 64, 'speedup') = 13.030073\n",
      "Running KMeans. (nrows=4096, n_dims=128)\n",
      "Benchmark for (4096, 128, 'speedup') = 4.057298\n",
      "Running KMeans. (nrows=4096, n_dims=256)\n",
      "Benchmark for (4096, 256, 'speedup') = 2.579118\n",
      "Running KMeans. (nrows=16384, n_dims=64)\n",
      "Benchmark for (16384, 64, 'speedup') = 8.404808\n",
      "Running KMeans. (nrows=16384, n_dims=128)\n",
      "Benchmark for (16384, 128, 'speedup') = 8.865265\n",
      "Running KMeans. (nrows=16384, n_dims=256)\n",
      "Benchmark for (16384, 256, 'speedup') = 8.842293\n",
      "Running KMeans. (nrows=65536, n_dims=64)\n",
      "Benchmark for (65536, 64, 'speedup') = 24.669544\n",
      "Running KMeans. (nrows=65536, n_dims=128)\n",
      "Benchmark for (65536, 128, 'speedup') = 29.013915\n",
      "Running KMeans. (nrows=65536, n_dims=256)\n",
      "Benchmark for (65536, 256, 'speedup') = 30.123571\n",
      "Running KMeans. (nrows=262144, n_dims=64)\n",
      "Benchmark for (262144, 64, 'speedup') = 40.359327\n",
      "Running KMeans. (nrows=262144, n_dims=128)\n",
      "Benchmark for (262144, 128, 'speedup') = 56.032905\n",
      "Running KMeans. (nrows=262144, n_dims=256)\n",
      "Benchmark for (262144, 256, 'speedup') = 60.935935\n"
     ]
    }
   ],
   "source": [
    "runner = BenchmarkRunner(benchmarks = [SpeedupBenchmark(no_convert)], bench_rows = [2**x for x in range(12, 21, 2)])\n",
    "runner.run(KMeansAlgo())"
   ]
  },
  {
   "cell_type": "code",
   "execution_count": null,
   "metadata": {},
   "outputs": [],
   "source": [
    "runner = BenchmarkRunner(bench_rows = [2**x for x in range(12, 21, 2)])\n",
    "runner.chart(KMeansAlgo())"
   ]
  },
  {
   "cell_type": "markdown",
   "metadata": {},
   "source": [
    "### Linear Regression"
   ]
  },
  {
   "cell_type": "code",
   "execution_count": 32,
   "metadata": {},
   "outputs": [],
   "source": [
    "from sklearn.linear_model import LinearRegression as skLR\n",
    "from cuml.linear_model import LinearRegression as cumlLR\n",
    "\n",
    "class LinearRegressionAlgo(BaseAlgorithm):\n",
    "    def __init__(self):\n",
    "        BaseAlgorithm.__init__(self, load_data_Xy)\n",
    "        self.name = \"linear_regression\"\n",
    "        \n",
    "    def __str__(self):\n",
    "        return \"Linear Regression\"\n",
    "\n",
    "    def sk(self, data):\n",
    "        X, y = data\n",
    "        clustering_sk = skLR(n_jobs=N_JOBS_SKLEARN)\n",
    "        clustering_sk.fit(X, y)\n",
    "\n",
    "    def cuml(self, data):\n",
    "        X, y = data\n",
    "        cuml_lr = cumlLR()\n",
    "        cuml_lr.fit(X, y)"
   ]
  },
  {
   "cell_type": "code",
   "execution_count": 33,
   "metadata": {},
   "outputs": [
    {
     "name": "stdout",
     "output_type": "stream",
     "text": [
      "Loaded previous benchmark results from benchmark.pickle\n",
      "Running Linear Regression. (nrows=32768, n_dims=64)\n",
      "Benchmark for (32768, 64, 'speedup') = 0.909373\n",
      "Running Linear Regression. (nrows=32768, n_dims=128)\n",
      "Benchmark for (32768, 128, 'speedup') = 0.755692\n",
      "Running Linear Regression. (nrows=32768, n_dims=256)\n",
      "Benchmark for (32768, 256, 'speedup') = 0.986067\n",
      "Running Linear Regression. (nrows=65536, n_dims=64)\n",
      "Benchmark for (65536, 64, 'speedup') = 1.140851\n",
      "Running Linear Regression. (nrows=65536, n_dims=128)\n",
      "Benchmark for (65536, 128, 'speedup') = 1.262066\n",
      "Running Linear Regression. (nrows=65536, n_dims=256)\n",
      "Benchmark for (65536, 256, 'speedup') = 2.048063\n",
      "Running Linear Regression. (nrows=131072, n_dims=64)\n",
      "Benchmark for (131072, 64, 'speedup') = 1.933056\n",
      "Running Linear Regression. (nrows=131072, n_dims=128)\n",
      "Benchmark for (131072, 128, 'speedup') = 2.251759\n",
      "Running Linear Regression. (nrows=131072, n_dims=256)\n",
      "Benchmark for (131072, 256, 'speedup') = 3.250359\n",
      "Running Linear Regression. (nrows=262144, n_dims=64)\n",
      "Benchmark for (262144, 64, 'speedup') = 4.417376\n",
      "Running Linear Regression. (nrows=262144, n_dims=128)\n",
      "Benchmark for (262144, 128, 'speedup') = 5.847742\n",
      "Running Linear Regression. (nrows=262144, n_dims=256)\n",
      "Benchmark for (262144, 256, 'speedup') = 6.826604\n",
      "Running Linear Regression. (nrows=524288, n_dims=64)\n",
      "Benchmark for (524288, 64, 'speedup') = 8.496008\n",
      "Running Linear Regression. (nrows=524288, n_dims=128)\n",
      "Benchmark for (524288, 128, 'speedup') = 12.356643\n",
      "Running Linear Regression. (nrows=524288, n_dims=256)\n",
      "Benchmark for (524288, 256, 'speedup') = 17.001895\n",
      "Running Linear Regression. (nrows=1048576, n_dims=64)\n",
      "Benchmark for (1048576, 64, 'speedup') = 16.474608\n",
      "Running Linear Regression. (nrows=1048576, n_dims=128)\n",
      "Benchmark for (1048576, 128, 'speedup') = 32.208228\n",
      "Running Linear Regression. (nrows=1048576, n_dims=256)\n",
      "Benchmark for (1048576, 256, 'speedup') = 30.065137\n",
      "Running Linear Regression. (nrows=2097152, n_dims=64)\n",
      "Benchmark for (2097152, 64, 'speedup') = 40.716378\n",
      "Running Linear Regression. (nrows=2097152, n_dims=128)\n",
      "Benchmark for (2097152, 128, 'speedup') = 57.272426\n",
      "Running Linear Regression. (nrows=2097152, n_dims=256)\n",
      "Benchmark for (2097152, 256, 'speedup') = 50.226855\n"
     ]
    }
   ],
   "source": [
    "runner = BenchmarkRunner(bench_rows = [2**x for x in range(15, 23)])\n",
    "runner.run(LinearRegressionAlgo())"
   ]
  },
  {
   "cell_type": "code",
   "execution_count": null,
   "metadata": {},
   "outputs": [],
   "source": [
    "runner = BenchmarkRunner(bench_rows = [2**x for x in range(15, 23)])\n",
    "runner.chart(LinearRegressionAlgo())"
   ]
  },
  {
   "cell_type": "markdown",
   "metadata": {},
   "source": [
    "### PCA / SVD"
   ]
  },
  {
   "cell_type": "code",
   "execution_count": 34,
   "metadata": {},
   "outputs": [],
   "source": [
    "from sklearn.decomposition import PCA as skPCA\n",
    "from cuml import PCA as cumlPCA\n",
    "\n",
    "class PCAAlgo(BaseAlgorithm):\n",
    "    \n",
    "    def __init__(self, n_components = 10, load_data = load_data_mortgage_X):\n",
    "        self.n_components = 10\n",
    "        self.name = \"pca\"\n",
    "        BaseAlgorithm.__init__(self, load_data = load_data)\n",
    "        \n",
    "    def __str__(self):\n",
    "        return \"PCA\"\n",
    "\n",
    "    def sk(self, X):\n",
    "        skpca = skPCA(n_components = 10)\n",
    "        skpca.fit(X)\n",
    "\n",
    "    def cuml(self, X):\n",
    "        cumlpca = cumlPCA(n_components = 10)\n",
    "        cumlpca.fit(X)"
   ]
  },
  {
   "cell_type": "code",
   "execution_count": 35,
   "metadata": {},
   "outputs": [
    {
     "name": "stdout",
     "output_type": "stream",
     "text": [
      "Loaded previous benchmark results from benchmark.pickle\n",
      "Running PCA. (nrows=262144, n_dims=64)\n",
      "Loading ../../../data/mortgage.npy.gz\n",
      "use random data\n",
      "Benchmark for (262144, 64, 'speedup') = 6.939371\n",
      "Running PCA. (nrows=262144, n_dims=128)\n",
      "Loading ../../../data/mortgage.npy.gz\n",
      "use random data\n",
      "Benchmark for (262144, 128, 'speedup') = 6.301489\n",
      "Running PCA. (nrows=262144, n_dims=256)\n",
      "Loading ../../../data/mortgage.npy.gz\n",
      "use random data\n",
      "Benchmark for (262144, 256, 'speedup') = 4.746825\n",
      "Running PCA. (nrows=524288, n_dims=64)\n",
      "Loading ../../../data/mortgage.npy.gz\n",
      "use random data\n",
      "Benchmark for (524288, 64, 'speedup') = 13.008795\n",
      "Running PCA. (nrows=524288, n_dims=128)\n",
      "Loading ../../../data/mortgage.npy.gz\n",
      "use random data\n",
      "Benchmark for (524288, 128, 'speedup') = 13.381878\n",
      "Running PCA. (nrows=524288, n_dims=256)\n",
      "Loading ../../../data/mortgage.npy.gz\n",
      "use random data\n",
      "Benchmark for (524288, 256, 'speedup') = 10.466071\n",
      "Running PCA. (nrows=1048576, n_dims=64)\n",
      "Loading ../../../data/mortgage.npy.gz\n",
      "use random data\n",
      "Benchmark for (1048576, 64, 'speedup') = 23.420298\n",
      "Running PCA. (nrows=1048576, n_dims=128)\n",
      "Loading ../../../data/mortgage.npy.gz\n",
      "use random data\n",
      "Benchmark for (1048576, 128, 'speedup') = 26.148264\n",
      "Running PCA. (nrows=1048576, n_dims=256)\n",
      "Loading ../../../data/mortgage.npy.gz\n",
      "use random data\n",
      "Benchmark for (1048576, 256, 'speedup') = 18.092081\n",
      "Running PCA. (nrows=2097152, n_dims=64)\n",
      "Loading ../../../data/mortgage.npy.gz\n",
      "use random data\n",
      "Benchmark for (2097152, 64, 'speedup') = 33.254427\n",
      "Running PCA. (nrows=2097152, n_dims=128)\n",
      "Loading ../../../data/mortgage.npy.gz\n",
      "use random data\n",
      "Benchmark for (2097152, 128, 'speedup') = 40.239072\n",
      "Running PCA. (nrows=2097152, n_dims=256)\n",
      "Loading ../../../data/mortgage.npy.gz\n",
      "use random data\n",
      "Benchmark for (2097152, 256, 'speedup') = 31.292854\n"
     ]
    }
   ],
   "source": [
    "runner = BenchmarkRunner(bench_rows = [2**x for x in range(18, 23)])\n",
    "runner.run(PCAAlgo())"
   ]
  },
  {
   "cell_type": "code",
   "execution_count": null,
   "metadata": {},
   "outputs": [],
   "source": [
    "runner = BenchmarkRunner(bench_rows = [2**x for x in range(18, 23)])\n",
    "runner.chart(PCAAlgo())"
   ]
  },
  {
   "cell_type": "code",
   "execution_count": 37,
   "metadata": {},
   "outputs": [],
   "source": [
    "from sklearn.ensemble import RandomForestClassifier as skRFC\n",
    "from cuml.ensemble import RandomForestClassifier as cumlRFC\n",
    "\n",
    "class RandomForestClassifierAlgo(BaseAlgorithm):\n",
    "    \n",
    "    def __init__(self, n_estimators = 1000, load_data = load_data_mortgage_Xy):\n",
    "        self.n_estimators = n_estimators\n",
    "        self.name = \"random_forest_classifier\"\n",
    "        BaseAlgorithm.__init__(self, load_data = load_data)\n",
    "        \n",
    "    def __str__(self):\n",
    "        return \"Random Forest Classifier\"\n",
    "\n",
    "    def sk(self, data):\n",
    "        X, y = data\n",
    "        skrfc = skRFC(n_jobs = -1, n_estimators = self.n_estimators)\n",
    "        skrfc.fit(X, y.astype(np.int32))\n",
    "        \n",
    "    def cuml(self, data):\n",
    "        X, y = data\n",
    "        cumlrfc = cumlRFC(n_estimators = self.n_estimators)\n",
    "        cumlrfc.fit(X, y.astype(np.int32))"
   ]
  },
  {
   "cell_type": "code",
   "execution_count": null,
   "metadata": {},
   "outputs": [
    {
     "name": "stdout",
     "output_type": "stream",
     "text": [
      "Loaded previous benchmark results from benchmark.pickle\n",
      "Running Random Forest Classifier. (nrows=262144, n_dims=64)\n",
      "Loading ../../../data/mortgage.npy.gz\n",
      "use random data\n",
      "Loading ../../../data/mortgage.npy.gz\n",
      "use random data\n",
      "Benchmark for (262144, 64, 'speedup') = 0.378741\n",
      "Running Random Forest Classifier. (nrows=262144, n_dims=128)\n",
      "Loading ../../../data/mortgage.npy.gz\n",
      "use random data\n",
      "Loading ../../../data/mortgage.npy.gz\n",
      "use random data\n",
      "Benchmark for (262144, 128, 'speedup') = 0.291636\n",
      "Running Random Forest Classifier. (nrows=262144, n_dims=256)\n",
      "Loading ../../../data/mortgage.npy.gz\n",
      "use random data\n",
      "Loading ../../../data/mortgage.npy.gz\n",
      "use random data\n",
      "Benchmark for (262144, 256, 'speedup') = 0.207838\n",
      "Running Random Forest Classifier. (nrows=524288, n_dims=64)\n",
      "Loading ../../../data/mortgage.npy.gz\n",
      "use random data\n",
      "Loading ../../../data/mortgage.npy.gz\n",
      "use random data\n",
      "Benchmark for (524288, 64, 'speedup') = 0.506146\n",
      "Running Random Forest Classifier. (nrows=524288, n_dims=128)\n",
      "Loading ../../../data/mortgage.npy.gz\n",
      "use random data\n",
      "Loading ../../../data/mortgage.npy.gz\n",
      "use random data\n",
      "Benchmark for (524288, 128, 'speedup') = 0.375811\n",
      "Running Random Forest Classifier. (nrows=524288, n_dims=256)\n",
      "Loading ../../../data/mortgage.npy.gz\n",
      "use random data\n",
      "Loading ../../../data/mortgage.npy.gz\n",
      "use random data\n",
      "Benchmark for (524288, 256, 'speedup') = 0.240526\n",
      "Running Random Forest Classifier. (nrows=1048576, n_dims=64)\n",
      "Loading ../../../data/mortgage.npy.gz\n",
      "use random data\n",
      "Loading ../../../data/mortgage.npy.gz\n",
      "use random data\n",
      "Benchmark for (1048576, 64, 'speedup') = 0.861428\n",
      "Running Random Forest Classifier. (nrows=1048576, n_dims=128)\n",
      "Loading ../../../data/mortgage.npy.gz\n",
      "use random data\n",
      "Loading ../../../data/mortgage.npy.gz\n",
      "use random data\n",
      "Benchmark for (1048576, 128, 'speedup') = 0.524780\n",
      "Running Random Forest Classifier. (nrows=1048576, n_dims=256)\n",
      "Loading ../../../data/mortgage.npy.gz\n",
      "use random data\n",
      "Loading ../../../data/mortgage.npy.gz\n",
      "use random data\n",
      "Benchmark for (1048576, 256, 'speedup') = 0.253915\n",
      "Running Random Forest Classifier. (nrows=2097152, n_dims=64)\n",
      "Loading ../../../data/mortgage.npy.gz\n",
      "use random data\n",
      "Loading ../../../data/mortgage.npy.gz\n",
      "use random data\n",
      "Benchmark for (2097152, 64, 'speedup') = 0.743989\n",
      "Running Random Forest Classifier. (nrows=2097152, n_dims=128)\n",
      "Loading ../../../data/mortgage.npy.gz\n",
      "use random data\n",
      "Loading ../../../data/mortgage.npy.gz\n",
      "use random data\n"
     ]
    }
   ],
   "source": [
    "runner = BenchmarkRunner(bench_rows = [2**x for x in range(18, 23)])\n",
    "runner.run(RandomForestClassifierAlgo())"
   ]
  },
  {
   "cell_type": "code",
   "execution_count": 21,
   "metadata": {},
   "outputs": [
    {
     "name": "stdout",
     "output_type": "stream",
     "text": [
      "Loaded previous benchmark results from benchmark.pickle\n"
     ]
    },
    {
     "data": {
      "image/png": "[encoded data removed]",
      "text/plain": [
       "<Figure size 4000x2000 with 1 Axes>"
      ]
     },
     "metadata": {},
     "output_type": "display_data"
    }
   ],
   "source": [
    "runner = BenchmarkRunner(bench_rows = [2**x for x in range(18, 23)])\n",
    "runner.chart(RandomForestClassifierAlgo())"
   ]
  },
  {
   "cell_type": "code",
   "execution_count": 8,
   "metadata": {},
   "outputs": [],
   "source": [
    "from sklearn.random_projection import GaussianRandomProjection as skGRP\n",
    "from cuml.random_projection import GaussianRandomProjection as cumlGRP\n",
    "\n",
    "class GaussianRandomProjectionAlgo(BaseAlgorithm):\n",
    "    \n",
    "    def __init__(self, load_data = load_data_mortgage_X):\n",
    "        self.name = \"gaussian_random_projection\"\n",
    "        BaseAlgorithm.__init__(self, load_data = load_data)\n",
    "        \n",
    "    def __str__(self):\n",
    "        return \"Gaussian Random Projection\"\n",
    "\n",
    "    def sk(self, data):\n",
    "        X = data\n",
    "        skrfc = skGRP(n_components = 2)\n",
    "        skrfc.fit(X)\n",
    "        skrfc.transform(X)\n",
    "\n",
    "    def cuml(self, data):\n",
    "        X = data\n",
    "        cumlrfc = cumlGRP(n_components = 2)\n",
    "        cumlrfc.fit(X)\n",
    "        cumlrfc.transform(X)"
   ]
  },
  {
   "cell_type": "code",
   "execution_count": 11,
   "metadata": {},
   "outputs": [
    {
     "name": "stdout",
     "output_type": "stream",
     "text": [
      "Loaded previous benchmark results from benchmark.pickle\n",
      "Running Gaussian Random Projection. (nrows=4194304, n_dims=64)\n",
      "Loading ../../../data/mortgage.npy.gz\n",
      "use random data\n",
      "Benchmark for (4194304, 64, 'speedup') = 13.837007\n",
      "Running Gaussian Random Projection. (nrows=4194304, n_dims=128)\n",
      "Loading ../../../data/mortgage.npy.gz\n",
      "use random data\n",
      "Benchmark for (4194304, 128, 'speedup') = 15.829870\n",
      "Running Gaussian Random Projection. (nrows=4194304, n_dims=256)\n",
      "Loading ../../../data/mortgage.npy.gz\n",
      "use random data\n",
      "Benchmark for (4194304, 256, 'speedup') = 17.745445\n",
      "Running Gaussian Random Projection. (nrows=8388608, n_dims=64)\n",
      "Loading ../../../data/mortgage.npy.gz\n",
      "use random data\n",
      "Benchmark for (8388608, 64, 'speedup') = 20.821221\n",
      "Running Gaussian Random Projection. (nrows=8388608, n_dims=128)\n",
      "Loading ../../../data/mortgage.npy.gz\n",
      "use random data\n",
      "Benchmark for (8388608, 128, 'speedup') = 24.393895\n",
      "Running Gaussian Random Projection. (nrows=8388608, n_dims=256)\n",
      "Loading ../../../data/mortgage.npy.gz\n",
      "use random data\n",
      "Benchmark for (8388608, 256, 'speedup') = 31.475882\n"
     ]
    }
   ],
   "source": [
    "runner = BenchmarkRunner(bench_rows = [2**x for x in range(11, 25)])\n",
    "runner.run(GaussianRandomProjectionAlgo())"
   ]
  },
  {
   "cell_type": "code",
   "execution_count": null,
   "metadata": {},
   "outputs": [],
   "source": [
    "from sklearn.random_projection import SparseRandomProjection as skSRP\n",
    "from cuml.random_projection import SparseRandomProjection as cumlSRP\n",
    "\n",
    "class SparseRandomProjection(BaseAlgorithm):\n",
    "    \n",
    "    def __init__(self, load_data = load_data_mortgage_X):\n",
    "        self.name = \"gaussian_random_projection\"\n",
    "        BaseAlgorithm.__init__(self, load_data = load_data)\n",
    "        \n",
    "    def __str__(self):\n",
    "        return \"Gaussian Random Projection\"\n",
    "\n",
    "    def sk(self, data):\n",
    "        X = data\n",
    "        skrfc = skSRP(n_components = 2)\n",
    "        skrfc.fit(X)\n",
    "        skrfc.transform(X)\n",
    "\n",
    "    def cuml(self, data):\n",
    "        X = data\n",
    "        cumlrfc = cumlSRP(n_components = 2)\n",
    "        cumlrfc.fit(X)\n",
    "        cumlrfc.transform(X)"
   ]
  }
 ],
 "metadata": {
  "kernelspec": {
   "display_name": "cuml5 [conda env:cuml5]",
   "language": "python",
   "name": "conda-env-cuml5-py"
  },
  "language_info": {
   "codemirror_mode": {
    "name": "ipython",
    "version": 3
   },
   "file_extension": ".py",
   "mimetype": "text/x-python",
   "name": "python",
   "nbconvert_exporter": "python",
   "pygments_lexer": "ipython3",
   "version": "3.7.3"
  }
 },
 "nbformat": 4,
 "nbformat_minor": 2
}
