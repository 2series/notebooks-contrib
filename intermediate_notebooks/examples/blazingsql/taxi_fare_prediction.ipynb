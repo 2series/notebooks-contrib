{
 "cells": [
  {
   "cell_type": "markdown",
   "metadata": {
    "colab_type": "text",
    "id": "l4fOFMjbRvkZ"
   },
   "source": [
    "# BlazingSQL + cuML NYC Taxi Cab Fare Prediction\n",
    "\n",
    "This demo uses pubically availible [NYC Taxi Cab Data](https://www.kaggle.com/c/new-york-city-taxi-fare-prediction) to predict the total fare of a taxi ride in New York City given the pickup and dropoff locations. \n",
    "\n",
    "In this notebook, we will cover: \n",
    "- How to read and query csv files with cuDF and BlazingSQL.\n",
    "- How to implement a linear regression model with cuML.\n",
    "\n",
    "![Impression](https://www.google-analytics.com/collect?v=1&tid=UA-39814657-5&cid=555&t=event&ec=guides&ea=taxi_fare_prediction&dt=taxi_fare_prediction)\n"
   ]
  },
  {
   "cell_type": "markdown",
   "metadata": {
    "colab_type": "text",
    "id": "RnUyVHwHmKyk"
   },
   "source": [
    "## Imports"
   ]
  },
  {
   "cell_type": "code",
   "execution_count": 1,
   "metadata": {},
   "outputs": [],
   "source": [
    "# Notebooks-contrib test \n",
    "import os\n",
    "try:\n",
    "    import matplotlib\n",
    "except ModuleNotFoundError:\n",
    "    os.system('conda install -y matplotlib')\n",
    "    import matplotlib\n",
    "    \n",
    "# Import RAPIDS AI stack\n",
    "import cudf\n",
    "from cuml import LinearRegression\n",
    "from blazingsql import BlazingContext"
   ]
  },
  {
   "cell_type": "markdown",
   "metadata": {},
   "source": [
    "## Create BlazingContext\n",
    "You can think of the BlazingContext much like a Spark Context (i.e. where information such as FileSystems you have registered and Tables you have created will be stored). If you have issues running this cell, restart runtime and try running it again."
   ]
  },
  {
   "cell_type": "code",
   "execution_count": 4,
   "metadata": {},
   "outputs": [
    {
     "name": "stdout",
     "output_type": "stream",
     "text": [
      "lo\n",
      "BlazingContext ready\n"
     ]
    }
   ],
   "source": [
    "bc = BlazingContext()"
   ]
  },
  {
   "cell_type": "markdown",
   "metadata": {
    "colab_type": "text",
    "id": "Gt0TPBqif50q"
   },
   "source": [
    "### Download Data\n",
    "For this demo we will train our model with 20,000,000 rows of data from 4 CSV files (5,000,000 rows each). \n",
    "\n",
    "The cell below will download them from AWS to the main `notebooks-contrib/data/blazingsql/` folder for you."
   ]
  },
  {
   "cell_type": "code",
   "execution_count": 3,
   "metadata": {
    "colab": {
     "base_uri": "https://localhost:8080/",
     "height": 765
    },
    "colab_type": "code",
    "id": "6uR3aNkqD1Pb",
    "outputId": "84628680-669e-4583-d3a2-d27f7c7dfed4"
   },
   "outputs": [
    {
     "name": "stdout",
     "output_type": "stream",
     "text": [
      "--2019-12-17 19:25:55--  https://blazingsql-colab.s3.amazonaws.com/taxi_data/taxi_00.csv\n",
      "Resolving blazingsql-colab.s3.amazonaws.com (blazingsql-colab.s3.amazonaws.com)... 52.216.64.216\n",
      "Connecting to blazingsql-colab.s3.amazonaws.com (blazingsql-colab.s3.amazonaws.com)|52.216.64.216|:443... connected.\n",
      "HTTP request sent, awaiting response... 200 OK\n",
      "Length: 393974627 (376M) [application/x-www-form-urlencoded]\n",
      "Saving to: ‘../../../data/blazingsql/taxi_00.csv’\n",
      "\n",
      "taxi_00.csv         100%[===================>] 375.72M  2.22MB/s    in 6m 7s   \n",
      "\n",
      "2019-12-17 19:32:03 (1.02 MB/s) - ‘../../../data/blazingsql/taxi_00.csv’ saved [393974627/393974627]\n",
      "\n",
      "--2019-12-17 19:32:03--  https://blazingsql-colab.s3.amazonaws.com/taxi_data/taxi_01.csv\n",
      "Resolving blazingsql-colab.s3.amazonaws.com (blazingsql-colab.s3.amazonaws.com)... 52.216.228.80\n",
      "Connecting to blazingsql-colab.s3.amazonaws.com (blazingsql-colab.s3.amazonaws.com)|52.216.228.80|:443... connected.\n",
      "HTTP request sent, awaiting response... 200 OK\n",
      "Length: 393961373 (376M) [application/x-www-form-urlencoded]\n",
      "Saving to: ‘../../../data/blazingsql/taxi_01.csv’\n",
      "\n",
      "taxi_01.csv         100%[===================>] 375.71M  1.26MB/s    in 7m 51s  \n",
      "\n",
      "2019-12-17 19:39:54 (818 KB/s) - ‘../../../data/blazingsql/taxi_01.csv’ saved [393961373/393961373]\n",
      "\n",
      "--2019-12-17 19:39:55--  https://blazingsql-colab.s3.amazonaws.com/taxi_data/taxi_02.csv\n",
      "Resolving blazingsql-colab.s3.amazonaws.com (blazingsql-colab.s3.amazonaws.com)... 52.216.163.67\n",
      "Connecting to blazingsql-colab.s3.amazonaws.com (blazingsql-colab.s3.amazonaws.com)|52.216.163.67|:443... connected.\n",
      "HTTP request sent, awaiting response... 200 OK\n",
      "Length: 393937240 (376M) [application/x-www-form-urlencoded]\n",
      "Saving to: ‘../../../data/blazingsql/taxi_02.csv’\n",
      "\n",
      "taxi_02.csv         100%[===================>] 375.69M  1.80MB/s    in 5m 15s  \n",
      "\n",
      "2019-12-17 19:45:10 (1.19 MB/s) - ‘../../../data/blazingsql/taxi_02.csv’ saved [393937240/393937240]\n",
      "\n",
      "--2019-12-17 19:45:11--  https://blazingsql-colab.s3.amazonaws.com/taxi_data/taxi_03.csv\n",
      "Resolving blazingsql-colab.s3.amazonaws.com (blazingsql-colab.s3.amazonaws.com)... 52.216.232.123\n",
      "Connecting to blazingsql-colab.s3.amazonaws.com (blazingsql-colab.s3.amazonaws.com)|52.216.232.123|:443... connected.\n",
      "HTTP request sent, awaiting response... 200 OK\n",
      "Length: 393961361 (376M) [application/x-www-form-urlencoded]\n",
      "Saving to: ‘../../../data/blazingsql/taxi_03.csv’\n",
      "\n",
      "taxi_03.csv         100%[===================>] 375.71M  1.02MB/s    in 5m 12s  \n",
      "\n",
      "2019-12-17 19:50:23 (1.20 MB/s) - ‘../../../data/blazingsql/taxi_03.csv’ saved [393961361/393961361]\n",
      "\n"
     ]
    }
   ],
   "source": [
    "!wget -P ../../../data/blazingsql https://blazingsql-colab.s3.amazonaws.com/taxi_data/taxi_00.csv\n",
    "!wget -P ../../../data/blazingsql https://blazingsql-colab.s3.amazonaws.com/taxi_data/taxi_01.csv\n",
    "!wget -P ../../../data/blazingsql https://blazingsql-colab.s3.amazonaws.com/taxi_data/taxi_02.csv\n",
    "!wget -P ../../../data/blazingsql https://blazingsql-colab.s3.amazonaws.com/taxi_data/taxi_03.csv\n",
    "    \n",
    "# tag relative path to data directory\n",
    "path = '../../../data/blazingsql/'"
   ]
  },
  {
   "cell_type": "markdown",
   "metadata": {
    "colab_type": "text",
    "id": "PXtydYrimQGt"
   },
   "source": [
    "## Extract, transform, load\n",
    "In order to train our Linear Regression model, we must first preform ETL so to prepare our data.\n",
    "\n",
    "### ETL: Read and Join CSVs"
   ]
  },
  {
   "cell_type": "code",
   "execution_count": 6,
   "metadata": {
    "colab": {},
    "colab_type": "code",
    "id": "Gr7CUSrsEBmW"
   },
   "outputs": [
    {
     "data": {
      "text/html": [
       "<div>\n",
       "<style scoped>\n",
       "    .dataframe tbody tr th:only-of-type {\n",
       "        vertical-align: middle;\n",
       "    }\n",
       "\n",
       "    .dataframe tbody tr th {\n",
       "        vertical-align: top;\n",
       "    }\n",
       "\n",
       "    .dataframe thead th {\n",
       "        text-align: right;\n",
       "    }\n",
       "</style>\n",
       "<table border=\"1\" class=\"dataframe\">\n",
       "  <thead>\n",
       "    <tr style=\"text-align: right;\">\n",
       "      <th></th>\n",
       "      <th>key</th>\n",
       "      <th>fare_amount</th>\n",
       "      <th>pickup_longitude</th>\n",
       "      <th>pickup_latitude</th>\n",
       "      <th>dropoff_longitude</th>\n",
       "      <th>dropoff_latitude</th>\n",
       "      <th>passenger_count</th>\n",
       "    </tr>\n",
       "  </thead>\n",
       "  <tbody>\n",
       "    <tr>\n",
       "      <th>0</th>\n",
       "      <td>2012-02-02 22:30:19.002</td>\n",
       "      <td>8.9</td>\n",
       "      <td>-73.988708</td>\n",
       "      <td>40.758804</td>\n",
       "      <td>-73.986519</td>\n",
       "      <td>40.737202</td>\n",
       "      <td>1.0</td>\n",
       "    </tr>\n",
       "    <tr>\n",
       "      <th>1</th>\n",
       "      <td>2014-09-20 07:19:24.001</td>\n",
       "      <td>4.0</td>\n",
       "      <td>-73.990204</td>\n",
       "      <td>40.746708</td>\n",
       "      <td>-73.994728</td>\n",
       "      <td>40.750515</td>\n",
       "      <td>1.0</td>\n",
       "    </tr>\n",
       "    <tr>\n",
       "      <th>2</th>\n",
       "      <td>2013-02-23 07:18:05.001</td>\n",
       "      <td>5.5</td>\n",
       "      <td>-74.016762</td>\n",
       "      <td>40.709438</td>\n",
       "      <td>-74.009003</td>\n",
       "      <td>40.719498</td>\n",
       "      <td>3.0</td>\n",
       "    </tr>\n",
       "    <tr>\n",
       "      <th>3</th>\n",
       "      <td>2015-04-18 23:49:27.009</td>\n",
       "      <td>13.5</td>\n",
       "      <td>-74.002708</td>\n",
       "      <td>40.733730</td>\n",
       "      <td>-73.986099</td>\n",
       "      <td>40.734776</td>\n",
       "      <td>1.0</td>\n",
       "    </tr>\n",
       "    <tr>\n",
       "      <th>4</th>\n",
       "      <td>2010-03-04 08:15:59.001</td>\n",
       "      <td>10.5</td>\n",
       "      <td>-73.988365</td>\n",
       "      <td>40.737663</td>\n",
       "      <td>-74.012459</td>\n",
       "      <td>40.713932</td>\n",
       "      <td>1.0</td>\n",
       "    </tr>\n",
       "  </tbody>\n",
       "</table>\n",
       "</div>"
      ],
      "text/plain": [
       "                      key  fare_amount  pickup_longitude  pickup_latitude  \\\n",
       "0 2012-02-02 22:30:19.002          8.9        -73.988708        40.758804   \n",
       "1 2014-09-20 07:19:24.001          4.0        -73.990204        40.746708   \n",
       "2 2013-02-23 07:18:05.001          5.5        -74.016762        40.709438   \n",
       "3 2015-04-18 23:49:27.009         13.5        -74.002708        40.733730   \n",
       "4 2010-03-04 08:15:59.001         10.5        -73.988365        40.737663   \n",
       "\n",
       "   dropoff_longitude  dropoff_latitude  passenger_count  \n",
       "0         -73.986519         40.737202              1.0  \n",
       "1         -73.994728         40.750515              1.0  \n",
       "2         -74.009003         40.719498              3.0  \n",
       "3         -73.986099         40.734776              1.0  \n",
       "4         -74.012459         40.713932              1.0  "
      ]
     },
     "execution_count": 6,
     "metadata": {},
     "output_type": "execute_result"
    }
   ],
   "source": [
    "# set column names and types\n",
    "col_names = ['key', 'fare_amount', 'pickup_longitude', 'pickup_latitude', \n",
    "                'dropoff_longitude', 'dropoff_latitude', 'passenger_count']\n",
    "col_types = ['date64', 'float32', 'float32', 'float32', \n",
    "                'float32', 'float32', 'float32']\n",
    "\n",
    "# load first csv \n",
    "gdf_00 = cudf.read_csv(path+'taxi_00.csv', names=col_names, dtype=col_types)\n",
    "# load second csv\n",
    "gdf_01 = cudf.read_csv(path+'taxi_01.csv', names=col_names, dtype=col_types)\n",
    "# load third csv\n",
    "gdf_02 = cudf.read_csv(path+'taxi_01.csv', names=col_names, dtype=col_types)\n",
    "# load fourth csv\n",
    "gdf_03 = cudf.read_csv(path+'taxi_01.csv', names=col_names, dtype=col_types)\n",
    "\n",
    "# combine all those dataframes into one master dataframe\n",
    "gdf = cudf.concat([gdf_00,gdf_01, gdf_02, gdf_03])\n",
    "\n",
    "# what's it look like?\n",
    "gdf.head()"
   ]
  },
  {
   "cell_type": "markdown",
   "metadata": {
    "colab_type": "text",
    "id": "3RU7kfesmGex"
   },
   "source": [
    "### ETL: Create Table"
   ]
  },
  {
   "cell_type": "code",
   "execution_count": 7,
   "metadata": {
    "colab": {},
    "colab_type": "code",
    "id": "uri88uVIRcHa"
   },
   "outputs": [
    {
     "name": "stdout",
     "output_type": "stream",
     "text": [
      "CPU times: user 3 µs, sys: 0 ns, total: 3 µs\n",
      "Wall time: 6.44 µs\n"
     ]
    },
    {
     "data": {
      "text/plain": [
       "<pyblazing.apiv2.context.BlazingTable at 0x7f5485731940>"
      ]
     },
     "execution_count": 7,
     "metadata": {},
     "output_type": "execute_result"
    }
   ],
   "source": [
    "%time\n",
    "# make a table from the combined df\n",
    "bc.create_table('taxi', gdf, column_names=col_names)"
   ]
  },
  {
   "cell_type": "markdown",
   "metadata": {
    "colab_type": "text",
    "id": "XnzjqEFnmDC5"
   },
   "source": [
    "### ETL: Query Tables for Training Data"
   ]
  },
  {
   "cell_type": "code",
   "execution_count": 8,
   "metadata": {
    "colab": {
     "base_uri": "https://localhost:8080/",
     "height": 425
    },
    "colab_type": "code",
    "id": "_MDxz73ZMhhK",
    "outputId": "f2abeafc-0cdf-46b1-ddf5-a5cde3d37792"
   },
   "outputs": [
    {
     "name": "stdout",
     "output_type": "stream",
     "text": [
      "31600\n"
     ]
    },
    {
     "data": {
      "text/html": [
       "<div>\n",
       "<style scoped>\n",
       "    .dataframe tbody tr th:only-of-type {\n",
       "        vertical-align: middle;\n",
       "    }\n",
       "\n",
       "    .dataframe tbody tr th {\n",
       "        vertical-align: top;\n",
       "    }\n",
       "\n",
       "    .dataframe thead th {\n",
       "        text-align: right;\n",
       "    }\n",
       "</style>\n",
       "<table border=\"1\" class=\"dataframe\">\n",
       "  <thead>\n",
       "    <tr style=\"text-align: right;\">\n",
       "      <th></th>\n",
       "      <th>hours</th>\n",
       "      <th>days</th>\n",
       "      <th>months</th>\n",
       "      <th>years</th>\n",
       "      <th>longitude_distance</th>\n",
       "      <th>latitude_distance</th>\n",
       "      <th>passenger_count</th>\n",
       "    </tr>\n",
       "  </thead>\n",
       "  <tbody>\n",
       "    <tr>\n",
       "      <th>0</th>\n",
       "      <td>22.0</td>\n",
       "      <td>2.0</td>\n",
       "      <td>2.0</td>\n",
       "      <td>12.0</td>\n",
       "      <td>0.002190</td>\n",
       "      <td>-0.021603</td>\n",
       "      <td>1.0</td>\n",
       "    </tr>\n",
       "    <tr>\n",
       "      <th>1</th>\n",
       "      <td>7.0</td>\n",
       "      <td>20.0</td>\n",
       "      <td>9.0</td>\n",
       "      <td>14.0</td>\n",
       "      <td>-0.004524</td>\n",
       "      <td>0.003807</td>\n",
       "      <td>1.0</td>\n",
       "    </tr>\n",
       "    <tr>\n",
       "      <th>2</th>\n",
       "      <td>7.0</td>\n",
       "      <td>23.0</td>\n",
       "      <td>2.0</td>\n",
       "      <td>13.0</td>\n",
       "      <td>0.007759</td>\n",
       "      <td>0.010059</td>\n",
       "      <td>3.0</td>\n",
       "    </tr>\n",
       "    <tr>\n",
       "      <th>3</th>\n",
       "      <td>23.0</td>\n",
       "      <td>18.0</td>\n",
       "      <td>4.0</td>\n",
       "      <td>15.0</td>\n",
       "      <td>0.016609</td>\n",
       "      <td>0.001045</td>\n",
       "      <td>1.0</td>\n",
       "    </tr>\n",
       "    <tr>\n",
       "      <th>4</th>\n",
       "      <td>8.0</td>\n",
       "      <td>4.0</td>\n",
       "      <td>3.0</td>\n",
       "      <td>10.0</td>\n",
       "      <td>-0.024094</td>\n",
       "      <td>-0.023731</td>\n",
       "      <td>1.0</td>\n",
       "    </tr>\n",
       "  </tbody>\n",
       "</table>\n",
       "</div>"
      ],
      "text/plain": [
       "   hours  days  months  years  longitude_distance  latitude_distance  \\\n",
       "0   22.0   2.0     2.0   12.0            0.002190          -0.021603   \n",
       "1    7.0  20.0     9.0   14.0           -0.004524           0.003807   \n",
       "2    7.0  23.0     2.0   13.0            0.007759           0.010059   \n",
       "3   23.0  18.0     4.0   15.0            0.016609           0.001045   \n",
       "4    8.0   4.0     3.0   10.0           -0.024094          -0.023731   \n",
       "\n",
       "   passenger_count  \n",
       "0              1.0  \n",
       "1              1.0  \n",
       "2              3.0  \n",
       "3              1.0  \n",
       "4              1.0  "
      ]
     },
     "execution_count": 8,
     "metadata": {},
     "output_type": "execute_result"
    }
   ],
   "source": [
    "# extract time columns, long & lat, # riders (all floats)\n",
    "query = '''\n",
    "        select \n",
    "            cast(hour(key) as float) hours, \n",
    "            cast(dayofmonth(key) as float) days, \n",
    "            cast(month(key) as float) months, \n",
    "            cast(year(key) - 2000 as float) years,  \n",
    "            cast(dropoff_longitude - pickup_longitude as float) longitude_distance, \n",
    "            cast(dropoff_latitude - pickup_latitude as float) latitude_distance, \n",
    "            cast(passenger_count as float) passenger_count\n",
    "        from \n",
    "            taxi\n",
    "        '''\n",
    "\n",
    "# run query on table (returns cuDF DataFrame)\n",
    "X_train = bc.sql(query)\n",
    "\n",
    "# fill null values \n",
    "X_train['longitude_distance'] = X_train['longitude_distance'].fillna(0)\n",
    "X_train['latitude_distance'] = X_train['latitude_distance'].fillna(0)\n",
    "X_train['passenger_count'] = X_train['passenger_count'].fillna(0)\n",
    "\n",
    "# how's it look? \n",
    "X_train.head()"
   ]
  },
  {
   "cell_type": "code",
   "execution_count": 9,
   "metadata": {},
   "outputs": [
    {
     "name": "stdout",
     "output_type": "stream",
     "text": [
      "31600\n"
     ]
    },
    {
     "data": {
      "text/html": [
       "<div>\n",
       "<style scoped>\n",
       "    .dataframe tbody tr th:only-of-type {\n",
       "        vertical-align: middle;\n",
       "    }\n",
       "\n",
       "    .dataframe tbody tr th {\n",
       "        vertical-align: top;\n",
       "    }\n",
       "\n",
       "    .dataframe thead th {\n",
       "        text-align: right;\n",
       "    }\n",
       "</style>\n",
       "<table border=\"1\" class=\"dataframe\">\n",
       "  <thead>\n",
       "    <tr style=\"text-align: right;\">\n",
       "      <th></th>\n",
       "      <th>fare_amount</th>\n",
       "    </tr>\n",
       "  </thead>\n",
       "  <tbody>\n",
       "    <tr>\n",
       "      <th>0</th>\n",
       "      <td>8.9</td>\n",
       "    </tr>\n",
       "    <tr>\n",
       "      <th>1</th>\n",
       "      <td>4.0</td>\n",
       "    </tr>\n",
       "    <tr>\n",
       "      <th>2</th>\n",
       "      <td>5.5</td>\n",
       "    </tr>\n",
       "    <tr>\n",
       "      <th>3</th>\n",
       "      <td>13.5</td>\n",
       "    </tr>\n",
       "    <tr>\n",
       "      <th>4</th>\n",
       "      <td>10.5</td>\n",
       "    </tr>\n",
       "  </tbody>\n",
       "</table>\n",
       "</div>"
      ],
      "text/plain": [
       "   fare_amount\n",
       "0          8.9\n",
       "1          4.0\n",
       "2          5.5\n",
       "3         13.5\n",
       "4         10.5"
      ]
     },
     "execution_count": 9,
     "metadata": {},
     "output_type": "execute_result"
    }
   ],
   "source": [
    "# query dependent variable y\n",
    "y_train = bc.sql('SELECT fare_amount FROM main.taxi')\n",
    "\n",
    "y_train.head()"
   ]
  },
  {
   "cell_type": "markdown",
   "metadata": {
    "colab_type": "text",
    "id": "-J3ZzyD6iwQy"
   },
   "source": [
    "## Linear Regression\n",
    "### LR: Train Model"
   ]
  },
  {
   "cell_type": "code",
   "execution_count": 12,
   "metadata": {
    "colab": {
     "base_uri": "https://localhost:8080/",
     "height": 531
    },
    "colab_type": "code",
    "id": "tVUZvT9TB6Ii",
    "outputId": "d61c0249-47ee-40b8-a72f-9d62383f23dd"
   },
   "outputs": [
    {
     "name": "stdout",
     "output_type": "stream",
     "text": [
      "Coefficients:\n",
      "0   -0.026636\n",
      "1    0.003887\n",
      "2    0.108050\n",
      "3    0.629376\n",
      "4    0.000906\n",
      "5   -0.001342\n",
      "6    0.091615\n",
      "dtype: float32\n",
      "\n",
      "Y intercept:\n",
      "3.4228439331054688\n",
      "\n",
      "CPU times: user 1.24 s, sys: 539 ms, total: 1.78 s\n",
      "Wall time: 1.77 s\n"
     ]
    }
   ],
   "source": [
    "%%time\n",
    "# call & create cuML model\n",
    "lr = LinearRegression(fit_intercept=True, normalize=False, algorithm=\"eig\")\n",
    "\n",
    "# train Linear Regression model \n",
    "reg = lr.fit(X_train, y_train)\n",
    "\n",
    "# display results\n",
    "print(f\"Coefficients:\\n{reg.coef_}\\n\")\n",
    "print(f\"Y intercept:\\n{reg.intercept_}\\n\")"
   ]
  },
  {
   "cell_type": "markdown",
   "metadata": {
    "colab_type": "text",
    "id": "pHtni9xcl-ht"
   },
   "source": [
    "### LR: Use Model to Predict Future Taxi Fares \n",
    "\n",
    "Test data for this notebook is already stored in `notebooks-contrib/data/blazingsql/` so there's no need to download it. We are, however, going to create this table directly from CSV, and BlazingSQL requires the full path to the data for table creation. \n",
    "\n",
    "This cell uses the `pwd` bash command to identify the path to this directory, then joins it with the relative path to the notebooks-contrib `data/` directory to provide a full path to the test data."
   ]
  },
  {
   "cell_type": "code",
   "execution_count": 19,
   "metadata": {},
   "outputs": [
    {
     "data": {
      "text/plain": [
       "'/home/winston/notebooks-contrib/data/blazingsql/taxi_test.csv'"
      ]
     },
     "execution_count": 19,
     "metadata": {},
     "output_type": "execute_result"
    }
   ],
   "source": [
    "# identify path to this notebook, !pwd returns SList w/ path (str) at 0th index\n",
    "path = !pwd\n",
    "# extract path notebooks-contrib then\n",
    "path = path[0].split('intermediate_notebooks')[0] \n",
    "# add path to data from there\n",
    "path = path + 'data/blazingsql/' + 'taxi_test.csv'\n",
    "\n",
    "# how's it look?\n",
    "path"
   ]
  },
  {
   "cell_type": "code",
   "execution_count": 20,
   "metadata": {
    "colab": {},
    "colab_type": "code",
    "id": "yRM5PosNiuGh"
   },
   "outputs": [
    {
     "data": {
      "text/plain": [
       "<pyblazing.apiv2.context.BlazingTable at 0x7f5460aef1d0>"
      ]
     },
     "execution_count": 20,
     "metadata": {},
     "output_type": "execute_result"
    }
   ],
   "source": [
    "# set column names and types\n",
    "col_names = ['key', 'fare_amount', 'pickup_longitude', 'pickup_latitude', \n",
    "                'dropoff_longitude', 'dropoff_latitude', 'passenger_count']\n",
    "col_types = ['date64', 'float32', 'float32', 'float32', 'float32', 'float32', 'float32']\n",
    "\n",
    "# create test table directly from CSV\n",
    "bc.create_table('test', path, names=col_names, dtype=col_types)"
   ]
  },
  {
   "cell_type": "code",
   "execution_count": 21,
   "metadata": {
    "colab": {},
    "colab_type": "code",
    "id": "g4I8AJ51dpW5"
   },
   "outputs": [
    {
     "name": "stdout",
     "output_type": "stream",
     "text": [
      "31600\n"
     ]
    },
    {
     "data": {
      "text/html": [
       "<div>\n",
       "<style scoped>\n",
       "    .dataframe tbody tr th:only-of-type {\n",
       "        vertical-align: middle;\n",
       "    }\n",
       "\n",
       "    .dataframe tbody tr th {\n",
       "        vertical-align: top;\n",
       "    }\n",
       "\n",
       "    .dataframe thead th {\n",
       "        text-align: right;\n",
       "    }\n",
       "</style>\n",
       "<table border=\"1\" class=\"dataframe\">\n",
       "  <thead>\n",
       "    <tr style=\"text-align: right;\">\n",
       "      <th></th>\n",
       "      <th>hours</th>\n",
       "      <th>days</th>\n",
       "      <th>months</th>\n",
       "      <th>years</th>\n",
       "      <th>longitude_distance</th>\n",
       "      <th>latitude_distance</th>\n",
       "      <th>passenger_count</th>\n",
       "    </tr>\n",
       "  </thead>\n",
       "  <tbody>\n",
       "    <tr>\n",
       "      <th>0</th>\n",
       "      <td>22.0</td>\n",
       "      <td>2.0</td>\n",
       "      <td>2.0</td>\n",
       "      <td>12.0</td>\n",
       "      <td>0.002190</td>\n",
       "      <td>-0.021603</td>\n",
       "      <td>1.0</td>\n",
       "    </tr>\n",
       "    <tr>\n",
       "      <th>1</th>\n",
       "      <td>7.0</td>\n",
       "      <td>20.0</td>\n",
       "      <td>9.0</td>\n",
       "      <td>14.0</td>\n",
       "      <td>-0.004524</td>\n",
       "      <td>0.003807</td>\n",
       "      <td>1.0</td>\n",
       "    </tr>\n",
       "    <tr>\n",
       "      <th>2</th>\n",
       "      <td>7.0</td>\n",
       "      <td>23.0</td>\n",
       "      <td>2.0</td>\n",
       "      <td>13.0</td>\n",
       "      <td>0.007759</td>\n",
       "      <td>0.010059</td>\n",
       "      <td>3.0</td>\n",
       "    </tr>\n",
       "    <tr>\n",
       "      <th>3</th>\n",
       "      <td>23.0</td>\n",
       "      <td>18.0</td>\n",
       "      <td>4.0</td>\n",
       "      <td>15.0</td>\n",
       "      <td>0.016609</td>\n",
       "      <td>0.001045</td>\n",
       "      <td>1.0</td>\n",
       "    </tr>\n",
       "    <tr>\n",
       "      <th>4</th>\n",
       "      <td>8.0</td>\n",
       "      <td>4.0</td>\n",
       "      <td>3.0</td>\n",
       "      <td>10.0</td>\n",
       "      <td>-0.024094</td>\n",
       "      <td>-0.023731</td>\n",
       "      <td>1.0</td>\n",
       "    </tr>\n",
       "  </tbody>\n",
       "</table>\n",
       "</div>"
      ],
      "text/plain": [
       "   hours  days  months  years  longitude_distance  latitude_distance  \\\n",
       "0   22.0   2.0     2.0   12.0            0.002190          -0.021603   \n",
       "1    7.0  20.0     9.0   14.0           -0.004524           0.003807   \n",
       "2    7.0  23.0     2.0   13.0            0.007759           0.010059   \n",
       "3   23.0  18.0     4.0   15.0            0.016609           0.001045   \n",
       "4    8.0   4.0     3.0   10.0           -0.024094          -0.023731   \n",
       "\n",
       "   passenger_count  \n",
       "0              1.0  \n",
       "1              1.0  \n",
       "2              3.0  \n",
       "3              1.0  \n",
       "4              1.0  "
      ]
     },
     "execution_count": 21,
     "metadata": {},
     "output_type": "execute_result"
    }
   ],
   "source": [
    "# extract time columns, long & lat, # riders (all floats)\n",
    "query = '''\n",
    "        select \n",
    "            cast(hour(key) as float) hours, \n",
    "            cast(dayofmonth(key) as float) days, \n",
    "            cast(month(key) as float) months, \n",
    "            cast(year(key) - 2000 as float) years,  \n",
    "            cast(dropoff_longitude - pickup_longitude as float) longitude_distance, \n",
    "            cast(dropoff_latitude - pickup_latitude as float) latitude_distance, \n",
    "            cast(passenger_count as float) passenger_count\n",
    "        from \n",
    "            taxi\n",
    "        '''\n",
    "\n",
    "# run query on table (returns cuDF DataFrame)\n",
    "X_test = bc.sql(query)\n",
    "\n",
    "# fill null values \n",
    "X_test['longitude_distance'] = X_test['longitude_distance'].fillna(0)\n",
    "X_test['latitude_distance'] = X_test['latitude_distance'].fillna(0)\n",
    "X_test['passenger_count'] = X_test['passenger_count'].fillna(0)\n",
    "\n",
    "# how's it look? \n",
    "X_test.head()"
   ]
  },
  {
   "cell_type": "code",
   "execution_count": 23,
   "metadata": {
    "colab": {},
    "colab_type": "code",
    "id": "zCft6P5QkepN"
   },
   "outputs": [
    {
     "data": {
      "text/plain": [
       "0           10.704890\n",
       "1           13.189461\n",
       "2           11.998629\n",
       "3           12.844664\n",
       "4            9.934841\n",
       "5           10.527137\n",
       "6           11.609999\n",
       "7           12.858987\n",
       "8           12.649053\n",
       "9           10.325417\n",
       "10          10.609123\n",
       "11          10.820753\n",
       "12          12.196549\n",
       "13          12.613345\n",
       "14          11.207047\n",
       "15          12.902152\n",
       "16          13.267491\n",
       "17          13.489919\n",
       "18           9.172511\n",
       "19          10.305005\n",
       "20          11.059145\n",
       "21          11.318907\n",
       "22          13.563890\n",
       "23           8.966608\n",
       "24          11.246246\n",
       "25          11.188231\n",
       "26          10.730618\n",
       "27          10.256178\n",
       "28          13.079275\n",
       "29          10.068510\n",
       "              ...    \n",
       "19999970    12.522391\n",
       "19999971     9.035202\n",
       "19999972    11.899643\n",
       "19999973    12.144493\n",
       "19999974    13.204147\n",
       "19999975    10.045351\n",
       "19999976    10.575220\n",
       "19999977    11.252844\n",
       "19999978    12.807266\n",
       "19999979    13.101965\n",
       "19999980    13.322552\n",
       "19999981    12.951199\n",
       "19999982    10.354801\n",
       "19999983    10.283142\n",
       "19999984    11.484105\n",
       "19999985     9.932726\n",
       "19999986    12.178253\n",
       "19999987    13.337288\n",
       "19999988    10.569614\n",
       "19999989    11.230412\n",
       "19999990    13.122489\n",
       "19999991    13.013828\n",
       "19999992     9.199356\n",
       "19999993     9.922482\n",
       "19999994    10.600115\n",
       "19999995     9.817097\n",
       "19999996    10.351711\n",
       "19999997    11.441763\n",
       "19999998    12.460399\n",
       "19999999    10.702119\n",
       "Length: 20000000, dtype: float32"
      ]
     },
     "execution_count": 23,
     "metadata": {},
     "output_type": "execute_result"
    }
   ],
   "source": [
    "# predict fares \n",
    "predictions = lr.predict(X_test)\n",
    "\n",
    "# display predictions\n",
    "predictions"
   ]
  },
  {
   "cell_type": "code",
   "execution_count": 24,
   "metadata": {
    "colab": {},
    "colab_type": "code",
    "id": "GdjUjJ42l2BI"
   },
   "outputs": [
    {
     "data": {
      "text/html": [
       "<div>\n",
       "<style scoped>\n",
       "    .dataframe tbody tr th:only-of-type {\n",
       "        vertical-align: middle;\n",
       "    }\n",
       "\n",
       "    .dataframe tbody tr th {\n",
       "        vertical-align: top;\n",
       "    }\n",
       "\n",
       "    .dataframe thead th {\n",
       "        text-align: right;\n",
       "    }\n",
       "</style>\n",
       "<table border=\"1\" class=\"dataframe\">\n",
       "  <thead>\n",
       "    <tr style=\"text-align: right;\">\n",
       "      <th></th>\n",
       "      <th>hours</th>\n",
       "      <th>days</th>\n",
       "      <th>months</th>\n",
       "      <th>years</th>\n",
       "      <th>longitude_distance</th>\n",
       "      <th>latitude_distance</th>\n",
       "      <th>passenger_count</th>\n",
       "      <th>predicted_fare</th>\n",
       "    </tr>\n",
       "  </thead>\n",
       "  <tbody>\n",
       "    <tr>\n",
       "      <th>0</th>\n",
       "      <td>22.0</td>\n",
       "      <td>2.0</td>\n",
       "      <td>2.0</td>\n",
       "      <td>12.0</td>\n",
       "      <td>0.002190</td>\n",
       "      <td>-0.021603</td>\n",
       "      <td>1.0</td>\n",
       "      <td>10.704890</td>\n",
       "    </tr>\n",
       "    <tr>\n",
       "      <th>1</th>\n",
       "      <td>7.0</td>\n",
       "      <td>20.0</td>\n",
       "      <td>9.0</td>\n",
       "      <td>14.0</td>\n",
       "      <td>-0.004524</td>\n",
       "      <td>0.003807</td>\n",
       "      <td>1.0</td>\n",
       "      <td>13.189461</td>\n",
       "    </tr>\n",
       "    <tr>\n",
       "      <th>2</th>\n",
       "      <td>7.0</td>\n",
       "      <td>23.0</td>\n",
       "      <td>2.0</td>\n",
       "      <td>13.0</td>\n",
       "      <td>0.007759</td>\n",
       "      <td>0.010059</td>\n",
       "      <td>3.0</td>\n",
       "      <td>11.998629</td>\n",
       "    </tr>\n",
       "    <tr>\n",
       "      <th>3</th>\n",
       "      <td>23.0</td>\n",
       "      <td>18.0</td>\n",
       "      <td>4.0</td>\n",
       "      <td>15.0</td>\n",
       "      <td>0.016609</td>\n",
       "      <td>0.001045</td>\n",
       "      <td>1.0</td>\n",
       "      <td>12.844664</td>\n",
       "    </tr>\n",
       "    <tr>\n",
       "      <th>4</th>\n",
       "      <td>8.0</td>\n",
       "      <td>4.0</td>\n",
       "      <td>3.0</td>\n",
       "      <td>10.0</td>\n",
       "      <td>-0.024094</td>\n",
       "      <td>-0.023731</td>\n",
       "      <td>1.0</td>\n",
       "      <td>9.934841</td>\n",
       "    </tr>\n",
       "  </tbody>\n",
       "</table>\n",
       "</div>"
      ],
      "text/plain": [
       "   hours  days  months  years  longitude_distance  latitude_distance  \\\n",
       "0   22.0   2.0     2.0   12.0            0.002190          -0.021603   \n",
       "1    7.0  20.0     9.0   14.0           -0.004524           0.003807   \n",
       "2    7.0  23.0     2.0   13.0            0.007759           0.010059   \n",
       "3   23.0  18.0     4.0   15.0            0.016609           0.001045   \n",
       "4    8.0   4.0     3.0   10.0           -0.024094          -0.023731   \n",
       "\n",
       "   passenger_count  predicted_fare  \n",
       "0              1.0       10.704890  \n",
       "1              1.0       13.189461  \n",
       "2              3.0       11.998629  \n",
       "3              1.0       12.844664  \n",
       "4              1.0        9.934841  "
      ]
     },
     "execution_count": 24,
     "metadata": {},
     "output_type": "execute_result"
    }
   ],
   "source": [
    "# combine into a table of table points and predictions\n",
    "X_test['predicted_fare'] = predictions\n",
    "\n",
    "# how's that look?\n",
    "X_test.head()"
   ]
  }
 ],
 "metadata": {
  "accelerator": "GPU",
  "colab": {
   "collapsed_sections": [],
   "name": "BlazingSQL_cuML_Taxi_Fare_Prediction.ipynb",
   "provenance": []
  },
  "kernelspec": {
   "display_name": "Python 3",
   "language": "python",
   "name": "python3"
  },
  "language_info": {
   "codemirror_mode": {
    "name": "ipython",
    "version": 3
   },
   "file_extension": ".py",
   "mimetype": "text/x-python",
   "name": "python",
   "nbconvert_exporter": "python",
   "pygments_lexer": "ipython3",
   "version": "3.6.7"
  }
 },
 "nbformat": 4,
 "nbformat_minor": 4
}
