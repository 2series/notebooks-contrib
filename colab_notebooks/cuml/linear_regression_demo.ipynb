{
  "nbformat": 4,
  "nbformat_minor": 0,
  "metadata": {
    "colab": {
      "name": "intro_lin_reg_cuml",
      "provenance": [],
      "collapsed_sections": []
    },
    "kernelspec": {
      "name": "python3",
      "display_name": "Python 3"
    },
    "accelerator": "GPU"
  },
  "cells": [
    {
      "cell_type": "markdown",
      "metadata": {
        "id": "2tZ3RLnlkrkg",
        "colab_type": "text"
      },
      "source": [
        "# Intro to  Linear Regression in Python with cuML\n",
        "\n",
        "#### Installing RAPIDS AI"
      ]
    },
    {
      "cell_type": "code",
      "metadata": {
        "id": "pxBcXor_0-Jd",
        "colab_type": "code",
        "colab": {}
      },
      "source": [
        "# pull RAPIDS AI install script from notebooks-contrib \n",
        "!wget -nc https://raw.githubusercontent.com/rapidsai/notebooks-contrib/master/utils/rapids-colab.sh\n",
        "# install RAPIDS 0.10 nightly\n",
        "!bash rapids-colab.sh \n",
        "\n",
        "import sys, os\n",
        "# set up system for RAPIDS use\n",
        "sys.path.append('/usr/local/lib/python3.6/site-packages/')\n",
        "os.environ['NUMBAPRO_NVVM'] = '/usr/local/cuda/nvvm/lib64/libnvvm.so'\n",
        "os.environ['NUMBAPRO_LIBDEVICE'] = '/usr/local/cuda/nvvm/libdevice/'"
      ],
      "execution_count": 0,
      "outputs": []
    },
    {
      "cell_type": "markdown",
      "metadata": {
        "id": "N20le3_KlP3O",
        "colab_type": "text"
      },
      "source": [
        "## Load data\n",
        "- Google Colab comes with a `sample_data` directory"
      ]
    },
    {
      "cell_type": "code",
      "metadata": {
        "id": "RFE-nxxlTajg",
        "colab_type": "code",
        "colab": {
          "base_uri": "https://localhost:8080/",
          "height": 69
        },
        "outputId": "3b2e05dc-4368-4bbb-b718-e744fb951891"
      },
      "source": [
        "!ls sample_data"
      ],
      "execution_count": 61,
      "outputs": [
        {
          "output_type": "stream",
          "text": [
            "anscombe.json\t\t      mnist_test.csv\n",
            "california_housing_test.csv   mnist_train_small.csv\n",
            "california_housing_train.csv  README.md\n"
          ],
          "name": "stdout"
        }
      ]
    },
    {
      "cell_type": "markdown",
      "metadata": {
        "id": "wmcO8dxO0uOB",
        "colab_type": "text"
      },
      "source": [
        "#### california_housing\n",
        "- We are going to use the `california_housing` data sets from this directory\n",
        "  - i.e. `california_housing_test.csv` and `california_housing_train.csv`\n",
        "- Start by importing `cuDF` and prep data for Linear Regression"
      ]
    },
    {
      "cell_type": "code",
      "metadata": {
        "id": "pDDs2sw_VM5a",
        "colab_type": "code",
        "colab": {
          "base_uri": "https://localhost:8080/",
          "height": 206
        },
        "outputId": "a5aff210-4514-4780-f450-173435dd20e0"
      },
      "source": [
        "import cudf \n",
        "\n",
        "# load train data\n",
        "train_df = cudf.read_csv('sample_data/california_housing_train.csv')\n",
        "# load test data\n",
        "test_df = cudf.read_csv('sample_data/california_housing_train.csv')\n",
        "\n",
        "train_df.head()"
      ],
      "execution_count": 44,
      "outputs": [
        {
          "output_type": "execute_result",
          "data": {
            "text/html": [
              "<div>\n",
              "<style scoped>\n",
              "    .dataframe tbody tr th:only-of-type {\n",
              "        vertical-align: middle;\n",
              "    }\n",
              "\n",
              "    .dataframe tbody tr th {\n",
              "        vertical-align: top;\n",
              "    }\n",
              "\n",
              "    .dataframe thead th {\n",
              "        text-align: right;\n",
              "    }\n",
              "</style>\n",
              "<table border=\"1\" class=\"dataframe\">\n",
              "  <thead>\n",
              "    <tr style=\"text-align: right;\">\n",
              "      <th></th>\n",
              "      <th>longitude</th>\n",
              "      <th>latitude</th>\n",
              "      <th>housing_median_age</th>\n",
              "      <th>total_rooms</th>\n",
              "      <th>total_bedrooms</th>\n",
              "      <th>population</th>\n",
              "      <th>households</th>\n",
              "      <th>median_income</th>\n",
              "      <th>median_house_value</th>\n",
              "    </tr>\n",
              "  </thead>\n",
              "  <tbody>\n",
              "    <tr>\n",
              "      <th>0</th>\n",
              "      <td>-114.31</td>\n",
              "      <td>34.19</td>\n",
              "      <td>15.0</td>\n",
              "      <td>5612.0</td>\n",
              "      <td>1283.0</td>\n",
              "      <td>1015.0</td>\n",
              "      <td>472.0</td>\n",
              "      <td>1.4936</td>\n",
              "      <td>66900.0</td>\n",
              "    </tr>\n",
              "    <tr>\n",
              "      <th>1</th>\n",
              "      <td>-114.47</td>\n",
              "      <td>34.40</td>\n",
              "      <td>19.0</td>\n",
              "      <td>7650.0</td>\n",
              "      <td>1901.0</td>\n",
              "      <td>1129.0</td>\n",
              "      <td>463.0</td>\n",
              "      <td>1.8200</td>\n",
              "      <td>80100.0</td>\n",
              "    </tr>\n",
              "    <tr>\n",
              "      <th>2</th>\n",
              "      <td>-114.56</td>\n",
              "      <td>33.69</td>\n",
              "      <td>17.0</td>\n",
              "      <td>720.0</td>\n",
              "      <td>174.0</td>\n",
              "      <td>333.0</td>\n",
              "      <td>117.0</td>\n",
              "      <td>1.6509</td>\n",
              "      <td>85700.0</td>\n",
              "    </tr>\n",
              "    <tr>\n",
              "      <th>3</th>\n",
              "      <td>-114.57</td>\n",
              "      <td>33.64</td>\n",
              "      <td>14.0</td>\n",
              "      <td>1501.0</td>\n",
              "      <td>337.0</td>\n",
              "      <td>515.0</td>\n",
              "      <td>226.0</td>\n",
              "      <td>3.1917</td>\n",
              "      <td>73400.0</td>\n",
              "    </tr>\n",
              "    <tr>\n",
              "      <th>4</th>\n",
              "      <td>-114.57</td>\n",
              "      <td>33.57</td>\n",
              "      <td>20.0</td>\n",
              "      <td>1454.0</td>\n",
              "      <td>326.0</td>\n",
              "      <td>624.0</td>\n",
              "      <td>262.0</td>\n",
              "      <td>1.9250</td>\n",
              "      <td>65500.0</td>\n",
              "    </tr>\n",
              "  </tbody>\n",
              "</table>\n",
              "</div>"
            ],
            "text/plain": [
              "   longitude  latitude  ...  median_income  median_house_value\n",
              "0    -114.31     34.19  ...         1.4936             66900.0\n",
              "1    -114.47     34.40  ...         1.8200             80100.0\n",
              "2    -114.56     33.69  ...         1.6509             85700.0\n",
              "3    -114.57     33.64  ...         3.1917             73400.0\n",
              "4    -114.57     33.57  ...         1.9250             65500.0\n",
              "\n",
              "[5 rows x 9 columns]"
            ]
          },
          "metadata": {
            "tags": []
          },
          "execution_count": 44
        }
      ]
    },
    {
      "cell_type": "markdown",
      "metadata": {
        "id": "r2qrTxo4ljZp",
        "colab_type": "text"
      },
      "source": [
        "## Simple Linear Regression\n",
        "- For basic (\"*simple*\", or \"*2D*\") Linear Regression, we will predict `median_house_value` based on `median_income`\n",
        "  - Go ahead and trim data to just these columns"
      ]
    },
    {
      "cell_type": "code",
      "metadata": {
        "id": "H1aF_PSKVxWs",
        "colab_type": "code",
        "colab": {
          "base_uri": "https://localhost:8080/",
          "height": 206
        },
        "outputId": "2713cade-2f93-44ca-c874-08cbd21975c9"
      },
      "source": [
        "# trim train data to income and house value\n",
        "simple_train_df = train_df[['median_income', 'median_house_value']]\n",
        "# trim test data to income and house value\n",
        "simple_test_df = test_df[['median_income', 'median_house_value']]\n",
        "\n",
        "simple_train_df.head()"
      ],
      "execution_count": 29,
      "outputs": [
        {
          "output_type": "execute_result",
          "data": {
            "text/html": [
              "<div>\n",
              "<style scoped>\n",
              "    .dataframe tbody tr th:only-of-type {\n",
              "        vertical-align: middle;\n",
              "    }\n",
              "\n",
              "    .dataframe tbody tr th {\n",
              "        vertical-align: top;\n",
              "    }\n",
              "\n",
              "    .dataframe thead th {\n",
              "        text-align: right;\n",
              "    }\n",
              "</style>\n",
              "<table border=\"1\" class=\"dataframe\">\n",
              "  <thead>\n",
              "    <tr style=\"text-align: right;\">\n",
              "      <th></th>\n",
              "      <th>median_income</th>\n",
              "      <th>median_house_value</th>\n",
              "    </tr>\n",
              "  </thead>\n",
              "  <tbody>\n",
              "    <tr>\n",
              "      <th>0</th>\n",
              "      <td>1.4936</td>\n",
              "      <td>66900.0</td>\n",
              "    </tr>\n",
              "    <tr>\n",
              "      <th>1</th>\n",
              "      <td>1.8200</td>\n",
              "      <td>80100.0</td>\n",
              "    </tr>\n",
              "    <tr>\n",
              "      <th>2</th>\n",
              "      <td>1.6509</td>\n",
              "      <td>85700.0</td>\n",
              "    </tr>\n",
              "    <tr>\n",
              "      <th>3</th>\n",
              "      <td>3.1917</td>\n",
              "      <td>73400.0</td>\n",
              "    </tr>\n",
              "    <tr>\n",
              "      <th>4</th>\n",
              "      <td>1.9250</td>\n",
              "      <td>65500.0</td>\n",
              "    </tr>\n",
              "  </tbody>\n",
              "</table>\n",
              "</div>"
            ],
            "text/plain": [
              "   median_income  median_house_value\n",
              "0         1.4936             66900.0\n",
              "1         1.8200             80100.0\n",
              "2         1.6509             85700.0\n",
              "3         3.1917             73400.0\n",
              "4         1.9250             65500.0"
            ]
          },
          "metadata": {
            "tags": []
          },
          "execution_count": 29
        }
      ]
    },
    {
      "cell_type": "markdown",
      "metadata": {
        "id": "ZLVg44gAmJG7",
        "colab_type": "text"
      },
      "source": [
        "### Predict Values\n",
        "After we import Linear Regression from `cuML`\n",
        "1. set train (*simple_X_train*, *y_train*) and test (*simple_X_test*, *y_test*) values \n",
        "  - with the x-axis representing just 1 value (`medium_income`)\n",
        "  - and the y-axis representing just 1 value (`medium_house_value`)\n",
        "2. fit the model with `medium_income` (*simple_X_train*) and corresponding `medium_house_value` (*y_train*) values \n",
        "  - so it can build an understanding of their relationship \n",
        "3. predict `median_house_value` (*y_test*) for a test set of `medium_income` (*simple_X_test*) values\n",
        "  - and compare `median_house_value` predictions to actual median house (*y_test*) values"
      ]
    },
    {
      "cell_type": "code",
      "metadata": {
        "id": "qjqRiMAoV_sG",
        "colab_type": "code",
        "colab": {
          "base_uri": "https://localhost:8080/",
          "height": 34
        },
        "outputId": "fafd2db2-0e85-4f85-a894-866850439f1b"
      },
      "source": [
        "from cuml import LinearRegression\n",
        "\n",
        "# set train X, y\n",
        "simple_X_train = simple_train_df['median_income']\n",
        "y_train = simple_train_df['median_house_value']\n",
        "\n",
        "# set test X, y\n",
        "simple_X_test = simple_test_df['median_income']\n",
        "y_test = simple_test_df['median_house_value']\n",
        "\n",
        "# set linear regression model\n",
        "simple_OLS = LinearRegression()\n",
        "# fit training data to the model\n",
        "fit = simple_OLS.fit(simple_X_train, y_train)\n",
        "\n",
        "# predict median house value of test data\n",
        "simple_y_hat = fit.predict(simple_X_test)\n",
        "\n",
        "# calculate mean squared error\n",
        "simple_MSE = ((y_test - simple_y_hat)**2).sum()\n",
        "\n",
        "print(simple_MSE)"
      ],
      "execution_count": 39,
      "outputs": [
        {
          "output_type": "stream",
          "text": [
            "6.720912665782728e+18\n"
          ],
          "name": "stdout"
        }
      ]
    },
    {
      "cell_type": "markdown",
      "metadata": {
        "id": "8MqX73B4s5tv",
        "colab_type": "text"
      },
      "source": [
        "## Multiple Linear Regression \n",
        "- our mean squared error for Simple Linear Regression was quite high...\n",
        "  - let's try Multiple Linear Regression (predicting based on all non-test variables rather than just `median_income`) and see if that's any better\n",
        "1. set train (*multi_X_train*) and test (*multi_X_test*) values \n",
        "  - with the x-axis representing all values that are not `medium_house_value`\n",
        "    - i.e. `longitude`, `latitude`, `housing_median_age`, `total_rooms`, `total_bedrooms`, `population`, `households`, and `median_income`\n",
        "  - and the y-axis representing just 1 value (`medium_house_value`)\n",
        "    - *y_train* and *y_test* do not need to be set as they are the same values from the Simple Linear Regression\n",
        "2. fit the model with `medium_income` (*multi_X_train*) and corresponding `medium_house_value` (*y_train*) values \n",
        "  - so it can build an understanding of their relationship \n",
        "3. predict `median_house_value` (*y_test*) for a test set of independent (*multi_X_test*) values\n",
        "  - and compare `median_house_value` predictions to actual median house (*y_test*) values"
      ]
    },
    {
      "cell_type": "code",
      "metadata": {
        "id": "Je6VAP-Ntrmk",
        "colab_type": "code",
        "colab": {
          "base_uri": "https://localhost:8080/",
          "height": 206
        },
        "outputId": "09d6d116-be12-40fd-ff16-e3f90e3c1745"
      },
      "source": [
        "# set multiple linear regression train X\n",
        "multi_X_train = train_df.drop('median_income')\n",
        "\n",
        "# set multiple linear regression test X\n",
        "multi_X_test = test_df.drop('median_income')\n",
        "\n",
        "multi_X_train.head()"
      ],
      "execution_count": 37,
      "outputs": [
        {
          "output_type": "execute_result",
          "data": {
            "text/html": [
              "<div>\n",
              "<style scoped>\n",
              "    .dataframe tbody tr th:only-of-type {\n",
              "        vertical-align: middle;\n",
              "    }\n",
              "\n",
              "    .dataframe tbody tr th {\n",
              "        vertical-align: top;\n",
              "    }\n",
              "\n",
              "    .dataframe thead th {\n",
              "        text-align: right;\n",
              "    }\n",
              "</style>\n",
              "<table border=\"1\" class=\"dataframe\">\n",
              "  <thead>\n",
              "    <tr style=\"text-align: right;\">\n",
              "      <th></th>\n",
              "      <th>longitude</th>\n",
              "      <th>latitude</th>\n",
              "      <th>housing_median_age</th>\n",
              "      <th>total_rooms</th>\n",
              "      <th>total_bedrooms</th>\n",
              "      <th>population</th>\n",
              "      <th>households</th>\n",
              "      <th>median_house_value</th>\n",
              "    </tr>\n",
              "  </thead>\n",
              "  <tbody>\n",
              "    <tr>\n",
              "      <th>0</th>\n",
              "      <td>-114.31</td>\n",
              "      <td>34.19</td>\n",
              "      <td>15.0</td>\n",
              "      <td>5612.0</td>\n",
              "      <td>1283.0</td>\n",
              "      <td>1015.0</td>\n",
              "      <td>472.0</td>\n",
              "      <td>66900.0</td>\n",
              "    </tr>\n",
              "    <tr>\n",
              "      <th>1</th>\n",
              "      <td>-114.47</td>\n",
              "      <td>34.40</td>\n",
              "      <td>19.0</td>\n",
              "      <td>7650.0</td>\n",
              "      <td>1901.0</td>\n",
              "      <td>1129.0</td>\n",
              "      <td>463.0</td>\n",
              "      <td>80100.0</td>\n",
              "    </tr>\n",
              "    <tr>\n",
              "      <th>2</th>\n",
              "      <td>-114.56</td>\n",
              "      <td>33.69</td>\n",
              "      <td>17.0</td>\n",
              "      <td>720.0</td>\n",
              "      <td>174.0</td>\n",
              "      <td>333.0</td>\n",
              "      <td>117.0</td>\n",
              "      <td>85700.0</td>\n",
              "    </tr>\n",
              "    <tr>\n",
              "      <th>3</th>\n",
              "      <td>-114.57</td>\n",
              "      <td>33.64</td>\n",
              "      <td>14.0</td>\n",
              "      <td>1501.0</td>\n",
              "      <td>337.0</td>\n",
              "      <td>515.0</td>\n",
              "      <td>226.0</td>\n",
              "      <td>73400.0</td>\n",
              "    </tr>\n",
              "    <tr>\n",
              "      <th>4</th>\n",
              "      <td>-114.57</td>\n",
              "      <td>33.57</td>\n",
              "      <td>20.0</td>\n",
              "      <td>1454.0</td>\n",
              "      <td>326.0</td>\n",
              "      <td>624.0</td>\n",
              "      <td>262.0</td>\n",
              "      <td>65500.0</td>\n",
              "    </tr>\n",
              "  </tbody>\n",
              "</table>\n",
              "</div>"
            ],
            "text/plain": [
              "   longitude  latitude  ...  households  median_house_value\n",
              "0    -114.31     34.19  ...       472.0             66900.0\n",
              "1    -114.47     34.40  ...       463.0             80100.0\n",
              "2    -114.56     33.69  ...       117.0             85700.0\n",
              "3    -114.57     33.64  ...       226.0             73400.0\n",
              "4    -114.57     33.57  ...       262.0             65500.0\n",
              "\n",
              "[5 rows x 8 columns]"
            ]
          },
          "metadata": {
            "tags": []
          },
          "execution_count": 37
        }
      ]
    },
    {
      "cell_type": "code",
      "metadata": {
        "id": "V02cfdYnO_DS",
        "colab_type": "code",
        "colab": {
          "base_uri": "https://localhost:8080/",
          "height": 34
        },
        "outputId": "1da957a8-790a-4c27-fb18-4550bc419d1d"
      },
      "source": [
        "# set linear regression model\n",
        "multi_OLS = LinearRegression()\n",
        "# fit training data to the model\n",
        "fit = OLS.fit(multi_X_train, y_train)\n",
        "\n",
        "# predict median house value of test data\n",
        "multi_y_hat = fit.predict(multi_X_test)\n",
        "\n",
        "# calculate mean squared error\n",
        "multi_MSE = ((y_test - y_hat)**2).sum()\n",
        "\n",
        "print(multi_MSE)\n"
      ],
      "execution_count": 38,
      "outputs": [
        {
          "output_type": "stream",
          "text": [
            "119211472331544.78\n"
          ],
          "name": "stdout"
        }
      ]
    },
    {
      "cell_type": "markdown",
      "metadata": {
        "id": "2X1RA6sgtZQ6",
        "colab_type": "text"
      },
      "source": [
        "#### Wow, both look quite high..\n",
        "- but which is more off?"
      ]
    },
    {
      "cell_type": "code",
      "metadata": {
        "id": "Wwk5dRpFsOTe",
        "colab_type": "code",
        "colab": {
          "base_uri": "https://localhost:8080/",
          "height": 34
        },
        "outputId": "980710d3-01d9-4cdc-c6bc-2667942cc558"
      },
      "source": [
        "# is the simple model better?\n",
        "simple_MSE <= multi_MSE"
      ],
      "execution_count": 34,
      "outputs": [
        {
          "output_type": "execute_result",
          "data": {
            "text/plain": [
              "False"
            ]
          },
          "metadata": {
            "tags": []
          },
          "execution_count": 34
        }
      ]
    },
    {
      "cell_type": "code",
      "metadata": {
        "id": "PwTlQXu3sx3l",
        "colab_type": "code",
        "colab": {
          "base_uri": "https://localhost:8080/",
          "height": 34
        },
        "outputId": "df980afe-e2fb-4151-83d0-973a170b0e61"
      },
      "source": [
        "int(multi_MSE - simple_MSE)"
      ],
      "execution_count": 36,
      "outputs": [
        {
          "output_type": "execute_result",
          "data": {
            "text/plain": [
              "-6720793454310395904"
            ]
          },
          "metadata": {
            "tags": []
          },
          "execution_count": 36
        }
      ]
    },
    {
      "cell_type": "code",
      "metadata": {
        "id": "d3Q6feyqtRRn",
        "colab_type": "code",
        "colab": {}
      },
      "source": [
        ""
      ],
      "execution_count": 0,
      "outputs": []
    }
  ]
}
