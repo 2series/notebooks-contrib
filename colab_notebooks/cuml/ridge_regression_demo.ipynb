{
 "cells": [
  {
   "cell_type": "markdown",
   "metadata": {
    "colab_type": "text",
    "id": "XaDpeOh_coGf"
   },
   "source": [
    "# Ridge Regression Demo\n",
    "Ridge extends LinearRegression by providing L2 regularization on the coefficients when predicting response y with a linear combination of the predictors in X. It can reduce the variance of the predictors, and improves the conditioning of the problem.\n",
    "\n",
    "The Ridge Regression function implemented in the cuml library allows the user to change the fit_intercept, normalize, solver and alpha parameters. Here is a brief on RAPIDS' Ridge Regression's parameters:\n",
    "1. `alpha`: float or double. Regularization strength - must be a positive float. Larger values specify stronger regularization. Array input will be supported later.\n",
    "1. `solver`: ‘eig’ or ‘svd’ or ‘cd’ (default = ‘eig’). Eig uses a eigendecomposition of the covariance matrix, and is much faster. SVD is slower, but is guaranteed to be stable. CD or Coordinate Descent is very fast and is suitable for large problems.\n",
    "1. `fit_intercept`: boolean (default = True). If True, Ridge tries to correct for the global mean of y. If False, the model expects that you have centered the data.\n",
    "1. `normalize`: boolean (default = False). If True, the predictors in X will be normalized by dividing by it’s L2 norm. If False, no scaling will be done.\n",
    "\n",
    "The methods that can be used with the Ridge Regression are:\n",
    "1. `fit`: Fit the model with X and y.\n",
    "1. `get_params`: Sklearn style return parameter state\n",
    "1. `predict`: Predicts the y for X.\n",
    "1. `set_params`: Sklearn style set parameter state to dictionary of params.\n",
    "\n",
    "The model accepts only numpy arrays or cudf dataframes as the input. \n",
    "- In order to convert your dataset to cudf format please read the cudf [documentation](https://rapidsai.github.io/projects/cudf/en/latest/). \n",
    "- It is important to understand that the 'svd' solver will run slower than the 'eig' solver however, the 'svd' solver is more stable and robust. \n",
    "  - Therefore, we would recomend that you use the 'eig' solver when a slight error is acceptable. \n",
    "  - For additional information please refer to the [documentation](https://rapidsai.github.io/projects/cuml/en/latest/index.html)"
   ]
  },
  {
   "cell_type": "code",
   "execution_count": 1,
   "metadata": {
    "colab": {
     "base_uri": "https://localhost:8080/",
     "height": 306
    },
    "colab_type": "code",
    "id": "0iGM6qJvfcbW",
    "outputId": "1bdb4701-f333-472b-fe42-f8e383673159"
   },
   "outputs": [
    {
     "name": "stdout",
     "output_type": "stream",
     "text": [
      "Sat Jul 27 10:01:35 2019       \n",
      "+-----------------------------------------------------------------------------+\n",
      "| NVIDIA-SMI 418.67       Driver Version: 410.79       CUDA Version: 10.0     |\n",
      "|-------------------------------+----------------------+----------------------+\n",
      "| GPU  Name        Persistence-M| Bus-Id        Disp.A | Volatile Uncorr. ECC |\n",
      "| Fan  Temp  Perf  Pwr:Usage/Cap|         Memory-Usage | GPU-Util  Compute M. |\n",
      "|===============================+======================+======================|\n",
      "|   0  Tesla T4            Off  | 00000000:00:04.0 Off |                    0 |\n",
      "| N/A   43C    P8    16W /  70W |      0MiB / 15079MiB |      0%      Default |\n",
      "+-------------------------------+----------------------+----------------------+\n",
      "                                                                               \n",
      "+-----------------------------------------------------------------------------+\n",
      "| Processes:                                                       GPU Memory |\n",
      "|  GPU       PID   Type   Process name                             Usage      |\n",
      "|=============================================================================|\n",
      "|  No running processes found                                                 |\n",
      "+-----------------------------------------------------------------------------+\n"
     ]
    }
   ],
   "source": [
    "!nvidia-smi"
   ]
  },
  {
   "cell_type": "code",
   "execution_count": 2,
   "metadata": {
    "colab": {
     "base_uri": "https://localhost:8080/",
     "height": 1000
    },
    "colab_type": "code",
    "id": "t_MgJ5nbcp6A",
    "outputId": "3816ee42-ccda-4e67-edb5-a15e296b5ea5"
   },
   "outputs": [
    {
     "name": "stdout",
     "output_type": "stream",
     "text": [
      "--2019-07-27 10:01:42--  https://github.com/rapidsai/notebooks-extended/raw/master/utils/rapids-colab.sh\n",
      "Resolving github.com (github.com)... 52.69.186.44\n",
      "Connecting to github.com (github.com)|52.69.186.44|:443... connected.\n",
      "HTTP request sent, awaiting response... 302 Found\n",
      "Location: https://raw.githubusercontent.com/rapidsai/notebooks-extended/master/utils/rapids-colab.sh [following]\n",
      "--2019-07-27 10:01:47--  https://raw.githubusercontent.com/rapidsai/notebooks-extended/master/utils/rapids-colab.sh\n",
      "Resolving raw.githubusercontent.com (raw.githubusercontent.com)... 151.101.0.133, 151.101.64.133, 151.101.128.133, ...\n",
      "Connecting to raw.githubusercontent.com (raw.githubusercontent.com)|151.101.0.133|:443... connected.\n",
      "HTTP request sent, awaiting response... 200 OK\n",
      "Length: 1548 (1.5K) [text/plain]\n",
      "Saving to: ‘rapids-colab.sh’\n",
      "\n",
      "rapids-colab.sh     100%[===================>]   1.51K  --.-KB/s    in 0s      \n",
      "\n",
      "2019-07-27 10:01:47 (159 MB/s) - ‘rapids-colab.sh’ saved [1548/1548]\n",
      "\n",
      "--2019-07-27 10:01:49--  https://github.com/rapidsai/notebooks-extended/raw/master/utils/env-check.py\n",
      "Resolving github.com (github.com)... 52.69.186.44\n",
      "Connecting to github.com (github.com)|52.69.186.44|:443... connected.\n",
      "HTTP request sent, awaiting response... 302 Found\n",
      "Location: https://raw.githubusercontent.com/rapidsai/notebooks-extended/master/utils/env-check.py [following]\n",
      "--2019-07-27 10:01:49--  https://raw.githubusercontent.com/rapidsai/notebooks-extended/master/utils/env-check.py\n",
      "Resolving raw.githubusercontent.com (raw.githubusercontent.com)... 151.101.0.133, 151.101.64.133, 151.101.128.133, ...\n",
      "Connecting to raw.githubusercontent.com (raw.githubusercontent.com)|151.101.0.133|:443... connected.\n",
      "HTTP request sent, awaiting response... 200 OK\n",
      "Length: 783 [text/plain]\n",
      "Saving to: ‘env-check.py’\n",
      "\n",
      "env-check.py        100%[===================>]     783  --.-KB/s    in 0s      \n",
      "\n",
      "2019-07-27 10:01:49 (130 MB/s) - ‘env-check.py’ saved [783/783]\n",
      "\n",
      "Checking for GPU type:\n",
      "*********************************************\n",
      "Woo! Your instance has the right kind of GPU!\n",
      "*********************************************\n",
      "\n",
      "Removing conflicting packages, will replace with RAPIDS compatible versions\n",
      "Uninstalling xgboost-0.90:\n",
      "  Successfully uninstalled xgboost-0.90\n",
      "Uninstalling dask-1.1.5:\n",
      "  Successfully uninstalled dask-1.1.5\n",
      "Uninstalling distributed-1.25.3:\n",
      "  Successfully uninstalled distributed-1.25.3\n",
      "Installing conda\n",
      "--2019-07-27 10:01:54--  https://repo.continuum.io/miniconda/Miniconda3-4.5.4-Linux-x86_64.sh\n",
      "Resolving repo.continuum.io (repo.continuum.io)... 104.18.201.79, 104.18.200.79, 2606:4700::6812:c94f, ...\n",
      "Connecting to repo.continuum.io (repo.continuum.io)|104.18.201.79|:443... connected.\n",
      "HTTP request sent, awaiting response... 200 OK\n",
      "Length: 58468498 (56M) [application/x-sh]\n",
      "Saving to: ‘Miniconda3-4.5.4-Linux-x86_64.sh’\n",
      "\n",
      "Miniconda3-4.5.4-Li 100%[===================>]  55.76M   261MB/s    in 0.2s    \n",
      "\n",
      "2019-07-27 10:01:54 (261 MB/s) - ‘Miniconda3-4.5.4-Linux-x86_64.sh’ saved [58468498/58468498]\n",
      "\n",
      "PREFIX=/usr/local\n",
      "installing: python-3.6.5-hc3d631a_2 ...\n",
      "Python 3.6.5 :: Anaconda, Inc.\n",
      "installing: ca-certificates-2018.03.07-0 ...\n",
      "installing: conda-env-2.6.0-h36134e3_1 ...\n",
      "installing: libgcc-ng-7.2.0-hdf63c60_3 ...\n",
      "installing: libstdcxx-ng-7.2.0-hdf63c60_3 ...\n",
      "installing: libffi-3.2.1-hd88cf55_4 ...\n",
      "installing: ncurses-6.1-hf484d3e_0 ...\n",
      "installing: openssl-1.0.2o-h20670df_0 ...\n",
      "installing: tk-8.6.7-hc745277_3 ...\n",
      "installing: xz-5.2.4-h14c3975_4 ...\n",
      "installing: yaml-0.1.7-had09818_2 ...\n",
      "installing: zlib-1.2.11-ha838bed_2 ...\n",
      "installing: libedit-3.1.20170329-h6b74fdf_2 ...\n",
      "installing: readline-7.0-ha6073c6_4 ...\n",
      "installing: sqlite-3.23.1-he433501_0 ...\n",
      "installing: asn1crypto-0.24.0-py36_0 ...\n",
      "installing: certifi-2018.4.16-py36_0 ...\n",
      "installing: chardet-3.0.4-py36h0f667ec_1 ...\n",
      "installing: idna-2.6-py36h82fb2a8_1 ...\n",
      "installing: pycosat-0.6.3-py36h0a5515d_0 ...\n",
      "installing: pycparser-2.18-py36hf9f622e_1 ...\n",
      "installing: pysocks-1.6.8-py36_0 ...\n",
      "installing: ruamel_yaml-0.15.37-py36h14c3975_2 ...\n",
      "installing: six-1.11.0-py36h372c433_1 ...\n",
      "installing: cffi-1.11.5-py36h9745a5d_0 ...\n",
      "installing: setuptools-39.2.0-py36_0 ...\n",
      "installing: cryptography-2.2.2-py36h14c3975_0 ...\n",
      "installing: wheel-0.31.1-py36_0 ...\n",
      "installing: pip-10.0.1-py36_0 ...\n",
      "installing: pyopenssl-18.0.0-py36_0 ...\n",
      "installing: urllib3-1.22-py36hbe7ace6_0 ...\n",
      "installing: requests-2.18.4-py36he2e5f8d_1 ...\n",
      "installing: conda-4.5.4-py36_0 ...\n",
      "installation finished.\n",
      "WARNING:\n",
      "    You currently have a PYTHONPATH environment variable set. This may cause\n",
      "    unexpected behavior when running the Python interpreter in Miniconda3.\n",
      "    For best results, please verify that your PYTHONPATH only points to\n",
      "    directories of packages that are compatible with the Python interpreter\n",
      "    in Miniconda3: /usr/local\n",
      "Installing RAPIDS packages\n",
      "Please standby, this will take a few minutes...\n",
      "\n",
      "\n",
      "==> WARNING: A newer version of conda exists. <==\n",
      "  current version: 4.5.4\n",
      "  latest version: 4.7.10\n",
      "\n",
      "Please update conda by running\n",
      "\n",
      "    $ conda update -n base conda\n",
      "\n",
      "\n",
      "libnvstrings-0.9.0a1 | 16.8 MB | : 100% 1.0/1 [00:07<00:00,  7.61s/it]               \n",
      "sqlite-3.29.0        |  2.0 MB | : 100% 1.0/1 [00:00<00:00,  2.44it/s]               \n",
      "pyjwt-1.7.1          |   17 KB | : 100% 1.0/1 [00:00<00:00, 24.13it/s]\n",
      "requests-oauthlib-1. |   19 KB | : 100% 1.0/1 [00:00<00:00, 26.79it/s]\n",
      "libcudf-0.9.0a       | 31.3 MB | : 100% 1.0/1 [00:08<00:00,  8.53s/it]               \n",
      "liblapack-3.8.0      |    6 KB | : 100% 1.0/1 [00:00<00:00, 28.34it/s]\n",
      "pyyaml-5.1.1         |  184 KB | : 100% 1.0/1 [00:00<00:00, 12.45it/s]\n",
      "pynvml-8.0.1         |   28 KB | : 100% 1.0/1 [00:00<00:00, 21.95it/s]\n",
      "cudatoolkit-10.0.130 | 380.0 MB | : 100% 1.0/1 [00:56<00:00, 56.56s/it]                \n",
      "dask-core-2.1.0      |  573 KB | : 100% 1.0/1 [00:00<00:00,  4.56it/s]               \n",
      "pip-19.2.1           |  1.9 MB | : 100% 1.0/1 [00:00<00:00,  1.30it/s]               \n",
      "bokeh-1.3.0          |  4.1 MB | : 100% 1.0/1 [00:01<00:00,  1.49s/it]               \n",
      "boost-1.68.0         |  325 KB | : 100% 1.0/1 [00:00<00:00,  6.45it/s]               \n",
      "jpeg-9c              |  251 KB | : 100% 1.0/1 [00:00<00:00, 10.88it/s]\n",
      "dlpack-0.2           |   12 KB | : 100% 1.0/1 [00:00<00:00, 26.52it/s]\n",
      "readline-8.0         |  441 KB | : 100% 1.0/1 [00:00<00:00,  8.33it/s]\n",
      "pyopenssl-19.0.0     |   81 KB | : 100% 1.0/1 [00:00<00:00, 13.67it/s]\n",
      "fsspec-0.3.6         |   39 KB | : 100% 1.0/1 [00:00<00:00, 21.00it/s]\n",
      "scipy-1.3.0          | 18.8 MB | : 100% 1.0/1 [00:03<00:00,  3.80s/it]              \n",
      "ncurses-6.1          |  1.3 MB | : 100% 1.0/1 [00:00<00:00,  1.10it/s]             \n",
      "libgcc-ng-9.1.0      |  8.1 MB | : 100% 1.0/1 [00:01<00:00,  1.38s/it]               \n",
      "python-3.6.7         | 34.6 MB | : 100% 1.0/1 [00:06<00:00,  6.03s/it]               \n",
      "python-dateutil-2.8. |  219 KB | : 100% 1.0/1 [00:00<00:00, 14.97it/s]\n",
      "asn1crypto-0.24.0    |  154 KB | : 100% 1.0/1 [00:00<00:00, 13.33it/s]\n",
      "nvstrings-0.9.0a1    |  124 KB | : 100% 1.0/1 [00:01<00:00,  1.78s/it]               \n",
      "jinja2-2.10.1        |   91 KB | : 100% 1.0/1 [00:00<00:00, 18.54it/s]\n",
      "libcumlmg-0.0.0.dev0 |  953 KB | : 100% 1.0/1 [00:01<00:00,  1.74s/it]               \n",
      "pycparser-2.19       |  173 KB | : 100% 1.0/1 [00:00<00:00,  9.85it/s]\n",
      "cugraph-0.9.0a1      |  1.2 MB | : 100% 1.0/1 [00:01<00:00,  1.37s/it]               \n",
      "xgboost-0.90.rapidsd |   12 KB | : 100% 1.0/1 [00:00<00:00,  1.12it/s] \n",
      "joblib-0.13.2        |  180 KB | : 100% 1.0/1 [00:00<00:00, 10.11it/s]\n",
      "libopenblas-0.3.6    |  7.7 MB | : 100% 1.0/1 [00:01<00:00,  1.54s/it]               \n",
      "dask-2.1.0           |    4 KB | : 100% 1.0/1 [00:00<00:00, 40.55it/s]\n",
      "decorator-4.4.0      |   11 KB | : 100% 1.0/1 [00:00<00:00, 37.05it/s]\n",
      "libblas-3.8.0        |    6 KB | : 100% 1.0/1 [00:00<00:00, 36.86it/s]\n",
      "yaml-0.1.7           |   78 KB | : 100% 1.0/1 [00:00<00:00, 21.92it/s]\n",
      "tk-8.6.9             |  3.2 MB | : 100% 1.0/1 [00:00<00:00,  1.39it/s]               \n",
      "cython-0.29.13       |  2.2 MB | : 100% 1.0/1 [00:00<00:00,  1.72it/s]               \n",
      "certifi-2019.6.16    |  149 KB | : 100% 1.0/1 [00:00<00:00, 19.89it/s]\n",
      "thrift-cpp-0.12.0    |  2.4 MB | : 100% 1.0/1 [00:00<00:00,  1.92it/s]               \n",
      "packaging-19.0       |   23 KB | : 100% 1.0/1 [00:00<00:00, 24.19it/s]\n",
      "libprotobuf-3.6.1    |  4.0 MB | : 100% 1.0/1 [00:00<00:00,  1.08it/s]               \n",
      "libffi-3.2.1         |   46 KB | : 100% 1.0/1 [00:00<00:00, 18.86it/s]\n",
      "click-7.0            |   61 KB | : 100% 1.0/1 [00:00<00:00, 24.32it/s]\n",
      "wheel-0.33.4         |   34 KB | : 100% 1.0/1 [00:00<00:00, 22.39it/s]\n",
      "libgfortran-ng-7.3.0 |  1.3 MB | : 100% 1.0/1 [00:00<00:00,  3.66it/s]               \n",
      "tornado-6.0.3        |  636 KB | : 100% 1.0/1 [00:00<00:00,  3.61it/s]               \n",
      "libtiff-4.0.10       |  587 KB | : 100% 1.0/1 [00:00<00:00,  6.49it/s]               \n",
      "ca-certificates-2019 |  145 KB | : 100% 1.0/1 [00:00<00:00, 18.51it/s]\n",
      "sortedcontainers-2.1 |   25 KB | : 100% 1.0/1 [00:00<00:00, 26.49it/s]\n",
      "dask-cudf-0.9.0a     |   61 KB | : 100% 1.0/1 [00:00<00:00,  2.37it/s]               \n",
      "blinker-1.4          |   13 KB | : 100% 1.0/1 [00:00<00:00, 30.70it/s]\n",
      "libxgboost-0.90.rapi | 33.2 MB | : 100% 1.0/1 [00:10<00:00, 10.62s/it]              \n",
      "cytoolz-0.10.0       |  429 KB | : 100% 1.0/1 [00:00<00:00,  7.50it/s]               \n",
      "pyasn1-0.4.5         |   49 KB | : 100% 1.0/1 [00:00<00:00, 17.91it/s]\n",
      "idna-2.8             |  132 KB | : 100% 1.0/1 [00:00<00:00, 15.38it/s]\n",
      "pandas-0.25.0        | 11.4 MB | : 100% 1.0/1 [00:02<00:00,  2.80s/it]              \n",
      "pysocks-1.7.0        |   26 KB | : 100% 1.0/1 [00:00<00:00, 17.17it/s]\n",
      "parquet-cpp-1.5.1    |    3 KB | : 100% 1.0/1 [00:00<00:00, 28.15it/s]\n",
      "libcuml-0.9.0a1      | 27.6 MB | : 100% 1.0/1 [00:10<00:00, 10.16s/it]               \n",
      "cffi-1.12.3          |  218 KB | : 100% 1.0/1 [00:00<00:00, 12.10it/s]\n",
      "arrow-cpp-0.12.1     |  6.9 MB | : 100% 1.0/1 [00:01<00:00,  1.57s/it]               \n",
      "pillow-6.0.0         |  615 KB | : 100% 1.0/1 [00:00<00:00,  5.09it/s]               \n",
      "dask-cuda-0.9.0a     |  902 KB | : 100% 1.0/1 [00:01<00:00,  1.97s/it]               \n",
      "urllib3-1.25.3       |  187 KB | : 100% 1.0/1 [00:00<00:00, 10.44it/s]\n",
      "pyasn1-modules-0.2.5 |   38 KB | : 100% 1.0/1 [00:00<00:00, 20.48it/s]\n",
      "google-auth-1.6.3    |   45 KB | : 100% 1.0/1 [00:00<00:00, 17.43it/s]\n",
      "librmm-0.9.0a1       |   44 KB | : 100% 1.0/1 [00:00<00:00,  1.03it/s]               \n",
      "locket-0.2.0         |    6 KB | : 100% 1.0/1 [00:00<00:00, 38.67it/s]\n",
      "xz-5.2.4             |  366 KB | : 100% 1.0/1 [00:00<00:00,  8.59it/s]               \n",
      "openssl-1.1.1c       |  2.1 MB | : 100% 1.0/1 [00:00<00:00,  2.34it/s]              \n",
      "llvmlite-0.29.0      | 19.9 MB | : 100% 1.0/1 [00:03<00:00,  3.70s/it]               \n",
      "tblib-1.4.0          |   12 KB | : 100% 1.0/1 [00:00<00:00, 28.64it/s]\n",
      "dask-cuml-0.9.0a     |   30 KB | : 100% 1.0/1 [00:00<00:00,  2.27it/s]               \n",
      "nccl-2.4.6.1         | 66.6 MB | : 100% 1.0/1 [00:14<00:00, 41.59s/it]               \n",
      "msgpack-python-0.6.1 |   89 KB | : 100% 1.0/1 [00:00<00:00, 16.35it/s]\n",
      "zict-1.0.0           |   10 KB | : 100% 1.0/1 [00:00<00:00, 31.52it/s]\n",
      "openblas-0.3.6       |  8.2 MB | : 100% 1.0/1 [00:01<00:00,  1.99s/it]               \n",
      "zlib-1.2.11          |  105 KB | : 100% 1.0/1 [00:00<00:00, 21.08it/s]\n",
      "libstdcxx-ng-9.1.0   |  4.0 MB | : 100% 1.0/1 [00:00<00:00,  1.36it/s]               \n",
      "psutil-5.6.3         |  322 KB | : 100% 1.0/1 [00:00<00:00,  8.28it/s]               \n",
      "pyparsing-2.4.1.1    |   57 KB | : 100% 1.0/1 [00:00<00:00, 27.28it/s]\n",
      "cuml-0.9.0a1         |  4.8 MB | : 100% 1.0/1 [00:03<00:00,  3.62s/it]               \n",
      "boost-cpp-1.68.0     | 20.5 MB | : 100% 1.0/1 [00:09<00:00,  9.02s/it]               \n",
      "libcugraph-0.9.0a1   | 10.6 MB | : 100% 1.0/1 [00:04<00:00,  4.37s/it]               \n",
      "numpy-1.16.4         |  4.3 MB | : 100% 1.0/1 [00:01<00:00,  1.11s/it]               \n",
      "distributed-2.1.0    |  363 KB | : 100% 1.0/1 [00:00<00:00,  5.98it/s]               \n",
      "cloudpickle-1.2.1    |   22 KB | : 100% 1.0/1 [00:00<00:00, 25.19it/s]\n",
      "chardet-3.0.4        |  190 KB | : 100% 1.0/1 [00:00<00:00, 11.46it/s]\n",
      "icu-58.2             | 22.6 MB | : 100% 1.0/1 [00:03<00:00,  3.91s/it]               \n",
      "_libgcc_mutex-0.1    |    3 KB | : 100% 1.0/1 [00:00<00:00, 38.27it/s]\n",
      "requests-2.22.0      |   84 KB | : 100% 1.0/1 [00:00<00:00, 18.52it/s]\n",
      "markupsafe-1.1.1     |   26 KB | : 100% 1.0/1 [00:00<00:00, 27.68it/s]\n",
      "numba-0.45.0         |  3.1 MB | : 100% 1.0/1 [00:01<00:00,  1.11s/it]               \n",
      "libpng-1.6.37        |  343 KB | : 100% 1.0/1 [00:00<00:00, 10.52it/s]\n",
      "google-auth-oauthlib |   18 KB | : 100% 1.0/1 [00:00<00:00, 30.48it/s]\n",
      "heapdict-1.0.0       |    7 KB | : 100% 1.0/1 [00:00<00:00, 18.25it/s]\n",
      "lz4-c-1.8.3          |  187 KB | : 100% 1.0/1 [00:00<00:00, 15.06it/s]\n",
      "gcsfs-0.3.0          |   19 KB | : 100% 1.0/1 [00:00<00:00, 31.57it/s]\n",
      "pytz-2019.1          |  227 KB | : 100% 1.0/1 [00:00<00:00,  4.51it/s]               \n",
      "cryptography-2.7     |  607 KB | : 100% 1.0/1 [00:00<00:00,  3.19it/s]               \n",
      "zstd-1.4.0           |  928 KB | : 100% 1.0/1 [00:00<00:00,  5.49it/s]               \n",
      "olefile-0.46         |   31 KB | : 100% 1.0/1 [00:00<00:00, 28.43it/s]\n",
      "oauthlib-3.0.1       |   82 KB | : 100% 1.0/1 [00:00<00:00, 14.47it/s]\n",
      "rmm-0.9.0a1          |   14 KB | : 100% 1.0/1 [00:00<00:00,  1.04it/s] \n",
      "setuptools-41.0.1    |  612 KB | : 100% 1.0/1 [00:00<00:00,  4.77it/s]               \n",
      "py-xgboost-0.90.rapi |   87 KB | : 100% 1.0/1 [00:00<00:00,  1.64it/s]                \n",
      "bzip2-1.0.8          |  396 KB | : 100% 1.0/1 [00:00<00:00,  8.69it/s]\n",
      "freetype-2.10.0      |  885 KB | : 100% 1.0/1 [00:00<00:00,  5.21it/s]               \n",
      "pyarrow-0.12.1       |  2.2 MB | : 100% 1.0/1 [00:00<00:00,  1.49it/s]               \n",
      "cachetools-2.1.0     |   10 KB | : 100% 1.0/1 [00:00<00:00, 30.39it/s]\n",
      "six-1.12.0           |   22 KB | : 100% 1.0/1 [00:00<00:00, 32.15it/s]\n",
      "scikit-learn-0.21.2  |  6.7 MB | : 100% 1.0/1 [00:01<00:00,  1.66s/it]              \n",
      "partd-1.0.0          |   16 KB | : 100% 1.0/1 [00:00<00:00, 25.37it/s]\n",
      "rsa-3.4.2            |   31 KB | : 100% 1.0/1 [00:00<00:00, 24.74it/s]\n",
      "libcblas-3.8.0       |    6 KB | : 100% 1.0/1 [00:00<00:00, 35.25it/s]\n",
      "cudf-0.9.0a          |  3.8 MB | : 100% 1.0/1 [00:02<00:00,  2.46s/it]               \n",
      "toolz-0.10.0         |   46 KB | : 100% 1.0/1 [00:00<00:00, 22.57it/s]\n",
      "Copying shared object files to /usr/lib\n",
      "\n",
      "*********************************************\n",
      "Your Google Colab instance is RAPIDS ready!\n",
      "*********************************************\n"
     ]
    }
   ],
   "source": [
    "!wget -nc https://github.com/rapidsai/notebooks-extended/raw/master/utils/rapids-colab.sh\n",
    "!bash rapids-colab.sh\n",
    "\n",
    "import sys, os\n",
    "\n",
    "sys.path.append('/usr/local/lib/python3.6/site-packages/')\n",
    "os.environ['NUMBAPRO_NVVM'] = '/usr/local/cuda/nvvm/lib64/libnvvm.so'\n",
    "os.environ['NUMBAPRO_LIBDEVICE'] = '/usr/local/cuda/nvvm/libdevice/'"
   ]
  },
  {
   "cell_type": "code",
   "execution_count": 0,
   "metadata": {
    "colab": {},
    "colab_type": "code",
    "id": "WAGhmy4qcoGg"
   },
   "outputs": [],
   "source": [
    "import numpy as np\n",
    "import pandas as pd\n",
    "import cudf\n",
    "import os\n",
    "from cuml import Ridge as cuRidge\n",
    "from sklearn.linear_model import Ridge as skRidge\n",
    "from sklearn.datasets import make_regression\n",
    "from sklearn.metrics import mean_squared_error\n",
    "\n",
    "# Select a particular GPU to run the notebook  \n",
    "os.environ[\"CUDA_VISIBLE_DEVICES\"]=\"0\""
   ]
  },
  {
   "cell_type": "markdown",
   "metadata": {
    "colab_type": "text",
    "id": "gTp_2yZecoGm"
   },
   "source": [
    "# Helper Functions"
   ]
  },
  {
   "cell_type": "code",
   "execution_count": 0,
   "metadata": {
    "colab": {},
    "colab_type": "code",
    "id": "qu9PGtG3coGn"
   },
   "outputs": [],
   "source": [
    "# check if mortgage dataset is present and then extract the data from it, else just create a random dataset for regression\n",
    "import gzip\n",
    "# change the path of the mortgage dataset if you have saved it in a different directory\n",
    "def load_data(nrows, ncols, cached = 'data/mortgage.npy.gz'):\n",
    "    train_rows = int(nrows*0.8)\n",
    "    if os.path.exists(cached):\n",
    "        print('use mortgage data')\n",
    "\n",
    "        with gzip.open(cached) as f:\n",
    "            X = np.load(f)\n",
    "        # the 4th column is 'adj_remaining_months_to_maturity'\n",
    "        # used as the label\n",
    "        X = X[:,[i for i in range(X.shape[1]) if i!=4]]\n",
    "        y = X[:,4:5]\n",
    "        rindices = np.random.randint(0,X.shape[0]-1,nrows)\n",
    "        X = X[rindices,:ncols]\n",
    "        y = y[rindices]\n",
    "        df_y_train = pd.DataFrame({'fea%d'%i:y[0:train_rows,i] for i in range(y.shape[1])})\n",
    "        df_y_test = pd.DataFrame({'fea%d'%i:y[train_rows:,i] for i in range(y.shape[1])})\n",
    "    else:\n",
    "        print('use random data')\n",
    "        # create a random regression dataset\n",
    "        X,y = make_regression(n_samples=nrows,n_features=ncols,n_informative=ncols, random_state=0)\n",
    "        df_y_train = pd.DataFrame({'fea0':y[0:train_rows,]})\n",
    "        df_y_test = pd.DataFrame({'fea0':y[train_rows:,]})\n",
    "\n",
    "    df_X_train = pd.DataFrame({'fea%d'%i:X[0:train_rows,i] for i in range(X.shape[1])})\n",
    "    df_X_test = pd.DataFrame({'fea%d'%i:X[train_rows:,i] for i in range(X.shape[1])})\n",
    "\n",
    "    return df_X_train, df_X_test, df_y_train, df_y_test"
   ]
  },
  {
   "cell_type": "markdown",
   "metadata": {
    "colab_type": "text",
    "id": "Nd8dvjoKcoGr"
   },
   "source": [
    "# Run tests"
   ]
  },
  {
   "cell_type": "code",
   "execution_count": 5,
   "metadata": {
    "colab": {
     "base_uri": "https://localhost:8080/",
     "height": 136
    },
    "colab_type": "code",
    "id": "MJslAHkGcoGs",
    "outputId": "d80ee412-739b-4ea1-ec7e-cd8ac866960b"
   },
   "outputs": [
    {
     "name": "stdout",
     "output_type": "stream",
     "text": [
      "use random data\n",
      "training data (838860, 399)\n",
      "training label (838860, 1)\n",
      "testing data (209716, 399)\n",
      "testing label (209716, 1)\n",
      "CPU times: user 51.5 s, sys: 3.55 s, total: 55.1 s\n",
      "Wall time: 54.7 s\n"
     ]
    }
   ],
   "source": [
    "%%time\n",
    "# nrows = number of samples\n",
    "# ncols = number of features of each sample \n",
    "\n",
    "nrows = 2**20 \n",
    "ncols = 399\n",
    "\n",
    "#split the dataset into training and testing sets, in the ratio of 80:20 respectively\n",
    "X_train, X_test, y_train, y_test = load_data(nrows,ncols)\n",
    "print('training data',X_train.shape)\n",
    "print('training label',y_train.shape)\n",
    "print('testing data',X_test.shape)\n",
    "print('testing label',y_test.shape)"
   ]
  },
  {
   "cell_type": "code",
   "execution_count": 6,
   "metadata": {
    "colab": {
     "base_uri": "https://localhost:8080/",
     "height": 51
    },
    "colab_type": "code",
    "id": "l9QLEA8JcoGv",
    "outputId": "8557d5a6-8c5d-4711-bdf0-e673153a321a"
   },
   "outputs": [
    {
     "name": "stdout",
     "output_type": "stream",
     "text": [
      "CPU times: user 10.9 s, sys: 732 ms, total: 11.6 s\n",
      "Wall time: 6.68 s\n"
     ]
    }
   ],
   "source": [
    "%%time\n",
    "# use the sklearn ridge regression model to fit the training dataset \n",
    "skridge = skRidge(fit_intercept=False,\n",
    "                  normalize=True, alpha=0.1)\n",
    "skridge.fit(X_train, y_train)"
   ]
  },
  {
   "cell_type": "code",
   "execution_count": 7,
   "metadata": {
    "colab": {
     "base_uri": "https://localhost:8080/",
     "height": 51
    },
    "colab_type": "code",
    "id": "U5jISdvNcoGz",
    "outputId": "ce97257f-5cfc-46d0-e06e-3ab359289505"
   },
   "outputs": [
    {
     "name": "stdout",
     "output_type": "stream",
     "text": [
      "CPU times: user 217 ms, sys: 56 ms, total: 273 ms\n",
      "Wall time: 157 ms\n"
     ]
    }
   ],
   "source": [
    "%%time\n",
    "# calculate the mean squared error of the sklearn ridge regression model on the testing dataset\n",
    "sk_predict = skridge.predict(X_test)\n",
    "error_sk = mean_squared_error(y_test,sk_predict)"
   ]
  },
  {
   "cell_type": "code",
   "execution_count": 8,
   "metadata": {
    "colab": {
     "base_uri": "https://localhost:8080/",
     "height": 51
    },
    "colab_type": "code",
    "id": "xFGNZ36DcoG5",
    "outputId": "1c6cd231-f2d8-4f01-a198-63f83e895381",
    "scrolled": true
   },
   "outputs": [
    {
     "name": "stdout",
     "output_type": "stream",
     "text": [
      "CPU times: user 2.82 s, sys: 1.19 s, total: 4.01 s\n",
      "Wall time: 4.56 s\n"
     ]
    }
   ],
   "source": [
    "%%time\n",
    "# convert the pandas dataframe to cudf format\n",
    "X_cudf = cudf.DataFrame.from_pandas(X_train)\n",
    "X_cudf_test = cudf.DataFrame.from_pandas(X_test)\n",
    "y_cudf = y_train.values\n",
    "y_cudf = y_cudf[:,0]\n",
    "y_cudf = cudf.Series(y_cudf)"
   ]
  },
  {
   "cell_type": "code",
   "execution_count": 9,
   "metadata": {
    "colab": {
     "base_uri": "https://localhost:8080/",
     "height": 51
    },
    "colab_type": "code",
    "id": "55fhclfXcoG9",
    "outputId": "09e9ac9d-d5ce-4370-c16e-d959cc6bf200",
    "scrolled": true
   },
   "outputs": [
    {
     "name": "stdout",
     "output_type": "stream",
     "text": [
      "CPU times: user 8.84 s, sys: 6.99 s, total: 15.8 s\n",
      "Wall time: 16.9 s\n"
     ]
    }
   ],
   "source": [
    "%%time\n",
    "# run the cuml ridge regression model to fit the training dataset.  Eig is the faster algorithm, but svd is more accurate \n",
    "curidge = cuRidge(fit_intercept=False,\n",
    "                  normalize=True,\n",
    "                  solver='svd', alpha=0.1)\n",
    "curidge.fit(X_cudf, y_cudf)"
   ]
  },
  {
   "cell_type": "code",
   "execution_count": 10,
   "metadata": {
    "colab": {
     "base_uri": "https://localhost:8080/",
     "height": 51
    },
    "colab_type": "code",
    "id": "VH2p-JmicoHB",
    "outputId": "8a061986-ca73-4d4b-853b-9d304a2cb06a"
   },
   "outputs": [
    {
     "name": "stdout",
     "output_type": "stream",
     "text": [
      "CPU times: user 122 ms, sys: 35.9 ms, total: 158 ms\n",
      "Wall time: 160 ms\n"
     ]
    }
   ],
   "source": [
    "%%time\n",
    "# calculate the mean squared error of the testing dataset using the cuml ridge regression model\n",
    "cu_predict = curidge.predict(X_cudf_test).to_array()\n",
    "error_cu = mean_squared_error(y_test,cu_predict)"
   ]
  },
  {
   "cell_type": "code",
   "execution_count": 11,
   "metadata": {
    "colab": {
     "base_uri": "https://localhost:8080/",
     "height": 85
    },
    "colab_type": "code",
    "id": "Z5pcDGqAcoHJ",
    "outputId": "88bfba52-2fb6-4594-eafe-c2816cba2094"
   },
   "outputs": [
    {
     "name": "stdout",
     "output_type": "stream",
     "text": [
      "SKL MSE(y):\n",
      "1.9692606857886238e-08\n",
      "CUML MSE(y):\n",
      "1.969260679966456e-08\n"
     ]
    }
   ],
   "source": [
    "# print the mean squared error of the sklearn and cuml model to analyse them\n",
    "print(\"SKL MSE(y):\")\n",
    "print(error_sk)\n",
    "print(\"CUML MSE(y):\")\n",
    "print(error_cu)\n"
   ]
  },
  {
   "cell_type": "code",
   "execution_count": 0,
   "metadata": {
    "colab": {},
    "colab_type": "code",
    "id": "VO2ISF_1coHO"
   },
   "outputs": [],
   "source": []
  }
 ],
 "metadata": {
  "accelerator": "GPU",
  "colab": {
   "name": "ridge_regression_demo.ipynb",
   "provenance": [],
   "version": "0.3.2"
  },
  "kernelspec": {
   "display_name": "Python 3",
   "language": "python",
   "name": "python3"
  },
  "language_info": {
   "codemirror_mode": {
    "name": "ipython",
    "version": 3
   },
   "file_extension": ".py",
   "mimetype": "text/x-python",
   "name": "python",
   "nbconvert_exporter": "python",
   "pygments_lexer": "ipython3",
   "version": "3.7.2"
  }
 },
 "nbformat": 4,
 "nbformat_minor": 1
}
