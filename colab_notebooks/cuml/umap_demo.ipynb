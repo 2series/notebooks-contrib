{
  "nbformat": 4,
  "nbformat_minor": 0,
  "metadata": {
    "colab": {
      "name": "umap_demo.ipynb",
      "version": "0.3.2",
      "provenance": []
    },
    "language_info": {
      "codemirror_mode": {
        "name": "ipython",
        "version": 3
      },
      "file_extension": ".py",
      "mimetype": "text/x-python",
      "name": "python",
      "nbconvert_exporter": "python",
      "pygments_lexer": "ipython3",
      "version": "3.7.3"
    },
    "kernelspec": {
      "name": "python3",
      "display_name": "Python 3"
    },
    "accelerator": "GPU"
  },
  "cells": [
    {
      "cell_type": "markdown",
      "metadata": {
        "id": "MIpHYhJP7sGy",
        "colab_type": "text"
      },
      "source": [
        "# Uniform Manifold Approximation and Projection (UMAP)\n",
        "UMAP is a dimensionality reduction algorithm which performs non-linear dimension reduction. \n",
        "- It can also be used for visualization of the dataset. \n",
        "\n",
        "The UMAP model implemented in cuml allows the user to set the following parameter values:\n",
        "1.\t`n_neighbors`: number of neighboring samples used for manifold approximation. Larger values result in more global views of the manifold, while smaller values result in more local data being preserved (default = 15)\n",
        "2.\t`n_components`: the dimension of the space to embed into (default = 2)\n",
        "3.\t`n_epochs`: number of training epochs to be used in optimizing the low dimensional embedding (default = None)\n",
        "4.\t`learning_rate`: initial learning rate for the embedding optimization (default = 1.0)\n",
        "5.\t`init`: the low dimensional embedding to use: a. 'spectral': use a spectral embedding of the fuzzy 1-skeleton b. 'random': assign initial embedding positions at random (default = 'spectral')\n",
        "6.\t`min_dist`: the minimum distance that should be present between embedded points (default = 0.1)\n",
        "7.\t`spread`: determines how clustered the embedded points will be (default = 1.0)\n",
        "8.\t`set_op_mix_ratio`: is the ratio of pure fuzzy union to intersection. If the value is 1.0 then it will be a pure fuzzy union and for the value of 0.0 it will be a pure fuzzy interpolation (default = 1.0)\n",
        "9.\t`local_connectivity`: number of nearest neighbors that should be assumed to be connected at a local level. It should be not more than the local intrinsic dimension of the manifold (default = 1)\n",
        "10.\t`repulsion_strength`: weighting applied to negative samples in low dimensional embedding optimization. Values > 1 implements a higher negative value to the samples (default = 1.0)\n",
        "11.\t`negative_sample_rate`: the rate at which the negative samples should be selected per positive sample during the optimization process (default = 5)\n",
        "12.\t`transform_queue_size`: embedding new points using a trained model_ will control how aggressively to search for nearest neighbors (default = 4.0)\n",
        "13.\t`verbose`: bool (default False)\n",
        "\n",
        "The cuml implemetation of the UMAP model has the following functions that one can run:\n",
        "1.\t`fit`: it fits the dataset into an embedded space\n",
        "2.\t`fit_transform`: it fits the dataset into an embedded space and returns the transformed output\n",
        "3.\ttransfo`rm: it transforms the dataset into an existing embedded space and returns the low dimensional output\n",
        "\n",
        "The model accepts only numpy arrays or cudf dataframes as the input. \n",
        "- In order to convert your dataset to cudf format please read the cudf [documentation](https://rapidsai.github.io/projects/cudf/en/latest/) \n",
        "- For additional information on the UMAP model please refer to the cuml [UMAP documentation](https://rapidsai.github.io/projects/cuml/en/0.6.0/api.html#cuml.UMAP) "
      ]
    },
    {
      "cell_type": "code",
      "metadata": {
        "id": "R3dg3H12-WMz",
        "colab_type": "code",
        "outputId": "40ada26d-b0b9-4cc7-e424-1e93fc29810b",
        "colab": {
          "base_uri": "https://localhost:8080/",
          "height": 1000
        }
      },
      "source": [
        "!wget -nc https://github.com/rapidsai/notebooks-extended/raw/master/utils/rapids-colab.sh\n",
        "!bash rapids-colab.sh\n",
        "\n",
        "import sys, os\n",
        "\n",
        "sys.path.append('/usr/local/lib/python3.6/site-packages/')\n",
        "os.environ['NUMBAPRO_NVVM'] = '/usr/local/cuda/nvvm/lib64/libnvvm.so'\n",
        "os.environ['NUMBAPRO_LIBDEVICE'] = '/usr/local/cuda/nvvm/libdevice/'"
      ],
      "execution_count": 1,
      "outputs": [
        {
          "output_type": "stream",
          "text": [
            "--2019-07-27 10:39:57--  https://github.com/rapidsai/notebooks-extended/raw/master/utils/rapids-colab.sh\n",
            "Resolving github.com (github.com)... 140.82.113.4\n",
            "Connecting to github.com (github.com)|140.82.113.4|:443... connected.\n",
            "HTTP request sent, awaiting response... 302 Found\n",
            "Location: https://raw.githubusercontent.com/rapidsai/notebooks-extended/master/utils/rapids-colab.sh [following]\n",
            "--2019-07-27 10:39:57--  https://raw.githubusercontent.com/rapidsai/notebooks-extended/master/utils/rapids-colab.sh\n",
            "Resolving raw.githubusercontent.com (raw.githubusercontent.com)... 151.101.0.133, 151.101.64.133, 151.101.128.133, ...\n",
            "Connecting to raw.githubusercontent.com (raw.githubusercontent.com)|151.101.0.133|:443... connected.\n",
            "HTTP request sent, awaiting response... 200 OK\n",
            "Length: 1548 (1.5K) [text/plain]\n",
            "Saving to: ‘rapids-colab.sh’\n",
            "\n",
            "rapids-colab.sh     100%[===================>]   1.51K  --.-KB/s    in 0s      \n",
            "\n",
            "2019-07-27 10:39:58 (229 MB/s) - ‘rapids-colab.sh’ saved [1548/1548]\n",
            "\n",
            "--2019-07-27 10:39:58--  https://github.com/rapidsai/notebooks-extended/raw/master/utils/env-check.py\n",
            "Resolving github.com (github.com)... 140.82.113.4\n",
            "Connecting to github.com (github.com)|140.82.113.4|:443... connected.\n",
            "HTTP request sent, awaiting response... 302 Found\n",
            "Location: https://raw.githubusercontent.com/rapidsai/notebooks-extended/master/utils/env-check.py [following]\n",
            "--2019-07-27 10:39:58--  https://raw.githubusercontent.com/rapidsai/notebooks-extended/master/utils/env-check.py\n",
            "Resolving raw.githubusercontent.com (raw.githubusercontent.com)... 151.101.0.133, 151.101.64.133, 151.101.128.133, ...\n",
            "Connecting to raw.githubusercontent.com (raw.githubusercontent.com)|151.101.0.133|:443... connected.\n",
            "HTTP request sent, awaiting response... 200 OK\n",
            "Length: 783 [text/plain]\n",
            "Saving to: ‘env-check.py’\n",
            "\n",
            "env-check.py        100%[===================>]     783  --.-KB/s    in 0s      \n",
            "\n",
            "2019-07-27 10:39:59 (132 MB/s) - ‘env-check.py’ saved [783/783]\n",
            "\n",
            "Checking for GPU type:\n",
            "*********************************************\n",
            "Woo! Your instance has the right kind of GPU!\n",
            "*********************************************\n",
            "\n",
            "Removing conflicting packages, will replace with RAPIDS compatible versions\n",
            "Uninstalling xgboost-0.90:\n",
            "  Successfully uninstalled xgboost-0.90\n",
            "Uninstalling dask-1.1.5:\n",
            "  Successfully uninstalled dask-1.1.5\n",
            "Uninstalling distributed-1.25.3:\n",
            "  Successfully uninstalled distributed-1.25.3\n",
            "Installing conda\n",
            "--2019-07-27 10:40:03--  https://repo.continuum.io/miniconda/Miniconda3-4.5.4-Linux-x86_64.sh\n",
            "Resolving repo.continuum.io (repo.continuum.io)... 104.18.200.79, 104.18.201.79, 2606:4700::6812:c94f, ...\n",
            "Connecting to repo.continuum.io (repo.continuum.io)|104.18.200.79|:443... connected.\n",
            "HTTP request sent, awaiting response... 200 OK\n",
            "Length: 58468498 (56M) [application/x-sh]\n",
            "Saving to: ‘Miniconda3-4.5.4-Linux-x86_64.sh’\n",
            "\n",
            "Miniconda3-4.5.4-Li 100%[===================>]  55.76M   206MB/s    in 0.3s    \n",
            "\n",
            "2019-07-27 10:40:03 (206 MB/s) - ‘Miniconda3-4.5.4-Linux-x86_64.sh’ saved [58468498/58468498]\n",
            "\n",
            "PREFIX=/usr/local\n",
            "installing: python-3.6.5-hc3d631a_2 ...\n",
            "Python 3.6.5 :: Anaconda, Inc.\n",
            "installing: ca-certificates-2018.03.07-0 ...\n",
            "installing: conda-env-2.6.0-h36134e3_1 ...\n",
            "installing: libgcc-ng-7.2.0-hdf63c60_3 ...\n",
            "installing: libstdcxx-ng-7.2.0-hdf63c60_3 ...\n",
            "installing: libffi-3.2.1-hd88cf55_4 ...\n",
            "installing: ncurses-6.1-hf484d3e_0 ...\n",
            "installing: openssl-1.0.2o-h20670df_0 ...\n",
            "installing: tk-8.6.7-hc745277_3 ...\n",
            "installing: xz-5.2.4-h14c3975_4 ...\n",
            "installing: yaml-0.1.7-had09818_2 ...\n",
            "installing: zlib-1.2.11-ha838bed_2 ...\n",
            "installing: libedit-3.1.20170329-h6b74fdf_2 ...\n",
            "installing: readline-7.0-ha6073c6_4 ...\n",
            "installing: sqlite-3.23.1-he433501_0 ...\n",
            "installing: asn1crypto-0.24.0-py36_0 ...\n",
            "installing: certifi-2018.4.16-py36_0 ...\n",
            "installing: chardet-3.0.4-py36h0f667ec_1 ...\n",
            "installing: idna-2.6-py36h82fb2a8_1 ...\n",
            "installing: pycosat-0.6.3-py36h0a5515d_0 ...\n",
            "installing: pycparser-2.18-py36hf9f622e_1 ...\n",
            "installing: pysocks-1.6.8-py36_0 ...\n",
            "installing: ruamel_yaml-0.15.37-py36h14c3975_2 ...\n",
            "installing: six-1.11.0-py36h372c433_1 ...\n",
            "installing: cffi-1.11.5-py36h9745a5d_0 ...\n",
            "installing: setuptools-39.2.0-py36_0 ...\n",
            "installing: cryptography-2.2.2-py36h14c3975_0 ...\n",
            "installing: wheel-0.31.1-py36_0 ...\n",
            "installing: pip-10.0.1-py36_0 ...\n",
            "installing: pyopenssl-18.0.0-py36_0 ...\n",
            "installing: urllib3-1.22-py36hbe7ace6_0 ...\n",
            "installing: requests-2.18.4-py36he2e5f8d_1 ...\n",
            "installing: conda-4.5.4-py36_0 ...\n",
            "installation finished.\n",
            "WARNING:\n",
            "    You currently have a PYTHONPATH environment variable set. This may cause\n",
            "    unexpected behavior when running the Python interpreter in Miniconda3.\n",
            "    For best results, please verify that your PYTHONPATH only points to\n",
            "    directories of packages that are compatible with the Python interpreter\n",
            "    in Miniconda3: /usr/local\n",
            "Installing RAPIDS packages\n",
            "Please standby, this will take a few minutes...\n",
            "\n",
            "\n",
            "==> WARNING: A newer version of conda exists. <==\n",
            "  current version: 4.5.4\n",
            "  latest version: 4.7.10\n",
            "\n",
            "Please update conda by running\n",
            "\n",
            "    $ conda update -n base conda\n",
            "\n",
            "\n",
            "boost-cpp-1.68.0     | 20.5 MB | : 100% 1.0/1 [00:09<00:00,  9.19s/it]               \n",
            "nccl-2.4.6.1         | 66.6 MB | : 100% 1.0/1 [00:13<00:00, 42.54s/it]               \n",
            "msgpack-python-0.6.1 |   89 KB | : 100% 1.0/1 [00:00<00:00, 19.03it/s]\n",
            "cloudpickle-1.2.1    |   22 KB | : 100% 1.0/1 [00:00<00:00, 21.63it/s]\n",
            "zstd-1.4.0           |  928 KB | : 100% 1.0/1 [00:00<00:00,  5.21it/s]               \n",
            "libopenblas-0.3.6    |  7.7 MB | : 100% 1.0/1 [00:01<00:00,  1.50s/it]               \n",
            "chardet-3.0.4        |  190 KB | : 100% 1.0/1 [00:00<00:00, 10.67it/s]\n",
            "tornado-6.0.3        |  636 KB | : 100% 1.0/1 [00:00<00:00,  4.32it/s]              \n",
            "distributed-2.1.0    |  363 KB | : 100% 1.0/1 [00:00<00:00,  5.49it/s]               \n",
            "packaging-19.0       |   23 KB | : 100% 1.0/1 [00:00<00:00, 23.10it/s]\n",
            "pyasn1-0.4.5         |   49 KB | : 100% 1.0/1 [00:00<00:00, 14.42it/s]\n",
            "toolz-0.10.0         |   46 KB | : 100% 1.0/1 [00:00<00:00, 18.19it/s]\n",
            "libprotobuf-3.6.1    |  4.0 MB | : 100% 1.0/1 [00:00<00:00,  1.06it/s]              \n",
            "libcuml-0.9.0a1      | 27.6 MB | : 100% 1.0/1 [00:07<00:00,  7.82s/it]               \n",
            "pyasn1-modules-0.2.5 |   38 KB | : 100% 1.0/1 [00:00<00:00, 15.03it/s]\n",
            "rmm-0.9.0a1          |   14 KB | : 100% 1.0/1 [00:00<00:00,  3.53it/s] \n",
            "six-1.12.0           |   22 KB | : 100% 1.0/1 [00:00<00:00, 23.20it/s]\n",
            "dask-cudf-0.9.0a     |   61 KB | : 100% 1.0/1 [00:00<00:00,  4.90it/s]               \n",
            "cudatoolkit-10.0.130 | 380.0 MB | : 100% 1.0/1 [00:58<00:00, 58.14s/it]                \n",
            "zlib-1.2.11          |  105 KB | : 100% 1.0/1 [00:00<00:00, 15.99it/s]\n",
            "libnvstrings-0.9.0a1 | 16.8 MB | : 100% 1.0/1 [00:05<00:00,  5.31s/it]               \n",
            "numba-0.45.0         |  3.1 MB | : 100% 1.0/1 [00:01<00:00,  1.03s/it]               \n",
            "libstdcxx-ng-9.1.0   |  4.0 MB | : 100% 1.0/1 [00:00<00:00,  1.39it/s]               \n",
            "scikit-learn-0.21.2  |  6.7 MB | : 100% 1.0/1 [00:01<00:00,  1.63s/it]               \n",
            "wheel-0.33.4         |   34 KB | : 100% 1.0/1 [00:00<00:00, 20.81it/s]\n",
            "urllib3-1.25.3       |  187 KB | : 100% 1.0/1 [00:00<00:00,  8.97it/s]\n",
            "pyjwt-1.7.1          |   17 KB | : 100% 1.0/1 [00:00<00:00, 25.02it/s]\n",
            "cytoolz-0.10.0       |  429 KB | : 100% 1.0/1 [00:00<00:00,  7.52it/s]               \n",
            "libffi-3.2.1         |   46 KB | : 100% 1.0/1 [00:00<00:00, 17.58it/s]\n",
            "llvmlite-0.29.0      | 19.9 MB | : 100% 1.0/1 [00:03<00:00,  3.72s/it]               \n",
            "openssl-1.1.1c       |  2.1 MB | : 100% 1.0/1 [00:00<00:00,  2.40it/s]              \n",
            "libcumlmg-0.0.0.dev0 |  953 KB | : 100% 1.0/1 [00:00<00:00,  1.41it/s]               \n",
            "psutil-5.6.3         |  322 KB | : 100% 1.0/1 [00:00<00:00,  7.40it/s]               \n",
            "rsa-3.4.2            |   31 KB | : 100% 1.0/1 [00:00<00:00, 19.36it/s]\n",
            "jinja2-2.10.1        |   91 KB | : 100% 1.0/1 [00:00<00:00, 14.24it/s]\n",
            "libgcc-ng-9.1.0      |  8.1 MB | : 100% 1.0/1 [00:01<00:00,  1.48s/it]               \n",
            "markupsafe-1.1.1     |   26 KB | : 100% 1.0/1 [00:00<00:00, 21.57it/s]\n",
            "scipy-1.3.0          | 18.8 MB | : 100% 1.0/1 [00:03<00:00,  3.84s/it]               \n",
            "cffi-1.12.3          |  218 KB | : 100% 1.0/1 [00:00<00:00, 11.63it/s]\n",
            "libcblas-3.8.0       |    6 KB | : 100% 1.0/1 [00:00<00:00, 27.37it/s]\n",
            "requests-2.22.0      |   84 KB | : 100% 1.0/1 [00:00<00:00, 15.03it/s]\n",
            "pycparser-2.19       |  173 KB | : 100% 1.0/1 [00:00<00:00, 12.33it/s]\n",
            "zict-1.0.0           |   10 KB | : 100% 1.0/1 [00:00<00:00, 27.35it/s]\n",
            "numpy-1.16.4         |  4.3 MB | : 100% 1.0/1 [00:01<00:00,  1.12s/it]               \n",
            "libpng-1.6.37        |  343 KB | : 100% 1.0/1 [00:00<00:00, 10.50it/s]\n",
            "pyarrow-0.12.1       |  2.2 MB | : 100% 1.0/1 [00:00<00:00,  1.49it/s]               \n",
            "setuptools-41.0.1    |  612 KB | : 100% 1.0/1 [00:00<00:00,  4.58it/s]              \n",
            "parquet-cpp-1.5.1    |    3 KB | : 100% 1.0/1 [00:00<00:00, 27.41it/s]\n",
            "pyyaml-5.1.1         |  184 KB | : 100% 1.0/1 [00:00<00:00, 14.35it/s]\n",
            "dask-core-2.1.0      |  573 KB | : 100% 1.0/1 [00:00<00:00,  4.53it/s]               \n",
            "libcugraph-0.9.0a1   | 10.6 MB | : 100% 1.0/1 [00:02<00:00,  2.55s/it]               \n",
            "cuml-0.9.0a1         |  4.8 MB | : 100% 1.0/1 [00:01<00:00,  1.11s/it]              \n",
            "asn1crypto-0.24.0    |  154 KB | : 100% 1.0/1 [00:00<00:00, 11.45it/s]\n",
            "cugraph-0.9.0a1      |  1.2 MB | : 100% 1.0/1 [00:00<00:00,  2.38it/s]               \n",
            "libblas-3.8.0        |    6 KB | : 100% 1.0/1 [00:00<00:00, 25.16it/s]\n",
            "partd-1.0.0          |   16 KB | : 100% 1.0/1 [00:00<00:00, 23.93it/s]\n",
            "arrow-cpp-0.12.1     |  6.9 MB | : 100% 1.0/1 [00:01<00:00,  1.43s/it]               \n",
            "tblib-1.4.0          |   12 KB | : 100% 1.0/1 [00:00<00:00, 24.90it/s]\n",
            "pytz-2019.1          |  227 KB | : 100% 1.0/1 [00:00<00:00,  4.45it/s]               \n",
            "sortedcontainers-2.1 |   25 KB | : 100% 1.0/1 [00:00<00:00, 21.97it/s]\n",
            "pillow-6.0.0         |  615 KB | : 100% 1.0/1 [00:00<00:00,  4.95it/s]               \n",
            "tk-8.6.9             |  3.2 MB | : 100% 1.0/1 [00:00<00:00,  1.38it/s]              \n",
            "olefile-0.46         |   31 KB | : 100% 1.0/1 [00:00<00:00, 25.50it/s]\n",
            "idna-2.8             |  132 KB | : 100% 1.0/1 [00:00<00:00, 16.14it/s]\n",
            "freetype-2.10.0      |  885 KB | : 100% 1.0/1 [00:00<00:00,  4.96it/s]               \n",
            "python-3.6.7         | 34.6 MB | : 100% 1.0/1 [00:05<00:00,  6.00s/it]               \n",
            "libtiff-4.0.10       |  587 KB | : 100% 1.0/1 [00:00<00:00,  6.10it/s]               \n",
            "icu-58.2             | 22.6 MB | : 100% 1.0/1 [00:03<00:00,  3.91s/it]               \n",
            "readline-8.0         |  441 KB | : 100% 1.0/1 [00:00<00:00,  8.24it/s]\n",
            "locket-0.2.0         |    6 KB | : 100% 1.0/1 [00:00<00:00, 27.12it/s]\n",
            "decorator-4.4.0      |   11 KB | : 100% 1.0/1 [00:00<00:00, 28.61it/s]\n",
            "dlpack-0.2           |   12 KB | : 100% 1.0/1 [00:00<00:00, 28.66it/s]\n",
            "xgboost-0.90.rapidsd |   12 KB | : 100% 1.0/1 [00:00<00:00,  2.69it/s] \n",
            "_libgcc_mutex-0.1    |    3 KB | : 100% 1.0/1 [00:00<00:00, 35.69it/s]\n",
            "libxgboost-0.90.rapi | 33.2 MB | : 100% 1.0/1 [00:09<00:00,  9.14s/it]               \n",
            "sqlite-3.29.0        |  2.0 MB | : 100% 1.0/1 [00:00<00:00,  2.75it/s]               \n",
            "xz-5.2.4             |  366 KB | : 100% 1.0/1 [00:00<00:00,  8.26it/s]               \n",
            "ncurses-6.1          |  1.3 MB | : 100% 1.0/1 [00:00<00:00,  1.07it/s]               \n",
            "pyopenssl-19.0.0     |   81 KB | : 100% 1.0/1 [00:00<00:00, 17.50it/s]\n",
            "gcsfs-0.3.0          |   19 KB | : 100% 1.0/1 [00:00<00:00, 20.79it/s]\n",
            "dask-cuml-0.9.0a     |   30 KB | : 100% 1.0/1 [00:00<00:00,  3.40it/s]               \n",
            "ca-certificates-2019 |  145 KB | : 100% 1.0/1 [00:00<00:00, 18.65it/s]\n",
            "blinker-1.4          |   13 KB | : 100% 1.0/1 [00:00<00:00, 26.08it/s]\n",
            "pynvml-8.0.1         |   28 KB | : 100% 1.0/1 [00:00<00:00, 23.99it/s]\n",
            "pyparsing-2.4.1.1    |   57 KB | : 100% 1.0/1 [00:00<00:00, 21.37it/s]\n",
            "jpeg-9c              |  251 KB | : 100% 1.0/1 [00:00<00:00, 10.20it/s]\n",
            "lz4-c-1.8.3          |  187 KB | : 100% 1.0/1 [00:00<00:00, 10.27it/s]\n",
            "nvstrings-0.9.0a1    |  124 KB | : 100% 1.0/1 [00:00<00:00,  4.16it/s]               \n",
            "boost-1.68.0         |  325 KB | : 100% 1.0/1 [00:00<00:00,  5.85it/s]               \n",
            "cython-0.29.13       |  2.2 MB | : 100% 1.0/1 [00:00<00:00,  1.63it/s]               \n",
            "requests-oauthlib-1. |   19 KB | : 100% 1.0/1 [00:00<00:00, 24.21it/s]\n",
            "yaml-0.1.7           |   78 KB | : 100% 1.0/1 [00:00<00:00, 19.64it/s]\n",
            "click-7.0            |   61 KB | : 100% 1.0/1 [00:00<00:00, 20.30it/s]\n",
            "fsspec-0.3.6         |   39 KB | : 100% 1.0/1 [00:00<00:00, 21.63it/s]\n",
            "dask-2.1.0           |    4 KB | : 100% 1.0/1 [00:00<00:00, 31.61it/s]\n",
            "thrift-cpp-0.12.0    |  2.4 MB | : 100% 1.0/1 [00:00<00:00,  1.95it/s]               \n",
            "pandas-0.25.0        | 11.4 MB | : 100% 1.0/1 [00:02<00:00,  2.73s/it]               \n",
            "libcudf-0.9.0a       | 31.3 MB | : 100% 1.0/1 [00:07<00:00,  7.08s/it]               \n",
            "dask-cuda-0.9.0a     |  902 KB | : 100% 1.0/1 [00:00<00:00,  1.35it/s]               \n",
            "python-dateutil-2.8. |  219 KB | : 100% 1.0/1 [00:00<00:00, 12.90it/s]\n",
            "libgfortran-ng-7.3.0 |  1.3 MB | : 100% 1.0/1 [00:00<00:00,  3.45it/s]               \n",
            "cryptography-2.7     |  607 KB | : 100% 1.0/1 [00:00<00:00,  4.27it/s]               \n",
            "bzip2-1.0.8          |  396 KB | : 100% 1.0/1 [00:00<00:00,  8.71it/s]\n",
            "liblapack-3.8.0      |    6 KB | : 100% 1.0/1 [00:00<00:00, 25.11it/s]\n",
            "google-auth-1.6.3    |   45 KB | : 100% 1.0/1 [00:00<00:00, 18.75it/s]\n",
            "oauthlib-3.0.1       |   82 KB | : 100% 1.0/1 [00:00<00:00, 13.51it/s]\n",
            "certifi-2019.6.16    |  149 KB | : 100% 1.0/1 [00:00<00:00, 16.84it/s]\n",
            "bokeh-1.3.0          |  4.1 MB | : 100% 1.0/1 [00:01<00:00,  1.57s/it]               \n",
            "heapdict-1.0.0       |    7 KB | : 100% 1.0/1 [00:00<00:00, 26.55it/s]\n",
            "py-xgboost-0.90.rapi |   87 KB | : 100% 1.0/1 [00:00<00:00,  6.20it/s]                \n",
            "joblib-0.13.2        |  180 KB | : 100% 1.0/1 [00:00<00:00,  9.19it/s]\n",
            "google-auth-oauthlib |   18 KB | : 100% 1.0/1 [00:00<00:00, 23.73it/s]\n",
            "librmm-0.9.0a1       |   44 KB | : 100% 1.0/1 [00:00<00:00,  5.43it/s]               \n",
            "cudf-0.9.0a          |  3.8 MB | : 100% 1.0/1 [00:00<00:00,  1.07it/s]              \n",
            "openblas-0.3.6       |  8.2 MB | : 100% 1.0/1 [00:01<00:00,  1.99s/it]               \n",
            "pysocks-1.7.0        |   26 KB | : 100% 1.0/1 [00:00<00:00, 24.66it/s]\n",
            "pip-19.2.1           |  1.9 MB | : 100% 1.0/1 [00:00<00:00,  1.64it/s]               \n",
            "cachetools-2.1.0     |   10 KB | : 100% 1.0/1 [00:00<00:00, 25.30it/s]\n",
            "Copying shared object files to /usr/lib\n",
            "\n",
            "*********************************************\n",
            "Your Google Colab instance is RAPIDS ready!\n",
            "*********************************************\n"
          ],
          "name": "stdout"
        }
      ]
    },
    {
      "cell_type": "code",
      "metadata": {
        "id": "YUWGkOZZ7sG0",
        "colab_type": "code",
        "colab": {}
      },
      "source": [
        "import numpy as np\n",
        "import pandas as pd\n",
        "\n",
        "import cudf\n",
        "import os\n",
        "\n",
        "from sklearn import datasets\n",
        "from sklearn.metrics import adjusted_rand_score\n",
        "from sklearn.cluster import KMeans\n",
        "from sklearn.manifold.t_sne import trustworthiness\n",
        "\n",
        "from cuml.manifold.umap import UMAP"
      ],
      "execution_count": 0,
      "outputs": []
    },
    {
      "cell_type": "markdown",
      "metadata": {
        "id": "o9KocJ_n7sG4",
        "colab_type": "text"
      },
      "source": [
        "# Running cuml's UMAP model on blobs dataset"
      ]
    },
    {
      "cell_type": "code",
      "metadata": {
        "id": "Si3IagNP7sG6",
        "colab_type": "code",
        "colab": {}
      },
      "source": [
        "# create a blobs dataset with 500 samples and 10 features each\n",
        "data, labels = datasets.make_blobs(\n",
        "    n_samples=500, n_features=10, centers=5)"
      ],
      "execution_count": 0,
      "outputs": []
    },
    {
      "cell_type": "code",
      "metadata": {
        "id": "HWEATONo7sG-",
        "colab_type": "code",
        "colab": {}
      },
      "source": [
        "# using the cuml UMAP algorithm to reduce the features of the dataset and store\n",
        "embedding = UMAP().fit_transform(data)"
      ],
      "execution_count": 0,
      "outputs": []
    },
    {
      "cell_type": "code",
      "metadata": {
        "id": "auZRNg2W7sHD",
        "colab_type": "code",
        "outputId": "56aa2f9e-7f1f-48ae-ff5a-31a8516a9701",
        "colab": {
          "base_uri": "https://localhost:8080/",
          "height": 34
        }
      },
      "source": [
        "# calculate the score of the results obtained using cuml's algorithm and sklearn kmeans\n",
        "score = adjusted_rand_score(labels,\n",
        "            KMeans(5).fit_predict(embedding))\n",
        "print(score) # should equal 1.0"
      ],
      "execution_count": 5,
      "outputs": [
        {
          "output_type": "stream",
          "text": [
            "1.0\n"
          ],
          "name": "stdout"
        }
      ]
    },
    {
      "cell_type": "markdown",
      "metadata": {
        "id": "EWRiph717sHJ",
        "colab_type": "text"
      },
      "source": [
        "# Running cuml's UMAP model on iris dataset"
      ]
    },
    {
      "cell_type": "code",
      "metadata": {
        "id": "OdCayMII7sHK",
        "colab_type": "code",
        "colab": {}
      },
      "source": [
        "# load the iris dataset from sklearn and extract the required information\n",
        "iris = datasets.load_iris()\n",
        "data = iris.data"
      ],
      "execution_count": 0,
      "outputs": []
    },
    {
      "cell_type": "code",
      "metadata": {
        "scrolled": true,
        "id": "bBU1Zcrb7sHP",
        "colab_type": "code",
        "colab": {}
      },
      "source": [
        "# define the cuml UMAP model and use fit_transform function to obtain the low dimensional output of the input dataset\n",
        "embedding = UMAP(\n",
        "    n_neighbors=10, min_dist=0.01,  init=\"random\"\n",
        ").fit_transform(data)"
      ],
      "execution_count": 0,
      "outputs": []
    },
    {
      "cell_type": "code",
      "metadata": {
        "id": "ZNWLwDm87sHS",
        "colab_type": "code",
        "outputId": "afa959f8-63cd-43e1-f3d7-13f3c720a67c",
        "colab": {
          "base_uri": "https://localhost:8080/",
          "height": 34
        }
      },
      "source": [
        "# calculate the trust worthiness of the results obtaind from the cuml UMAP\n",
        "trust = trustworthiness(iris.data, embedding, 10)\n",
        "print(trust)"
      ],
      "execution_count": 8,
      "outputs": [
        {
          "output_type": "stream",
          "text": [
            "0.9745724907063197\n"
          ],
          "name": "stdout"
        }
      ]
    },
    {
      "cell_type": "code",
      "metadata": {
        "id": "Ify4jpTG7sHW",
        "colab_type": "code",
        "outputId": "5a8cf0dd-ea38-43f5-8c0e-8cd36e7d77f2",
        "colab": {
          "base_uri": "https://localhost:8080/",
          "height": 1000
        }
      },
      "source": [
        "# create a selection variable which will have 75% True and 25% False values. The size of the selection variable is 150\n",
        "iris_selection = np.random.choice(\n",
        "    [True, False], 150, replace=True, p=[0.75, 0.25])\n",
        "# create an iris dataset using the selection variable\n",
        "data = iris.data[iris_selection]\n",
        "print(data)"
      ],
      "execution_count": 9,
      "outputs": [
        {
          "output_type": "stream",
          "text": [
            "[[5.1 3.5 1.4 0.2]\n",
            " [4.7 3.2 1.3 0.2]\n",
            " [4.6 3.1 1.5 0.2]\n",
            " [5.  3.6 1.4 0.2]\n",
            " [4.6 3.4 1.4 0.3]\n",
            " [5.  3.4 1.5 0.2]\n",
            " [4.4 2.9 1.4 0.2]\n",
            " [4.8 3.4 1.6 0.2]\n",
            " [4.8 3.  1.4 0.1]\n",
            " [4.3 3.  1.1 0.1]\n",
            " [5.4 3.9 1.3 0.4]\n",
            " [5.1 3.5 1.4 0.3]\n",
            " [5.1 3.8 1.5 0.3]\n",
            " [5.4 3.4 1.7 0.2]\n",
            " [5.1 3.7 1.5 0.4]\n",
            " [5.1 3.3 1.7 0.5]\n",
            " [5.  3.  1.6 0.2]\n",
            " [5.  3.4 1.6 0.4]\n",
            " [5.2 3.5 1.5 0.2]\n",
            " [5.2 3.4 1.4 0.2]\n",
            " [4.7 3.2 1.6 0.2]\n",
            " [4.8 3.1 1.6 0.2]\n",
            " [5.4 3.4 1.5 0.4]\n",
            " [5.2 4.1 1.5 0.1]\n",
            " [5.5 4.2 1.4 0.2]\n",
            " [4.9 3.1 1.5 0.2]\n",
            " [5.  3.2 1.2 0.2]\n",
            " [5.5 3.5 1.3 0.2]\n",
            " [4.4 3.  1.3 0.2]\n",
            " [5.1 3.4 1.5 0.2]\n",
            " [4.5 2.3 1.3 0.3]\n",
            " [5.  3.5 1.6 0.6]\n",
            " [5.1 3.8 1.9 0.4]\n",
            " [4.8 3.  1.4 0.3]\n",
            " [5.3 3.7 1.5 0.2]\n",
            " [5.  3.3 1.4 0.2]\n",
            " [7.  3.2 4.7 1.4]\n",
            " [6.4 3.2 4.5 1.5]\n",
            " [6.9 3.1 4.9 1.5]\n",
            " [5.5 2.3 4.  1.3]\n",
            " [6.5 2.8 4.6 1.5]\n",
            " [5.7 2.8 4.5 1.3]\n",
            " [6.3 3.3 4.7 1.6]\n",
            " [4.9 2.4 3.3 1. ]\n",
            " [6.6 2.9 4.6 1.3]\n",
            " [5.2 2.7 3.9 1.4]\n",
            " [5.  2.  3.5 1. ]\n",
            " [5.9 3.  4.2 1.5]\n",
            " [6.1 2.9 4.7 1.4]\n",
            " [5.6 2.9 3.6 1.3]\n",
            " [6.7 3.1 4.4 1.4]\n",
            " [5.6 3.  4.5 1.5]\n",
            " [5.8 2.7 4.1 1. ]\n",
            " [6.2 2.2 4.5 1.5]\n",
            " [5.6 2.5 3.9 1.1]\n",
            " [5.9 3.2 4.8 1.8]\n",
            " [6.1 2.8 4.  1.3]\n",
            " [6.1 2.8 4.7 1.2]\n",
            " [6.6 3.  4.4 1.4]\n",
            " [6.8 2.8 4.8 1.4]\n",
            " [6.  2.9 4.5 1.5]\n",
            " [5.5 2.4 3.8 1.1]\n",
            " [5.8 2.7 3.9 1.2]\n",
            " [6.  2.7 5.1 1.6]\n",
            " [5.4 3.  4.5 1.5]\n",
            " [6.  3.4 4.5 1.6]\n",
            " [6.3 2.3 4.4 1.3]\n",
            " [5.5 2.5 4.  1.3]\n",
            " [6.1 3.  4.6 1.4]\n",
            " [5.6 2.7 4.2 1.3]\n",
            " [5.7 3.  4.2 1.2]\n",
            " [5.7 2.9 4.2 1.3]\n",
            " [6.2 2.9 4.3 1.3]\n",
            " [5.1 2.5 3.  1.1]\n",
            " [5.8 2.7 5.1 1.9]\n",
            " [7.1 3.  5.9 2.1]\n",
            " [6.5 3.  5.8 2.2]\n",
            " [7.6 3.  6.6 2.1]\n",
            " [7.3 2.9 6.3 1.8]\n",
            " [6.7 2.5 5.8 1.8]\n",
            " [7.2 3.6 6.1 2.5]\n",
            " [6.5 3.2 5.1 2. ]\n",
            " [6.4 2.7 5.3 1.9]\n",
            " [5.7 2.5 5.  2. ]\n",
            " [5.8 2.8 5.1 2.4]\n",
            " [6.5 3.  5.5 1.8]\n",
            " [7.7 3.8 6.7 2.2]\n",
            " [6.  2.2 5.  1.5]\n",
            " [6.9 3.2 5.7 2.3]\n",
            " [5.6 2.8 4.9 2. ]\n",
            " [7.7 2.8 6.7 2. ]\n",
            " [6.7 3.3 5.7 2.1]\n",
            " [7.2 3.2 6.  1.8]\n",
            " [6.2 2.8 4.8 1.8]\n",
            " [6.1 3.  4.9 1.8]\n",
            " [6.4 2.8 5.6 2.1]\n",
            " [7.2 3.  5.8 1.6]\n",
            " [7.4 2.8 6.1 1.9]\n",
            " [7.9 3.8 6.4 2. ]\n",
            " [6.4 2.8 5.6 2.2]\n",
            " [6.1 2.6 5.6 1.4]\n",
            " [7.7 3.  6.1 2.3]\n",
            " [6.4 3.1 5.5 1.8]\n",
            " [6.  3.  4.8 1.8]\n",
            " [6.9 3.1 5.4 2.1]\n",
            " [6.7 3.1 5.6 2.4]\n",
            " [6.9 3.1 5.1 2.3]\n",
            " [5.8 2.7 5.1 1.9]\n",
            " [6.7 3.3 5.7 2.5]\n",
            " [6.7 3.  5.2 2.3]\n",
            " [6.3 2.5 5.  1.9]\n",
            " [6.5 3.  5.2 2. ]\n",
            " [5.9 3.  5.1 1.8]]\n"
          ],
          "name": "stdout"
        }
      ]
    },
    {
      "cell_type": "code",
      "metadata": {
        "id": "hcSaciYm7sHb",
        "colab_type": "code",
        "colab": {}
      },
      "source": [
        "# create a cuml UMAP model \n",
        "fitter = UMAP(n_neighbors=10, min_dist=0.01, verbose=False)\n",
        "# fit the data created the selection variable to the cuml UMAP model created (fitter)\n",
        "fitter.fit(data)\n",
        "# create a new iris dataset by inverting the values of the selection variable (ie. 75% False and 25% True values) \n",
        "new_data = iris.data[~iris_selection]\n",
        "# transform the new data using the previously created embedded space\n",
        "embedding = fitter.transform(new_data)"
      ],
      "execution_count": 0,
      "outputs": []
    },
    {
      "cell_type": "code",
      "metadata": {
        "id": "l8Xfz80-7sHg",
        "colab_type": "code",
        "outputId": "9f29e63d-a8a5-421a-818d-8c167a6b047b",
        "colab": {
          "base_uri": "https://localhost:8080/",
          "height": 34
        }
      },
      "source": [
        "# calculate the trustworthiness score for the new data created (new_data)\n",
        "trust = trustworthiness(new_data, embedding, 10)\n",
        "print(trust)"
      ],
      "execution_count": 11,
      "outputs": [
        {
          "output_type": "stream",
          "text": [
            "0.9767441860465116\n"
          ],
          "name": "stdout"
        }
      ]
    },
    {
      "cell_type": "code",
      "metadata": {
        "id": "Z1zkAZR2CV38",
        "colab_type": "code",
        "colab": {}
      },
      "source": [
        ""
      ],
      "execution_count": 0,
      "outputs": []
    }
  ]
}