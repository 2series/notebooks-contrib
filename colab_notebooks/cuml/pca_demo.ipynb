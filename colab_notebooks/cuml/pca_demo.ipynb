{
  "nbformat": 4,
  "nbformat_minor": 0,
  "metadata": {
    "colab": {
      "name": "pca_demo.ipynb",
      "version": "0.3.2",
      "provenance": []
    },
    "language_info": {
      "codemirror_mode": {
        "name": "ipython",
        "version": 3
      },
      "file_extension": ".py",
      "mimetype": "text/x-python",
      "name": "python",
      "nbconvert_exporter": "python",
      "pygments_lexer": "ipython3",
      "version": "3.6.8"
    },
    "kernelspec": {
      "name": "python3",
      "display_name": "Python 3"
    },
    "accelerator": "GPU"
  },
  "cells": [
    {
      "cell_type": "markdown",
      "metadata": {
        "id": "h0QdVhSqGmWp",
        "colab_type": "text"
      },
      "source": [
        "\n",
        "# Principal Componenet Analysis (PCA)\n",
        "The PCA algorithm is a dimensionality reduction algorithm which works really well for datasets which have correlated columns. It combines the features of X in linear combination such that the new components capture the most information of the data. \n",
        "\n",
        "The PCA model is implemented in the cuML library and can accept the following parameters: \n",
        "1. `svd_solver`: selects the type of algorithm used: Jacobi or full (default = full)\n",
        "2. `n_components`: the number of top K vectors to be present in the output (default = 1)\n",
        "3. `random_state`: select a random state if the results should be reproducible across multiple runs (default = None)\n",
        "4. `copy`: if 'True' then it copies the data and removes mean from it else the data will be overwritten with its mean centered version (default = True)\n",
        "5. `whiten`: if True, de-correlates the components (default = False)\n",
        "6. `tol`: if the svd_solver = 'Jacobi' then this variable is used to set the tolerance (default = 1e-7)\n",
        "7. `iterated_power`: if the svd_solver = 'Jacobi' then this variable decides the number of iterations (default = 15)\n",
        "\n",
        "The cuml implementation of the PCA model has the following functions that one can run:\n",
        "1. `Fit`: it fits the model with the dataset\n",
        "2. `Fit_transform`: fits the PCA model with the dataset and performs dimensionality reduction on it\n",
        "3. `Inverse_transform`: returns the original dataset when the transformed dataset is passed as the input\n",
        "4. `Transform`: performs dimensionality reduction on the dataset\n",
        "5. `Get_params`: returns the value of the parameters of the PCA model\n",
        "6. `Set_params`: allows the user to set the value of the parameters of the PCA model\n",
        "\n",
        "The model accepts only numpy arrays or cudf dataframes as the input. \n",
        "  - To convert your dataset to cudf format please read the cudf [documentation](https://rapidsai.github.io/projects/cudf/en/latest/). \n",
        "  - For additional information on the PCA model please refer to the [documentation](https://rapidsai.github.io/projects/cuml/en/latest/index.html)"
      ]
    },
    {
      "cell_type": "code",
      "metadata": {
        "id": "pOExsbY0Hzj6",
        "colab_type": "code",
        "outputId": "fee7f582-ca44-40b6-8e38-db616deed881",
        "colab": {
          "base_uri": "https://localhost:8080/",
          "height": 1000
        }
      },
      "source": [
        "!wget -nc https://github.com/rapidsai/notebooks-extended/raw/master/utils/rapids-colab.sh\n",
        "!bash rapids-colab.sh\n",
        "\n",
        "import sys, os\n",
        "\n",
        "sys.path.append('/usr/local/lib/python3.6/site-packages/')\n",
        "os.environ['NUMBAPRO_NVVM'] = '/usr/local/cuda/nvvm/lib64/libnvvm.so'\n",
        "os.environ['NUMBAPRO_LIBDEVICE'] = '/usr/local/cuda/nvvm/libdevice/'"
      ],
      "execution_count": 1,
      "outputs": [
        {
          "output_type": "stream",
          "text": [
            "--2019-07-27 09:48:46--  https://github.com/rapidsai/notebooks-extended/raw/master/utils/rapids-colab.sh\n",
            "Resolving github.com (github.com)... 52.192.72.89\n",
            "Connecting to github.com (github.com)|52.192.72.89|:443... connected.\n",
            "HTTP request sent, awaiting response... 302 Found\n",
            "Location: https://raw.githubusercontent.com/rapidsai/notebooks-extended/master/utils/rapids-colab.sh [following]\n",
            "--2019-07-27 09:48:47--  https://raw.githubusercontent.com/rapidsai/notebooks-extended/master/utils/rapids-colab.sh\n",
            "Resolving raw.githubusercontent.com (raw.githubusercontent.com)... 151.101.0.133, 151.101.64.133, 151.101.128.133, ...\n",
            "Connecting to raw.githubusercontent.com (raw.githubusercontent.com)|151.101.0.133|:443... connected.\n",
            "HTTP request sent, awaiting response... 200 OK\n",
            "Length: 1548 (1.5K) [text/plain]\n",
            "Saving to: ‘rapids-colab.sh’\n",
            "\n",
            "rapids-colab.sh     100%[===================>]   1.51K  --.-KB/s    in 0s      \n",
            "\n",
            "2019-07-27 09:48:47 (225 MB/s) - ‘rapids-colab.sh’ saved [1548/1548]\n",
            "\n",
            "--2019-07-27 09:48:48--  https://github.com/rapidsai/notebooks-extended/raw/master/utils/env-check.py\n",
            "Resolving github.com (github.com)... 52.192.72.89\n",
            "Connecting to github.com (github.com)|52.192.72.89|:443... connected.\n",
            "HTTP request sent, awaiting response... 302 Found\n",
            "Location: https://raw.githubusercontent.com/rapidsai/notebooks-extended/master/utils/env-check.py [following]\n",
            "--2019-07-27 09:48:48--  https://raw.githubusercontent.com/rapidsai/notebooks-extended/master/utils/env-check.py\n",
            "Resolving raw.githubusercontent.com (raw.githubusercontent.com)... 151.101.0.133, 151.101.64.133, 151.101.128.133, ...\n",
            "Connecting to raw.githubusercontent.com (raw.githubusercontent.com)|151.101.0.133|:443... connected.\n",
            "HTTP request sent, awaiting response... 200 OK\n",
            "Length: 783 [text/plain]\n",
            "Saving to: ‘env-check.py’\n",
            "\n",
            "env-check.py        100%[===================>]     783  --.-KB/s    in 0s      \n",
            "\n",
            "2019-07-27 09:48:48 (138 MB/s) - ‘env-check.py’ saved [783/783]\n",
            "\n",
            "Checking for GPU type:\n",
            "*********************************************\n",
            "Woo! Your instance has the right kind of GPU!\n",
            "*********************************************\n",
            "\n",
            "Removing conflicting packages, will replace with RAPIDS compatible versions\n",
            "Uninstalling xgboost-0.90:\n",
            "  Successfully uninstalled xgboost-0.90\n",
            "Uninstalling dask-1.1.5:\n",
            "  Successfully uninstalled dask-1.1.5\n",
            "Uninstalling distributed-1.25.3:\n",
            "  Successfully uninstalled distributed-1.25.3\n",
            "Installing conda\n",
            "--2019-07-27 09:48:53--  https://repo.continuum.io/miniconda/Miniconda3-4.5.4-Linux-x86_64.sh\n",
            "Resolving repo.continuum.io (repo.continuum.io)... 104.18.200.79, 104.18.201.79, 2606:4700::6812:c94f, ...\n",
            "Connecting to repo.continuum.io (repo.continuum.io)|104.18.200.79|:443... connected.\n",
            "HTTP request sent, awaiting response... 200 OK\n",
            "Length: 58468498 (56M) [application/x-sh]\n",
            "Saving to: ‘Miniconda3-4.5.4-Linux-x86_64.sh’\n",
            "\n",
            "Miniconda3-4.5.4-Li 100%[===================>]  55.76M   173MB/s    in 0.3s    \n",
            "\n",
            "2019-07-27 09:48:53 (173 MB/s) - ‘Miniconda3-4.5.4-Linux-x86_64.sh’ saved [58468498/58468498]\n",
            "\n",
            "PREFIX=/usr/local\n",
            "installing: python-3.6.5-hc3d631a_2 ...\n",
            "Python 3.6.5 :: Anaconda, Inc.\n",
            "installing: ca-certificates-2018.03.07-0 ...\n",
            "installing: conda-env-2.6.0-h36134e3_1 ...\n",
            "installing: libgcc-ng-7.2.0-hdf63c60_3 ...\n",
            "installing: libstdcxx-ng-7.2.0-hdf63c60_3 ...\n",
            "installing: libffi-3.2.1-hd88cf55_4 ...\n",
            "installing: ncurses-6.1-hf484d3e_0 ...\n",
            "installing: openssl-1.0.2o-h20670df_0 ...\n",
            "installing: tk-8.6.7-hc745277_3 ...\n",
            "installing: xz-5.2.4-h14c3975_4 ...\n",
            "installing: yaml-0.1.7-had09818_2 ...\n",
            "installing: zlib-1.2.11-ha838bed_2 ...\n",
            "installing: libedit-3.1.20170329-h6b74fdf_2 ...\n",
            "installing: readline-7.0-ha6073c6_4 ...\n",
            "installing: sqlite-3.23.1-he433501_0 ...\n",
            "installing: asn1crypto-0.24.0-py36_0 ...\n",
            "installing: certifi-2018.4.16-py36_0 ...\n",
            "installing: chardet-3.0.4-py36h0f667ec_1 ...\n",
            "installing: idna-2.6-py36h82fb2a8_1 ...\n",
            "installing: pycosat-0.6.3-py36h0a5515d_0 ...\n",
            "installing: pycparser-2.18-py36hf9f622e_1 ...\n",
            "installing: pysocks-1.6.8-py36_0 ...\n",
            "installing: ruamel_yaml-0.15.37-py36h14c3975_2 ...\n",
            "installing: six-1.11.0-py36h372c433_1 ...\n",
            "installing: cffi-1.11.5-py36h9745a5d_0 ...\n",
            "installing: setuptools-39.2.0-py36_0 ...\n",
            "installing: cryptography-2.2.2-py36h14c3975_0 ...\n",
            "installing: wheel-0.31.1-py36_0 ...\n",
            "installing: pip-10.0.1-py36_0 ...\n",
            "installing: pyopenssl-18.0.0-py36_0 ...\n",
            "installing: urllib3-1.22-py36hbe7ace6_0 ...\n",
            "installing: requests-2.18.4-py36he2e5f8d_1 ...\n",
            "installing: conda-4.5.4-py36_0 ...\n",
            "installation finished.\n",
            "WARNING:\n",
            "    You currently have a PYTHONPATH environment variable set. This may cause\n",
            "    unexpected behavior when running the Python interpreter in Miniconda3.\n",
            "    For best results, please verify that your PYTHONPATH only points to\n",
            "    directories of packages that are compatible with the Python interpreter\n",
            "    in Miniconda3: /usr/local\n",
            "Installing RAPIDS packages\n",
            "Please standby, this will take a few minutes...\n",
            "\n",
            "\n",
            "==> WARNING: A newer version of conda exists. <==\n",
            "  current version: 4.5.4\n",
            "  latest version: 4.7.10\n",
            "\n",
            "Please update conda by running\n",
            "\n",
            "    $ conda update -n base conda\n",
            "\n",
            "\n",
            "readline-8.0         |  441 KB | : 100% 1.0/1 [00:00<00:00,  7.65it/s]               \n",
            "pytz-2019.1          |  227 KB | : 100% 1.0/1 [00:00<00:00,  4.77it/s]               \n",
            "pyopenssl-19.0.0     |   81 KB | : 100% 1.0/1 [00:00<00:00, 16.53it/s]\n",
            "nvstrings-0.9.0a1    |  124 KB | : 100% 1.0/1 [00:01<00:00,  1.27s/it]               \n",
            "cloudpickle-1.2.1    |   22 KB | : 100% 1.0/1 [00:00<00:00, 22.32it/s]\n",
            "google-auth-1.6.3    |   45 KB | : 100% 1.0/1 [00:00<00:00, 20.57it/s]\n",
            "yaml-0.1.7           |   78 KB | : 100% 1.0/1 [00:00<00:00, 21.77it/s]\n",
            "decorator-4.4.0      |   11 KB | : 100% 1.0/1 [00:00<00:00, 27.11it/s]\n",
            "certifi-2019.6.16    |  149 KB | : 100% 1.0/1 [00:00<00:00, 16.92it/s]\n",
            "cugraph-0.9.0a1      |  1.2 MB | : 100% 1.0/1 [00:01<00:00,  1.13s/it]               \n",
            "bzip2-1.0.8          |  396 KB | : 100% 1.0/1 [00:00<00:00,  9.42it/s]\n",
            "libstdcxx-ng-9.1.0   |  4.0 MB | : 100% 1.0/1 [00:00<00:00,  1.45it/s]               \n",
            "libcugraph-0.9.0a1   | 10.6 MB | : 100% 1.0/1 [00:03<00:00,  3.59s/it]               \n",
            "libtiff-4.0.10       |  587 KB | : 100% 1.0/1 [00:00<00:00,  3.85it/s]               \n",
            "pycparser-2.19       |  173 KB | : 100% 1.0/1 [00:00<00:00,  2.94it/s]                \n",
            "openblas-0.3.6       |  8.2 MB | : 100% 1.0/1 [00:01<00:00,  1.89s/it]               \n",
            "six-1.12.0           |   22 KB | : 100% 1.0/1 [00:00<00:00, 31.74it/s]\n",
            "freetype-2.10.0      |  885 KB | : 100% 1.0/1 [00:00<00:00,  5.16it/s]               \n",
            "arrow-cpp-0.12.1     |  6.9 MB | : 100% 1.0/1 [00:01<00:00,  1.63s/it]              \n",
            "zict-1.0.0           |   10 KB | : 100% 1.0/1 [00:00<00:00, 27.54it/s]\n",
            "xgboost-0.90.rapidsd |   12 KB | : 100% 1.0/1 [00:01<00:00,  1.01s/it] \n",
            "pyjwt-1.7.1          |   17 KB | : 100% 1.0/1 [00:00<00:00, 23.12it/s]\n",
            "_libgcc_mutex-0.1    |    3 KB | : 100% 1.0/1 [00:00<00:00, 69.40it/s]\n",
            "wheel-0.33.4         |   34 KB | : 100% 1.0/1 [00:00<00:00, 23.37it/s]\n",
            "fsspec-0.3.6         |   39 KB | : 100% 1.0/1 [00:00<00:00, 22.54it/s]\n",
            "rsa-3.4.2            |   31 KB | : 100% 1.0/1 [00:00<00:00, 30.31it/s]\n",
            "partd-1.0.0          |   16 KB | : 100% 1.0/1 [00:00<00:00, 28.04it/s]\n",
            "psutil-5.6.3         |  322 KB | : 100% 1.0/1 [00:00<00:00,  8.80it/s]\n",
            "liblapack-3.8.0      |    6 KB | : 100% 1.0/1 [00:00<00:00, 34.47it/s]\n",
            "python-3.6.7         | 34.6 MB | : 100% 1.0/1 [00:05<00:00,  5.71s/it]               \n",
            "urllib3-1.25.3       |  187 KB | : 100% 1.0/1 [00:00<00:00,  9.80it/s]\n",
            "setuptools-41.0.1    |  612 KB | : 100% 1.0/1 [00:00<00:00,  4.64it/s]              \n",
            "libcumlmg-0.0.0.dev0 |  953 KB | : 100% 1.0/1 [00:02<00:00,  2.00s/it]               \n",
            "pyarrow-0.12.1       |  2.2 MB | : 100% 1.0/1 [00:00<00:00,  1.51it/s]               \n",
            "olefile-0.46         |   31 KB | : 100% 1.0/1 [00:00<00:00, 27.91it/s]\n",
            "openssl-1.1.1c       |  2.1 MB | : 100% 1.0/1 [00:00<00:00,  2.46it/s]              \n",
            "zlib-1.2.11          |  105 KB | : 100% 1.0/1 [00:00<00:00, 20.84it/s]\n",
            "distributed-2.1.0    |  363 KB | : 100% 1.0/1 [00:00<00:00,  6.13it/s]               \n",
            "boost-cpp-1.68.0     | 20.5 MB | : 100% 1.0/1 [00:08<00:00,  8.70s/it]               \n",
            "pysocks-1.7.0        |   26 KB | : 100% 1.0/1 [00:00<00:00, 27.45it/s]\n",
            "idna-2.8             |  132 KB | : 100% 1.0/1 [00:00<00:00, 17.59it/s]\n",
            "pandas-0.25.0        | 11.4 MB | : 100% 1.0/1 [00:02<00:00,  2.68s/it]               \n",
            "python-dateutil-2.8. |  219 KB | : 100% 1.0/1 [00:00<00:00, 15.11it/s]\n",
            "click-7.0            |   61 KB | : 100% 1.0/1 [00:00<00:00, 21.94it/s]\n",
            "libxgboost-0.90.rapi | 33.2 MB | : 100% 1.0/1 [00:11<00:00, 11.59s/it]              \n",
            "libffi-3.2.1         |   46 KB | : 100% 1.0/1 [00:00<00:00, 27.12it/s]\n",
            "dask-core-2.1.0      |  573 KB | : 100% 1.0/1 [00:00<00:00,  4.52it/s]               \n",
            "msgpack-python-0.6.1 |   89 KB | : 100% 1.0/1 [00:00<00:00, 21.19it/s]\n",
            "libcuml-0.9.0a1      | 27.6 MB | : 100% 1.0/1 [00:09<00:00,  9.86s/it]               \n",
            "tblib-1.4.0          |   12 KB | : 100% 1.0/1 [00:00<00:00, 36.41it/s]\n",
            "libcudf-0.9.0a       | 31.3 MB | : 100% 1.0/1 [00:10<00:00, 10.15s/it]               \n",
            "toolz-0.10.0         |   46 KB | : 100% 1.0/1 [00:00<00:00, 11.99it/s]\n",
            "asn1crypto-0.24.0    |  154 KB | : 100% 1.0/1 [00:00<00:00, 13.24it/s]\n",
            "cudatoolkit-10.0.130 | 380.0 MB | : 100% 1.0/1 [00:54<00:00, 54.01s/it]                \n",
            "rmm-0.9.0a1          |   14 KB | : 100% 1.0/1 [00:01<00:00,  1.42s/it] \n",
            "cffi-1.12.3          |  218 KB | : 100% 1.0/1 [00:00<00:00, 12.30it/s]\n",
            "requests-oauthlib-1. |   19 KB | : 100% 1.0/1 [00:00<00:00, 27.20it/s]\n",
            "nccl-2.4.6.1         | 66.6 MB | : 100% 1.0/1 [00:15<00:00, 15.34s/it]               \n",
            "heapdict-1.0.0       |    7 KB | : 100% 1.0/1 [00:00<00:00, 21.65it/s]\n",
            "oauthlib-3.0.1       |   82 KB | : 100% 1.0/1 [00:00<00:00, 13.14it/s]\n",
            "libprotobuf-3.6.1    |  4.0 MB | : 100% 1.0/1 [00:01<00:00,  1.00s/it]               \n",
            "cryptography-2.7     |  607 KB | : 100% 1.0/1 [00:00<00:00,  3.11it/s]               \n",
            "libblas-3.8.0        |    6 KB | : 100% 1.0/1 [00:00<00:00, 29.21it/s]\n",
            "libnvstrings-0.9.0a1 | 16.8 MB | : 100% 1.0/1 [00:07<00:00,  7.86s/it]               \n",
            "pyasn1-modules-0.2.5 |   38 KB | : 100% 1.0/1 [00:00<00:00, 17.87it/s]\n",
            "jinja2-2.10.1        |   91 KB | : 100% 1.0/1 [00:00<00:00, 17.05it/s]\n",
            "pyyaml-5.1.1         |  184 KB | : 100% 1.0/1 [00:00<00:00, 14.35it/s]\n",
            "dask-cuda-0.9.0a     |  902 KB | : 100% 1.0/1 [00:01<00:00,  1.31s/it]               \n",
            "numba-0.45.0         |  3.1 MB | : 100% 1.0/1 [00:01<00:00,  1.26s/it]               \n",
            "dask-cudf-0.9.0a     |   61 KB | : 100% 1.0/1 [00:00<00:00,  1.04it/s]               \n",
            "libgcc-ng-9.1.0      |  8.1 MB | : 100% 1.0/1 [00:01<00:00,  1.35s/it]               \n",
            "google-auth-oauthlib |   18 KB | : 100% 1.0/1 [00:00<00:00, 26.06it/s]\n",
            "dask-cuml-0.9.0a     |   30 KB | : 100% 1.0/1 [00:00<00:00,  2.26it/s]               \n",
            "pynvml-8.0.1         |   28 KB | : 100% 1.0/1 [00:00<00:00, 16.20it/s]\n",
            "pyparsing-2.4.1.1    |   57 KB | : 100% 1.0/1 [00:00<00:00, 30.39it/s]\n",
            "scipy-1.3.0          | 18.8 MB | : 100% 1.0/1 [00:03<00:00,  3.64s/it]               \n",
            "jpeg-9c              |  251 KB | : 100% 1.0/1 [00:00<00:00, 12.90it/s]\n",
            "dask-2.1.0           |    4 KB | : 100% 1.0/1 [00:00<00:00, 35.73it/s]\n",
            "lz4-c-1.8.3          |  187 KB | : 100% 1.0/1 [00:00<00:00, 15.92it/s]\n",
            "icu-58.2             | 22.6 MB | : 100% 1.0/1 [00:03<00:00,  3.86s/it]               \n",
            "xz-5.2.4             |  366 KB | : 100% 1.0/1 [00:00<00:00,  9.29it/s]\n",
            "markupsafe-1.1.1     |   26 KB | : 100% 1.0/1 [00:00<00:00, 24.88it/s]\n",
            "scikit-learn-0.21.2  |  6.7 MB | : 100% 1.0/1 [00:01<00:00,  1.57s/it]              \n",
            "cudf-0.9.0a          |  3.8 MB | : 100% 1.0/1 [00:02<00:00,  2.81s/it]               \n",
            "libcblas-3.8.0       |    6 KB | : 100% 1.0/1 [00:00<00:00, 31.57it/s]\n",
            "pyasn1-0.4.5         |   49 KB | : 100% 1.0/1 [00:00<00:00, 21.50it/s]\n",
            "zstd-1.4.0           |  928 KB | : 100% 1.0/1 [00:00<00:00,  5.24it/s]               \n",
            "boost-1.68.0         |  325 KB | : 100% 1.0/1 [00:00<00:00,  6.61it/s]               \n",
            "pip-19.2.1           |  1.9 MB | : 100% 1.0/1 [00:00<00:00,  1.74it/s]               \n",
            "pillow-6.0.0         |  615 KB | : 100% 1.0/1 [00:00<00:00,  5.43it/s]               \n",
            "ca-certificates-2019 |  145 KB | : 100% 1.0/1 [00:00<00:00, 21.15it/s]\n",
            "libpng-1.6.37        |  343 KB | : 100% 1.0/1 [00:00<00:00, 10.74it/s]\n",
            "ncurses-6.1          |  1.3 MB | : 100% 1.0/1 [00:00<00:00,  1.13it/s]               \n",
            "bokeh-1.3.0          |  4.1 MB | : 100% 1.0/1 [00:01<00:00,  1.41s/it]               \n",
            "py-xgboost-0.90.rapi |   87 KB | : 100% 1.0/1 [00:00<00:00,  2.16it/s]                \n",
            "joblib-0.13.2        |  180 KB | : 100% 1.0/1 [00:00<00:00,  9.37it/s]\n",
            "numpy-1.16.4         |  4.3 MB | : 100% 1.0/1 [00:01<00:00,  1.11s/it]               \n",
            "requests-2.22.0      |   84 KB | : 100% 1.0/1 [00:00<00:00, 18.26it/s]\n",
            "libopenblas-0.3.6    |  7.7 MB | : 100% 1.0/1 [00:01<00:00,  1.45s/it]               \n",
            "gcsfs-0.3.0          |   19 KB | : 100% 1.0/1 [00:00<00:00, 27.94it/s]\n",
            "dlpack-0.2           |   12 KB | : 100% 1.0/1 [00:00<00:00, 30.35it/s]\n",
            "locket-0.2.0         |    6 KB | : 100% 1.0/1 [00:00<00:00, 37.66it/s]\n",
            "librmm-0.9.0a1       |   44 KB | : 100% 1.0/1 [00:00<00:00,  2.21it/s]               \n",
            "sqlite-3.29.0        |  2.0 MB | : 100% 1.0/1 [00:00<00:00,  2.91it/s]               \n",
            "cuml-0.9.0a1         |  4.8 MB | : 100% 1.0/1 [00:01<00:00,  1.88s/it]                \n",
            "packaging-19.0       |   23 KB | : 100% 1.0/1 [00:00<00:00, 24.53it/s]\n",
            "tornado-6.0.3        |  636 KB | : 100% 1.0/1 [00:00<00:00,  5.01it/s]               \n",
            "cython-0.29.13       |  2.2 MB | : 100% 1.0/1 [00:00<00:00,  1.79it/s]               \n",
            "chardet-3.0.4        |  190 KB | : 100% 1.0/1 [00:00<00:00, 11.33it/s]\n",
            "cytoolz-0.10.0       |  429 KB | : 100% 1.0/1 [00:00<00:00,  8.38it/s]\n",
            "llvmlite-0.29.0      | 19.9 MB | : 100% 1.0/1 [00:03<00:00,  3.70s/it]                \n",
            "thrift-cpp-0.12.0    |  2.4 MB | : 100% 1.0/1 [00:00<00:00,  2.01it/s]               \n",
            "blinker-1.4          |   13 KB | : 100% 1.0/1 [00:00<00:00, 32.81it/s]\n",
            "sortedcontainers-2.1 |   25 KB | : 100% 1.0/1 [00:00<00:00, 28.70it/s]\n",
            "parquet-cpp-1.5.1    |    3 KB | : 100% 1.0/1 [00:00<00:00, 43.06it/s]\n",
            "libgfortran-ng-7.3.0 |  1.3 MB | : 100% 1.0/1 [00:00<00:00,  3.63it/s]               \n",
            "tk-8.6.9             |  3.2 MB | : 100% 1.0/1 [00:00<00:00,  1.41it/s]               \n",
            "cachetools-2.1.0     |   10 KB | : 100% 1.0/1 [00:00<00:00, 28.48it/s]\n",
            "Copying shared object files to /usr/lib\n",
            "\n",
            "*********************************************\n",
            "Your Google Colab instance is RAPIDS ready!\n",
            "*********************************************\n"
          ],
          "name": "stdout"
        }
      ]
    },
    {
      "cell_type": "code",
      "metadata": {
        "id": "qMYqyW55GmWq",
        "colab_type": "code",
        "colab": {}
      },
      "source": [
        "import numpy as np\n",
        "import pandas as pd\n",
        "from sklearn.decomposition import PCA as skPCA\n",
        "from cuml import PCA as cumlPCA\n",
        "import cudf\n",
        "import os"
      ],
      "execution_count": 0,
      "outputs": []
    },
    {
      "cell_type": "code",
      "metadata": {
        "id": "pxR0jcYfm4Ap",
        "colab_type": "code",
        "colab": {
          "base_uri": "https://localhost:8080/",
          "height": 357
        },
        "outputId": "7af334b0-1519-4f7a-ed98-6b64f505cddd"
      },
      "source": [
        "#https://github.com/rapidsai/notebooks/blob/branch-0.8/cuml/data/mortgage.npy.gz?raw=true\n",
        "!mkdir -p data/ && wget -O data/mortgage.npy.gz https://github.com/rapidsai/notebooks/blob/branch-0.8/cuml/data/mortgage.npy.gz?raw=true"
      ],
      "execution_count": 3,
      "outputs": [
        {
          "output_type": "stream",
          "text": [
            "--2019-07-27 09:54:22--  https://github.com/rapidsai/notebooks/blob/branch-0.8/cuml/data/mortgage.npy.gz?raw=true\n",
            "Resolving github.com (github.com)... 52.192.72.89\n",
            "Connecting to github.com (github.com)|52.192.72.89|:443... connected.\n",
            "HTTP request sent, awaiting response... 302 Found\n",
            "Location: https://github.com/rapidsai/notebooks/raw/branch-0.8/cuml/data/mortgage.npy.gz [following]\n",
            "--2019-07-27 09:54:22--  https://github.com/rapidsai/notebooks/raw/branch-0.8/cuml/data/mortgage.npy.gz\n",
            "Reusing existing connection to github.com:443.\n",
            "HTTP request sent, awaiting response... 302 Found\n",
            "Location: https://raw.githubusercontent.com/rapidsai/notebooks/branch-0.8/cuml/data/mortgage.npy.gz [following]\n",
            "--2019-07-27 09:54:23--  https://raw.githubusercontent.com/rapidsai/notebooks/branch-0.8/cuml/data/mortgage.npy.gz\n",
            "Resolving raw.githubusercontent.com (raw.githubusercontent.com)... 151.101.0.133, 151.101.64.133, 151.101.128.133, ...\n",
            "Connecting to raw.githubusercontent.com (raw.githubusercontent.com)|151.101.0.133|:443... connected.\n",
            "HTTP request sent, awaiting response... 200 OK\n",
            "Length: 6642646 (6.3M) [application/octet-stream]\n",
            "Saving to: ‘data/mortgage.npy.gz’\n",
            "\n",
            "data/mortgage.npy.g 100%[===================>]   6.33M  --.-KB/s    in 0.04s   \n",
            "\n",
            "2019-07-27 09:54:23 (150 MB/s) - ‘data/mortgage.npy.gz’ saved [6642646/6642646]\n",
            "\n"
          ],
          "name": "stdout"
        }
      ]
    },
    {
      "cell_type": "markdown",
      "metadata": {
        "id": "_OjRzSoiGmWt",
        "colab_type": "text"
      },
      "source": [
        "# Helper Functions"
      ]
    },
    {
      "cell_type": "code",
      "metadata": {
        "id": "JSSvVhfXGmWu",
        "colab_type": "code",
        "colab": {}
      },
      "source": [
        "# check if the mortgage dataset is present and then extract the data from it, else do not run \n",
        "import gzip\n",
        "def load_data(nrows, ncols, cached = 'data/mortgage.npy.gz'):\n",
        "    if os.path.exists(cached):\n",
        "        print('use mortgage data')\n",
        "        with gzip.open(cached) as f:\n",
        "            X = np.load(f)\n",
        "        X = X[np.random.randint(0,X.shape[0]-1,nrows),:ncols]\n",
        "    else:\n",
        "        # throws FileNotFoundError error if mortgage dataset is not present\n",
        "        raise FileNotFoundError('Please download the required dataset or check the path')\n",
        "    df = pd.DataFrame({'fea%d'%i:X[:,i] for i in range(X.shape[1])})\n",
        "    return df"
      ],
      "execution_count": 0,
      "outputs": []
    },
    {
      "cell_type": "code",
      "metadata": {
        "id": "FlMQrDAuGmWw",
        "colab_type": "code",
        "colab": {}
      },
      "source": [
        "# this function checks if the results obtained from two different methods (sklearn and cuml) are the equal\n",
        "from sklearn.metrics import mean_squared_error\n",
        "def array_equal(a,b,threshold=2e-3,with_sign=True):\n",
        "    a = to_nparray(a)\n",
        "    b = to_nparray(b)\n",
        "    if with_sign == False:\n",
        "        a,b = np.abs(a),np.abs(b)\n",
        "    error = mean_squared_error(a,b)\n",
        "    res = error<threshold\n",
        "    return res\n",
        "\n",
        "# the function converts a variable from ndarray or dataframe format to numpy array\n",
        "def to_nparray(x):\n",
        "    if isinstance(x,np.ndarray) or isinstance(x,pd.DataFrame):\n",
        "        return np.array(x)\n",
        "    elif isinstance(x,np.float64):\n",
        "        return np.array([x])\n",
        "    elif isinstance(x,cudf.DataFrame) or isinstance(x,cudf.Series):\n",
        "        return x.to_pandas().values\n",
        "    return x    "
      ],
      "execution_count": 0,
      "outputs": []
    },
    {
      "cell_type": "markdown",
      "metadata": {
        "id": "mEt3pDA3GmW0",
        "colab_type": "text"
      },
      "source": [
        "# Run tests"
      ]
    },
    {
      "cell_type": "code",
      "metadata": {
        "id": "fV3RsXIYGmW0",
        "colab_type": "code",
        "outputId": "77b9ca3d-47e7-41ca-a0f0-68ae950a3eb5",
        "colab": {
          "base_uri": "https://localhost:8080/",
          "height": 68
        }
      },
      "source": [
        "%%time\n",
        "# nrows = number of samples\n",
        "# ncols = number of features of each sample\n",
        "\n",
        "nrows = 2**15\n",
        "nrows = int(nrows * 1.5)\n",
        "ncols = 400\n",
        "\n",
        "X = load_data(nrows,ncols)\n",
        "#print('data',X.shape) <- this line currently throws an error, tuple takes no attribute shape\n",
        "#print(X)"
      ],
      "execution_count": 6,
      "outputs": [
        {
          "output_type": "stream",
          "text": [
            "use mortgage data\n",
            "CPU times: user 5.26 s, sys: 976 ms, total: 6.24 s\n",
            "Wall time: 6.27 s\n"
          ],
          "name": "stdout"
        }
      ]
    },
    {
      "cell_type": "code",
      "metadata": {
        "id": "LCh6JGajGmW3",
        "colab_type": "code",
        "colab": {}
      },
      "source": [
        "# set parameters for the PCA model\n",
        "n_components = 10\n",
        "whiten = False\n",
        "random_state = 42\n",
        "svd_solver=\"full\""
      ],
      "execution_count": 0,
      "outputs": []
    },
    {
      "cell_type": "code",
      "metadata": {
        "id": "djvCwlRXGmW-",
        "colab_type": "code",
        "outputId": "3fcbe6c0-9c4b-4b85-bc2e-069d05b6ec2a",
        "colab": {
          "base_uri": "https://localhost:8080/",
          "height": 51
        }
      },
      "source": [
        "%%time\n",
        "# convert the pandas dataframe to cudf dataframe\n",
        "X = cudf.DataFrame.from_pandas(X)"
      ],
      "execution_count": 8,
      "outputs": [
        {
          "output_type": "stream",
          "text": [
            "CPU times: user 1.31 s, sys: 498 ms, total: 1.8 s\n",
            "Wall time: 1.95 s\n"
          ],
          "name": "stdout"
        }
      ]
    },
    {
      "cell_type": "code",
      "metadata": {
        "id": "zKiCxgO8GmW6",
        "colab_type": "code",
        "outputId": "e1da4c64-d660-4ef4-fb45-d4ab933ac354",
        "colab": {
          "base_uri": "https://localhost:8080/",
          "height": 51
        }
      },
      "source": [
        "%%time\n",
        "# use the sklearn PCA on the dataset\n",
        "pca_sk = skPCA(n_components=n_components,svd_solver=svd_solver, \n",
        "            whiten=whiten, random_state=random_state)\n",
        "# creates adwdwn embedding\n",
        "result_sk = pca_sk.fit_transform(to_nparray(X))"
      ],
      "execution_count": 9,
      "outputs": [
        {
          "output_type": "stream",
          "text": [
            "CPU times: user 3.07 s, sys: 186 ms, total: 3.25 s\n",
            "Wall time: 2.03 s\n"
          ],
          "name": "stdout"
        }
      ]
    },
    {
      "cell_type": "code",
      "metadata": {
        "id": "UOqYo1yVGmXA",
        "colab_type": "code",
        "outputId": "d87881da-f2de-429b-e6cb-46c81e4cc354",
        "colab": {
          "base_uri": "https://localhost:8080/",
          "height": 51
        }
      },
      "source": [
        "%%time\n",
        "# use the cuml PCA model on the dataset\n",
        "pca_cuml = cumlPCA(n_components=n_components,svd_solver=svd_solver, \n",
        "            whiten=whiten, random_state=random_state)\n",
        "# obtain the embedding of the model\n",
        "result_cuml = pca_cuml.fit_transform(X)"
      ],
      "execution_count": 10,
      "outputs": [
        {
          "output_type": "stream",
          "text": [
            "CPU times: user 1.21 s, sys: 107 ms, total: 1.32 s\n",
            "Wall time: 1.28 s\n"
          ],
          "name": "stdout"
        }
      ]
    },
    {
      "cell_type": "code",
      "metadata": {
        "id": "rRJMM6P5GmXE",
        "colab_type": "code",
        "outputId": "96df01c1-fffb-4b3b-e05a-49936a1c6253",
        "colab": {
          "base_uri": "https://localhost:8080/",
          "height": 85
        }
      },
      "source": [
        "# calculate the attributes of the two models and compare them\n",
        "for attr in ['singular_values_','components_','explained_variance_',\n",
        "             'explained_variance_ratio_']:\n",
        "    passed = array_equal(getattr(pca_sk,attr),getattr(pca_cuml,attr))\n",
        "    message = 'compare pca: cuml vs sklearn {:>25} {}'.format(attr,'equal' if passed else 'NOT equal')\n",
        "    print(message)"
      ],
      "execution_count": 11,
      "outputs": [
        {
          "output_type": "stream",
          "text": [
            "compare pca: cuml vs sklearn          singular_values_ equal\n",
            "compare pca: cuml vs sklearn               components_ equal\n",
            "compare pca: cuml vs sklearn       explained_variance_ equal\n",
            "compare pca: cuml vs sklearn explained_variance_ratio_ equal\n"
          ],
          "name": "stdout"
        }
      ]
    },
    {
      "cell_type": "code",
      "metadata": {
        "id": "-o7f41eyGmXI",
        "colab_type": "code",
        "outputId": "1861b100-9071-4738-eebb-e5e1022f9adf",
        "colab": {
          "base_uri": "https://localhost:8080/",
          "height": 34
        }
      },
      "source": [
        "# compare the results of the two models\n",
        "passed = array_equal(result_sk,result_cuml)\n",
        "message = 'compare pca: cuml vs sklearn transformed results %s'%('equal'if passed else 'NOT equal')\n",
        "print(message)"
      ],
      "execution_count": 12,
      "outputs": [
        {
          "output_type": "stream",
          "text": [
            "compare pca: cuml vs sklearn transformed results equal\n"
          ],
          "name": "stdout"
        }
      ]
    },
    {
      "cell_type": "code",
      "metadata": {
        "id": "qMZ9K3IDGmXM",
        "colab_type": "code",
        "colab": {}
      },
      "source": [
        ""
      ],
      "execution_count": 0,
      "outputs": []
    }
  ]
}