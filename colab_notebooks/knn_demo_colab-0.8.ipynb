{
 "cells": [
  {
   "cell_type": "markdown",
   "metadata": {
    "colab_type": "text",
    "id": "view-in-github"
   },
   "source": [
    "<a href=\"https://colab.research.google.com/github/Sterls/colabs/blob/master/knn_demo_colab_0_8.ipynb\" target=\"_parent\"><img src=\"https://colab.research.google.com/assets/colab-badge.svg\" alt=\"Open In Colab\"/></a>"
   ]
  },
  {
   "cell_type": "markdown",
   "metadata": {
    "colab_type": "text",
    "id": "N5PnFojSzkXP"
   },
   "source": [
    "# _k_-Nearest Neighbors (KNN)\n",
    "\n",
    "_k_-Nearest Neighbors (KNN) is an unsupervised algorithm where if one wants to find the “closest” datapoint(s) to new unseen data, one can calculate a suitable “distance” between each and every point, and return the top K datapoints which have the smallest distance to it.\n",
    "\n",
    "cuML’s KNN expects a cuDF DataFrame or a Numpy Array (where automatic chunking will be done into a Numpy Array in a future release), and fits a special data structure first to approximate the distance calculations, allowing our querying times to be O(plogn) and not the brute force O(np) [where p = no(features)]:\n",
    "\n",
    "The KNN function accepts the following parameters:\n",
    "\n",
    "- n_neighbors: int (default = 5). The top K closest datapoints you want the algorithm to return. If this number is large, then expect the algorithm to run slower.\n",
    "-  should_downcast: bool (default = False). Currently, only single-precision is supported in the underlying index. Setting this to true will allow double-precision input arrays to be automatically downcasted to single precision. Default = False.\n",
    "\n",
    "The methods that can be used with KNN are:\n",
    "\n",
    "- fit: Fit GPU index for performing nearest neighbor queries.\n",
    "- kneighbors: Query the GPU index for the k nearest neighbors of row vectors in X.\n",
    "\n",
    "The model accepts only numpy arrays or cuDF dataframes as the input. In order to convert your dataset to cuDF format, please read the cuDF documentation on https://docs.rapids.ai/api/cudf/stable.\n",
    "\n",
    "For additional information on the _k_-Nearest Neighbors model, please refer to the documentation on https://rapidsai.github.io/projects/cuml/en/stable/api.html#neighbors"
   ]
  },
  {
   "cell_type": "markdown",
   "metadata": {
    "colab_type": "text",
    "id": "BbWak1ps1f4_"
   },
   "source": [
    "# Install RAPIDS\n",
    "- First, make sure you're running a GPU instance of Colab.  \n",
    "- Next, we'll check to see if you are running a P100 or T4 GPU.  If you are getting an error, please check that you are running a **GPU Runtime** by going to `Runtime`>`Change Runtime Type`. Restart your instance if you are not. by going to `Runtime`>`Reset all Runtimes`. \n",
    "- Finally, we'll run the RAPIDS install script."
   ]
  },
  {
   "cell_type": "code",
   "execution_count": null,
   "metadata": {
    "colab": {},
    "colab_type": "code",
    "id": "nunGKHQz1xbo"
   },
   "outputs": [],
   "source": [
    "# Install RAPIDS\n",
    "!wget -nc https://raw.githubusercontent.com/rapidsai/notebooks-contrib/master/utils/rapids-colab.sh\n",
    "!bash rapids-colab.sh\n",
    "\n",
    "import sys, os\n",
    "\n",
    "dist_package_index = sys.path.index(\"/usr/local/lib/python3.6/dist-packages\")\n",
    "sys.path = sys.path[:dist_package_index] + [\"/usr/local/lib/python3.6/site-packages\"] + sys.path[dist_package_index:]\n",
    "sys.path\n",
    "if os.path.exists('update_pyarrow.py'): ## This file only exists if you're using RAPIDS version 0.11 or higher\n",
    "  exec(open(\"update_pyarrow.py\").read(), globals())"
   ]
  },
  {
   "cell_type": "markdown",
   "metadata": {},
   "source": [
    "## Imports"
   ]
  },
  {
   "cell_type": "code",
   "execution_count": null,
   "metadata": {
    "colab": {},
    "colab_type": "code",
    "id": "17O9gPwsznvH"
   },
   "outputs": [],
   "source": [
    "import cudf\n",
    "import numpy as np\n",
    "import os\n",
    "import pandas as pd\n",
    "\n",
    "from cuml.neighbors.nearest_neighbors import NearestNeighbors as cuKNN\n",
    "from sklearn.neighbors import NearestNeighbors as skKNN"
   ]
  },
  {
   "cell_type": "markdown",
   "metadata": {
    "colab_type": "text",
    "id": "b4eHQUC10eAB"
   },
   "source": [
    "## Helper Functions"
   ]
  },
  {
   "cell_type": "code",
   "execution_count": null,
   "metadata": {
    "colab": {},
    "colab_type": "code",
    "id": "CuKwAWWl0aS-"
   },
   "outputs": [],
   "source": [
    "# check if the mortgage dataset is present and then extract the data from it, else just create a random dataset for clustering \n",
    "import gzip\n",
    "# change the path of the mortgage dataset if you have saved it in a different directory\n",
    "def load_data(nrows, ncols, cached = 'data/mortgage.npy.gz',source='mortgage'):\n",
    "    if os.path.exists(cached) and source=='mortgage':\n",
    "        print('use mortgage data')\n",
    "        with gzip.open(cached) as f:\n",
    "            X = np.load(f)\n",
    "        X = X[np.random.randint(0,X.shape[0]-1,nrows),:ncols]\n",
    "    else:\n",
    "        # create a random dataset\n",
    "        print('use random data')\n",
    "        X = np.random.random((nrows,ncols)).astype('float32')\n",
    "    df = pd.DataFrame({'fea%d'%i:X[:,i] for i in range(X.shape[1])}).fillna(0)\n",
    "    return df"
   ]
  },
  {
   "cell_type": "code",
   "execution_count": null,
   "metadata": {
    "colab": {},
    "colab_type": "code",
    "id": "HHe-VIrP0kAU"
   },
   "outputs": [],
   "source": [
    "from sklearn.metrics import mean_squared_error\n",
    "# check if the results obtained from scikit-learn and cuML are the same\n",
    "def array_equal(a,b,threshold=1e-3,with_sign=True,metric='mse'):\n",
    "    a = to_nparray(a)\n",
    "    b = to_nparray(b)\n",
    "    if with_sign == False:\n",
    "        a,b = np.abs(a),np.abs(b)\n",
    "    if metric=='mse':\n",
    "        error = mean_squared_error(a,b)\n",
    "        res = error<threshold\n",
    "    elif metric=='abs':\n",
    "        error = a-b\n",
    "        res = len(error[error>threshold]) == 0\n",
    "    elif metric == 'acc':\n",
    "        error = np.sum(a!=b)/(a.shape[0]*a.shape[1])\n",
    "        res = error<threshold\n",
    "    return res\n",
    "\n",
    "# calculate the accuracy \n",
    "def accuracy(a,b, threshold=1e-4):\n",
    "    a = to_nparray(a)\n",
    "    b = to_nparray(b)\n",
    "    c = a-b\n",
    "    c = len(c[c>1]) / (c.shape[0]*c.shape[1])\n",
    "    return c<threshold\n",
    "\n",
    "# convert a variable from ndarray or dataframe format to numpy array\n",
    "def to_nparray(x):\n",
    "    if isinstance(x,np.ndarray) or isinstance(x,pd.DataFrame):\n",
    "        return np.array(x)\n",
    "    elif isinstance(x,np.float64):\n",
    "        return np.array([x])\n",
    "    elif isinstance(x,cudf.DataFrame) or isinstance(x,cudf.Series):\n",
    "        return x.to_pandas().values\n",
    "    return x"
   ]
  },
  {
   "cell_type": "markdown",
   "metadata": {
    "colab_type": "text",
    "id": "X8c_N45V0nO1"
   },
   "source": [
    "## Define parameters"
   ]
  },
  {
   "cell_type": "code",
   "execution_count": null,
   "metadata": {
    "colab": {
     "base_uri": "https://localhost:8080/",
     "height": 86
    },
    "colab_type": "code",
    "id": "iPN033XB0rMx",
    "outputId": "0d313843-c1a5-4657-9517-8e67bec9bfca"
   },
   "outputs": [],
   "source": [
    "# nrows = number of samples\n",
    "# ncols = number of features per sample\n",
    "nrows = 2**15 \n",
    "ncols = 40    \n",
    "\n",
    "# the number of neighbors whose labels are to be checked\n",
    "n_neighbors = 10"
   ]
  },
  {
   "cell_type": "markdown",
   "metadata": {},
   "source": [
    "## Load Data"
   ]
  },
  {
   "cell_type": "code",
   "execution_count": null,
   "metadata": {
    "colab": {},
    "colab_type": "code",
    "id": "UGbYmb480y1W"
   },
   "outputs": [],
   "source": [
    "%%time\n",
    "X = load_data(nrows, ncols)\n",
    "print('data', X.shape)"
   ]
  },
  {
   "cell_type": "markdown",
   "metadata": {},
   "source": [
    "## Scikit-learn Model"
   ]
  },
  {
   "cell_type": "code",
   "execution_count": null,
   "metadata": {
    "colab": {
     "base_uri": "https://localhost:8080/",
     "height": 52
    },
    "colab_type": "code",
    "id": "caNOquwO01rw",
    "outputId": "b2b3a408-a158-4a41-d657-f654971d3ae8"
   },
   "outputs": [],
   "source": [
    "%%time\n",
    "# use the scikit-learn KNN model to fit the dataset \n",
    "knn_sk = skKNN(metric = 'sqeuclidean')\n",
    "knn_sk.fit(X)\n",
    "\n",
    "# calculate the distance and the indices of the samples present in the dataset\n",
    "D_sk, I_sk = knn_sk.kneighbors(X, n_neighbors)"
   ]
  },
  {
   "cell_type": "markdown",
   "metadata": {},
   "source": [
    "## cuML Model"
   ]
  },
  {
   "cell_type": "code",
   "execution_count": null,
   "metadata": {
    "colab": {
     "base_uri": "https://localhost:8080/",
     "height": 52
    },
    "colab_type": "code",
    "id": "HdP7CZmD03k-",
    "outputId": "cb08e56d-91ca-42f6-c844-5b8382a137f0"
   },
   "outputs": [],
   "source": [
    "%%time\n",
    "# convert the pandas dataframe to cuDF dataframe\n",
    "X = cudf.DataFrame.from_pandas(X)"
   ]
  },
  {
   "cell_type": "code",
   "execution_count": null,
   "metadata": {
    "colab": {
     "base_uri": "https://localhost:8080/",
     "height": 52
    },
    "colab_type": "code",
    "id": "_yUMTyFe067G",
    "outputId": "01b7aca2-265c-456a-ae31-d0a8943bcf28"
   },
   "outputs": [],
   "source": [
    "%%time\n",
    "# use cuML's KNN model to fit the dataset\n",
    "knn_cuml = cuKNN()\n",
    "knn_cuml.fit(X)\n",
    "\n",
    "# calculate the distance and the indices of the samples present in the dataset\n",
    "D_cuml, I_cuml = knn_cuml.kneighbors(X, n_neighbors)"
   ]
  },
  {
   "cell_type": "markdown",
   "metadata": {},
   "source": [
    "## Compare Results"
   ]
  },
  {
   "cell_type": "code",
   "execution_count": null,
   "metadata": {
    "colab": {
     "base_uri": "https://localhost:8080/",
     "height": 34
    },
    "colab_type": "code",
    "id": "NvalFiob09Ur",
    "outputId": "a4f941d1-8c8c-4720-929d-0d6762e69e55"
   },
   "outputs": [],
   "source": [
    "# compare the distance obtained while using scikit-learn and cuML models\n",
    "passed = array_equal(D_sk,D_cuml, metric='abs') # metric used can be 'acc', 'mse', or 'abs'\n",
    "message = 'compare knn: cuML vs scikit-learn distances %s'%('equal'if passed else 'NOT equal')\n",
    "print(message)"
   ]
  }
 ],
 "metadata": {
  "accelerator": "GPU",
  "colab": {
   "collapsed_sections": [],
   "include_colab_link": true,
   "name": "knn_demo_colab-0.8.ipynb",
   "provenance": [],
   "version": "0.3.2"
  },
  "kernelspec": {
   "display_name": "Python 3",
   "language": "python",
   "name": "python3"
  },
  "language_info": {
   "codemirror_mode": {
    "name": "ipython",
    "version": 3
   },
   "file_extension": ".py",
   "mimetype": "text/x-python",
   "name": "python",
   "nbconvert_exporter": "python",
   "pygments_lexer": "ipython3",
   "version": "3.6.7"
  }
 },
 "nbformat": 4,
 "nbformat_minor": 4
}
