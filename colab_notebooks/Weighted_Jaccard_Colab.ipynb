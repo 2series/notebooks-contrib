{
  "nbformat": 4,
  "nbformat_minor": 0,
  "metadata": {
    "colab": {
      "name": "Weighted-Jaccard_Colab.ipynb",
      "version": "0.3.2",
      "provenance": [],
      "collapsed_sections": []
    },
    "kernelspec": {
      "name": "python3",
      "display_name": "Python 3"
    },
    "accelerator": "GPU"
  },
  "cells": [
    {
      "cell_type": "markdown",
      "metadata": {
        "id": "ibHqWZZHtgvH",
        "colab_type": "text"
      },
      "source": [
        "#Setup:\n",
        "\n",
        "1. Use pynvml to confirm Colab allocated you a Tesla T4 GPU.\n",
        "2. Install most recent Miniconda release compatible with Google Colab's Python install  (3.6.7)\n",
        "3. Install RAPIDS libraries\n",
        "4. Copy RAPIDS .so files into current working directory, a workaround for conda/colab interactions\n",
        "5. Add the ngrok binary to expose Dask's status dashboard\n",
        "6. Update env variables so Python can find and use RAPIDS artifacts\n",
        "​\n",
        "All of the above steps are automated in the next cell.\n",
        "​\n",
        "You should re-run this cell any time your instance re-starts."
      ]
    },
    {
      "cell_type": "code",
      "metadata": {
        "id": "x1cSk39JtYvx",
        "colab_type": "code",
        "colab": {}
      },
      "source": [
        "\"\"\"install RAPIDS AI suite and set up environment\n",
        ">> may take a few minutes, long output (output display removed)\n",
        "\"\"\"\n",
        "!wget -nc https://github.com/rapidsai/notebooks-extended/raw/master/utils/rapids-colab.sh\n",
        "!bash rapids-colab.sh\n",
        "\n",
        "import sys, os\n",
        "\n",
        "sys.path.append('/usr/local/lib/python3.6/site-packages/')\n",
        "os.environ['NUMBAPRO_NVVM'] = '/usr/local/cuda/nvvm/lib64/libnvvm.so'\n",
        "os.environ['NUMBAPRO_LIBDEVICE'] = '/usr/local/cuda/nvvm/libdevice/'"
      ],
      "execution_count": 0,
      "outputs": []
    },
    {
      "cell_type": "markdown",
      "metadata": {
        "id": "CBT9Xzb6tndL",
        "colab_type": "text"
      },
      "source": [
        "# Weighted Jaccard Similarity\n",
        "\n",
        "In this notebook, we will use cuGraph to compute the Weighted Jaccard Similarity metric on our training dataset. \n",
        "\n",
        "Notebook Credits\n",
        "* Original Authors: Bradley Rees and James Wyles\n",
        "* Last Edit: 07/29/2019\n",
        "\n",
        "\n",
        "## Introduction\n",
        "Weighted Jaccard is similar to the Jaccard Similarity but takes into account vertex weights placed.  \n",
        "\n",
        "\n",
        "given:\n",
        "The neighbors of a vertex, v, is defined as the set, U, of vertices connected by way of an edge to vertex v, or N(v) = {U} where v ∈V and ∀ u∈U ∃ edge(v,u)∈E.\n",
        "and\n",
        "wt(i) is the weight on vertex i\n",
        "   \n",
        "we can now define weight summing function as<br>\n",
        "$WT(U) = \\sum_{v \\in U} {wt(v)}$\n",
        "\n",
        "$WtJaccard(i, j) = \\frac{WT(N(i) \\cap N(j))}{WT(N(i) \\cup N(j))}$\n",
        "\n",
        "\n",
        "To compute the weighted Jaccard similarity between each pair of vertices connected by an edge in cuGraph use:<br>\n",
        "\n",
        "**jaccard_w(input_graph, vect_weights_ptr)**\n",
        "\n",
        "Input\n",
        "* input_graph: A cugraph.Graph object\n",
        "* vect_weights_ptr: An array of vertex weights\n",
        "\n",
        "Returns: \n",
        "* __df__: cudf.DataFrame with three columns:\n",
        "    * df['source']: The source vertex id.\n",
        "    * df['destination']: The destination vertex id.\n",
        "    * df['jaccard_coeff']: The weighted jaccard coefficient computed between the source and destination vertex.\n",
        "        \n",
        "<br><br>   \n",
        "\n",
        "\n",
        "__Note:__ For this example we will be using PageRank as the edge weights.  Please review the PageRank notebook if you have any questions about running PageRank\n"
      ]
    },
    {
      "cell_type": "markdown",
      "metadata": {
        "id": "OpIfCAxlt2PI",
        "colab_type": "text"
      },
      "source": [
        "### Test Data\n",
        "We will be using the Zachary Karate club dataset \n",
        "*W. W. Zachary, An information flow model for conflict and fission in small groups, Journal of\n",
        "Anthropological Research 33, 452-473 (1977).*\n",
        "\n",
        "\n",
        "![Karate Club](https://raw.githubusercontent.com/rapidsai/notebooks/branch-0.8/cugraph/img/zachary_black_lines.png)\n",
        "\n",
        "This is a small graph which allows for easy visual inspection to validate results.  "
      ]
    },
    {
      "cell_type": "code",
      "metadata": {
        "id": "i4fDrxU9tyCZ",
        "colab_type": "code",
        "colab": {}
      },
      "source": [
        "# Import needed libraries\n",
        "import cugraph\n",
        "import cudf\n",
        "from collections import OrderedDict"
      ],
      "execution_count": 0,
      "outputs": []
    },
    {
      "cell_type": "markdown",
      "metadata": {
        "id": "Fl9MI2s7t-TB",
        "colab_type": "text"
      },
      "source": [
        "## Read the data using cuDF"
      ]
    },
    {
      "cell_type": "code",
      "metadata": {
        "id": "2dfd5QoSt_j3",
        "colab_type": "code",
        "colab": {
          "base_uri": "https://localhost:8080/",
          "height": 222
        },
        "outputId": "92e348f4-efc7-454a-8594-c4196dae1ca2"
      },
      "source": [
        "# Save test file\n",
        "!wget https://raw.githubusercontent.com/rapidsai/notebooks/branch-0.8/cugraph/data/karate-data.csv\n",
        "datafile='karate-data.csv'\n",
        "\n",
        "# Read the data file\n",
        "cols = [\"src\", \"dst\"]\n",
        "\n",
        "dtypes = OrderedDict([\n",
        "        (\"src\", \"int32\"), \n",
        "        (\"dst\", \"int32\")\n",
        "        ])\n",
        "\n",
        "gdf = cudf.read_csv(datafile, names=cols, delimiter='\\t', dtype=list(dtypes.values()) )"
      ],
      "execution_count": 4,
      "outputs": [
        {
          "output_type": "stream",
          "text": [
            "--2019-07-29 09:50:20--  https://raw.githubusercontent.com/rapidsai/notebooks/branch-0.8/cugraph/data/karate-data.csv\n",
            "Resolving raw.githubusercontent.com (raw.githubusercontent.com)... 151.101.0.133, 151.101.64.133, 151.101.128.133, ...\n",
            "Connecting to raw.githubusercontent.com (raw.githubusercontent.com)|151.101.0.133|:443... connected.\n",
            "HTTP request sent, awaiting response... 200 OK\n",
            "Length: 814 [text/plain]\n",
            "Saving to: ‘karate-data.csv’\n",
            "\n",
            "\rkarate-data.csv       0%[                    ]       0  --.-KB/s               \rkarate-data.csv     100%[===================>]     814  --.-KB/s    in 0s      \n",
            "\n",
            "2019-07-29 09:50:20 (143 MB/s) - ‘karate-data.csv’ saved [814/814]\n",
            "\n"
          ],
          "name": "stdout"
        }
      ]
    },
    {
      "cell_type": "code",
      "metadata": {
        "id": "1K8ZSTgXuBKo",
        "colab_type": "code",
        "colab": {}
      },
      "source": [
        "# create a Graph \n",
        "G = cugraph.Graph()\n",
        "G.add_edge_list(gdf[\"src\"], gdf[\"dst\"])"
      ],
      "execution_count": 0,
      "outputs": []
    },
    {
      "cell_type": "markdown",
      "metadata": {
        "id": "fpwAfJq2uC8i",
        "colab_type": "text"
      },
      "source": [
        "### Compute PageRank to use as the vertex weights"
      ]
    },
    {
      "cell_type": "code",
      "metadata": {
        "id": "sgm0SqY5uEOo",
        "colab_type": "code",
        "colab": {}
      },
      "source": [
        "# Call Pagerank on the graph to get weights to use:\n",
        "pr_df = cugraph.pagerank(G)"
      ],
      "execution_count": 0,
      "outputs": []
    },
    {
      "cell_type": "code",
      "metadata": {
        "id": "37H4HMp6uFST",
        "colab_type": "code",
        "colab": {
          "base_uri": "https://localhost:8080/",
          "height": 195
        },
        "outputId": "a2f0825b-87b4-4f0d-dc38-2db8c5923fbf"
      },
      "source": [
        "pr_df.head().to_pandas()"
      ],
      "execution_count": 7,
      "outputs": [
        {
          "output_type": "execute_result",
          "data": {
            "text/html": [
              "<div>\n",
              "<style scoped>\n",
              "    .dataframe tbody tr th:only-of-type {\n",
              "        vertical-align: middle;\n",
              "    }\n",
              "\n",
              "    .dataframe tbody tr th {\n",
              "        vertical-align: top;\n",
              "    }\n",
              "\n",
              "    .dataframe thead th {\n",
              "        text-align: right;\n",
              "    }\n",
              "</style>\n",
              "<table border=\"1\" class=\"dataframe\">\n",
              "  <thead>\n",
              "    <tr style=\"text-align: right;\">\n",
              "      <th></th>\n",
              "      <th>vertex</th>\n",
              "      <th>pagerank</th>\n",
              "    </tr>\n",
              "  </thead>\n",
              "  <tbody>\n",
              "    <tr>\n",
              "      <th>0</th>\n",
              "      <td>0</td>\n",
              "      <td>0.004392</td>\n",
              "    </tr>\n",
              "    <tr>\n",
              "      <th>1</th>\n",
              "      <td>1</td>\n",
              "      <td>0.096573</td>\n",
              "    </tr>\n",
              "    <tr>\n",
              "      <th>2</th>\n",
              "      <td>2</td>\n",
              "      <td>0.052645</td>\n",
              "    </tr>\n",
              "    <tr>\n",
              "      <th>3</th>\n",
              "      <td>3</td>\n",
              "      <td>0.056828</td>\n",
              "    </tr>\n",
              "    <tr>\n",
              "      <th>4</th>\n",
              "      <td>4</td>\n",
              "      <td>0.035703</td>\n",
              "    </tr>\n",
              "  </tbody>\n",
              "</table>\n",
              "</div>"
            ],
            "text/plain": [
              "   vertex  pagerank\n",
              "0       0  0.004392\n",
              "1       1  0.096573\n",
              "2       2  0.052645\n",
              "3       3  0.056828\n",
              "4       4  0.035703"
            ]
          },
          "metadata": {
            "tags": []
          },
          "execution_count": 7
        }
      ]
    },
    {
      "cell_type": "markdown",
      "metadata": {
        "id": "g4C0nAaCuGQg",
        "colab_type": "text"
      },
      "source": [
        "### Now compute the Weighted Jaccard "
      ]
    },
    {
      "cell_type": "code",
      "metadata": {
        "id": "ZTMfAuP4uHde",
        "colab_type": "code",
        "colab": {}
      },
      "source": [
        "# Call weighted Jaccard using the Pagerank scores as weights:\n",
        "df = cugraph.jaccard_w(G, pr_df['pagerank'])"
      ],
      "execution_count": 0,
      "outputs": []
    },
    {
      "cell_type": "markdown",
      "metadata": {
        "id": "f-a7u2p-uIjl",
        "colab_type": "text"
      },
      "source": [
        "Find the most similar pair of vertices"
      ]
    },
    {
      "cell_type": "code",
      "metadata": {
        "id": "Ikx-WDdVuJ1S",
        "colab_type": "code",
        "colab": {
          "base_uri": "https://localhost:8080/",
          "height": 34
        },
        "outputId": "d202588a-7200-4914-e1e7-b8a51b30644d"
      },
      "source": [
        "bestEdge = 0\n",
        "for i in range(len(df)):\n",
        "    if df['jaccard_coeff'][i] > df['jaccard_coeff'][bestEdge]:\n",
        "        bestEdge = i\n",
        "\n",
        "# display outcome \n",
        "print(\"Vertices \" + str(df['source'][bestEdge]) + \n",
        "      \" and \" + str(df['destination'][bestEdge] ) + \n",
        "      \" are most similar with score: \" + str(df['jaccard_coeff'][bestEdge]))"
      ],
      "execution_count": 9,
      "outputs": [
        {
          "output_type": "stream",
          "text": [
            "Vertices 4 and 8 are most similar with score: 0.6644074\n"
          ],
          "name": "stdout"
        }
      ]
    },
    {
      "cell_type": "markdown",
      "metadata": {
        "id": "41JWP-LluMzl",
        "colab_type": "text"
      },
      "source": [
        "## It is that easy with cuGraph!"
      ]
    },
    {
      "cell_type": "markdown",
      "metadata": {
        "id": "G3e9qmoCuez0",
        "colab_type": "text"
      },
      "source": [
        "# Next Steps #\n",
        "\n",
        "For an overview of how you can access and work with your own datasets in Colab, check out [this guide](https://towardsdatascience.com/3-ways-to-load-csv-files-into-colab-7c14fcbdcb92).\n",
        "\n",
        "For more RAPIDS examples, check out our RAPIDS notebooks repos:\n",
        "1. https://github.com/rapidsai/notebooks\n",
        "2. https://github.com/rapidsai/notebooks-extended"
      ]
    },
    {
      "cell_type": "markdown",
      "metadata": {
        "id": "SfO5fGhhuNOF",
        "colab_type": "text"
      },
      "source": [
        "___\n",
        "Copyright (c) 2019, NVIDIA CORPORATION.\n",
        "\n",
        "Licensed under the Apache License, Version 2.0 (the \"License\");  you may not use this file except in compliance with the License. You may obtain a copy of the License at http://www.apache.org/licenses/LICENSE-2.0\n",
        "\n",
        "Unless required by applicable law or agreed to in writing, software distributed under the License is distributed on an \"AS IS\" BASIS, WITHOUT WARRANTIES OR CONDITIONS OF ANY KIND, either express or implied. See the License for the specific language governing permissions and limitations under the License.\n",
        "___"
      ]
    },
    {
      "cell_type": "code",
      "metadata": {
        "id": "TL1EQ8gvFW1g",
        "colab_type": "code",
        "colab": {}
      },
      "source": [
        ""
      ],
      "execution_count": 0,
      "outputs": []
    }
  ]
}