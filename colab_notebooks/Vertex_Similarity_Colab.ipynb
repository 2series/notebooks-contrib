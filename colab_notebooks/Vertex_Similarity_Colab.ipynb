{
  "nbformat": 4,
  "nbformat_minor": 0,
  "metadata": {
    "colab": {
      "name": "Vertex-Similarity_Colab.ipynb",
      "version": "0.3.2",
      "provenance": [],
      "collapsed_sections": []
    },
    "kernelspec": {
      "name": "python3",
      "display_name": "Python 3"
    },
    "accelerator": "GPU"
  },
  "cells": [
    {
      "cell_type": "markdown",
      "metadata": {
        "id": "RFY-bOtqoefa",
        "colab_type": "text"
      },
      "source": [
        "#Setup:\n",
        "\n",
        "1. Use pynvml to confirm Colab allocated you a Tesla T4 GPU.\n",
        "2. Install most recent Miniconda release compatible with Google Colab's Python install  (3.6.7)\n",
        "3. Install RAPIDS libraries\n",
        "4. Copy RAPIDS .so files into current working directory, a workaround for conda/colab interactions\n",
        "5. Add the ngrok binary to expose Dask's status dashboard\n",
        "6. Update env variables so Python can find and use RAPIDS artifacts\n",
        "​\n",
        "All of the above steps are automated in the next cell.\n",
        "​\n",
        "You should re-run this cell any time your instance re-starts."
      ]
    },
    {
      "cell_type": "code",
      "metadata": {
        "id": "sStm6cDXoWoO",
        "colab_type": "code",
        "outputId": "68906ab8-dd1f-44fb-faef-09780993129c",
        "colab": {
          "base_uri": "https://localhost:8080/",
          "height": 3682
        }
      },
      "source": [
        "!wget https://github.com/randerzander/notebooks-extended/raw/master/utils/rapids-colab.sh\n",
        "!chmod +x rapids-colab.sh\n",
        "!./rapids-colab.sh\n",
        "\n",
        "import sys, os\n",
        "sys.path.append('/usr/local/lib/python3.6/site-packages/')\n",
        "os.environ['NUMBAPRO_NVVM'] = '/usr/local/cuda/nvvm/lib64/libnvvm.so'\n",
        "os.environ['NUMBAPRO_LIBDEVICE'] = '/usr/local/cuda/nvvm/libdevice/'\n",
        "\n",
        "import nvstrings, nvcategory, cudf, cuml, xgboost\n",
        "import dask_cudf, dask_cuml, dask_xgboost\n",
        "from dask.distributed import Client, LocalCluster, wait, progress\n",
        "\n",
        "# we have one GPU, so limit Dask's workers and threads to exactly 1\n",
        "cluster = LocalCluster(processes=False, threads_per_worker=1, n_workers=1)\n",
        "client = Client(cluster)\n",
        "client"
      ],
      "execution_count": 0,
      "outputs": [
        {
          "output_type": "stream",
          "text": [
            "--2019-06-05 22:05:23--  https://github.com/randerzander/notebooks-extended/raw/master/utils/rapids-colab.sh\n",
            "Resolving github.com (github.com)... 192.30.253.112\n",
            "Connecting to github.com (github.com)|192.30.253.112|:443... connected.\n",
            "HTTP request sent, awaiting response... 302 Found\n",
            "Location: https://raw.githubusercontent.com/randerzander/notebooks-extended/master/utils/rapids-colab.sh [following]\n",
            "--2019-06-05 22:05:23--  https://raw.githubusercontent.com/randerzander/notebooks-extended/master/utils/rapids-colab.sh\n",
            "Resolving raw.githubusercontent.com (raw.githubusercontent.com)... 151.101.0.133, 151.101.64.133, 151.101.128.133, ...\n",
            "Connecting to raw.githubusercontent.com (raw.githubusercontent.com)|151.101.0.133|:443... connected.\n",
            "HTTP request sent, awaiting response... 200 OK\n",
            "Length: 1746 (1.7K) [text/plain]\n",
            "Saving to: ‘rapids-colab.sh’\n",
            "\n",
            "\rrapids-colab.sh       0%[                    ]       0  --.-KB/s               \rrapids-colab.sh     100%[===================>]   1.71K  --.-KB/s    in 0s      \n",
            "\n",
            "2019-06-05 22:05:23 (227 MB/s) - ‘rapids-colab.sh’ saved [1746/1746]\n",
            "\n",
            "--2019-06-05 22:05:25--  https://github.com/randerzander/notebooks-extended/raw/master/utils/env-check.py\n",
            "Resolving github.com (github.com)... 192.30.253.112\n",
            "Connecting to github.com (github.com)|192.30.253.112|:443... connected.\n",
            "HTTP request sent, awaiting response... 302 Found\n",
            "Location: https://raw.githubusercontent.com/randerzander/notebooks-extended/master/utils/env-check.py [following]\n",
            "--2019-06-05 22:05:25--  https://raw.githubusercontent.com/randerzander/notebooks-extended/master/utils/env-check.py\n",
            "Resolving raw.githubusercontent.com (raw.githubusercontent.com)... 151.101.0.133, 151.101.64.133, 151.101.128.133, ...\n",
            "Connecting to raw.githubusercontent.com (raw.githubusercontent.com)|151.101.0.133|:443... connected.\n",
            "HTTP request sent, awaiting response... 200 OK\n",
            "Length: 433 [text/plain]\n",
            "Saving to: ‘env-check.py’\n",
            "\n",
            "env-check.py        100%[===================>]     433  --.-KB/s    in 0s      \n",
            "\n",
            "2019-06-05 22:05:25 (58.3 MB/s) - ‘env-check.py’ saved [433/433]\n",
            "\n",
            "Checking for GPU type:\n",
            "Woo! You got the right kind of GPU!\n",
            "Removing existing dask & xgboost packages\n",
            "Uninstalling xgboost-0.90:\n",
            "  Successfully uninstalled xgboost-0.90\n",
            "Uninstalling dask-1.1.5:\n",
            "  Successfully uninstalled dask-1.1.5\n",
            "Uninstalling distributed-1.25.3:\n",
            "  Successfully uninstalled distributed-1.25.3\n",
            "\u001b[33mWARNING: Skipping dask-xgboost as it is not installed.\u001b[0m\n",
            "Installing conda\n",
            "--2019-06-05 22:05:30--  https://repo.continuum.io/miniconda/Miniconda3-4.5.4-Linux-x86_64.sh\n",
            "Resolving repo.continuum.io (repo.continuum.io)... 104.18.200.79, 104.18.201.79, 2606:4700::6812:c94f, ...\n",
            "Connecting to repo.continuum.io (repo.continuum.io)|104.18.200.79|:443... connected.\n",
            "HTTP request sent, awaiting response... 200 OK\n",
            "Length: 58468498 (56M) [application/x-sh]\n",
            "Saving to: ‘Miniconda3-4.5.4-Linux-x86_64.sh’\n",
            "\n",
            "Miniconda3-4.5.4-Li 100%[===================>]  55.76M   143MB/s    in 0.4s    \n",
            "\n",
            "2019-06-05 22:05:31 (143 MB/s) - ‘Miniconda3-4.5.4-Linux-x86_64.sh’ saved [58468498/58468498]\n",
            "\n",
            "PREFIX=/usr/local\n",
            "installing: python-3.6.5-hc3d631a_2 ...\n",
            "Python 3.6.5 :: Anaconda, Inc.\n",
            "installing: ca-certificates-2018.03.07-0 ...\n",
            "installing: conda-env-2.6.0-h36134e3_1 ...\n",
            "installing: libgcc-ng-7.2.0-hdf63c60_3 ...\n",
            "installing: libstdcxx-ng-7.2.0-hdf63c60_3 ...\n",
            "installing: libffi-3.2.1-hd88cf55_4 ...\n",
            "installing: ncurses-6.1-hf484d3e_0 ...\n",
            "installing: openssl-1.0.2o-h20670df_0 ...\n",
            "installing: tk-8.6.7-hc745277_3 ...\n",
            "installing: xz-5.2.4-h14c3975_4 ...\n",
            "installing: yaml-0.1.7-had09818_2 ...\n",
            "installing: zlib-1.2.11-ha838bed_2 ...\n",
            "installing: libedit-3.1.20170329-h6b74fdf_2 ...\n",
            "installing: readline-7.0-ha6073c6_4 ...\n",
            "installing: sqlite-3.23.1-he433501_0 ...\n",
            "installing: asn1crypto-0.24.0-py36_0 ...\n",
            "installing: certifi-2018.4.16-py36_0 ...\n",
            "installing: chardet-3.0.4-py36h0f667ec_1 ...\n",
            "installing: idna-2.6-py36h82fb2a8_1 ...\n",
            "installing: pycosat-0.6.3-py36h0a5515d_0 ...\n",
            "installing: pycparser-2.18-py36hf9f622e_1 ...\n",
            "installing: pysocks-1.6.8-py36_0 ...\n",
            "installing: ruamel_yaml-0.15.37-py36h14c3975_2 ...\n",
            "installing: six-1.11.0-py36h372c433_1 ...\n",
            "installing: cffi-1.11.5-py36h9745a5d_0 ...\n",
            "installing: setuptools-39.2.0-py36_0 ...\n",
            "installing: cryptography-2.2.2-py36h14c3975_0 ...\n",
            "installing: wheel-0.31.1-py36_0 ...\n",
            "installing: pip-10.0.1-py36_0 ...\n",
            "installing: pyopenssl-18.0.0-py36_0 ...\n",
            "installing: urllib3-1.22-py36hbe7ace6_0 ...\n",
            "installing: requests-2.18.4-py36he2e5f8d_1 ...\n",
            "installing: conda-4.5.4-py36_0 ...\n",
            "installation finished.\n",
            "WARNING:\n",
            "    You currently have a PYTHONPATH environment variable set. This may cause\n",
            "    unexpected behavior when running the Python interpreter in Miniconda3.\n",
            "    For best results, please verify that your PYTHONPATH only points to\n",
            "    directories of packages that are compatible with the Python interpreter\n",
            "    in Miniconda3: /usr/local\n",
            "Installing RAPIDS packages\n",
            "cython-0.29.10       |  2.2 MB | : 100% 1.0/1 [00:00<00:00,  1.58it/s]               \n",
            "tornado-6.0.2        |  636 KB | : 100% 1.0/1 [00:00<00:00,  4.32it/s]               \n",
            "libcumlmg-0.0.0.dev0 |  953 KB | : 100% 1.0/1 [00:00<00:00,  1.74it/s]               \n",
            "icu-58.2             | 22.6 MB | : 100% 1.0/1 [00:03<00:00,  3.68s/it]               \n",
            "blinker-1.4          |   13 KB | : 100% 1.0/1 [00:00<00:00, 19.66it/s]\n",
            "dask-core-1.2.2      |  534 KB | : 100% 1.0/1 [00:00<00:00,  3.94it/s]              \n",
            "boost-cpp-1.68.0     | 20.5 MB | : 100% 1.0/1 [00:09<00:00,  9.02s/it]               \n",
            "pyparsing-2.4.0      |   55 KB | : 100% 1.0/1 [00:00<00:00, 14.73it/s]\n",
            "bokeh-1.2.0          |  3.8 MB | : 100% 1.0/1 [00:01<00:00,  1.41s/it]               \n",
            "packaging-19.0       |   23 KB | : 100% 1.0/1 [00:00<00:00, 10.71it/s]\n",
            "cryptography-2.7     |  607 KB | : 100% 1.0/1 [00:00<00:00,  3.12it/s]               \n",
            "libcuml-0.8.0a       | 23.9 MB | : 100% 1.0/1 [00:05<00:00,  5.75s/it]                \n",
            "google-auth-oauthlib |   16 KB | : 100% 1.0/1 [00:00<00:00, 19.50it/s]\n",
            "cudf-0.8.0a1         |  2.9 MB | : 100% 1.0/1 [00:00<00:00,  1.20it/s]               \n",
            "cachetools-2.1.0     |   10 KB | : 100% 1.0/1 [00:00<00:00, 21.19it/s]\n",
            "bzip2-1.0.6          |  415 KB | : 100% 1.0/1 [00:00<00:00,  6.07it/s]             \n",
            "heapdict-1.0.0       |    7 KB | : 100% 1.0/1 [00:00<00:00, 20.02it/s]\n",
            "libblas-3.8.0        |    6 KB | : 100% 1.0/1 [00:00<00:00, 15.78it/s]\n",
            "tblib-1.4.0          |   12 KB | : 100% 1.0/1 [00:00<00:00, 19.01it/s]\n",
            "cloudpickle-1.1.1    |   18 KB | : 100% 1.0/1 [00:00<00:00, 18.69it/s]\n",
            "pyasn1-modules-0.2.5 |   38 KB | : 100% 1.0/1 [00:00<00:00, 12.80it/s]\n",
            "oauthlib-3.0.1       |   82 KB | : 100% 1.0/1 [00:00<00:00, 12.70it/s]\n",
            "google-auth-1.6.3    |   45 KB | : 100% 1.0/1 [00:00<00:00, 14.77it/s]\n",
            "gcsfs-0.2.2          |   26 KB | : 100% 1.0/1 [00:00<00:00, 13.24it/s]\n",
            "libprotobuf-3.6.1    |  4.0 MB | : 100% 1.0/1 [00:00<00:00,  1.16it/s]               \n",
            "scipy-1.3.0          | 18.8 MB | : 100% 1.0/1 [00:03<00:00,  3.52s/it]               \n",
            "xgboost-0.90.rapidsd |   12 KB | : 100% 1.0/1 [00:00<00:00,  4.80it/s] \n",
            "thrift-cpp-0.12.0    |  2.4 MB | : 100% 1.0/1 [00:00<00:00,  1.75it/s]               \n",
            "jpeg-9c              |  251 KB | : 100% 1.0/1 [00:00<00:00,  6.68it/s]               \n",
            "joblib-0.13.2        |  180 KB | : 100% 1.0/1 [00:00<00:00,  6.77it/s]\n",
            "libcugraph-0.8.0a    |  9.3 MB | : 100% 1.0/1 [00:01<00:00,  1.77s/it]               \n",
            "jinja2-2.10.1        |   91 KB | : 100% 1.0/1 [00:00<00:00,  9.73it/s]\n",
            "certifi-2019.3.9     |  149 KB | : 100% 1.0/1 [00:00<00:00, 15.42it/s]\n",
            "dask-cuml-0.8.0a     |   30 KB | : 100% 1.0/1 [00:00<00:00,  3.04it/s]                \n",
            "dask-cuda-0.8.0a1    |   20 KB | : 100% 1.0/1 [00:00<00:00,  5.56it/s]               \n",
            "toolz-0.9.0          |   42 KB | : 100% 1.0/1 [00:00<00:00, 12.77it/s]\n",
            "dask-xgboost-0.2.0.d |   14 KB | : 100% 1.0/1 [00:00<00:00,  5.82it/s] \n",
            "msgpack-python-0.6.1 |   89 KB | : 100% 1.0/1 [00:00<00:00, 14.45it/s]\n",
            "scikit-learn-0.21.2  |  6.7 MB | : 100% 1.0/1 [00:01<00:00,  1.69s/it]               \n",
            "requests-oauthlib-1. |   19 KB | : 100% 1.0/1 [00:00<00:00, 15.76it/s]\n",
            "openblas-0.3.5       | 15.8 MB | : 100% 1.0/1 [00:03<00:00,  3.24s/it]               \n",
            "libcblas-3.8.0       |    6 KB | : 100% 1.0/1 [00:00<00:00, 16.77it/s]\n",
            "cuml-0.8.0a          |  3.5 MB | : 100% 1.0/1 [00:00<00:00,  1.08it/s]               \n",
            "libnvstrings-0.8.0a  |  9.6 MB | : 100% 1.0/1 [00:02<00:00,  2.75s/it]                \n",
            "conda-4.6.14         |  2.1 MB | : 100% 1.0/1 [00:00<00:00,  1.51it/s]               \n",
            "pillow-6.0.0         |  615 KB | : 100% 1.0/1 [00:00<00:00,  4.43it/s]               \n",
            "liblapack-3.8.0      |    6 KB | : 100% 1.0/1 [00:00<00:00, 17.29it/s]\n",
            "pyyaml-5.1           |  183 KB | : 100% 1.0/1 [00:00<00:00,  8.69it/s]\n",
            "pyjwt-1.7.1          |   17 KB | : 100% 1.0/1 [00:00<00:00, 16.07it/s]\n",
            "zstd-1.4.0           |  928 KB | : 100% 1.0/1 [00:00<00:00,  4.96it/s]               \n",
            "nvstrings-0.8.0a     |   90 KB | : 100% 1.0/1 [00:00<00:00,  5.93it/s]                \n",
            "distributed-1.28.1   |  853 KB | : 100% 1.0/1 [00:00<00:00,  2.90it/s]               \n",
            "tk-8.6.9             |  3.2 MB | : 100% 1.0/1 [00:00<00:00,  1.42it/s]               \n",
            "olefile-0.46         |   31 KB | : 100% 1.0/1 [00:00<00:00, 20.82it/s]\n",
            "dask-cudf-0.8.0a     |   66 KB | : 100% 1.0/1 [00:00<00:00,  5.15it/s]                \n",
            "locket-0.2.0         |    6 KB | : 100% 1.0/1 [00:00<00:00, 20.08it/s]\n",
            "markupsafe-1.1.1     |   26 KB | : 100% 1.0/1 [00:00<00:00, 15.69it/s]\n",
            "boost-1.68.0         |  325 KB | : 100% 1.0/1 [00:00<00:00,  5.63it/s]               \n",
            "cugraph-0.8.0a       |  551 KB | : 100% 1.0/1 [00:00<00:00,  3.38it/s]               \n",
            "pyasn1-0.4.5         |   49 KB | : 100% 1.0/1 [00:00<00:00, 15.07it/s]\n",
            "sqlite-3.28.0        |  1.9 MB | : 100% 1.0/1 [00:00<00:00,  2.69it/s]               \n",
            "libpng-1.6.37        |  343 KB | : 100% 1.0/1 [00:00<00:00,  7.59it/s]               \n",
            "partd-0.3.9          |   16 KB | : 100% 1.0/1 [00:00<00:00, 13.68it/s]\n",
            "libcudf-0.8.0a1      | 15.8 MB | : 100% 1.0/1 [00:03<00:00,  3.32s/it]                \n",
            "rsa-3.4.2            |   31 KB | : 100% 1.0/1 [00:00<00:00, 15.19it/s]\n",
            "click-7.0            |   61 KB | : 100% 1.0/1 [00:00<00:00, 11.74it/s]\n",
            "librmm-0.8.0a        |   39 KB | : 100% 1.0/1 [00:00<00:00,  6.95it/s]               \n",
            "parquet-cpp-1.5.1    |    3 KB | : 100% 1.0/1 [00:00<00:00, 17.51it/s]\n",
            "numpy-1.16.4         |  4.3 MB | : 100% 1.0/1 [00:01<00:00,  1.14s/it]               \n",
            "python-dateutil-2.8. |  219 KB | : 100% 1.0/1 [00:00<00:00,  9.99it/s]\n",
            "libxgboost-0.90.rapi | 28.9 MB | : 100% 1.0/1 [00:06<00:00,  6.77s/it]               \n",
            "sortedcontainers-2.1 |   25 KB | : 100% 1.0/1 [00:00<00:00, 15.17it/s]\n",
            "pyarrow-0.12.1       |  2.2 MB | : 100% 1.0/1 [00:00<00:00,  1.53it/s]               \n",
            "freetype-2.10.0      |  885 KB | : 100% 1.0/1 [00:00<00:00,  4.96it/s]               \n",
            "libgfortran-ng-7.3.0 |  1.3 MB | : 100% 1.0/1 [00:00<00:00,  3.63it/s]               \n",
            "python-3.6.7         | 34.5 MB | : 100% 1.0/1 [00:05<00:00,  5.74s/it]               \n",
            "numba-0.43.1         |  2.9 MB | : 100% 1.0/1 [00:00<00:00,  1.01it/s]               \n",
            "pandas-0.24.2        | 11.1 MB | : 100% 1.0/1 [00:02<00:00,  2.56s/it]             \n",
            "arrow-cpp-0.12.1     |  6.9 MB | : 100% 1.0/1 [00:01<00:00,  1.45s/it]               \n",
            "psutil-5.6.2         |  320 KB | : 100% 1.0/1 [00:00<00:00,  7.16it/s]               \n",
            "nccl-2.4.6.1         | 66.5 MB | : 100% 1.0/1 [00:09<00:00,  9.80s/it]               \n",
            "llvmlite-0.28.0      | 20.2 MB | : 100% 1.0/1 [00:03<00:00,  3.45s/it]               \n",
            "lz4-c-1.8.3          |  187 KB | : 100% 1.0/1 [00:00<00:00, 10.25it/s]\n",
            "libtiff-4.0.10       |  587 KB | : 100% 1.0/1 [00:00<00:00,  5.92it/s]               \n",
            "ca-certificates-2019 |  146 KB | : 100% 1.0/1 [00:00<00:00, 11.77it/s]\n",
            "cudatoolkit-10.0.130 | 380.0 MB | : 100% 1.0/1 [00:54<00:00, 54.12s/it]                \n",
            "dask-1.2.2           |    4 KB | : 100% 1.0/1 [00:00<00:00, 17.91it/s]\n",
            "openssl-1.1.1b       |  4.0 MB | : 100% 1.0/1 [00:00<00:00,  1.28it/s]               \n",
            "pytz-2019.1          |  227 KB | : 100% 1.0/1 [00:00<00:00,  4.04it/s]               \n",
            "decorator-4.4.0      |   11 KB | : 100% 1.0/1 [00:00<00:00, 15.92it/s]\n",
            "zict-0.1.4           |   10 KB | : 100% 1.0/1 [00:00<00:00, 12.39it/s]\n",
            "libgcc-ng-8.2.0      |  7.6 MB | : 100% 1.0/1 [00:01<00:00,  1.25s/it]               \n",
            "py-xgboost-0.90.rapi |   87 KB | : 100% 1.0/1 [00:00<00:00,  2.45it/s]               \n",
            "rmm-0.8.0a           |   14 KB | : 100% 1.0/1 [00:00<00:00,  6.88it/s] \n",
            "cytoolz-0.9.0.1      |  416 KB | : 100% 1.0/1 [00:00<00:00,  7.16it/s]               \n",
            "libstdcxx-ng-8.2.0   |  2.9 MB | : 100% 1.0/1 [00:00<00:00,  2.01it/s]               \n",
            "Copying shared object files to /usr/lib\n",
            "Installing ngrok\n",
            "--2019-06-05 22:09:50--  https://bin.equinox.io/c/4VmDzA7iaHb/ngrok-stable-linux-amd64.zip\n",
            "Resolving bin.equinox.io (bin.equinox.io)... 52.3.53.115, 54.165.51.142, 52.73.9.93, ...\n",
            "Connecting to bin.equinox.io (bin.equinox.io)|52.3.53.115|:443... connected.\n",
            "HTTP request sent, awaiting response... 200 OK\n",
            "Length: 16648024 (16M) [application/octet-stream]\n",
            "Saving to: ‘ngrok-stable-linux-amd64.zip’\n",
            "\n",
            "ngrok-stable-linux- 100%[===================>]  15.88M  57.6MB/s    in 0.3s    \n",
            "\n",
            "2019-06-05 22:09:50 (57.6 MB/s) - ‘ngrok-stable-linux-amd64.zip’ saved [16648024/16648024]\n",
            "\n",
            "Archive:  ngrok-stable-linux-amd64.zip\n",
            "  inflating: ngrok                   \n"
          ],
          "name": "stdout"
        },
        {
          "output_type": "execute_result",
          "data": {
            "text/html": [
              "<table style=\"border: 2px solid white;\">\n",
              "<tr>\n",
              "<td style=\"vertical-align: top; border: 0px solid white\">\n",
              "<h3>Client</h3>\n",
              "<ul>\n",
              "  <li><b>Scheduler: </b>inproc://172.28.0.2/126/1\n",
              "  <li><b>Dashboard: </b><a href='http://localhost:8787/status' target='_blank'>http://localhost:8787/status</a>\n",
              "</ul>\n",
              "</td>\n",
              "<td style=\"vertical-align: top; border: 0px solid white\">\n",
              "<h3>Cluster</h3>\n",
              "<ul>\n",
              "  <li><b>Workers: </b>1</li>\n",
              "  <li><b>Cores: </b>1</li>\n",
              "  <li><b>Memory: </b>13.66 GB</li>\n",
              "</ul>\n",
              "</td>\n",
              "</tr>\n",
              "</table>"
            ],
            "text/plain": [
              "<Client: scheduler='inproc://172.28.0.2/126/1' processes=1 cores=1>"
            ]
          },
          "metadata": {
            "tags": []
          },
          "execution_count": 1
        }
      ]
    },
    {
      "cell_type": "markdown",
      "metadata": {
        "id": "2BYqTKVlojuZ",
        "colab_type": "text"
      },
      "source": [
        "# Introduction\n",
        "\n",
        "## Vertex Similarity\n",
        "----\n",
        "\n",
        "In this notebook, we will use cuGraph to compute vertex similarity using both the Jaccard Similarity and the Overlap Coefficient.  \n",
        "\n",
        "Notebook Credits\n",
        "\n",
        "    Original Authors: Bradley Rees\n",
        "    Last Edit: 04/24/2019\n",
        "\n",
        "## Defining a Set\n",
        "Both Jaccard and the Overlap Coefficient operate on sets, and in a graph setting, those sets are the list of neighbor vertices. <br>\n",
        "For those that like math:  The neighbors of a vertex, _v_, is defined as the set, _U_, of vertices connected by way of an edge to vertex v, or _N(v) = {U} where v ∈ V and ∀ u ∈ U ∃ edge(v,u)∈ E_.\n",
        "\n",
        "For the rest of this introduction, set A will equate to A = N(i) and set B will quate to B = N(j).  That just make the rest of the text more readable.\n",
        "\n",
        "### Jaccard Similarity\n",
        "\n",
        "The Jaccard similarity between two sets is defined as the ratio of the volume of their intersection divided by the volume of their union. \n",
        "\n",
        "The Jaccard Similarity can then be defined as\n",
        "\n",
        "<a href=\"https://www.codecogs.com/eqnedit.php?latex=js(A,B)&space;=&space;\\frac{|A&space;\\cap&space;B|}{|A&space;\\cup&space;B&space;|&space;}&space;=&space;\\frac{|A&space;\\cap&space;B|}{&space;|A|&space;&plus;&space;|B|&space;-&space;|A&space;\\cup&space;B&space;|&space;}\" target=\"_blank\"><img src=\"https://latex.codecogs.com/gif.latex?js(A,B)&space;=&space;\\frac{|A&space;\\cap&space;B|}{|A&space;\\cup&space;B&space;|&space;}&space;=&space;\\frac{|A&space;\\cap&space;B|}{&space;|A|&space;&plus;&space;|B|&space;-&space;|A&space;\\cup&space;B&space;|&space;}\" title=\"js(A,B) = \\frac{|A \\cap B|}{|A \\cup B | } = \\frac{|A \\cap B|}{ |A| + |B| - |A \\cup B | }\" /></a>\n",
        "\n",
        "\n",
        "\n",
        "For further detail see Wikipedia - https://en.wikipedia.org/wiki/Jaccard_index\n",
        "\n",
        "To compute the Jaccard similarity between all pairs of vertices connected by an edge in cuGraph use: <br>\n",
        "__jaccard(G)__\n",
        "\n",
        "    G: A cugraph.Graph object\n",
        "\n",
        "Returns:\n",
        "\n",
        "    df: cudf.DataFrame with three names columns:\n",
        "        df[\"source\"]: The source vertex id.\n",
        "        df[\"destination\"]: The destination vertex id.\n",
        "        df[\"jaccard_coeff\"]: The jaccard coefficient computed between the source and destination vertex.\n",
        "\n",
        "<br>\n",
        "\n",
        "\n",
        "__References__\n",
        "\n",
        "[https://research.nvidia.com/publication/2017-11_Parallel-Jaccard-and](https://research.nvidia.com/publication/2017-11_Parallel-Jaccard-and)"
      ]
    },
    {
      "cell_type": "markdown",
      "metadata": {
        "id": "JmTOBuL6osMt",
        "colab_type": "text"
      },
      "source": [
        "### Overlap Coefficient\n",
        "\n",
        "The Overlap Coefficient between two sets is defined as the ratio of the volume of their intersection divided by the volume of the smaller set.\n",
        "The Overlap Coefficient can be defined as\n",
        "\n",
        "<a href=\"https://www.codecogs.com/eqnedit.php?latex=oc(A,B)&space;=&space;\\frac{|A|&space;\\cap&space;|B|}{min(|A|,&space;|B|)&space;}\" target=\"_blank\"><img src=\"https://latex.codecogs.com/gif.latex?oc(A,B)&space;=&space;\\frac{|A&space;\\cap&space;B|}{min(|A|,&space;|B|)&space;}\" title=\"oc(A,B) = \\frac{|A \\cap B|}{min(|A|, |B|) }\" /></a>\n",
        "\n",
        "For further detail see Wikipedia - https://en.wikipedia.org/wiki/Overlap_coefficient\n",
        "\n",
        "To compute the Overlap Coefficient between all pairs of vertices connected by an edge in cuGraph use: <br>\n",
        "\n",
        "__overlap(G)__\n",
        "\n",
        "    G: A cugraph.Graph object\n",
        "\n",
        "Returns:\n",
        "\n",
        "    df: cudf.DataFrame with three names columns:\n",
        "        df[\"source\"]: The source vertex id.\n",
        "        df[\"destination\"]: The destination vertex id.\n",
        "        df[\"overlap_coeff\"]: The overlap coefficient computed between the source and destination vertex.\n",
        "\n"
      ]
    },
    {
      "cell_type": "markdown",
      "metadata": {
        "id": "u3vG7wGOpTZt",
        "colab_type": "text"
      },
      "source": [
        "### Test Data\n",
        "We will be using the Zachary Karate club dataset \n",
        "*W. W. Zachary, An information flow model for conflict and fission in small groups, Journal of\n",
        "Anthropological Research 33, 452-473 (1977).*\n",
        "\n",
        "\n",
        "![Karate Club](https://raw.githubusercontent.com/rapidsai/notebooks/branch-0.8/cugraph/img/zachary_black_lines.png)\n",
        "\n",
        "This is a small graph which allows for easy visual inspection to validate results. "
      ]
    },
    {
      "cell_type": "code",
      "metadata": {
        "id": "Gr6qYcfCojV1",
        "colab_type": "code",
        "colab": {}
      },
      "source": [
        "# Import needed libraries\n",
        "import cugraph\n",
        "from collections import OrderedDict"
      ],
      "execution_count": 0,
      "outputs": []
    },
    {
      "cell_type": "markdown",
      "metadata": {
        "id": "3O2h5wDIpeWA",
        "colab_type": "text"
      },
      "source": [
        "### Define some Print functions\n",
        "(the `del` are not needed since going out of scope should free memory)"
      ]
    },
    {
      "cell_type": "code",
      "metadata": {
        "id": "Pfvjz4O-pjl6",
        "colab_type": "code",
        "colab": {}
      },
      "source": [
        "# define a function for printing the top most similar vertices\n",
        "def print_most_similar_jaccard(df):\n",
        "    \n",
        "    jmax = df['jaccard_coeff'].max()\n",
        "    dm = df.query('jaccard_coeff >= @jmax')    \n",
        "    \n",
        "    #find the best\n",
        "    for i in range(len(dm)):    \n",
        "        print(\"Vertices \" + str(dm['source'][i]) + \" and \" + \n",
        "              str(dm['destination'][i]) + \" are most similar with score: \" \n",
        "              + str(dm['jaccard_coeff'][i]))\n",
        "    del jmax\n",
        "    del dm"
      ],
      "execution_count": 0,
      "outputs": []
    },
    {
      "cell_type": "code",
      "metadata": {
        "id": "XDNArzgOpnqa",
        "colab_type": "code",
        "colab": {}
      },
      "source": [
        "# define a function for printing the top most similar vertices\n",
        "def print_most_similar_overlap(df):\n",
        "    \n",
        "    smax = df['overlap_coeff'].max()\n",
        "    dm = df.query('overlap_coeff >= @smax')      \n",
        "    \n",
        "    for i in range(len(dm)):\n",
        "        print(\"Vertices \" + str(dm['source'][i]) + \" and \" + \n",
        "          str(dm['destination'][i]) + \" are most similar with score: \" \n",
        "          + str(dm['overlap_coeff'][i]))\n",
        "        \n",
        "    del smax\n",
        "    del dm"
      ],
      "execution_count": 0,
      "outputs": []
    },
    {
      "cell_type": "code",
      "metadata": {
        "id": "MM2lnajPppYH",
        "colab_type": "code",
        "colab": {}
      },
      "source": [
        "# define a function for printing jaccard similar vertices based on a threshold\n",
        "def print_jaccard_threshold(_d, limit):\n",
        "    \n",
        "    filtered = _d.query('jaccard_coeff > @limit')\n",
        "    \n",
        "    for i in range(len(filtered)):\n",
        "        print(\"Vertices \" + str(filtered['source'][i]) + \" and \" + \n",
        "            str(filtered['destination'][i]) + \" are similar with score: \" + \n",
        "            str(filtered['jaccard_coeff'][i]))"
      ],
      "execution_count": 0,
      "outputs": []
    },
    {
      "cell_type": "code",
      "metadata": {
        "id": "1TwPbQ9wpq17",
        "colab_type": "code",
        "colab": {}
      },
      "source": [
        "# define a function for printing similar vertices based on a threshold\n",
        "def print_overlap_threshold(_d, limit):\n",
        "    \n",
        "    filtered = _d.query('overlap_coeff > @limit')\n",
        "    \n",
        "    for i in range(len(filtered)):\n",
        "        if filtered['source'][i] != filtered['destination'][i] :\n",
        "            print(\"Vertices \" + str(filtered['source'][i]) + \" and \" + \n",
        "                str(filtered['destination'][i]) + \" are similar with score: \" + \n",
        "                str(filtered['overlap_coeff'][i]))"
      ],
      "execution_count": 0,
      "outputs": []
    },
    {
      "cell_type": "markdown",
      "metadata": {
        "id": "hNmRlrhbpuVd",
        "colab_type": "text"
      },
      "source": [
        "### Read the CSV datafile using cuDF\n",
        "data file is actually _tab_ separated, so we need to set the delimiter"
      ]
    },
    {
      "cell_type": "code",
      "metadata": {
        "id": "NyzkKvM4psZS",
        "colab_type": "code",
        "outputId": "6d091edb-dd27-4345-b55c-18516bb0e660",
        "colab": {
          "base_uri": "https://localhost:8080/",
          "height": 224
        }
      },
      "source": [
        "# Save test file\n",
        "!wget https://raw.githubusercontent.com/rapidsai/notebooks/branch-0.8/cugraph/data/karate-data.csv\n",
        "datafile='karate-data.csv'\n",
        "\n",
        "# define the column names\n",
        "cols = [\"src\", \"dst\"]\n",
        "\n",
        "# define the column data types\n",
        "dtypes = OrderedDict([\n",
        "        (\"src\", \"int32\"), \n",
        "        (\"dst\", \"int32\")\n",
        "        ])\n",
        "\n",
        "gdf = cudf.read_csv(datafile, names=cols, delimiter='\\t', dtype=list(dtypes.values()) )"
      ],
      "execution_count": 0,
      "outputs": [
        {
          "output_type": "stream",
          "text": [
            "--2019-06-05 22:10:24--  https://raw.githubusercontent.com/rapidsai/notebooks/branch-0.8/cugraph/data/karate-data.csv\n",
            "Resolving raw.githubusercontent.com (raw.githubusercontent.com)... 151.101.0.133, 151.101.64.133, 151.101.128.133, ...\n",
            "Connecting to raw.githubusercontent.com (raw.githubusercontent.com)|151.101.0.133|:443... connected.\n",
            "HTTP request sent, awaiting response... 200 OK\n",
            "Length: 814 [text/plain]\n",
            "Saving to: ‘karate-data.csv’\n",
            "\n",
            "\rkarate-data.csv       0%[                    ]       0  --.-KB/s               \rkarate-data.csv     100%[===================>]     814  --.-KB/s    in 0s      \n",
            "\n",
            "2019-06-05 22:10:24 (121 MB/s) - ‘karate-data.csv’ saved [814/814]\n",
            "\n"
          ],
          "name": "stdout"
        }
      ]
    },
    {
      "cell_type": "code",
      "metadata": {
        "id": "KVMw4IpvpyKi",
        "colab_type": "code",
        "outputId": "47b5dfd2-30d4-4cc0-f413-bbce03d8450c",
        "colab": {
          "base_uri": "https://localhost:8080/",
          "height": 34
        }
      },
      "source": [
        "# Let's look at the DataFrame. There should be two columns and 156 records\n",
        "gdf"
      ],
      "execution_count": 0,
      "outputs": [
        {
          "output_type": "execute_result",
          "data": {
            "text/plain": [
              "<cudf.DataFrame ncols=2 nrows=156 >"
            ]
          },
          "metadata": {
            "tags": []
          },
          "execution_count": 8
        }
      ]
    },
    {
      "cell_type": "code",
      "metadata": {
        "id": "thztLagkp1P9",
        "colab_type": "code",
        "outputId": "58bb96ac-6067-4778-ce44-856c935be3e4",
        "colab": {
          "base_uri": "https://localhost:8080/",
          "height": 204
        }
      },
      "source": [
        "# Look at the first few data records - the output should be two colums src and dst\n",
        "gdf.head().to_pandas()"
      ],
      "execution_count": 0,
      "outputs": [
        {
          "output_type": "execute_result",
          "data": {
            "text/html": [
              "<div>\n",
              "<style scoped>\n",
              "    .dataframe tbody tr th:only-of-type {\n",
              "        vertical-align: middle;\n",
              "    }\n",
              "\n",
              "    .dataframe tbody tr th {\n",
              "        vertical-align: top;\n",
              "    }\n",
              "\n",
              "    .dataframe thead th {\n",
              "        text-align: right;\n",
              "    }\n",
              "</style>\n",
              "<table border=\"1\" class=\"dataframe\">\n",
              "  <thead>\n",
              "    <tr style=\"text-align: right;\">\n",
              "      <th></th>\n",
              "      <th>src</th>\n",
              "      <th>dst</th>\n",
              "    </tr>\n",
              "  </thead>\n",
              "  <tbody>\n",
              "    <tr>\n",
              "      <th>0</th>\n",
              "      <td>1</td>\n",
              "      <td>2</td>\n",
              "    </tr>\n",
              "    <tr>\n",
              "      <th>1</th>\n",
              "      <td>1</td>\n",
              "      <td>3</td>\n",
              "    </tr>\n",
              "    <tr>\n",
              "      <th>2</th>\n",
              "      <td>1</td>\n",
              "      <td>4</td>\n",
              "    </tr>\n",
              "    <tr>\n",
              "      <th>3</th>\n",
              "      <td>1</td>\n",
              "      <td>5</td>\n",
              "    </tr>\n",
              "    <tr>\n",
              "      <th>4</th>\n",
              "      <td>1</td>\n",
              "      <td>6</td>\n",
              "    </tr>\n",
              "  </tbody>\n",
              "</table>\n",
              "</div>"
            ],
            "text/plain": [
              "   src  dst\n",
              "0    1    2\n",
              "1    1    3\n",
              "2    1    4\n",
              "3    1    5\n",
              "4    1    6"
            ]
          },
          "metadata": {
            "tags": []
          },
          "execution_count": 9
        }
      ]
    },
    {
      "cell_type": "markdown",
      "metadata": {
        "id": "5VZxPjR8p3j1",
        "colab_type": "text"
      },
      "source": [
        "### Create a Graph"
      ]
    },
    {
      "cell_type": "code",
      "metadata": {
        "id": "G92Fccd0p23i",
        "colab_type": "code",
        "colab": {}
      },
      "source": [
        "# create a Graph \n",
        "G = cugraph.Graph()\n",
        "G.add_edge_list(gdf[\"src\"], gdf[\"dst\"])"
      ],
      "execution_count": 0,
      "outputs": []
    },
    {
      "cell_type": "code",
      "metadata": {
        "id": "jKr9oI8tp51Y",
        "colab_type": "code",
        "outputId": "441fdaf5-6e80-4ca6-d9e0-1b114d9f1b39",
        "colab": {
          "base_uri": "https://localhost:8080/",
          "height": 34
        }
      },
      "source": [
        "G.degree()"
      ],
      "execution_count": 0,
      "outputs": [
        {
          "output_type": "execute_result",
          "data": {
            "text/plain": [
              "<cudf.DataFrame ncols=2 nrows=35 >"
            ]
          },
          "metadata": {
            "tags": []
          },
          "execution_count": 11
        }
      ]
    },
    {
      "cell_type": "code",
      "metadata": {
        "id": "gxaMWYKCp9MC",
        "colab_type": "code",
        "outputId": "00a9875f-e5d4-41a0-a786-80b947d31336",
        "colab": {
          "base_uri": "https://localhost:8080/",
          "height": 34
        }
      },
      "source": [
        "# How many vertices are in the graph?  Remember that Graph is zero based\n",
        "G.number_of_vertices()"
      ],
      "execution_count": 0,
      "outputs": [
        {
          "output_type": "execute_result",
          "data": {
            "text/plain": [
              "35"
            ]
          },
          "metadata": {
            "tags": []
          },
          "execution_count": 12
        }
      ]
    },
    {
      "cell_type": "markdown",
      "metadata": {
        "id": "QTUXt4cBp_Na",
        "colab_type": "text"
      },
      "source": [
        "_The test graph has only 34 vertices, so why is the Graph listing 35?_\n",
        "\n",
        "As mentioned above, cuGraph vertex numbering is zero-based, meaning that the first vertex ID starts at zero.  The test dataset is 1-based.  Because of that, the Graph object adds an extra isolated vertex with an ID of zero.  Hence the difference in vertex count.  \n",
        "We are working on a renumbering feature to address this issue. "
      ]
    },
    {
      "cell_type": "markdown",
      "metadata": {
        "id": "E-LiVrfaqEBx",
        "colab_type": "text"
      },
      "source": [
        "### Jaccard"
      ]
    },
    {
      "cell_type": "code",
      "metadata": {
        "id": "7h0N21uIqCqm",
        "colab_type": "code",
        "outputId": "85f5eebb-318b-4fc3-be33-bf07e1337815",
        "colab": {
          "base_uri": "https://localhost:8080/",
          "height": 51
        }
      },
      "source": [
        "# Call cugraph.nvJaccard \n",
        "%time df = cugraph.jaccard(G)"
      ],
      "execution_count": 0,
      "outputs": [
        {
          "output_type": "stream",
          "text": [
            "CPU times: user 3.42 ms, sys: 78 µs, total: 3.5 ms\n",
            "Wall time: 3.23 ms\n"
          ],
          "name": "stdout"
        }
      ]
    },
    {
      "cell_type": "markdown",
      "metadata": {
        "id": "2RoH7icVqHEE",
        "colab_type": "text"
      },
      "source": [
        "The Most similar should be 33 and 34. Vertex 33 has 12 neighbors, vertex 34 has 17 neighbors. They share 10 neighbors in common:  \n",
        "jaccard=10/(10+(12−10)+(17−10))=10/19=0.526"
      ]
    },
    {
      "cell_type": "code",
      "metadata": {
        "id": "rm4DzDARqJle",
        "colab_type": "code",
        "outputId": "6fd82b39-50ac-4a91-fc40-b2d6f16e6354",
        "colab": {
          "base_uri": "https://localhost:8080/",
          "height": 51
        }
      },
      "source": [
        "print_most_similar_jaccard(df)"
      ],
      "execution_count": 0,
      "outputs": [
        {
          "output_type": "stream",
          "text": [
            "Vertices 33 and 34 are most similar with score: 0.5263158\n",
            "Vertices 34 and 33 are most similar with score: 0.5263158\n"
          ],
          "name": "stdout"
        }
      ]
    },
    {
      "cell_type": "code",
      "metadata": {
        "id": "So_OFPr8qSXk",
        "colab_type": "code",
        "outputId": "cdb72c4b-dc90-47d6-b81b-a0409cf305e0",
        "colab": {
          "base_uri": "https://localhost:8080/",
          "height": 85
        }
      },
      "source": [
        "### let's look at all similarities over a threshold\n",
        "print_jaccard_threshold(df, 0.4)"
      ],
      "execution_count": 0,
      "outputs": [
        {
          "output_type": "stream",
          "text": [
            "Vertices 4 and 8 are similar with score: 0.42857143\n",
            "Vertices 8 and 4 are similar with score: 0.42857143\n",
            "Vertices 33 and 34 are similar with score: 0.5263158\n",
            "Vertices 34 and 33 are similar with score: 0.5263158\n"
          ],
          "name": "stdout"
        }
      ]
    },
    {
      "cell_type": "code",
      "metadata": {
        "id": "hdIDHZ0DqTb-",
        "colab_type": "code",
        "colab": {}
      },
      "source": [
        "# Since it is a small graph we can print all scores.\n",
        "# Notice that only connected vertices are computed\n",
        "\n",
        "# let's sort the data first.  Please note that you may get a warning.  Just ignore it.  \n",
        "## It is just converted into a dataframe so that we could do this function call.  \n",
        "## If we were going to actually do further work on it, we would leave it as it was :)\n",
        "\n",
        "g = df.groupby(['jaccard_coeff'], method='cudf', as_index=False)\n",
        "df_s = g.as_df()\n"
      ],
      "execution_count": 0,
      "outputs": []
    },
    {
      "cell_type": "code",
      "metadata": {
        "id": "9OFFKoLGqVtY",
        "colab_type": "code",
        "outputId": "e6accc96-01c3-49ca-a831-3115051bd060",
        "colab": {
          "base_uri": "https://localhost:8080/",
          "height": 2295
        }
      },
      "source": [
        "# The groupby as_df function returns a tuple where the first item is the dataframe\n",
        "print_jaccard_threshold(df_s[0], 0.0)"
      ],
      "execution_count": 0,
      "outputs": [
        {
          "output_type": "stream",
          "text": [
            "Vertices 3 and 33 are similar with score: 0.04761905\n",
            "Vertices 33 and 3 are similar with score: 0.04761905\n",
            "Vertices 1 and 9 are similar with score: 0.05\n",
            "Vertices 9 and 1 are similar with score: 0.05\n",
            "Vertices 28 and 34 are similar with score: 0.05\n",
            "Vertices 34 and 28 are similar with score: 0.05\n",
            "Vertices 29 and 34 are similar with score: 0.05263158\n",
            "Vertices 34 and 29 are similar with score: 0.05263158\n",
            "Vertices 1 and 20 are similar with score: 0.055555556\n",
            "Vertices 15 and 34 are similar with score: 0.055555556\n",
            "Vertices 16 and 34 are similar with score: 0.055555556\n",
            "Vertices 19 and 34 are similar with score: 0.055555556\n",
            "Vertices 20 and 1 are similar with score: 0.055555556\n",
            "Vertices 21 and 34 are similar with score: 0.055555556\n",
            "Vertices 23 and 34 are similar with score: 0.055555556\n",
            "Vertices 27 and 34 are similar with score: 0.055555556\n",
            "Vertices 34 and 15 are similar with score: 0.055555556\n",
            "Vertices 34 and 16 are similar with score: 0.055555556\n",
            "Vertices 34 and 19 are similar with score: 0.055555556\n",
            "Vertices 34 and 21 are similar with score: 0.055555556\n",
            "Vertices 34 and 23 are similar with score: 0.055555556\n",
            "Vertices 34 and 27 are similar with score: 0.055555556\n",
            "Vertices 1 and 13 are similar with score: 0.05882353\n",
            "Vertices 1 and 18 are similar with score: 0.05882353\n",
            "Vertices 1 and 22 are similar with score: 0.05882353\n",
            "Vertices 13 and 1 are similar with score: 0.05882353\n",
            "Vertices 18 and 1 are similar with score: 0.05882353\n",
            "Vertices 22 and 1 are similar with score: 0.05882353\n",
            "Vertices 32 and 33 are similar with score: 0.05882353\n",
            "Vertices 33 and 32 are similar with score: 0.05882353\n",
            "Vertices 15 and 33 are similar with score: 0.07692308\n",
            "Vertices 16 and 33 are similar with score: 0.07692308\n",
            "Vertices 19 and 33 are similar with score: 0.07692308\n",
            "Vertices 21 and 33 are similar with score: 0.07692308\n",
            "Vertices 23 and 33 are similar with score: 0.07692308\n",
            "Vertices 33 and 15 are similar with score: 0.07692308\n",
            "Vertices 33 and 16 are similar with score: 0.07692308\n",
            "Vertices 33 and 19 are similar with score: 0.07692308\n",
            "Vertices 33 and 21 are similar with score: 0.07692308\n",
            "Vertices 33 and 23 are similar with score: 0.07692308\n",
            "Vertices 2 and 20 are similar with score: 0.09090909\n",
            "Vertices 20 and 2 are similar with score: 0.09090909\n",
            "Vertices 32 and 34 are similar with score: 0.0952381\n",
            "Vertices 34 and 32 are similar with score: 0.0952381\n",
            "Vertices 2 and 18 are similar with score: 0.1\n",
            "Vertices 2 and 22 are similar with score: 0.1\n",
            "Vertices 9 and 34 are similar with score: 0.1\n",
            "Vertices 18 and 2 are similar with score: 0.1\n",
            "Vertices 22 and 2 are similar with score: 0.1\n",
            "Vertices 34 and 9 are similar with score: 0.1\n",
            "Vertices 31 and 34 are similar with score: 0.10526316\n",
            "Vertices 34 and 31 are similar with score: 0.10526316\n",
            "Vertices 1 and 6 are similar with score: 0.11111111\n",
            "Vertices 1 and 7 are similar with score: 0.11111111\n",
            "Vertices 6 and 1 are similar with score: 0.11111111\n",
            "Vertices 7 and 1 are similar with score: 0.11111111\n",
            "Vertices 1 and 5 are similar with score: 0.11764706\n",
            "Vertices 1 and 11 are similar with score: 0.11764706\n",
            "Vertices 5 and 1 are similar with score: 0.11764706\n",
            "Vertices 11 and 1 are similar with score: 0.11764706\n",
            "Vertices 24 and 28 are similar with score: 0.125\n",
            "Vertices 25 and 32 are similar with score: 0.125\n",
            "Vertices 26 and 32 are similar with score: 0.125\n",
            "Vertices 28 and 24 are similar with score: 0.125\n",
            "Vertices 29 and 32 are similar with score: 0.125\n",
            "Vertices 32 and 25 are similar with score: 0.125\n",
            "Vertices 32 and 26 are similar with score: 0.125\n",
            "Vertices 32 and 29 are similar with score: 0.125\n",
            "Vertices 24 and 33 are similar with score: 0.13333334\n",
            "Vertices 33 and 24 are similar with score: 0.13333334\n",
            "Vertices 4 and 13 are similar with score: 0.14285715\n",
            "Vertices 13 and 4 are similar with score: 0.14285715\n",
            "Vertices 30 and 33 are similar with score: 0.14285715\n",
            "Vertices 31 and 33 are similar with score: 0.14285715\n",
            "Vertices 33 and 30 are similar with score: 0.14285715\n",
            "Vertices 33 and 31 are similar with score: 0.14285715\n",
            "Vertices 3 and 9 are similar with score: 0.15384616\n",
            "Vertices 9 and 3 are similar with score: 0.15384616\n",
            "Vertices 24 and 34 are similar with score: 0.15789473\n",
            "Vertices 34 and 24 are similar with score: 0.15789473\n",
            "Vertices 1 and 14 are similar with score: 0.16666667\n",
            "Vertices 5 and 7 are similar with score: 0.16666667\n",
            "Vertices 6 and 11 are similar with score: 0.16666667\n",
            "Vertices 7 and 5 are similar with score: 0.16666667\n",
            "Vertices 11 and 6 are similar with score: 0.16666667\n",
            "Vertices 14 and 1 are similar with score: 0.16666667\n",
            "Vertices 30 and 34 are similar with score: 0.16666667\n",
            "Vertices 34 and 30 are similar with score: 0.16666667\n",
            "Vertices 1 and 8 are similar with score: 0.1764706\n",
            "Vertices 8 and 1 are similar with score: 0.1764706\n",
            "Vertices 5 and 11 are similar with score: 0.2\n",
            "Vertices 6 and 17 are similar with score: 0.2\n",
            "Vertices 7 and 17 are similar with score: 0.2\n",
            "Vertices 11 and 5 are similar with score: 0.2\n",
            "Vertices 17 and 6 are similar with score: 0.2\n",
            "Vertices 17 and 7 are similar with score: 0.2\n",
            "Vertices 25 and 26 are similar with score: 0.2\n",
            "Vertices 26 and 25 are similar with score: 0.2\n",
            "Vertices 27 and 30 are similar with score: 0.2\n",
            "Vertices 30 and 27 are similar with score: 0.2\n",
            "Vertices 9 and 33 are similar with score: 0.21428572\n",
            "Vertices 33 and 9 are similar with score: 0.21428572\n",
            "Vertices 1 and 3 are similar with score: 0.23809524\n",
            "Vertices 3 and 1 are similar with score: 0.23809524\n",
            "Vertices 3 and 14 are similar with score: 0.25\n",
            "Vertices 14 and 3 are similar with score: 0.25\n",
            "Vertices 2 and 3 are similar with score: 0.26666668\n",
            "Vertices 3 and 2 are similar with score: 0.26666668\n",
            "Vertices 2 and 14 are similar with score: 0.27272728\n",
            "Vertices 3 and 8 are similar with score: 0.27272728\n",
            "Vertices 8 and 3 are similar with score: 0.27272728\n",
            "Vertices 14 and 2 are similar with score: 0.27272728\n",
            "Vertices 9 and 31 are similar with score: 0.2857143\n",
            "Vertices 24 and 30 are similar with score: 0.2857143\n",
            "Vertices 30 and 24 are similar with score: 0.2857143\n",
            "Vertices 31 and 9 are similar with score: 0.2857143\n",
            "Vertices 1 and 4 are similar with score: 0.29411766\n",
            "Vertices 4 and 1 are similar with score: 0.29411766\n",
            "Vertices 2 and 8 are similar with score: 0.3\n",
            "Vertices 8 and 2 are similar with score: 0.3\n",
            "Vertices 3 and 4 are similar with score: 0.33333334\n",
            "Vertices 4 and 3 are similar with score: 0.33333334\n",
            "Vertices 6 and 7 are similar with score: 0.33333334\n",
            "Vertices 7 and 6 are similar with score: 0.33333334\n",
            "Vertices 2 and 4 are similar with score: 0.36363637\n",
            "Vertices 4 and 2 are similar with score: 0.36363637\n",
            "Vertices 4 and 14 are similar with score: 0.375\n",
            "Vertices 14 and 4 are similar with score: 0.375\n",
            "Vertices 1 and 2 are similar with score: 0.3888889\n",
            "Vertices 2 and 1 are similar with score: 0.3888889\n",
            "Vertices 4 and 8 are similar with score: 0.42857143\n",
            "Vertices 8 and 4 are similar with score: 0.42857143\n",
            "Vertices 33 and 34 are similar with score: 0.5263158\n",
            "Vertices 34 and 33 are similar with score: 0.5263158\n"
          ],
          "name": "stdout"
        }
      ]
    },
    {
      "cell_type": "markdown",
      "metadata": {
        "id": "Hq9lPc5jqWVL",
        "colab_type": "text"
      },
      "source": [
        "### Overlap Coefficient"
      ]
    },
    {
      "cell_type": "code",
      "metadata": {
        "id": "1_IrOUokqXqK",
        "colab_type": "code",
        "colab": {}
      },
      "source": [
        "# Call cugraph.nvJaccard \n",
        "do = cugraph.overlap(G)"
      ],
      "execution_count": 0,
      "outputs": []
    },
    {
      "cell_type": "code",
      "metadata": {
        "id": "Ep_nzMq4qYxN",
        "colab_type": "code",
        "outputId": "0b7b98c9-85f4-4261-f97a-71a0a306a354",
        "colab": {
          "base_uri": "https://localhost:8080/",
          "height": 85
        }
      },
      "source": [
        "print_most_similar_overlap(do)"
      ],
      "execution_count": 0,
      "outputs": [
        {
          "output_type": "stream",
          "text": [
            "Vertices 1 and 4 are most similar with score: 0.8333333\n",
            "Vertices 4 and 1 are most similar with score: 0.8333333\n",
            "Vertices 33 and 34 are most similar with score: 0.8333333\n",
            "Vertices 34 and 33 are most similar with score: 0.8333333\n"
          ],
          "name": "stdout"
        }
      ]
    },
    {
      "cell_type": "markdown",
      "metadata": {
        "id": "uII2wU6mqZse",
        "colab_type": "text"
      },
      "source": [
        "### Expanding vertex pairs for similarity scoring"
      ]
    },
    {
      "cell_type": "code",
      "metadata": {
        "id": "21kxMuB1qcUn",
        "colab_type": "code",
        "colab": {}
      },
      "source": [
        "# get all two-hop vertex pairs\n",
        "p = G.get_two_hop_neighbors()"
      ],
      "execution_count": 0,
      "outputs": []
    },
    {
      "cell_type": "code",
      "metadata": {
        "id": "4t6M1ejFqeK8",
        "colab_type": "code",
        "colab": {}
      },
      "source": [
        "# Let's look at the Jaccard score\n",
        "j2 = cugraph.jaccard(G, first=p['first'], second=p['second'])"
      ],
      "execution_count": 0,
      "outputs": []
    },
    {
      "cell_type": "code",
      "metadata": {
        "id": "2g6XhwJtqfa5",
        "colab_type": "code",
        "outputId": "99617a6d-f191-4911-dd19-6ed235c8fe95",
        "colab": {
          "base_uri": "https://localhost:8080/",
          "height": 391
        }
      },
      "source": [
        "print_most_similar_jaccard(j2)"
      ],
      "execution_count": 0,
      "outputs": [
        {
          "output_type": "stream",
          "text": [
            "Vertices 15 and 16 are most similar with score: 1.0\n",
            "Vertices 15 and 19 are most similar with score: 1.0\n",
            "Vertices 15 and 21 are most similar with score: 1.0\n",
            "Vertices 15 and 23 are most similar with score: 1.0\n",
            "Vertices 16 and 15 are most similar with score: 1.0\n",
            "Vertices 16 and 19 are most similar with score: 1.0\n",
            "Vertices 16 and 21 are most similar with score: 1.0\n",
            "Vertices 16 and 23 are most similar with score: 1.0\n",
            "Vertices 18 and 22 are most similar with score: 1.0\n",
            "Vertices 19 and 15 are most similar with score: 1.0\n",
            "Vertices 19 and 16 are most similar with score: 1.0\n",
            "Vertices 19 and 21 are most similar with score: 1.0\n",
            "Vertices 19 and 23 are most similar with score: 1.0\n",
            "Vertices 21 and 15 are most similar with score: 1.0\n",
            "Vertices 21 and 16 are most similar with score: 1.0\n",
            "Vertices 21 and 19 are most similar with score: 1.0\n",
            "Vertices 21 and 23 are most similar with score: 1.0\n",
            "Vertices 22 and 18 are most similar with score: 1.0\n",
            "Vertices 23 and 15 are most similar with score: 1.0\n",
            "Vertices 23 and 16 are most similar with score: 1.0\n",
            "Vertices 23 and 19 are most similar with score: 1.0\n",
            "Vertices 23 and 21 are most similar with score: 1.0\n"
          ],
          "name": "stdout"
        }
      ]
    },
    {
      "cell_type": "markdown",
      "metadata": {
        "id": "xKwtaXILqhWi",
        "colab_type": "text"
      },
      "source": [
        "notice that there are a lot of very similar vertices. For example vertices 15 and 16 share their only two neighbors in common."
      ]
    },
    {
      "cell_type": "code",
      "metadata": {
        "id": "a90AS0kUqinp",
        "colab_type": "code",
        "colab": {}
      },
      "source": [
        "j2o = cugraph.overlap(G, first=p['first'], second=p['second'])"
      ],
      "execution_count": 0,
      "outputs": []
    },
    {
      "cell_type": "code",
      "metadata": {
        "id": "V_XydJWLqjoa",
        "colab_type": "code",
        "outputId": "3852864e-6d62-4752-89a6-cdcae1c6e91e",
        "colab": {
          "base_uri": "https://localhost:8080/",
          "height": 2669
        }
      },
      "source": [
        "print_most_similar_overlap(j2o)"
      ],
      "execution_count": 0,
      "outputs": [
        {
          "output_type": "stream",
          "text": [
            "Vertices 1 and 17 are most similar with score: 1.0\n",
            "Vertices 2 and 12 are most similar with score: 1.0\n",
            "Vertices 2 and 13 are most similar with score: 1.0\n",
            "Vertices 3 and 12 are most similar with score: 1.0\n",
            "Vertices 3 and 13 are most similar with score: 1.0\n",
            "Vertices 3 and 18 are most similar with score: 1.0\n",
            "Vertices 3 and 22 are most similar with score: 1.0\n",
            "Vertices 4 and 12 are most similar with score: 1.0\n",
            "Vertices 4 and 18 are most similar with score: 1.0\n",
            "Vertices 4 and 22 are most similar with score: 1.0\n",
            "Vertices 5 and 6 are most similar with score: 1.0\n",
            "Vertices 5 and 12 are most similar with score: 1.0\n",
            "Vertices 6 and 5 are most similar with score: 1.0\n",
            "Vertices 6 and 12 are most similar with score: 1.0\n",
            "Vertices 7 and 11 are most similar with score: 1.0\n",
            "Vertices 7 and 12 are most similar with score: 1.0\n",
            "Vertices 8 and 12 are most similar with score: 1.0\n",
            "Vertices 8 and 13 are most similar with score: 1.0\n",
            "Vertices 8 and 14 are most similar with score: 1.0\n",
            "Vertices 8 and 18 are most similar with score: 1.0\n",
            "Vertices 8 and 22 are most similar with score: 1.0\n",
            "Vertices 9 and 10 are most similar with score: 1.0\n",
            "Vertices 9 and 12 are most similar with score: 1.0\n",
            "Vertices 9 and 15 are most similar with score: 1.0\n",
            "Vertices 9 and 16 are most similar with score: 1.0\n",
            "Vertices 9 and 19 are most similar with score: 1.0\n",
            "Vertices 9 and 21 are most similar with score: 1.0\n",
            "Vertices 9 and 23 are most similar with score: 1.0\n",
            "Vertices 10 and 9 are most similar with score: 1.0\n",
            "Vertices 10 and 14 are most similar with score: 1.0\n",
            "Vertices 10 and 28 are most similar with score: 1.0\n",
            "Vertices 10 and 29 are most similar with score: 1.0\n",
            "Vertices 10 and 33 are most similar with score: 1.0\n",
            "Vertices 11 and 7 are most similar with score: 1.0\n",
            "Vertices 11 and 12 are most similar with score: 1.0\n",
            "Vertices 12 and 2 are most similar with score: 1.0\n",
            "Vertices 12 and 3 are most similar with score: 1.0\n",
            "Vertices 12 and 4 are most similar with score: 1.0\n",
            "Vertices 12 and 5 are most similar with score: 1.0\n",
            "Vertices 12 and 6 are most similar with score: 1.0\n",
            "Vertices 12 and 7 are most similar with score: 1.0\n",
            "Vertices 12 and 8 are most similar with score: 1.0\n",
            "Vertices 12 and 9 are most similar with score: 1.0\n",
            "Vertices 12 and 11 are most similar with score: 1.0\n",
            "Vertices 12 and 13 are most similar with score: 1.0\n",
            "Vertices 12 and 14 are most similar with score: 1.0\n",
            "Vertices 12 and 18 are most similar with score: 1.0\n",
            "Vertices 12 and 20 are most similar with score: 1.0\n",
            "Vertices 12 and 22 are most similar with score: 1.0\n",
            "Vertices 12 and 32 are most similar with score: 1.0\n",
            "Vertices 13 and 2 are most similar with score: 1.0\n",
            "Vertices 13 and 3 are most similar with score: 1.0\n",
            "Vertices 13 and 8 are most similar with score: 1.0\n",
            "Vertices 13 and 12 are most similar with score: 1.0\n",
            "Vertices 13 and 14 are most similar with score: 1.0\n",
            "Vertices 14 and 8 are most similar with score: 1.0\n",
            "Vertices 14 and 10 are most similar with score: 1.0\n",
            "Vertices 14 and 12 are most similar with score: 1.0\n",
            "Vertices 14 and 13 are most similar with score: 1.0\n",
            "Vertices 14 and 18 are most similar with score: 1.0\n",
            "Vertices 14 and 20 are most similar with score: 1.0\n",
            "Vertices 14 and 22 are most similar with score: 1.0\n",
            "Vertices 15 and 9 are most similar with score: 1.0\n",
            "Vertices 15 and 16 are most similar with score: 1.0\n",
            "Vertices 15 and 19 are most similar with score: 1.0\n",
            "Vertices 15 and 21 are most similar with score: 1.0\n",
            "Vertices 15 and 23 are most similar with score: 1.0\n",
            "Vertices 15 and 24 are most similar with score: 1.0\n",
            "Vertices 15 and 30 are most similar with score: 1.0\n",
            "Vertices 15 and 31 are most similar with score: 1.0\n",
            "Vertices 15 and 32 are most similar with score: 1.0\n",
            "Vertices 16 and 9 are most similar with score: 1.0\n",
            "Vertices 16 and 15 are most similar with score: 1.0\n",
            "Vertices 16 and 19 are most similar with score: 1.0\n",
            "Vertices 16 and 21 are most similar with score: 1.0\n",
            "Vertices 16 and 23 are most similar with score: 1.0\n",
            "Vertices 16 and 24 are most similar with score: 1.0\n",
            "Vertices 16 and 30 are most similar with score: 1.0\n",
            "Vertices 16 and 31 are most similar with score: 1.0\n",
            "Vertices 16 and 32 are most similar with score: 1.0\n",
            "Vertices 17 and 1 are most similar with score: 1.0\n",
            "Vertices 18 and 3 are most similar with score: 1.0\n",
            "Vertices 18 and 4 are most similar with score: 1.0\n",
            "Vertices 18 and 8 are most similar with score: 1.0\n",
            "Vertices 18 and 12 are most similar with score: 1.0\n",
            "Vertices 18 and 14 are most similar with score: 1.0\n",
            "Vertices 18 and 20 are most similar with score: 1.0\n",
            "Vertices 18 and 22 are most similar with score: 1.0\n",
            "Vertices 19 and 9 are most similar with score: 1.0\n",
            "Vertices 19 and 15 are most similar with score: 1.0\n",
            "Vertices 19 and 16 are most similar with score: 1.0\n",
            "Vertices 19 and 21 are most similar with score: 1.0\n",
            "Vertices 19 and 23 are most similar with score: 1.0\n",
            "Vertices 19 and 24 are most similar with score: 1.0\n",
            "Vertices 19 and 30 are most similar with score: 1.0\n",
            "Vertices 19 and 31 are most similar with score: 1.0\n",
            "Vertices 19 and 32 are most similar with score: 1.0\n",
            "Vertices 20 and 12 are most similar with score: 1.0\n",
            "Vertices 20 and 14 are most similar with score: 1.0\n",
            "Vertices 20 and 18 are most similar with score: 1.0\n",
            "Vertices 20 and 22 are most similar with score: 1.0\n",
            "Vertices 21 and 9 are most similar with score: 1.0\n",
            "Vertices 21 and 15 are most similar with score: 1.0\n",
            "Vertices 21 and 16 are most similar with score: 1.0\n",
            "Vertices 21 and 19 are most similar with score: 1.0\n",
            "Vertices 21 and 23 are most similar with score: 1.0\n",
            "Vertices 21 and 24 are most similar with score: 1.0\n",
            "Vertices 21 and 30 are most similar with score: 1.0\n",
            "Vertices 21 and 31 are most similar with score: 1.0\n",
            "Vertices 21 and 32 are most similar with score: 1.0\n",
            "Vertices 22 and 3 are most similar with score: 1.0\n",
            "Vertices 22 and 4 are most similar with score: 1.0\n",
            "Vertices 22 and 8 are most similar with score: 1.0\n",
            "Vertices 22 and 12 are most similar with score: 1.0\n",
            "Vertices 22 and 14 are most similar with score: 1.0\n",
            "Vertices 22 and 18 are most similar with score: 1.0\n",
            "Vertices 22 and 20 are most similar with score: 1.0\n",
            "Vertices 23 and 9 are most similar with score: 1.0\n",
            "Vertices 23 and 15 are most similar with score: 1.0\n",
            "Vertices 23 and 16 are most similar with score: 1.0\n",
            "Vertices 23 and 19 are most similar with score: 1.0\n",
            "Vertices 23 and 21 are most similar with score: 1.0\n",
            "Vertices 23 and 24 are most similar with score: 1.0\n",
            "Vertices 23 and 30 are most similar with score: 1.0\n",
            "Vertices 23 and 31 are most similar with score: 1.0\n",
            "Vertices 23 and 32 are most similar with score: 1.0\n",
            "Vertices 24 and 15 are most similar with score: 1.0\n",
            "Vertices 24 and 16 are most similar with score: 1.0\n",
            "Vertices 24 and 19 are most similar with score: 1.0\n",
            "Vertices 24 and 21 are most similar with score: 1.0\n",
            "Vertices 24 and 23 are most similar with score: 1.0\n",
            "Vertices 24 and 27 are most similar with score: 1.0\n",
            "Vertices 27 and 24 are most similar with score: 1.0\n",
            "Vertices 27 and 33 are most similar with score: 1.0\n",
            "Vertices 28 and 10 are most similar with score: 1.0\n",
            "Vertices 29 and 10 are most similar with score: 1.0\n",
            "Vertices 29 and 33 are most similar with score: 1.0\n",
            "Vertices 30 and 15 are most similar with score: 1.0\n",
            "Vertices 30 and 16 are most similar with score: 1.0\n",
            "Vertices 30 and 19 are most similar with score: 1.0\n",
            "Vertices 30 and 21 are most similar with score: 1.0\n",
            "Vertices 30 and 23 are most similar with score: 1.0\n",
            "Vertices 31 and 15 are most similar with score: 1.0\n",
            "Vertices 31 and 16 are most similar with score: 1.0\n",
            "Vertices 31 and 19 are most similar with score: 1.0\n",
            "Vertices 31 and 21 are most similar with score: 1.0\n",
            "Vertices 31 and 23 are most similar with score: 1.0\n",
            "Vertices 32 and 12 are most similar with score: 1.0\n",
            "Vertices 32 and 15 are most similar with score: 1.0\n",
            "Vertices 32 and 16 are most similar with score: 1.0\n",
            "Vertices 32 and 19 are most similar with score: 1.0\n",
            "Vertices 32 and 21 are most similar with score: 1.0\n",
            "Vertices 32 and 23 are most similar with score: 1.0\n",
            "Vertices 33 and 10 are most similar with score: 1.0\n",
            "Vertices 33 and 27 are most similar with score: 1.0\n",
            "Vertices 33 and 29 are most similar with score: 1.0\n"
          ],
          "name": "stdout"
        }
      ]
    },
    {
      "cell_type": "markdown",
      "metadata": {
        "id": "-h3mjWdnqkfQ",
        "colab_type": "text"
      },
      "source": [
        "the overlap score captures all the same matches that Jaccrd did, but also includes those sets that are exact subsets"
      ]
    },
    {
      "cell_type": "markdown",
      "metadata": {
        "id": "YxOVuFy6qmcF",
        "colab_type": "text"
      },
      "source": [
        "----\n",
        "### Adjusting the vertex ID\n",
        "Let's adjust all the vertex IDs to be zero based.  We are going to do this by adding two new columns with the adjusted IDs\n"
      ]
    },
    {
      "cell_type": "code",
      "metadata": {
        "id": "IZ0ogVeuql4v",
        "colab_type": "code",
        "colab": {}
      },
      "source": [
        "gdf[\"src_0\"] = gdf[\"src\"] - 1\n",
        "gdf[\"dst_0\"] = gdf[\"dst\"] - 1"
      ],
      "execution_count": 0,
      "outputs": []
    },
    {
      "cell_type": "code",
      "metadata": {
        "id": "HfvpXNwOqrAj",
        "colab_type": "code",
        "colab": {}
      },
      "source": [
        "# create a new Graph \n",
        "G2 = cugraph.Graph()\n",
        "G2.add_edge_list(gdf[\"src_0\"], gdf[\"dst_0\"])"
      ],
      "execution_count": 0,
      "outputs": []
    },
    {
      "cell_type": "code",
      "metadata": {
        "id": "RuUvZT5oqs7L",
        "colab_type": "code",
        "outputId": "9b9d3533-83f9-47fe-9703-db42febb51e5",
        "colab": {
          "base_uri": "https://localhost:8080/",
          "height": 34
        }
      },
      "source": [
        "# How many vertices are in the graph?  Remember that Graph is zero based while teh data start at vertex 1\n",
        "G2.number_of_vertices()"
      ],
      "execution_count": 0,
      "outputs": [
        {
          "output_type": "execute_result",
          "data": {
            "text/plain": [
              "34"
            ]
          },
          "metadata": {
            "tags": []
          },
          "execution_count": 27
        }
      ]
    },
    {
      "cell_type": "markdown",
      "metadata": {
        "id": "fwFvupfoqt_J",
        "colab_type": "text"
      },
      "source": [
        "The number of vertices now matches what is in the test graph"
      ]
    },
    {
      "cell_type": "code",
      "metadata": {
        "id": "h6W47UTzqvYt",
        "colab_type": "code",
        "colab": {}
      },
      "source": [
        "# Call cugraph.nvJaccard \n",
        "df2 = cugraph.jaccard(G2)"
      ],
      "execution_count": 0,
      "outputs": []
    },
    {
      "cell_type": "code",
      "metadata": {
        "id": "ATwE1Dk-qws3",
        "colab_type": "code",
        "outputId": "9d9ba483-a38b-4957-b95b-a418095b2fb1",
        "colab": {
          "base_uri": "https://localhost:8080/",
          "height": 51
        }
      },
      "source": [
        "print_most_similar_jaccard(df2)"
      ],
      "execution_count": 0,
      "outputs": [
        {
          "output_type": "stream",
          "text": [
            "Vertices 32 and 33 are most similar with score: 0.5263158\n",
            "Vertices 33 and 32 are most similar with score: 0.5263158\n"
          ],
          "name": "stdout"
        }
      ]
    },
    {
      "cell_type": "markdown",
      "metadata": {
        "id": "C6aD2vDhqx4p",
        "colab_type": "text"
      },
      "source": [
        "Adjusting the vertices back (e.g adding +1 to vertex IDs) yields 33 and 34 which matches the orginal results.\n",
        "For Jaccard, the fact that vertex IDs do not start of 0 is not an issue"
      ]
    },
    {
      "cell_type": "markdown",
      "metadata": {
        "id": "AhQSE4M1ugqk",
        "colab_type": "text"
      },
      "source": [
        "# Next Steps #\n",
        "\n",
        "For an overview of how you can access and work with your own datasets in Colab, check out [this guide](https://towardsdatascience.com/3-ways-to-load-csv-files-into-colab-7c14fcbdcb92).\n",
        "\n",
        "For more RAPIDS examples, check out our RAPIDS notebooks repos:\n",
        "1. https://github.com/rapidsai/notebooks\n",
        "2. https://github.com/rapidsai/notebooks-extended"
      ]
    },
    {
      "cell_type": "markdown",
      "metadata": {
        "id": "RSPTecxFqzkt",
        "colab_type": "text"
      },
      "source": [
        "___\n",
        "Copyright (c) 2019, NVIDIA CORPORATION.\n",
        "\n",
        "Licensed under the Apache License, Version 2.0 (the \"License\");  you may not use this file except in compliance with the License. You may obtain a copy of the License at http://www.apache.org/licenses/LICENSE-2.0\n",
        "\n",
        "Unless required by applicable law or agreed to in writing, software distributed under the License is distributed on an \"AS IS\" BASIS, WITHOUT WARRANTIES OR CONDITIONS OF ANY KIND, either express or implied. See the License for the specific language governing permissions and limitations under the License.\n",
        "___"
      ]
    }
  ]
}