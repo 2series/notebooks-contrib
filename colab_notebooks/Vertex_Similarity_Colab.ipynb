{
  "nbformat": 4,
  "nbformat_minor": 0,
  "metadata": {
    "colab": {
      "name": "Vertex-Similarity_Colab.ipynb",
      "version": "0.3.2",
      "provenance": [],
      "collapsed_sections": []
    },
    "kernelspec": {
      "name": "python3",
      "display_name": "Python 3"
    },
    "accelerator": "GPU"
  },
  "cells": [
    {
      "cell_type": "markdown",
      "metadata": {
        "id": "RFY-bOtqoefa",
        "colab_type": "text"
      },
      "source": [
        "#Setup:\n",
        "\n",
        "1. Use pynvml to confirm Colab allocated you a Tesla T4 GPU.\n",
        "2. Install most recent Miniconda release compatible with Google Colab's Python install  (3.6.7)\n",
        "3. Install RAPIDS libraries\n",
        "4. Copy RAPIDS .so files into current working directory, a workaround for conda/colab interactions\n",
        "5. Add the ngrok binary to expose Dask's status dashboard\n",
        "6. Update env variables so Python can find and use RAPIDS artifacts\n",
        "​\n",
        "All of the above steps are automated in the next cell.\n",
        "​\n",
        "You should re-run this cell any time your instance re-starts."
      ]
    },
    {
      "cell_type": "code",
      "metadata": {
        "id": "sStm6cDXoWoO",
        "colab_type": "code",
        "colab": {}
      },
      "source": [
        "\"\"\"install RAPIDS AI suite and set up environment\n",
        ">> may take a few minutes, long output (output display removed)\n",
        "\"\"\"\n",
        "!wget -nc https://github.com/rapidsai/notebooks-extended/raw/master/utils/rapids-colab.sh\n",
        "!bash rapids-colab.sh\n",
        "\n",
        "import sys, os\n",
        "\n",
        "sys.path.append('/usr/local/lib/python3.6/site-packages/')\n",
        "os.environ['NUMBAPRO_NVVM'] = '/usr/local/cuda/nvvm/lib64/libnvvm.so'\n",
        "os.environ['NUMBAPRO_LIBDEVICE'] = '/usr/local/cuda/nvvm/libdevice/'"
      ],
      "execution_count": 0,
      "outputs": []
    },
    {
      "cell_type": "markdown",
      "metadata": {
        "id": "2BYqTKVlojuZ",
        "colab_type": "text"
      },
      "source": [
        "# Introduction\n",
        "\n",
        "## Vertex Similarity\n",
        "----\n",
        "\n",
        "In this notebook, we will use cuGraph to compute vertex similarity using both the Jaccard Similarity and the Overlap Coefficient.  \n",
        "\n",
        "Notebook Credits\n",
        "\n",
        "    Original Author: Bradley Rees\n",
        "    Last Edit: 07/28/2019\n",
        "\n",
        "## Defining a Set\n",
        "Both Jaccard and the Overlap Coefficient operate on sets, and in a graph setting, those sets are the list of neighbor vertices. <br>\n",
        "For those that like math:  The neighbors of a vertex, _v_, is defined as the set, _U_, of vertices connected by way of an edge to vertex v, or _N(v) = {U} where v ∈ V and ∀ u ∈ U ∃ edge(v,u)∈ E_.\n",
        "\n",
        "For the rest of this introduction, set A will equate to A = N(i) and set B will quate to B = N(j).  That just make the rest of the text more readable.\n",
        "\n",
        "### Jaccard Similarity\n",
        "\n",
        "The Jaccard similarity between two sets is defined as the ratio of the volume of their intersection divided by the volume of their union. \n",
        "\n",
        "The Jaccard Similarity can then be defined as\n",
        "\n",
        "<a href=\"https://www.codecogs.com/eqnedit.php?latex=js(A,B)&space;=&space;\\frac{|A&space;\\cap&space;B|}{|A&space;\\cup&space;B&space;|&space;}&space;=&space;\\frac{|A&space;\\cap&space;B|}{&space;|A|&space;&plus;&space;|B|&space;-&space;|A&space;\\cup&space;B&space;|&space;}\" target=\"_blank\"><img src=\"https://latex.codecogs.com/gif.latex?js(A,B)&space;=&space;\\frac{|A&space;\\cap&space;B|}{|A&space;\\cup&space;B&space;|&space;}&space;=&space;\\frac{|A&space;\\cap&space;B|}{&space;|A|&space;&plus;&space;|B|&space;-&space;|A&space;\\cup&space;B&space;|&space;}\" title=\"js(A,B) = \\frac{|A \\cap B|}{|A \\cup B | } = \\frac{|A \\cap B|}{ |A| + |B| - |A \\cup B | }\" /></a>\n",
        "\n",
        "\n",
        "\n",
        "For further detail see Wikipedia - https://en.wikipedia.org/wiki/Jaccard_index\n",
        "\n",
        "To compute the Jaccard similarity between all pairs of vertices connected by an edge in cuGraph use: <br>\n",
        "__jaccard(G)__\n",
        "\n",
        "    G: A cugraph.Graph object\n",
        "\n",
        "Returns:\n",
        "\n",
        "    df: cudf.DataFrame with three names columns:\n",
        "        df[\"source\"]: The source vertex id.\n",
        "        df[\"destination\"]: The destination vertex id.\n",
        "        df[\"jaccard_coeff\"]: The jaccard coefficient computed between the source and destination vertex.\n",
        "\n",
        "<br>\n",
        "\n",
        "\n",
        "__References__\n",
        "\n",
        "[https://research.nvidia.com/publication/2017-11_Parallel-Jaccard-and](https://research.nvidia.com/publication/2017-11_Parallel-Jaccard-and)"
      ]
    },
    {
      "cell_type": "markdown",
      "metadata": {
        "id": "JmTOBuL6osMt",
        "colab_type": "text"
      },
      "source": [
        "### Overlap Coefficient\n",
        "\n",
        "The Overlap Coefficient between two sets is defined as the ratio of the volume of their intersection divided by the volume of the smaller set.\n",
        "The Overlap Coefficient can be defined as\n",
        "\n",
        "<a href=\"https://www.codecogs.com/eqnedit.php?latex=oc(A,B)&space;=&space;\\frac{|A|&space;\\cap&space;|B|}{min(|A|,&space;|B|)&space;}\" target=\"_blank\"><img src=\"https://latex.codecogs.com/gif.latex?oc(A,B)&space;=&space;\\frac{|A&space;\\cap&space;B|}{min(|A|,&space;|B|)&space;}\" title=\"oc(A,B) = \\frac{|A \\cap B|}{min(|A|, |B|) }\" /></a>\n",
        "\n",
        "For further detail see Wikipedia - https://en.wikipedia.org/wiki/Overlap_coefficient\n",
        "\n",
        "To compute the Overlap Coefficient between all pairs of vertices connected by an edge in cuGraph use: <br>\n",
        "\n",
        "__overlap(G)__\n",
        "\n",
        "    G: A cugraph.Graph object\n",
        "\n",
        "Returns:\n",
        "\n",
        "    df: cudf.DataFrame with three names columns:\n",
        "        df[\"source\"]: The source vertex id.\n",
        "        df[\"destination\"]: The destination vertex id.\n",
        "        df[\"overlap_coeff\"]: The overlap coefficient computed between the source and destination vertex.\n",
        "\n"
      ]
    },
    {
      "cell_type": "markdown",
      "metadata": {
        "id": "u3vG7wGOpTZt",
        "colab_type": "text"
      },
      "source": [
        "### Test Data\n",
        "We will be using the Zachary Karate club dataset \n",
        "*W. W. Zachary, An information flow model for conflict and fission in small groups, Journal of\n",
        "Anthropological Research 33, 452-473 (1977).*\n",
        "\n",
        "\n",
        "![Karate Club](https://raw.githubusercontent.com/rapidsai/notebooks/branch-0.8/cugraph/img/zachary_black_lines.png)\n",
        "\n",
        "This is a small graph which allows for easy visual inspection to validate results. "
      ]
    },
    {
      "cell_type": "code",
      "metadata": {
        "id": "Gr6qYcfCojV1",
        "colab_type": "code",
        "colab": {}
      },
      "source": [
        "# Import needed libraries\n",
        "import cudf\n",
        "import cugraph\n",
        "from collections import OrderedDict"
      ],
      "execution_count": 0,
      "outputs": []
    },
    {
      "cell_type": "markdown",
      "metadata": {
        "id": "3O2h5wDIpeWA",
        "colab_type": "text"
      },
      "source": [
        "### Define some Print functions\n",
        "(the `del` are not needed since going out of scope should free memory)"
      ]
    },
    {
      "cell_type": "code",
      "metadata": {
        "id": "Pfvjz4O-pjl6",
        "colab_type": "code",
        "colab": {}
      },
      "source": [
        "# define a function for printing the top most similar vertices\n",
        "def print_most_similar_jaccard(df):\n",
        "    \n",
        "    jmax = df['jaccard_coeff'].max()\n",
        "    dm = df.query('jaccard_coeff >= @jmax')    \n",
        "    \n",
        "    #find the best\n",
        "    for i in range(len(dm)):    \n",
        "        print(\"Vertices \" + str(dm['source'][i]) + \" and \" + \n",
        "              str(dm['destination'][i]) + \" are most similar with score: \" \n",
        "              + str(dm['jaccard_coeff'][i]))\n",
        "    del jmax\n",
        "    del dm"
      ],
      "execution_count": 0,
      "outputs": []
    },
    {
      "cell_type": "code",
      "metadata": {
        "id": "XDNArzgOpnqa",
        "colab_type": "code",
        "colab": {}
      },
      "source": [
        "# define a function for printing the top most similar vertices\n",
        "def print_most_similar_overlap(df):\n",
        "    \n",
        "    smax = df['overlap_coeff'].max()\n",
        "    dm = df.query('overlap_coeff >= @smax')      \n",
        "    \n",
        "    for i in range(len(dm)):\n",
        "        print(\"Vertices \" + str(dm['source'][i]) + \" and \" + \n",
        "          str(dm['destination'][i]) + \" are most similar with score: \" \n",
        "          + str(dm['overlap_coeff'][i]))\n",
        "        \n",
        "    del smax\n",
        "    del dm"
      ],
      "execution_count": 0,
      "outputs": []
    },
    {
      "cell_type": "code",
      "metadata": {
        "id": "MM2lnajPppYH",
        "colab_type": "code",
        "colab": {}
      },
      "source": [
        "# define a function for printing jaccard similar vertices based on a threshold\n",
        "def print_jaccard_threshold(_d, limit):\n",
        "    \n",
        "    filtered = _d.query('jaccard_coeff > @limit')\n",
        "    \n",
        "    for i in range(len(filtered)):\n",
        "        print(\"Vertices \" + str(filtered['source'][i]) + \" and \" + \n",
        "            str(filtered['destination'][i]) + \" are similar with score: \" + \n",
        "            str(filtered['jaccard_coeff'][i]))"
      ],
      "execution_count": 0,
      "outputs": []
    },
    {
      "cell_type": "code",
      "metadata": {
        "id": "1TwPbQ9wpq17",
        "colab_type": "code",
        "colab": {}
      },
      "source": [
        "# define a function for printing similar vertices based on a threshold\n",
        "def print_overlap_threshold(_d, limit):\n",
        "    \n",
        "    filtered = _d.query('overlap_coeff > @limit')\n",
        "    \n",
        "    for i in range(len(filtered)):\n",
        "        if filtered['source'][i] != filtered['destination'][i] :\n",
        "            print(\"Vertices \" + str(filtered['source'][i]) + \" and \" + \n",
        "                str(filtered['destination'][i]) + \" are similar with score: \" + \n",
        "                str(filtered['overlap_coeff'][i]))"
      ],
      "execution_count": 0,
      "outputs": []
    },
    {
      "cell_type": "markdown",
      "metadata": {
        "id": "hNmRlrhbpuVd",
        "colab_type": "text"
      },
      "source": [
        "### Read the CSV datafile using cuDF\n",
        "data file is actually _tab_ separated, so we need to set the delimiter"
      ]
    },
    {
      "cell_type": "code",
      "metadata": {
        "id": "NyzkKvM4psZS",
        "colab_type": "code",
        "outputId": "6b227374-ea80-451b-aeab-0fd24748461e",
        "colab": {
          "base_uri": "https://localhost:8080/",
          "height": 222
        }
      },
      "source": [
        "# Save test file\n",
        "!wget https://raw.githubusercontent.com/rapidsai/notebooks/branch-0.8/cugraph/data/karate-data.csv\n",
        "datafile='karate-data.csv'\n",
        "\n",
        "# define the column names\n",
        "cols = [\"src\", \"dst\"]\n",
        "\n",
        "# define the column data types\n",
        "dtypes = OrderedDict([\n",
        "        (\"src\", \"int32\"), \n",
        "        (\"dst\", \"int32\")\n",
        "        ])\n",
        "\n",
        "gdf = cudf.read_csv(datafile, names=cols, delimiter='\\t', dtype=list(dtypes.values()) )"
      ],
      "execution_count": 9,
      "outputs": [
        {
          "output_type": "stream",
          "text": [
            "--2019-07-28 20:07:57--  https://raw.githubusercontent.com/rapidsai/notebooks/branch-0.8/cugraph/data/karate-data.csv\n",
            "Resolving raw.githubusercontent.com (raw.githubusercontent.com)... 151.101.0.133, 151.101.64.133, 151.101.128.133, ...\n",
            "Connecting to raw.githubusercontent.com (raw.githubusercontent.com)|151.101.0.133|:443... connected.\n",
            "HTTP request sent, awaiting response... 200 OK\n",
            "Length: 814 [text/plain]\n",
            "Saving to: ‘karate-data.csv.1’\n",
            "\n",
            "\rkarate-data.csv.1     0%[                    ]       0  --.-KB/s               \rkarate-data.csv.1   100%[===================>]     814  --.-KB/s    in 0s      \n",
            "\n",
            "2019-07-28 20:07:58 (202 MB/s) - ‘karate-data.csv.1’ saved [814/814]\n",
            "\n"
          ],
          "name": "stdout"
        }
      ]
    },
    {
      "cell_type": "code",
      "metadata": {
        "id": "KVMw4IpvpyKi",
        "colab_type": "code",
        "outputId": "df7f2053-c8e9-423d-9922-39bc957eb9c4",
        "colab": {
          "base_uri": "https://localhost:8080/",
          "height": 34
        }
      },
      "source": [
        "# Let's look at the DataFrame. There should be two columns and 156 records\n",
        "gdf"
      ],
      "execution_count": 10,
      "outputs": [
        {
          "output_type": "execute_result",
          "data": {
            "text/plain": [
              "<cudf.DataFrame ncols=2 nrows=156 >"
            ]
          },
          "metadata": {
            "tags": []
          },
          "execution_count": 10
        }
      ]
    },
    {
      "cell_type": "code",
      "metadata": {
        "id": "thztLagkp1P9",
        "colab_type": "code",
        "outputId": "560efb0b-5a5e-46c5-d983-f5e1e7e36d54",
        "colab": {
          "base_uri": "https://localhost:8080/",
          "height": 195
        }
      },
      "source": [
        "# Look at the first few data records - the output should be two colums src and dst\n",
        "gdf.head().to_pandas()"
      ],
      "execution_count": 11,
      "outputs": [
        {
          "output_type": "execute_result",
          "data": {
            "text/html": [
              "<div>\n",
              "<style scoped>\n",
              "    .dataframe tbody tr th:only-of-type {\n",
              "        vertical-align: middle;\n",
              "    }\n",
              "\n",
              "    .dataframe tbody tr th {\n",
              "        vertical-align: top;\n",
              "    }\n",
              "\n",
              "    .dataframe thead th {\n",
              "        text-align: right;\n",
              "    }\n",
              "</style>\n",
              "<table border=\"1\" class=\"dataframe\">\n",
              "  <thead>\n",
              "    <tr style=\"text-align: right;\">\n",
              "      <th></th>\n",
              "      <th>src</th>\n",
              "      <th>dst</th>\n",
              "    </tr>\n",
              "  </thead>\n",
              "  <tbody>\n",
              "    <tr>\n",
              "      <th>0</th>\n",
              "      <td>1</td>\n",
              "      <td>2</td>\n",
              "    </tr>\n",
              "    <tr>\n",
              "      <th>1</th>\n",
              "      <td>1</td>\n",
              "      <td>3</td>\n",
              "    </tr>\n",
              "    <tr>\n",
              "      <th>2</th>\n",
              "      <td>1</td>\n",
              "      <td>4</td>\n",
              "    </tr>\n",
              "    <tr>\n",
              "      <th>3</th>\n",
              "      <td>1</td>\n",
              "      <td>5</td>\n",
              "    </tr>\n",
              "    <tr>\n",
              "      <th>4</th>\n",
              "      <td>1</td>\n",
              "      <td>6</td>\n",
              "    </tr>\n",
              "  </tbody>\n",
              "</table>\n",
              "</div>"
            ],
            "text/plain": [
              "   src  dst\n",
              "0    1    2\n",
              "1    1    3\n",
              "2    1    4\n",
              "3    1    5\n",
              "4    1    6"
            ]
          },
          "metadata": {
            "tags": []
          },
          "execution_count": 11
        }
      ]
    },
    {
      "cell_type": "markdown",
      "metadata": {
        "id": "5VZxPjR8p3j1",
        "colab_type": "text"
      },
      "source": [
        "### Create a Graph"
      ]
    },
    {
      "cell_type": "code",
      "metadata": {
        "id": "G92Fccd0p23i",
        "colab_type": "code",
        "colab": {}
      },
      "source": [
        "# create a Graph \n",
        "G = cugraph.Graph()\n",
        "G.add_edge_list(gdf[\"src\"], gdf[\"dst\"])"
      ],
      "execution_count": 0,
      "outputs": []
    },
    {
      "cell_type": "code",
      "metadata": {
        "id": "jKr9oI8tp51Y",
        "colab_type": "code",
        "outputId": "41eedec5-dfd0-4fd7-c5e8-99a1ce039cd4",
        "colab": {
          "base_uri": "https://localhost:8080/",
          "height": 34
        }
      },
      "source": [
        "G.degree()"
      ],
      "execution_count": 13,
      "outputs": [
        {
          "output_type": "execute_result",
          "data": {
            "text/plain": [
              "<cudf.DataFrame ncols=2 nrows=35 >"
            ]
          },
          "metadata": {
            "tags": []
          },
          "execution_count": 13
        }
      ]
    },
    {
      "cell_type": "code",
      "metadata": {
        "id": "gxaMWYKCp9MC",
        "colab_type": "code",
        "outputId": "4ce485a2-00fd-4b08-9601-f99c5072ca66",
        "colab": {
          "base_uri": "https://localhost:8080/",
          "height": 34
        }
      },
      "source": [
        "# How many vertices are in the graph?  Remember that Graph is zero based\n",
        "G.number_of_vertices()"
      ],
      "execution_count": 14,
      "outputs": [
        {
          "output_type": "execute_result",
          "data": {
            "text/plain": [
              "35"
            ]
          },
          "metadata": {
            "tags": []
          },
          "execution_count": 14
        }
      ]
    },
    {
      "cell_type": "markdown",
      "metadata": {
        "id": "QTUXt4cBp_Na",
        "colab_type": "text"
      },
      "source": [
        "_The test graph has only 34 vertices, so why is the Graph listing 35?_\n",
        "\n",
        "As mentioned above, cuGraph vertex numbering is zero-based, meaning that the first vertex ID starts at zero.  The test dataset is 1-based.  Because of that, the Graph object adds an extra isolated vertex with an ID of zero.  Hence the difference in vertex count.  \n",
        "We are working on a renumbering feature to address this issue. "
      ]
    },
    {
      "cell_type": "markdown",
      "metadata": {
        "id": "E-LiVrfaqEBx",
        "colab_type": "text"
      },
      "source": [
        "### Jaccard"
      ]
    },
    {
      "cell_type": "code",
      "metadata": {
        "id": "7h0N21uIqCqm",
        "colab_type": "code",
        "outputId": "5bc3f8ef-94fe-4559-c588-6ee52d0c1e69",
        "colab": {
          "base_uri": "https://localhost:8080/",
          "height": 50
        }
      },
      "source": [
        "# Call cugraph.nvJaccard \n",
        "%time df = cugraph.jaccard(G)"
      ],
      "execution_count": 15,
      "outputs": [
        {
          "output_type": "stream",
          "text": [
            "CPU times: user 3.17 ms, sys: 337 µs, total: 3.5 ms\n",
            "Wall time: 6.29 ms\n"
          ],
          "name": "stdout"
        }
      ]
    },
    {
      "cell_type": "markdown",
      "metadata": {
        "id": "2RoH7icVqHEE",
        "colab_type": "text"
      },
      "source": [
        "The Most similar should be 33 and 34. Vertex 33 has 12 neighbors, vertex 34 has 17 neighbors. They share 10 neighbors in common:  \n",
        "jaccard=10/(10+(12−10)+(17−10))=10/19=0.526"
      ]
    },
    {
      "cell_type": "code",
      "metadata": {
        "id": "rm4DzDARqJle",
        "colab_type": "code",
        "outputId": "005c3492-8e42-4364-dd33-1bf60840930d",
        "colab": {
          "base_uri": "https://localhost:8080/",
          "height": 50
        }
      },
      "source": [
        "print_most_similar_jaccard(df)"
      ],
      "execution_count": 16,
      "outputs": [
        {
          "output_type": "stream",
          "text": [
            "Vertices 33 and 34 are most similar with score: 0.5263158\n",
            "Vertices 34 and 33 are most similar with score: 0.5263158\n"
          ],
          "name": "stdout"
        }
      ]
    },
    {
      "cell_type": "code",
      "metadata": {
        "id": "So_OFPr8qSXk",
        "colab_type": "code",
        "outputId": "40690864-40ab-41c4-8fc1-8ad4206a21d5",
        "colab": {
          "base_uri": "https://localhost:8080/",
          "height": 84
        }
      },
      "source": [
        "### let's look at all similarities over a threshold\n",
        "print_jaccard_threshold(df, 0.4)"
      ],
      "execution_count": 17,
      "outputs": [
        {
          "output_type": "stream",
          "text": [
            "Vertices 4 and 8 are similar with score: 0.42857143\n",
            "Vertices 8 and 4 are similar with score: 0.42857143\n",
            "Vertices 33 and 34 are similar with score: 0.5263158\n",
            "Vertices 34 and 33 are similar with score: 0.5263158\n"
          ],
          "name": "stdout"
        }
      ]
    },
    {
      "cell_type": "code",
      "metadata": {
        "id": "hdIDHZ0DqTb-",
        "colab_type": "code",
        "colab": {}
      },
      "source": [
        "# Since it is a small graph we can print all scores.\n",
        "# Notice that only connected vertices are computed\n",
        "\n",
        "# let's sort the data first.  Please note that you may get a warning.  Just ignore it.  \n",
        "## It is just converted into a dataframe so that we could do this function call.  \n",
        "## If we were going to actually do further work on it, we would leave it as it was :)\n",
        "\n",
        "g = df.groupby(['jaccard_coeff'], method='cudf', as_index=False)\n",
        "df_s = g.as_df()\n"
      ],
      "execution_count": 0,
      "outputs": []
    },
    {
      "cell_type": "code",
      "metadata": {
        "id": "9OFFKoLGqVtY",
        "colab_type": "code",
        "outputId": "61da08f3-59c5-4383-fee9-cba677e55897",
        "colab": {
          "base_uri": "https://localhost:8080/",
          "height": 1000
        }
      },
      "source": [
        "# The groupby as_df function returns a tuple where the first item is the dataframe\n",
        "print_jaccard_threshold(df_s[0], 0.0)"
      ],
      "execution_count": 19,
      "outputs": [
        {
          "output_type": "stream",
          "text": [
            "Vertices 3 and 33 are similar with score: 0.04761905\n",
            "Vertices 33 and 3 are similar with score: 0.04761905\n",
            "Vertices 1 and 9 are similar with score: 0.05\n",
            "Vertices 9 and 1 are similar with score: 0.05\n",
            "Vertices 28 and 34 are similar with score: 0.05\n",
            "Vertices 34 and 28 are similar with score: 0.05\n",
            "Vertices 29 and 34 are similar with score: 0.05263158\n",
            "Vertices 34 and 29 are similar with score: 0.05263158\n",
            "Vertices 1 and 20 are similar with score: 0.055555556\n",
            "Vertices 15 and 34 are similar with score: 0.055555556\n",
            "Vertices 16 and 34 are similar with score: 0.055555556\n",
            "Vertices 19 and 34 are similar with score: 0.055555556\n",
            "Vertices 20 and 1 are similar with score: 0.055555556\n",
            "Vertices 21 and 34 are similar with score: 0.055555556\n",
            "Vertices 23 and 34 are similar with score: 0.055555556\n",
            "Vertices 27 and 34 are similar with score: 0.055555556\n",
            "Vertices 34 and 15 are similar with score: 0.055555556\n",
            "Vertices 34 and 16 are similar with score: 0.055555556\n",
            "Vertices 34 and 19 are similar with score: 0.055555556\n",
            "Vertices 34 and 21 are similar with score: 0.055555556\n",
            "Vertices 34 and 23 are similar with score: 0.055555556\n",
            "Vertices 34 and 27 are similar with score: 0.055555556\n",
            "Vertices 1 and 13 are similar with score: 0.05882353\n",
            "Vertices 1 and 18 are similar with score: 0.05882353\n",
            "Vertices 1 and 22 are similar with score: 0.05882353\n",
            "Vertices 13 and 1 are similar with score: 0.05882353\n",
            "Vertices 18 and 1 are similar with score: 0.05882353\n",
            "Vertices 22 and 1 are similar with score: 0.05882353\n",
            "Vertices 32 and 33 are similar with score: 0.05882353\n",
            "Vertices 33 and 32 are similar with score: 0.05882353\n",
            "Vertices 15 and 33 are similar with score: 0.07692308\n",
            "Vertices 16 and 33 are similar with score: 0.07692308\n",
            "Vertices 19 and 33 are similar with score: 0.07692308\n",
            "Vertices 21 and 33 are similar with score: 0.07692308\n",
            "Vertices 23 and 33 are similar with score: 0.07692308\n",
            "Vertices 33 and 15 are similar with score: 0.07692308\n",
            "Vertices 33 and 16 are similar with score: 0.07692308\n",
            "Vertices 33 and 19 are similar with score: 0.07692308\n",
            "Vertices 33 and 21 are similar with score: 0.07692308\n",
            "Vertices 33 and 23 are similar with score: 0.07692308\n",
            "Vertices 2 and 20 are similar with score: 0.09090909\n",
            "Vertices 20 and 2 are similar with score: 0.09090909\n",
            "Vertices 32 and 34 are similar with score: 0.0952381\n",
            "Vertices 34 and 32 are similar with score: 0.0952381\n",
            "Vertices 2 and 18 are similar with score: 0.1\n",
            "Vertices 2 and 22 are similar with score: 0.1\n",
            "Vertices 9 and 34 are similar with score: 0.1\n",
            "Vertices 18 and 2 are similar with score: 0.1\n",
            "Vertices 22 and 2 are similar with score: 0.1\n",
            "Vertices 34 and 9 are similar with score: 0.1\n",
            "Vertices 31 and 34 are similar with score: 0.10526316\n",
            "Vertices 34 and 31 are similar with score: 0.10526316\n",
            "Vertices 1 and 6 are similar with score: 0.11111111\n",
            "Vertices 1 and 7 are similar with score: 0.11111111\n",
            "Vertices 6 and 1 are similar with score: 0.11111111\n",
            "Vertices 7 and 1 are similar with score: 0.11111111\n",
            "Vertices 1 and 5 are similar with score: 0.11764706\n",
            "Vertices 1 and 11 are similar with score: 0.11764706\n",
            "Vertices 5 and 1 are similar with score: 0.11764706\n",
            "Vertices 11 and 1 are similar with score: 0.11764706\n",
            "Vertices 24 and 28 are similar with score: 0.125\n",
            "Vertices 25 and 32 are similar with score: 0.125\n",
            "Vertices 26 and 32 are similar with score: 0.125\n",
            "Vertices 28 and 24 are similar with score: 0.125\n",
            "Vertices 29 and 32 are similar with score: 0.125\n",
            "Vertices 32 and 25 are similar with score: 0.125\n",
            "Vertices 32 and 26 are similar with score: 0.125\n",
            "Vertices 32 and 29 are similar with score: 0.125\n",
            "Vertices 24 and 33 are similar with score: 0.13333334\n",
            "Vertices 33 and 24 are similar with score: 0.13333334\n",
            "Vertices 4 and 13 are similar with score: 0.14285715\n",
            "Vertices 13 and 4 are similar with score: 0.14285715\n",
            "Vertices 30 and 33 are similar with score: 0.14285715\n",
            "Vertices 31 and 33 are similar with score: 0.14285715\n",
            "Vertices 33 and 30 are similar with score: 0.14285715\n",
            "Vertices 33 and 31 are similar with score: 0.14285715\n",
            "Vertices 3 and 9 are similar with score: 0.15384616\n",
            "Vertices 9 and 3 are similar with score: 0.15384616\n",
            "Vertices 24 and 34 are similar with score: 0.15789473\n",
            "Vertices 34 and 24 are similar with score: 0.15789473\n",
            "Vertices 1 and 14 are similar with score: 0.16666667\n",
            "Vertices 5 and 7 are similar with score: 0.16666667\n",
            "Vertices 6 and 11 are similar with score: 0.16666667\n",
            "Vertices 7 and 5 are similar with score: 0.16666667\n",
            "Vertices 11 and 6 are similar with score: 0.16666667\n",
            "Vertices 14 and 1 are similar with score: 0.16666667\n",
            "Vertices 30 and 34 are similar with score: 0.16666667\n",
            "Vertices 34 and 30 are similar with score: 0.16666667\n",
            "Vertices 1 and 8 are similar with score: 0.1764706\n",
            "Vertices 8 and 1 are similar with score: 0.1764706\n",
            "Vertices 5 and 11 are similar with score: 0.2\n",
            "Vertices 6 and 17 are similar with score: 0.2\n",
            "Vertices 7 and 17 are similar with score: 0.2\n",
            "Vertices 11 and 5 are similar with score: 0.2\n",
            "Vertices 17 and 6 are similar with score: 0.2\n",
            "Vertices 17 and 7 are similar with score: 0.2\n",
            "Vertices 25 and 26 are similar with score: 0.2\n",
            "Vertices 26 and 25 are similar with score: 0.2\n",
            "Vertices 27 and 30 are similar with score: 0.2\n",
            "Vertices 30 and 27 are similar with score: 0.2\n",
            "Vertices 9 and 33 are similar with score: 0.21428572\n",
            "Vertices 33 and 9 are similar with score: 0.21428572\n",
            "Vertices 1 and 3 are similar with score: 0.23809524\n",
            "Vertices 3 and 1 are similar with score: 0.23809524\n",
            "Vertices 3 and 14 are similar with score: 0.25\n",
            "Vertices 14 and 3 are similar with score: 0.25\n",
            "Vertices 2 and 3 are similar with score: 0.26666668\n",
            "Vertices 3 and 2 are similar with score: 0.26666668\n",
            "Vertices 2 and 14 are similar with score: 0.27272728\n",
            "Vertices 3 and 8 are similar with score: 0.27272728\n",
            "Vertices 8 and 3 are similar with score: 0.27272728\n",
            "Vertices 14 and 2 are similar with score: 0.27272728\n",
            "Vertices 9 and 31 are similar with score: 0.2857143\n",
            "Vertices 24 and 30 are similar with score: 0.2857143\n",
            "Vertices 30 and 24 are similar with score: 0.2857143\n",
            "Vertices 31 and 9 are similar with score: 0.2857143\n",
            "Vertices 1 and 4 are similar with score: 0.29411766\n",
            "Vertices 4 and 1 are similar with score: 0.29411766\n",
            "Vertices 2 and 8 are similar with score: 0.3\n",
            "Vertices 8 and 2 are similar with score: 0.3\n",
            "Vertices 3 and 4 are similar with score: 0.33333334\n",
            "Vertices 4 and 3 are similar with score: 0.33333334\n",
            "Vertices 6 and 7 are similar with score: 0.33333334\n",
            "Vertices 7 and 6 are similar with score: 0.33333334\n",
            "Vertices 2 and 4 are similar with score: 0.36363637\n",
            "Vertices 4 and 2 are similar with score: 0.36363637\n",
            "Vertices 4 and 14 are similar with score: 0.375\n",
            "Vertices 14 and 4 are similar with score: 0.375\n",
            "Vertices 1 and 2 are similar with score: 0.3888889\n",
            "Vertices 2 and 1 are similar with score: 0.3888889\n",
            "Vertices 4 and 8 are similar with score: 0.42857143\n",
            "Vertices 8 and 4 are similar with score: 0.42857143\n",
            "Vertices 33 and 34 are similar with score: 0.5263158\n",
            "Vertices 34 and 33 are similar with score: 0.5263158\n"
          ],
          "name": "stdout"
        }
      ]
    },
    {
      "cell_type": "markdown",
      "metadata": {
        "id": "Hq9lPc5jqWVL",
        "colab_type": "text"
      },
      "source": [
        "### Overlap Coefficient"
      ]
    },
    {
      "cell_type": "code",
      "metadata": {
        "id": "1_IrOUokqXqK",
        "colab_type": "code",
        "colab": {}
      },
      "source": [
        "# Call cugraph.nvJaccard \n",
        "do = cugraph.overlap(G)"
      ],
      "execution_count": 0,
      "outputs": []
    },
    {
      "cell_type": "code",
      "metadata": {
        "id": "Ep_nzMq4qYxN",
        "colab_type": "code",
        "outputId": "cff68baa-3e8a-48fd-b3ae-f92b872bcc56",
        "colab": {
          "base_uri": "https://localhost:8080/",
          "height": 84
        }
      },
      "source": [
        "print_most_similar_overlap(do)"
      ],
      "execution_count": 21,
      "outputs": [
        {
          "output_type": "stream",
          "text": [
            "Vertices 1 and 4 are most similar with score: 0.8333333\n",
            "Vertices 4 and 1 are most similar with score: 0.8333333\n",
            "Vertices 33 and 34 are most similar with score: 0.8333333\n",
            "Vertices 34 and 33 are most similar with score: 0.8333333\n"
          ],
          "name": "stdout"
        }
      ]
    },
    {
      "cell_type": "markdown",
      "metadata": {
        "id": "uII2wU6mqZse",
        "colab_type": "text"
      },
      "source": [
        "### Expanding vertex pairs for similarity scoring"
      ]
    },
    {
      "cell_type": "code",
      "metadata": {
        "id": "21kxMuB1qcUn",
        "colab_type": "code",
        "colab": {}
      },
      "source": [
        "# get all two-hop vertex pairs\n",
        "p = G.get_two_hop_neighbors()"
      ],
      "execution_count": 0,
      "outputs": []
    },
    {
      "cell_type": "code",
      "metadata": {
        "id": "4t6M1ejFqeK8",
        "colab_type": "code",
        "colab": {}
      },
      "source": [
        "# Let's look at the Jaccard score\n",
        "j2 = cugraph.jaccard(G, first=p['first'], second=p['second'])"
      ],
      "execution_count": 0,
      "outputs": []
    },
    {
      "cell_type": "code",
      "metadata": {
        "id": "2g6XhwJtqfa5",
        "colab_type": "code",
        "outputId": "e82eb590-ed05-4a20-89c9-fc0478de25f8",
        "colab": {
          "base_uri": "https://localhost:8080/",
          "height": 386
        }
      },
      "source": [
        "print_most_similar_jaccard(j2)"
      ],
      "execution_count": 24,
      "outputs": [
        {
          "output_type": "stream",
          "text": [
            "Vertices 15 and 16 are most similar with score: 1.0\n",
            "Vertices 15 and 19 are most similar with score: 1.0\n",
            "Vertices 15 and 21 are most similar with score: 1.0\n",
            "Vertices 15 and 23 are most similar with score: 1.0\n",
            "Vertices 16 and 15 are most similar with score: 1.0\n",
            "Vertices 16 and 19 are most similar with score: 1.0\n",
            "Vertices 16 and 21 are most similar with score: 1.0\n",
            "Vertices 16 and 23 are most similar with score: 1.0\n",
            "Vertices 18 and 22 are most similar with score: 1.0\n",
            "Vertices 19 and 15 are most similar with score: 1.0\n",
            "Vertices 19 and 16 are most similar with score: 1.0\n",
            "Vertices 19 and 21 are most similar with score: 1.0\n",
            "Vertices 19 and 23 are most similar with score: 1.0\n",
            "Vertices 21 and 15 are most similar with score: 1.0\n",
            "Vertices 21 and 16 are most similar with score: 1.0\n",
            "Vertices 21 and 19 are most similar with score: 1.0\n",
            "Vertices 21 and 23 are most similar with score: 1.0\n",
            "Vertices 22 and 18 are most similar with score: 1.0\n",
            "Vertices 23 and 15 are most similar with score: 1.0\n",
            "Vertices 23 and 16 are most similar with score: 1.0\n",
            "Vertices 23 and 19 are most similar with score: 1.0\n",
            "Vertices 23 and 21 are most similar with score: 1.0\n"
          ],
          "name": "stdout"
        }
      ]
    },
    {
      "cell_type": "markdown",
      "metadata": {
        "id": "xKwtaXILqhWi",
        "colab_type": "text"
      },
      "source": [
        "notice that there are a lot of very similar vertices. For example vertices 15 and 16 share their only two neighbors in common."
      ]
    },
    {
      "cell_type": "code",
      "metadata": {
        "id": "a90AS0kUqinp",
        "colab_type": "code",
        "colab": {}
      },
      "source": [
        "j2o = cugraph.overlap(G, first=p['first'], second=p['second'])"
      ],
      "execution_count": 0,
      "outputs": []
    },
    {
      "cell_type": "code",
      "metadata": {
        "id": "V_XydJWLqjoa",
        "colab_type": "code",
        "outputId": "60156a60-1bbe-404b-90bf-d9c4d55e56f0",
        "colab": {
          "base_uri": "https://localhost:8080/",
          "height": 1000
        }
      },
      "source": [
        "print_most_similar_overlap(j2o)"
      ],
      "execution_count": 26,
      "outputs": [
        {
          "output_type": "stream",
          "text": [
            "Vertices 1 and 17 are most similar with score: 1.0\n",
            "Vertices 2 and 12 are most similar with score: 1.0\n",
            "Vertices 2 and 13 are most similar with score: 1.0\n",
            "Vertices 3 and 12 are most similar with score: 1.0\n",
            "Vertices 3 and 13 are most similar with score: 1.0\n",
            "Vertices 3 and 18 are most similar with score: 1.0\n",
            "Vertices 3 and 22 are most similar with score: 1.0\n",
            "Vertices 4 and 12 are most similar with score: 1.0\n",
            "Vertices 4 and 18 are most similar with score: 1.0\n",
            "Vertices 4 and 22 are most similar with score: 1.0\n",
            "Vertices 5 and 6 are most similar with score: 1.0\n",
            "Vertices 5 and 12 are most similar with score: 1.0\n",
            "Vertices 6 and 5 are most similar with score: 1.0\n",
            "Vertices 6 and 12 are most similar with score: 1.0\n",
            "Vertices 7 and 11 are most similar with score: 1.0\n",
            "Vertices 7 and 12 are most similar with score: 1.0\n",
            "Vertices 8 and 12 are most similar with score: 1.0\n",
            "Vertices 8 and 13 are most similar with score: 1.0\n",
            "Vertices 8 and 14 are most similar with score: 1.0\n",
            "Vertices 8 and 18 are most similar with score: 1.0\n",
            "Vertices 8 and 22 are most similar with score: 1.0\n",
            "Vertices 9 and 10 are most similar with score: 1.0\n",
            "Vertices 9 and 12 are most similar with score: 1.0\n",
            "Vertices 9 and 15 are most similar with score: 1.0\n",
            "Vertices 9 and 16 are most similar with score: 1.0\n",
            "Vertices 9 and 19 are most similar with score: 1.0\n",
            "Vertices 9 and 21 are most similar with score: 1.0\n",
            "Vertices 9 and 23 are most similar with score: 1.0\n",
            "Vertices 10 and 9 are most similar with score: 1.0\n",
            "Vertices 10 and 14 are most similar with score: 1.0\n",
            "Vertices 10 and 28 are most similar with score: 1.0\n",
            "Vertices 10 and 29 are most similar with score: 1.0\n",
            "Vertices 10 and 33 are most similar with score: 1.0\n",
            "Vertices 11 and 7 are most similar with score: 1.0\n",
            "Vertices 11 and 12 are most similar with score: 1.0\n",
            "Vertices 12 and 2 are most similar with score: 1.0\n",
            "Vertices 12 and 3 are most similar with score: 1.0\n",
            "Vertices 12 and 4 are most similar with score: 1.0\n",
            "Vertices 12 and 5 are most similar with score: 1.0\n",
            "Vertices 12 and 6 are most similar with score: 1.0\n",
            "Vertices 12 and 7 are most similar with score: 1.0\n",
            "Vertices 12 and 8 are most similar with score: 1.0\n",
            "Vertices 12 and 9 are most similar with score: 1.0\n",
            "Vertices 12 and 11 are most similar with score: 1.0\n",
            "Vertices 12 and 13 are most similar with score: 1.0\n",
            "Vertices 12 and 14 are most similar with score: 1.0\n",
            "Vertices 12 and 18 are most similar with score: 1.0\n",
            "Vertices 12 and 20 are most similar with score: 1.0\n",
            "Vertices 12 and 22 are most similar with score: 1.0\n",
            "Vertices 12 and 32 are most similar with score: 1.0\n",
            "Vertices 13 and 2 are most similar with score: 1.0\n",
            "Vertices 13 and 3 are most similar with score: 1.0\n",
            "Vertices 13 and 8 are most similar with score: 1.0\n",
            "Vertices 13 and 12 are most similar with score: 1.0\n",
            "Vertices 13 and 14 are most similar with score: 1.0\n",
            "Vertices 14 and 8 are most similar with score: 1.0\n",
            "Vertices 14 and 10 are most similar with score: 1.0\n",
            "Vertices 14 and 12 are most similar with score: 1.0\n",
            "Vertices 14 and 13 are most similar with score: 1.0\n",
            "Vertices 14 and 18 are most similar with score: 1.0\n",
            "Vertices 14 and 20 are most similar with score: 1.0\n",
            "Vertices 14 and 22 are most similar with score: 1.0\n",
            "Vertices 15 and 9 are most similar with score: 1.0\n",
            "Vertices 15 and 16 are most similar with score: 1.0\n",
            "Vertices 15 and 19 are most similar with score: 1.0\n",
            "Vertices 15 and 21 are most similar with score: 1.0\n",
            "Vertices 15 and 23 are most similar with score: 1.0\n",
            "Vertices 15 and 24 are most similar with score: 1.0\n",
            "Vertices 15 and 30 are most similar with score: 1.0\n",
            "Vertices 15 and 31 are most similar with score: 1.0\n",
            "Vertices 15 and 32 are most similar with score: 1.0\n",
            "Vertices 16 and 9 are most similar with score: 1.0\n",
            "Vertices 16 and 15 are most similar with score: 1.0\n",
            "Vertices 16 and 19 are most similar with score: 1.0\n",
            "Vertices 16 and 21 are most similar with score: 1.0\n",
            "Vertices 16 and 23 are most similar with score: 1.0\n",
            "Vertices 16 and 24 are most similar with score: 1.0\n",
            "Vertices 16 and 30 are most similar with score: 1.0\n",
            "Vertices 16 and 31 are most similar with score: 1.0\n",
            "Vertices 16 and 32 are most similar with score: 1.0\n",
            "Vertices 17 and 1 are most similar with score: 1.0\n",
            "Vertices 18 and 3 are most similar with score: 1.0\n",
            "Vertices 18 and 4 are most similar with score: 1.0\n",
            "Vertices 18 and 8 are most similar with score: 1.0\n",
            "Vertices 18 and 12 are most similar with score: 1.0\n",
            "Vertices 18 and 14 are most similar with score: 1.0\n",
            "Vertices 18 and 20 are most similar with score: 1.0\n",
            "Vertices 18 and 22 are most similar with score: 1.0\n",
            "Vertices 19 and 9 are most similar with score: 1.0\n",
            "Vertices 19 and 15 are most similar with score: 1.0\n",
            "Vertices 19 and 16 are most similar with score: 1.0\n",
            "Vertices 19 and 21 are most similar with score: 1.0\n",
            "Vertices 19 and 23 are most similar with score: 1.0\n",
            "Vertices 19 and 24 are most similar with score: 1.0\n",
            "Vertices 19 and 30 are most similar with score: 1.0\n",
            "Vertices 19 and 31 are most similar with score: 1.0\n",
            "Vertices 19 and 32 are most similar with score: 1.0\n",
            "Vertices 20 and 12 are most similar with score: 1.0\n",
            "Vertices 20 and 14 are most similar with score: 1.0\n",
            "Vertices 20 and 18 are most similar with score: 1.0\n",
            "Vertices 20 and 22 are most similar with score: 1.0\n",
            "Vertices 21 and 9 are most similar with score: 1.0\n",
            "Vertices 21 and 15 are most similar with score: 1.0\n",
            "Vertices 21 and 16 are most similar with score: 1.0\n",
            "Vertices 21 and 19 are most similar with score: 1.0\n",
            "Vertices 21 and 23 are most similar with score: 1.0\n",
            "Vertices 21 and 24 are most similar with score: 1.0\n",
            "Vertices 21 and 30 are most similar with score: 1.0\n",
            "Vertices 21 and 31 are most similar with score: 1.0\n",
            "Vertices 21 and 32 are most similar with score: 1.0\n",
            "Vertices 22 and 3 are most similar with score: 1.0\n",
            "Vertices 22 and 4 are most similar with score: 1.0\n",
            "Vertices 22 and 8 are most similar with score: 1.0\n",
            "Vertices 22 and 12 are most similar with score: 1.0\n",
            "Vertices 22 and 14 are most similar with score: 1.0\n",
            "Vertices 22 and 18 are most similar with score: 1.0\n",
            "Vertices 22 and 20 are most similar with score: 1.0\n",
            "Vertices 23 and 9 are most similar with score: 1.0\n",
            "Vertices 23 and 15 are most similar with score: 1.0\n",
            "Vertices 23 and 16 are most similar with score: 1.0\n",
            "Vertices 23 and 19 are most similar with score: 1.0\n",
            "Vertices 23 and 21 are most similar with score: 1.0\n",
            "Vertices 23 and 24 are most similar with score: 1.0\n",
            "Vertices 23 and 30 are most similar with score: 1.0\n",
            "Vertices 23 and 31 are most similar with score: 1.0\n",
            "Vertices 23 and 32 are most similar with score: 1.0\n",
            "Vertices 24 and 15 are most similar with score: 1.0\n",
            "Vertices 24 and 16 are most similar with score: 1.0\n",
            "Vertices 24 and 19 are most similar with score: 1.0\n",
            "Vertices 24 and 21 are most similar with score: 1.0\n",
            "Vertices 24 and 23 are most similar with score: 1.0\n",
            "Vertices 24 and 27 are most similar with score: 1.0\n",
            "Vertices 27 and 24 are most similar with score: 1.0\n",
            "Vertices 27 and 33 are most similar with score: 1.0\n",
            "Vertices 28 and 10 are most similar with score: 1.0\n",
            "Vertices 29 and 10 are most similar with score: 1.0\n",
            "Vertices 29 and 33 are most similar with score: 1.0\n",
            "Vertices 30 and 15 are most similar with score: 1.0\n",
            "Vertices 30 and 16 are most similar with score: 1.0\n",
            "Vertices 30 and 19 are most similar with score: 1.0\n",
            "Vertices 30 and 21 are most similar with score: 1.0\n",
            "Vertices 30 and 23 are most similar with score: 1.0\n",
            "Vertices 31 and 15 are most similar with score: 1.0\n",
            "Vertices 31 and 16 are most similar with score: 1.0\n",
            "Vertices 31 and 19 are most similar with score: 1.0\n",
            "Vertices 31 and 21 are most similar with score: 1.0\n",
            "Vertices 31 and 23 are most similar with score: 1.0\n",
            "Vertices 32 and 12 are most similar with score: 1.0\n",
            "Vertices 32 and 15 are most similar with score: 1.0\n",
            "Vertices 32 and 16 are most similar with score: 1.0\n",
            "Vertices 32 and 19 are most similar with score: 1.0\n",
            "Vertices 32 and 21 are most similar with score: 1.0\n",
            "Vertices 32 and 23 are most similar with score: 1.0\n",
            "Vertices 33 and 10 are most similar with score: 1.0\n",
            "Vertices 33 and 27 are most similar with score: 1.0\n",
            "Vertices 33 and 29 are most similar with score: 1.0\n"
          ],
          "name": "stdout"
        }
      ]
    },
    {
      "cell_type": "markdown",
      "metadata": {
        "id": "-h3mjWdnqkfQ",
        "colab_type": "text"
      },
      "source": [
        "the overlap score captures all the same matches that Jaccrd did, but also includes those sets that are exact subsets"
      ]
    },
    {
      "cell_type": "markdown",
      "metadata": {
        "id": "YxOVuFy6qmcF",
        "colab_type": "text"
      },
      "source": [
        "----\n",
        "### Adjusting the vertex ID\n",
        "Let's adjust all the vertex IDs to be zero based.  We are going to do this by adding two new columns with the adjusted IDs\n"
      ]
    },
    {
      "cell_type": "code",
      "metadata": {
        "id": "IZ0ogVeuql4v",
        "colab_type": "code",
        "colab": {}
      },
      "source": [
        "gdf[\"src_0\"] = gdf[\"src\"] - 1\n",
        "gdf[\"dst_0\"] = gdf[\"dst\"] - 1"
      ],
      "execution_count": 0,
      "outputs": []
    },
    {
      "cell_type": "code",
      "metadata": {
        "id": "HfvpXNwOqrAj",
        "colab_type": "code",
        "colab": {}
      },
      "source": [
        "# create a new Graph \n",
        "G2 = cugraph.Graph()\n",
        "G2.add_edge_list(gdf[\"src_0\"], gdf[\"dst_0\"])"
      ],
      "execution_count": 0,
      "outputs": []
    },
    {
      "cell_type": "code",
      "metadata": {
        "id": "RuUvZT5oqs7L",
        "colab_type": "code",
        "outputId": "0a805606-bedf-446d-f12f-ab9f2622dcf1",
        "colab": {
          "base_uri": "https://localhost:8080/",
          "height": 34
        }
      },
      "source": [
        "# How many vertices are in the graph?  Remember that Graph is zero based while teh data start at vertex 1\n",
        "G2.number_of_vertices()"
      ],
      "execution_count": 29,
      "outputs": [
        {
          "output_type": "execute_result",
          "data": {
            "text/plain": [
              "34"
            ]
          },
          "metadata": {
            "tags": []
          },
          "execution_count": 29
        }
      ]
    },
    {
      "cell_type": "markdown",
      "metadata": {
        "id": "fwFvupfoqt_J",
        "colab_type": "text"
      },
      "source": [
        "The number of vertices now matches what is in the test graph"
      ]
    },
    {
      "cell_type": "code",
      "metadata": {
        "id": "h6W47UTzqvYt",
        "colab_type": "code",
        "colab": {}
      },
      "source": [
        "# Call cugraph.nvJaccard \n",
        "df2 = cugraph.jaccard(G2)"
      ],
      "execution_count": 0,
      "outputs": []
    },
    {
      "cell_type": "code",
      "metadata": {
        "id": "ATwE1Dk-qws3",
        "colab_type": "code",
        "outputId": "be6f9de0-357c-4975-c1dd-8a97112bac9a",
        "colab": {
          "base_uri": "https://localhost:8080/",
          "height": 50
        }
      },
      "source": [
        "print_most_similar_jaccard(df2)"
      ],
      "execution_count": 31,
      "outputs": [
        {
          "output_type": "stream",
          "text": [
            "Vertices 32 and 33 are most similar with score: 0.5263158\n",
            "Vertices 33 and 32 are most similar with score: 0.5263158\n"
          ],
          "name": "stdout"
        }
      ]
    },
    {
      "cell_type": "markdown",
      "metadata": {
        "id": "C6aD2vDhqx4p",
        "colab_type": "text"
      },
      "source": [
        "Adjusting the vertices back (e.g adding +1 to vertex IDs) yields 33 and 34 which matches the orginal results.\n",
        "For Jaccard, the fact that vertex IDs do not start of 0 is not an issue"
      ]
    },
    {
      "cell_type": "markdown",
      "metadata": {
        "id": "AhQSE4M1ugqk",
        "colab_type": "text"
      },
      "source": [
        "# Next Steps #\n",
        "\n",
        "For an overview of how you can access and work with your own datasets in Colab, check out [this guide](https://towardsdatascience.com/3-ways-to-load-csv-files-into-colab-7c14fcbdcb92).\n",
        "\n",
        "For more RAPIDS examples, check out our RAPIDS notebooks repos:\n",
        "1. https://github.com/rapidsai/notebooks\n",
        "2. https://github.com/rapidsai/notebooks-extended"
      ]
    },
    {
      "cell_type": "markdown",
      "metadata": {
        "id": "RSPTecxFqzkt",
        "colab_type": "text"
      },
      "source": [
        "___\n",
        "Copyright (c) 2019, NVIDIA CORPORATION.\n",
        "\n",
        "Licensed under the Apache License, Version 2.0 (the \"License\");  you may not use this file except in compliance with the License. You may obtain a copy of the License at http://www.apache.org/licenses/LICENSE-2.0\n",
        "\n",
        "Unless required by applicable law or agreed to in writing, software distributed under the License is distributed on an \"AS IS\" BASIS, WITHOUT WARRANTIES OR CONDITIONS OF ANY KIND, either express or implied. See the License for the specific language governing permissions and limitations under the License.\n",
        "___"
      ]
    }
  ]
}