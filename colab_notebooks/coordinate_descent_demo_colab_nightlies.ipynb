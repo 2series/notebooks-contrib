{
  "nbformat": 4,
  "nbformat_minor": 0,
  "metadata": {
    "colab": {
      "name": "coordinate_descent_demo_colab-0.8.ipynb",
      "version": "0.3.2",
      "provenance": []
    },
    "kernelspec": {
      "name": "python3",
      "display_name": "Python 3"
    },
    "accelerator": "GPU"
  },
  "cells": [
    {
      "cell_type": "markdown",
      "metadata": {
        "id": "Zsdl94MK50dG",
        "colab_type": "text"
      },
      "source": [
        "#Coordinate descent#\n",
        "\n",
        "CuML library can implement lasso and elastic net algorithms. The lasso model extends LinearRegression with L2 regularization and elastic net extends LinearRegression with a combination of L1 and L2 regularizations. We see tremendous speed up for datasets with large number of rows and less number of rows. Furthermore, the MSE value for the cuML implementation is much smaller than the scikit-learn implementation for very small datasets.\n"
      ]
    },
    {
      "cell_type": "markdown",
      "metadata": {
        "id": "9ipi2A2f5-Rr",
        "colab_type": "text"
      },
      "source": [
        "#Setup:\n",
        "\n",
        "\n",
        "\n",
        "1.  Install most recent Miniconda release compatible with Google Colab's Python install (3.6.7)\n",
        "2.  Install RAPIDS libraries\n",
        "3. Set necessary environment variables\n",
        "4. Copy RAPIDS .so files into current working directory, a workaround for conda/colab interactions\n",
        "\n"
      ]
    },
    {
      "cell_type": "code",
      "metadata": {
        "id": "UM9O78CTEDhO",
        "colab_type": "code",
        "outputId": "ccd9bd00-1abf-4870-e84b-3125ca094405",
        "colab": {
          "base_uri": "https://localhost:8080/",
          "height": 33
        }
      },
      "source": [
        "import pynvml\n",
        "\n",
        "pynvml.nvmlInit()\n",
        "handle = pynvml.nvmlDeviceGetHandleByIndex(0)\n",
        "device_name = pynvml.nvmlDeviceGetName(handle)\n",
        "\n",
        "if device_name != b'Tesla T4':\n",
        "  raise Exception(\"\"\"\n",
        "    Unfortunately this instance does not have a T4 GPU.\n",
        "    \n",
        "    Please make sure you've configured Colab to request a GPU instance type.\n",
        "    \n",
        "    Sometimes Colab allocates a Tesla K80 instead of a T4. Resetting the instance.\n",
        "\n",
        "    If you get a K80 GPU, try Runtime -> Reset all runtimes...\n",
        "  \"\"\")\n",
        "else:\n",
        "  print('Woo! You got the right kind of GPU!')"
      ],
      "execution_count": 0,
      "outputs": [
        {
          "output_type": "stream",
          "text": [
            "Woo! You got the right kind of GPU!\n"
          ],
          "name": "stdout"
        }
      ]
    },
    {
      "cell_type": "code",
      "metadata": {
        "id": "hbB5MDqo59s0",
        "colab_type": "code",
        "outputId": "5c16e888-8409-4dad-c0f4-970386e89e37",
        "colab": {
          "base_uri": "https://localhost:8080/",
          "height": 3067
        }
      },
      "source": [
        "# intall miniconda\n",
        "!wget -c https://repo.continuum.io/miniconda/Miniconda3-4.5.4-Linux-x86_64.sh\n",
        "!chmod +x Miniconda3-4.5.4-Linux-x86_64.sh\n",
        "!bash ./Miniconda3-4.5.4-Linux-x86_64.sh -b -f -p /usr/local\n",
        "\n",
        "# Download data \n",
        "!mkdir data\n",
        "!wget https://github.com/rapidsai/notebooks/raw/branch-0.8/cuml/data/mortgage.npy.gz -O data/mortgage.npy.gz\n",
        "\n",
        "# install RAPIDS packages\n",
        "!conda install -q -y --prefix /usr/local -c conda-forge \\\n",
        "  -c rapidsai-nightly/label/cuda10.0 -c nvidia/label/cuda10.0 \\\n",
        "  cudf cuml\n",
        "\n",
        "# set environment vars\n",
        "import sys, os, shutil\n",
        "sys.path.append('/usr/local/lib/python3.6/site-packages/')\n",
        "os.environ['NUMBAPRO_NVVM'] = '/usr/local/cuda/nvvm/lib64/libnvvm.so'\n",
        "os.environ['NUMBAPRO_LIBDEVICE'] = '/usr/local/cuda/nvvm/libdevice/'\n",
        "\n",
        "# copy .so files to current working dir\n",
        "for fn in ['libcudf.so', 'librmm.so']:\n",
        "  shutil.copy('/usr/local/lib/'+fn, os.getcwd())"
      ],
      "execution_count": 1,
      "outputs": [
        {
          "output_type": "stream",
          "text": [
            "--2019-06-21 00:13:19--  https://repo.continuum.io/miniconda/Miniconda3-4.5.4-Linux-x86_64.sh\n",
            "Resolving repo.continuum.io (repo.continuum.io)... 104.18.201.79, 104.18.200.79, 2606:4700::6812:c94f, ...\n",
            "Connecting to repo.continuum.io (repo.continuum.io)|104.18.201.79|:443... connected.\n",
            "HTTP request sent, awaiting response... 200 OK\n",
            "Length: 58468498 (56M) [application/x-sh]\n",
            "Saving to: ‘Miniconda3-4.5.4-Linux-x86_64.sh’\n",
            "\n",
            "Miniconda3-4.5.4-Li 100%[===================>]  55.76M   136MB/s    in 0.4s    \n",
            "\n",
            "2019-06-21 00:13:20 (136 MB/s) - ‘Miniconda3-4.5.4-Linux-x86_64.sh’ saved [58468498/58468498]\n",
            "\n",
            "PREFIX=/usr/local\n",
            "installing: python-3.6.5-hc3d631a_2 ...\n",
            "Python 3.6.5 :: Anaconda, Inc.\n",
            "installing: ca-certificates-2018.03.07-0 ...\n",
            "installing: conda-env-2.6.0-h36134e3_1 ...\n",
            "installing: libgcc-ng-7.2.0-hdf63c60_3 ...\n",
            "installing: libstdcxx-ng-7.2.0-hdf63c60_3 ...\n",
            "installing: libffi-3.2.1-hd88cf55_4 ...\n",
            "installing: ncurses-6.1-hf484d3e_0 ...\n",
            "installing: openssl-1.0.2o-h20670df_0 ...\n",
            "installing: tk-8.6.7-hc745277_3 ...\n",
            "installing: xz-5.2.4-h14c3975_4 ...\n",
            "installing: yaml-0.1.7-had09818_2 ...\n",
            "installing: zlib-1.2.11-ha838bed_2 ...\n",
            "installing: libedit-3.1.20170329-h6b74fdf_2 ...\n",
            "installing: readline-7.0-ha6073c6_4 ...\n",
            "installing: sqlite-3.23.1-he433501_0 ...\n",
            "installing: asn1crypto-0.24.0-py36_0 ...\n",
            "installing: certifi-2018.4.16-py36_0 ...\n",
            "installing: chardet-3.0.4-py36h0f667ec_1 ...\n",
            "installing: idna-2.6-py36h82fb2a8_1 ...\n",
            "installing: pycosat-0.6.3-py36h0a5515d_0 ...\n",
            "installing: pycparser-2.18-py36hf9f622e_1 ...\n",
            "installing: pysocks-1.6.8-py36_0 ...\n",
            "installing: ruamel_yaml-0.15.37-py36h14c3975_2 ...\n",
            "installing: six-1.11.0-py36h372c433_1 ...\n",
            "installing: cffi-1.11.5-py36h9745a5d_0 ...\n",
            "installing: setuptools-39.2.0-py36_0 ...\n",
            "installing: cryptography-2.2.2-py36h14c3975_0 ...\n",
            "installing: wheel-0.31.1-py36_0 ...\n",
            "installing: pip-10.0.1-py36_0 ...\n",
            "installing: pyopenssl-18.0.0-py36_0 ...\n",
            "installing: urllib3-1.22-py36hbe7ace6_0 ...\n",
            "installing: requests-2.18.4-py36he2e5f8d_1 ...\n",
            "installing: conda-4.5.4-py36_0 ...\n",
            "installation finished.\n",
            "WARNING:\n",
            "    You currently have a PYTHONPATH environment variable set. This may cause\n",
            "    unexpected behavior when running the Python interpreter in Miniconda3.\n",
            "    For best results, please verify that your PYTHONPATH only points to\n",
            "    directories of packages that are compatible with the Python interpreter\n",
            "    in Miniconda3: /usr/local\n",
            "--2019-06-21 00:13:33--  https://github.com/rapidsai/notebooks/raw/branch-0.8/cuml/data/mortgage.npy.gz\n",
            "Resolving github.com (github.com)... 192.30.253.113\n",
            "Connecting to github.com (github.com)|192.30.253.113|:443... connected.\n",
            "HTTP request sent, awaiting response... 302 Found\n",
            "Location: https://raw.githubusercontent.com/rapidsai/notebooks/branch-0.8/cuml/data/mortgage.npy.gz [following]\n",
            "--2019-06-21 00:13:34--  https://raw.githubusercontent.com/rapidsai/notebooks/branch-0.8/cuml/data/mortgage.npy.gz\n",
            "Resolving raw.githubusercontent.com (raw.githubusercontent.com)... 151.101.0.133, 151.101.64.133, 151.101.128.133, ...\n",
            "Connecting to raw.githubusercontent.com (raw.githubusercontent.com)|151.101.0.133|:443... connected.\n",
            "HTTP request sent, awaiting response... 200 OK\n",
            "Length: 6642646 (6.3M) [application/octet-stream]\n",
            "Saving to: ‘data/mortgage.npy.gz’\n",
            "\n",
            "data/mortgage.npy.g 100%[===================>]   6.33M  35.0MB/s    in 0.2s    \n",
            "\n",
            "2019-06-21 00:13:34 (35.0 MB/s) - ‘data/mortgage.npy.gz’ saved [6642646/6642646]\n",
            "\n",
            "Solving environment: ...working... done\n",
            "\n",
            "## Package Plan ##\n",
            "\n",
            "  environment location: /usr/local\n",
            "\n",
            "  added / updated specs: \n",
            "    - cudf\n",
            "    - cuml\n",
            "\n",
            "\n",
            "The following packages will be downloaded:\n",
            "\n",
            "    package                    |            build\n",
            "    ---------------------------|-----------------\n",
            "    cuml-0.8.0a                |cuda10.0_py36_1373         3.4 MB  rapidsai-nightly/label/cuda10.0\n",
            "    cython-0.29.10             |   py36he1b5a44_0         2.2 MB  conda-forge\n",
            "    cudf-0.8.0a1               |        py36_1168         3.2 MB  rapidsai-nightly/label/cuda10.0\n",
            "    python-dateutil-2.8.0      |             py_0         219 KB  conda-forge\n",
            "    parquet-cpp-1.5.1          |                4           3 KB  conda-forge\n",
            "    ca-certificates-2019.6.16  |       hecc5488_0         145 KB  conda-forge\n",
            "    numpy-1.16.4               |   py36h95a1406_0         4.3 MB  conda-forge\n",
            "    libblas-3.8.0              |       7_openblas           6 KB  conda-forge\n",
            "    openssl-1.1.1b             |       h14c3975_1         4.0 MB  conda-forge\n",
            "    arrow-cpp-0.12.1           |   py36h0e61e49_0         6.9 MB  conda-forge\n",
            "    cudatoolkit-10.0.130       |                0       380.0 MB\n",
            "    librmm-0.8.0a              |      cuda10.0_40          39 KB  rapidsai-nightly/label/cuda10.0\n",
            "    cryptography-2.7           |   py36h72c5cf5_0         607 KB  conda-forge\n",
            "    libgcc-ng-9.1.0            |       hdf63c60_0         8.1 MB\n",
            "    thrift-cpp-0.12.0          |    h0a07b25_1002         2.4 MB  conda-forge\n",
            "    nvstrings-0.8.0a           |         py36_122         119 KB  rapidsai-nightly/label/cuda10.0\n",
            "    liblapack-3.8.0            |       7_openblas           6 KB  conda-forge\n",
            "    sqlite-3.28.0              |       h8b20d00_0         1.9 MB  conda-forge\n",
            "    python-3.6.7               |    h381d211_1004        34.5 MB  conda-forge\n",
            "    libcblas-3.8.0             |       7_openblas           6 KB  conda-forge\n",
            "    libcudf-0.8.0a1            |    cuda10.0_1168        16.7 MB  rapidsai-nightly/label/cuda10.0\n",
            "    libprotobuf-3.6.1          |    hdbcaa40_1001         4.0 MB  conda-forge\n",
            "    tk-8.6.9                   |    hed695b0_1002         3.2 MB  conda-forge\n",
            "    conda-4.6.14               |           py36_0         2.1 MB  conda-forge\n",
            "    numba-0.43.1               |   py36hf2d7682_0         2.9 MB  conda-forge\n",
            "    boost-cpp-1.68.0           |    h11c811c_1000        20.5 MB  conda-forge\n",
            "    libstdcxx-ng-9.1.0         |       hdf63c60_0         4.0 MB\n",
            "    bzip2-1.0.6                |    h14c3975_1002         415 KB  conda-forge\n",
            "    llvmlite-0.28.0            |   py36hdbcaa40_0        20.2 MB  conda-forge\n",
            "    pytz-2019.1                |             py_0         227 KB  conda-forge\n",
            "    libcuml-0.8.0a             |    cuda10.0_1373        25.3 MB  rapidsai-nightly/label/cuda10.0\n",
            "    rmm-0.8.0a                 |          py36_40          14 KB  rapidsai-nightly/label/cuda10.0\n",
            "    libcumlmg-0.0.0.dev0       |     cuda10.0_373         955 KB  nvidia/label/cuda10.0\n",
            "    pandas-0.24.2              |   py36hb3f55d8_0        11.1 MB  conda-forge\n",
            "    libnvstrings-0.8.0a        |     cuda10.0_122        19.7 MB  rapidsai-nightly/label/cuda10.0\n",
            "    certifi-2019.6.16          |           py36_0         148 KB  conda-forge\n",
            "    pyarrow-0.12.1             |   py36hbbcf98d_0         2.2 MB  conda-forge\n",
            "    icu-58.2                   |    hf484d3e_1000        22.6 MB  conda-forge\n",
            "    openblas-0.3.5             |       ha44fe06_0        13.7 MB  conda-forge\n",
            "    libgfortran-3.0.0          |                1         281 KB  conda-forge\n",
            "    ------------------------------------------------------------\n",
            "                                           Total:       622.3 MB\n",
            "\n",
            "The following NEW packages will be INSTALLED:\n",
            "\n",
            "    arrow-cpp:       0.12.1-py36h0e61e49_0     conda-forge                    \n",
            "    boost-cpp:       1.68.0-h11c811c_1000      conda-forge                    \n",
            "    bzip2:           1.0.6-h14c3975_1002       conda-forge                    \n",
            "    cudatoolkit:     10.0.130-0                                               \n",
            "    cudf:            0.8.0a1-py36_1168         rapidsai-nightly/label/cuda10.0\n",
            "    cuml:            0.8.0a-cuda10.0_py36_1373 rapidsai-nightly/label/cuda10.0\n",
            "    cython:          0.29.10-py36he1b5a44_0    conda-forge                    \n",
            "    icu:             58.2-hf484d3e_1000        conda-forge                    \n",
            "    libblas:         3.8.0-7_openblas          conda-forge                    \n",
            "    libcblas:        3.8.0-7_openblas          conda-forge                    \n",
            "    libcudf:         0.8.0a1-cuda10.0_1168     rapidsai-nightly/label/cuda10.0\n",
            "    libcuml:         0.8.0a-cuda10.0_1373      rapidsai-nightly/label/cuda10.0\n",
            "    libcumlmg:       0.0.0.dev0-cuda10.0_373   nvidia/label/cuda10.0          \n",
            "    libgfortran:     3.0.0-1                   conda-forge                    \n",
            "    liblapack:       3.8.0-7_openblas          conda-forge                    \n",
            "    libnvstrings:    0.8.0a-cuda10.0_122       rapidsai-nightly/label/cuda10.0\n",
            "    libprotobuf:     3.6.1-hdbcaa40_1001       conda-forge                    \n",
            "    librmm:          0.8.0a-cuda10.0_40        rapidsai-nightly/label/cuda10.0\n",
            "    llvmlite:        0.28.0-py36hdbcaa40_0     conda-forge                    \n",
            "    numba:           0.43.1-py36hf2d7682_0     conda-forge                    \n",
            "    numpy:           1.16.4-py36h95a1406_0     conda-forge                    \n",
            "    nvstrings:       0.8.0a-py36_122           rapidsai-nightly/label/cuda10.0\n",
            "    openblas:        0.3.5-ha44fe06_0          conda-forge                    \n",
            "    pandas:          0.24.2-py36hb3f55d8_0     conda-forge                    \n",
            "    parquet-cpp:     1.5.1-4                   conda-forge                    \n",
            "    pyarrow:         0.12.1-py36hbbcf98d_0     conda-forge                    \n",
            "    python-dateutil: 2.8.0-py_0                conda-forge                    \n",
            "    pytz:            2019.1-py_0               conda-forge                    \n",
            "    rmm:             0.8.0a-py36_40            rapidsai-nightly/label/cuda10.0\n",
            "    thrift-cpp:      0.12.0-h0a07b25_1002      conda-forge                    \n",
            "\n",
            "The following packages will be UPDATED:\n",
            "\n",
            "    ca-certificates: 2018.03.07-0                                              --> 2019.6.16-hecc5488_0 conda-forge\n",
            "    certifi:         2018.4.16-py36_0                                          --> 2019.6.16-py36_0     conda-forge\n",
            "    conda:           4.5.4-py36_0                                              --> 4.6.14-py36_0        conda-forge\n",
            "    cryptography:    2.2.2-py36h14c3975_0                                      --> 2.7-py36h72c5cf5_0   conda-forge\n",
            "    libgcc-ng:       7.2.0-hdf63c60_3                                          --> 9.1.0-hdf63c60_0                \n",
            "    libstdcxx-ng:    7.2.0-hdf63c60_3                                          --> 9.1.0-hdf63c60_0                \n",
            "    openssl:         1.0.2o-h20670df_0                                         --> 1.1.1b-h14c3975_1    conda-forge\n",
            "    python:          3.6.5-hc3d631a_2                                          --> 3.6.7-h381d211_1004  conda-forge\n",
            "    sqlite:          3.23.1-he433501_0                                         --> 3.28.0-h8b20d00_0    conda-forge\n",
            "    tk:              8.6.7-hc745277_3                                          --> 8.6.9-hed695b0_1002  conda-forge\n",
            "\n",
            "Preparing transaction: ...working... done\n",
            "Verifying transaction: ...working... done\n",
            "Executing transaction: ...working... done\n"
          ],
          "name": "stdout"
        }
      ]
    },
    {
      "cell_type": "code",
      "metadata": {
        "id": "EYeoBBAq5yHC",
        "colab_type": "code",
        "colab": {}
      },
      "source": [
        "# Select a particular GPU to run the notebook  (if needed)\n",
        "# %env CUDA_VISIBLE_DEVICES=2\n",
        "# Import the required libraries\n",
        "import numpy as np\n",
        "import pandas as pd\n",
        "import cudf\n",
        "import os\n",
        "from cuml import Lasso as cuLasso\n",
        "from sklearn.linear_model import Lasso\n",
        "from sklearn.datasets import make_regression\n",
        "from sklearn.metrics import mean_squared_error\n",
        "from cuml.linear_model import ElasticNet as cuElasticNet\n",
        "from sklearn.linear_model import ElasticNet"
      ],
      "execution_count": 0,
      "outputs": []
    },
    {
      "cell_type": "markdown",
      "metadata": {
        "id": "KaxPIKGg6QjG",
        "colab_type": "text"
      },
      "source": [
        "#Helper Functions#"
      ]
    },
    {
      "cell_type": "code",
      "metadata": {
        "id": "U788qOj86OQd",
        "colab_type": "code",
        "colab": {}
      },
      "source": [
        "# Check if the mortgage dataset is present and then extract the data from it, else just create a random dataset for regression \n",
        "import gzip\n",
        "def load_data(nrows, ncols, cached = 'data/mortgage.npy.gz'):\n",
        "    # Split the dataset in a 80:20 split\n",
        "    train_rows = int(nrows*0.8)\n",
        "    if os.path.exists(cached):\n",
        "        print('use mortgage data')\n",
        "\n",
        "        with gzip.open(cached) as f:\n",
        "            X = np.load(f)\n",
        "        # The 4th column is 'adj_remaining_months_to_maturity'\n",
        "        # used as the label\n",
        "        X = X[:,[i for i in range(X.shape[1]) if i!=4]]\n",
        "        y = X[:,4:5]\n",
        "        rindices = np.random.randint(0,X.shape[0]-1,nrows)\n",
        "        X = X[rindices,:ncols]\n",
        "        y = y[rindices]\n",
        "        df_y_train = pd.DataFrame({'fea%d'%i:y[0:train_rows,i] for i in range(y.shape[1])})\n",
        "        df_y_test = pd.DataFrame({'fea%d'%i:y[train_rows:,i] for i in range(y.shape[1])})\n",
        "    else:\n",
        "        print('use random data')\n",
        "        X,y = make_regression(n_samples=nrows,n_features=ncols,n_informative=ncols, random_state=0)\n",
        "        df_y_train = pd.DataFrame({'fea0':y[0:train_rows,]})\n",
        "        df_y_test = pd.DataFrame({'fea0':y[train_rows:,]})\n",
        "\n",
        "    df_X_train = pd.DataFrame({'fea%d'%i:X[0:train_rows,i] for i in range(X.shape[1])})\n",
        "    df_X_test = pd.DataFrame({'fea%d'%i:X[train_rows:,i] for i in range(X.shape[1])})\n",
        "\n",
        "    return df_X_train, df_X_test, df_y_train, df_y_test"
      ],
      "execution_count": 0,
      "outputs": []
    },
    {
      "cell_type": "markdown",
      "metadata": {
        "id": "IgpWUpv96VvW",
        "colab_type": "text"
      },
      "source": [
        "#Obtain and convert the dataset#"
      ]
    },
    {
      "cell_type": "code",
      "metadata": {
        "id": "xtvTpPNp6Z8S",
        "colab_type": "code",
        "outputId": "0c7c6ab6-4b98-4ae4-d22c-90391ca8da51",
        "colab": {
          "base_uri": "https://localhost:8080/",
          "height": 155
        }
      },
      "source": [
        "%%time\n",
        "# nrows = number of samples\n",
        "# ncols = number of features of each sample \n",
        "nrows = 2*21\n",
        "ncols = 500\n",
        "\n",
        "# Split the dataset into training and testing sets, in the ratio of 80:20 respectively\n",
        "X_train, X_test, y_train, y_test = load_data(nrows,ncols)\n",
        "print('training data',X_train.shape)\n",
        "print('training label',y_train.shape)\n",
        "print('testing data',X_test.shape)\n",
        "print('testing label',y_test.shape)\n",
        "print('label',y_test.shape)"
      ],
      "execution_count": 4,
      "outputs": [
        {
          "output_type": "stream",
          "text": [
            "use mortgage data\n",
            "training data (33, 500)\n",
            "training label (33, 1)\n",
            "testing data (9, 500)\n",
            "testing label (9, 1)\n",
            "label (9, 1)\n",
            "CPU times: user 4.75 s, sys: 1.75 s, total: 6.5 s\n",
            "Wall time: 6.51 s\n"
          ],
          "name": "stdout"
        }
      ]
    },
    {
      "cell_type": "code",
      "metadata": {
        "id": "xwIvmjYC6cl5",
        "colab_type": "code",
        "outputId": "559cfacd-33e2-4481-9ee7-bb34627d97ea",
        "colab": {
          "base_uri": "https://localhost:8080/",
          "height": 51
        }
      },
      "source": [
        "%%time\n",
        "# Convert the pandas dataframe to cudf format\n",
        "X_cudf = cudf.DataFrame.from_pandas(X_train)\n",
        "X_cudf_test = cudf.DataFrame.from_pandas(X_test)\n",
        "y_cudf = y_train.values\n",
        "y_cudf = y_cudf[:,0]\n",
        "y_cudf = cudf.Series(y_cudf)"
      ],
      "execution_count": 5,
      "outputs": [
        {
          "output_type": "stream",
          "text": [
            "CPU times: user 1.8 s, sys: 251 ms, total: 2.05 s\n",
            "Wall time: 2.19 s\n"
          ],
          "name": "stdout"
        }
      ]
    },
    {
      "cell_type": "markdown",
      "metadata": {
        "id": "Opklce2k6hKx",
        "colab_type": "text"
      },
      "source": [
        "#Define the model parameters#"
      ]
    },
    {
      "cell_type": "code",
      "metadata": {
        "id": "2sgPSC116fA2",
        "colab_type": "code",
        "colab": {}
      },
      "source": [
        "# lr = learning rate\n",
        "# algo = algorithm used in the model\n",
        "lr = 0.001\n",
        "algo = 'cyclic'"
      ],
      "execution_count": 0,
      "outputs": []
    },
    {
      "cell_type": "markdown",
      "metadata": {
        "id": "2L04Imx66m8v",
        "colab_type": "text"
      },
      "source": [
        "#Lasso#\n",
        "\n",
        "The lasso model implemented in cuml allows the user to change the following parameter values:\n",
        "\n",
        "1. alpha: regularizing constant that is multiplied with L1 to control the extent of regularization. (default = 1)\n",
        "2. normalize: variable decides if the predictors in X will be normalized or not. (default = False)\n",
        "3. fit_intercept: if set to True the model tries to center the data. (default = True)\n",
        "4. max_iter: maximum number of iterations for training (fitting) the data to the model. (default = 1000)\n",
        "5. tol: the tolerance for optimization. (default = 1e-3)\n",
        "6. algorithm: the user can set the algorithm value as 'cyclic' or 'random'\n",
        "\n",
        "\n",
        "The model accepts only numpy arrays or cudf dataframes as the input. In order to convert your dataset to cudf format please read the cudf documentation on https://rapidsai.github.io/projects/cudf/en/latest/. For additional information on the lasso model please refer to the documentation on https://rapidsai.github.io/projects/cuml/en/latest/index.html"
      ]
    },
    {
      "cell_type": "markdown",
      "metadata": {
        "id": "Bo9x5UBb64mn",
        "colab_type": "text"
      },
      "source": [
        "#Scikit-learn model for lasso#"
      ]
    },
    {
      "cell_type": "code",
      "metadata": {
        "id": "LGC7bdJT6kcW",
        "colab_type": "code",
        "outputId": "78ba73a6-50d8-4903-e413-9b4686fc9f2c",
        "colab": {
          "base_uri": "https://localhost:8080/",
          "height": 51
        }
      },
      "source": [
        "%%time\n",
        "# Use the sklearn lasso model to fit the training dataset \n",
        "skols = Lasso(alpha=np.array([lr]), fit_intercept = True, normalize = False, max_iter = 1000, selection=algo, tol=1e-10)\n",
        "skols.fit(X_train, y_train)"
      ],
      "execution_count": 7,
      "outputs": [
        {
          "output_type": "stream",
          "text": [
            "CPU times: user 2.32 ms, sys: 4.1 ms, total: 6.42 ms\n",
            "Wall time: 11.5 ms\n"
          ],
          "name": "stdout"
        }
      ]
    },
    {
      "cell_type": "code",
      "metadata": {
        "id": "KA59j_vL67x5",
        "colab_type": "code",
        "outputId": "4ee1e554-b47c-4ef1-bbc8-f3eaddae5440",
        "colab": {
          "base_uri": "https://localhost:8080/",
          "height": 51
        }
      },
      "source": [
        "%%time\n",
        "# Calculate the mean squared error for the sklearn lasso model on the testing dataset\n",
        "sk_predict = skols.predict(X_test)\n",
        "error_sk = mean_squared_error(y_test,sk_predict)"
      ],
      "execution_count": 8,
      "outputs": [
        {
          "output_type": "stream",
          "text": [
            "CPU times: user 2.99 ms, sys: 0 ns, total: 2.99 ms\n",
            "Wall time: 2.8 ms\n"
          ],
          "name": "stdout"
        }
      ]
    },
    {
      "cell_type": "markdown",
      "metadata": {
        "id": "duB7T1iI7Bjw",
        "colab_type": "text"
      },
      "source": [
        "#CuML model for lasso#"
      ]
    },
    {
      "cell_type": "code",
      "metadata": {
        "id": "GDZ2tt_56_et",
        "colab_type": "code",
        "outputId": "b90ec5da-c8c4-4420-cfad-a027b16746c3",
        "colab": {
          "base_uri": "https://localhost:8080/",
          "height": 51
        }
      },
      "source": [
        "%%time\n",
        "# Run the cuml linear regression model to fit the training dataset \n",
        "cuols = cuLasso(alpha=np.array([lr]), fit_intercept = True, normalize = False, max_iter = 1000, selection=algo, tol=1e-10)\n",
        "cuols.fit(X_cudf, y_cudf)"
      ],
      "execution_count": 9,
      "outputs": [
        {
          "output_type": "stream",
          "text": [
            "CPU times: user 965 ms, sys: 96.6 ms, total: 1.06 s\n",
            "Wall time: 1.06 s\n"
          ],
          "name": "stdout"
        }
      ]
    },
    {
      "cell_type": "code",
      "metadata": {
        "id": "0aXHl3zv7Ebt",
        "colab_type": "code",
        "outputId": "2f68b005-b85a-4221-ab6b-b0153855c4a1",
        "colab": {
          "base_uri": "https://localhost:8080/",
          "height": 51
        }
      },
      "source": [
        "%%time\n",
        "# Calculate the mean squared error of the testing dataset using the cuml linear regression model\n",
        "cu_predict = cuols.predict(X_cudf_test).to_array()\n",
        "error_cu = mean_squared_error(y_test,cu_predict)"
      ],
      "execution_count": 10,
      "outputs": [
        {
          "output_type": "stream",
          "text": [
            "CPU times: user 128 ms, sys: 1.26 ms, total: 129 ms\n",
            "Wall time: 130 ms\n"
          ],
          "name": "stdout"
        }
      ]
    },
    {
      "cell_type": "code",
      "metadata": {
        "id": "J2F4PkGn7G16",
        "colab_type": "code",
        "outputId": "4a17cfe3-65dd-4a23-ea92-8a3b0b053218",
        "colab": {
          "base_uri": "https://localhost:8080/",
          "height": 86
        }
      },
      "source": [
        "# Print the mean squared error of the sklearn and cuml model to compare the two\n",
        "print(\"SKL MSE(y):\")\n",
        "print(error_sk)\n",
        "print(\"CUML MSE(y):\")\n",
        "print(error_cu)"
      ],
      "execution_count": 11,
      "outputs": [
        {
          "output_type": "stream",
          "text": [
            "SKL MSE(y):\n",
            "2.1544829082490608e-05\n",
            "CUML MSE(y):\n",
            "2.154486e-05\n"
          ],
          "name": "stdout"
        }
      ]
    },
    {
      "cell_type": "markdown",
      "metadata": {
        "id": "pUwWviae7Ixr",
        "colab_type": "text"
      },
      "source": [
        "#Elastic Net#\n",
        "\n",
        "The elastic net model implemented in cuml contains the same parameters as the lasso model. In addition to the variable values that can be altered in lasso, elastic net has another variable who's value can be changed\n",
        "\n",
        "\n",
        "1. l1_ratio: decides the ratio of amount of L1 and L2 regularization that would be applied to the model. When L1 ratio = 0, the model will have only L2 reqularization shall be applied to the model. (default = 0.5)\n",
        "\n",
        "\n",
        "The model accepts only numpy arrays or cudf dataframes as the input. In order to convert your dataset to cudf format please read the cudf documentation on https://rapidsai.github.io/projects/cudf/en/latest/. For additional information on the lasso model please refer to the documentation on https://rapidsai.github.io/projects/cuml/en/latest/index.html"
      ]
    },
    {
      "cell_type": "markdown",
      "metadata": {
        "id": "ka34In8G7b88",
        "colab_type": "text"
      },
      "source": [
        "#Scikit-learn model for elastic net#"
      ]
    },
    {
      "cell_type": "code",
      "metadata": {
        "id": "X1F0KmDc7buy",
        "colab_type": "code",
        "outputId": "c81a043c-bd0e-473a-b7ce-48c3babe671e",
        "colab": {
          "base_uri": "https://localhost:8080/",
          "height": 51
        }
      },
      "source": [
        "%%time\n",
        "# Use the sklearn linear regression model to fit the training dataset \n",
        "elastic_sk = ElasticNet(alpha=np.array([lr]), fit_intercept = True, normalize = False, max_iter = 1000, selection=algo, tol=1e-10)\n",
        "elastic_sk.fit(X_train, y_train)"
      ],
      "execution_count": 12,
      "outputs": [
        {
          "output_type": "stream",
          "text": [
            "CPU times: user 5.61 ms, sys: 0 ns, total: 5.61 ms\n",
            "Wall time: 12 ms\n"
          ],
          "name": "stdout"
        }
      ]
    },
    {
      "cell_type": "code",
      "metadata": {
        "id": "_z7wWg3o7Q2t",
        "colab_type": "code",
        "outputId": "ad890747-df0d-49da-8d46-eedd357e0b03",
        "colab": {
          "base_uri": "https://localhost:8080/",
          "height": 51
        }
      },
      "source": [
        "%%time\n",
        "# Calculate the mean squared error of the sklearn linear regression model on the testing dataset\n",
        "sk_predict_elas = elastic_sk.predict(X_test)\n",
        "error_sk_elas = mean_squared_error(y_test,sk_predict_elas)"
      ],
      "execution_count": 13,
      "outputs": [
        {
          "output_type": "stream",
          "text": [
            "CPU times: user 2.6 ms, sys: 0 ns, total: 2.6 ms\n",
            "Wall time: 2.6 ms\n"
          ],
          "name": "stdout"
        }
      ]
    },
    {
      "cell_type": "markdown",
      "metadata": {
        "id": "vUDc65Mq7lFg",
        "colab_type": "text"
      },
      "source": [
        "#CuML model for elastic net#"
      ]
    },
    {
      "cell_type": "code",
      "metadata": {
        "id": "L9BliOMv7jS-",
        "colab_type": "code",
        "outputId": "75ff6dfa-9d3d-4794-a823-2134ab1b4049",
        "colab": {
          "base_uri": "https://localhost:8080/",
          "height": 51
        }
      },
      "source": [
        "%%time\n",
        "# Run the cuml linear regression model to fit the training dataset \n",
        "elastic_cu = cuElasticNet(alpha=np.array([lr]), fit_intercept = True, normalize = False, max_iter = 1000, selection=algo, tol=1e-10)\n",
        "elastic_cu.fit(X_cudf, y_cudf)"
      ],
      "execution_count": 14,
      "outputs": [
        {
          "output_type": "stream",
          "text": [
            "CPU times: user 242 ms, sys: 34.6 ms, total: 276 ms\n",
            "Wall time: 281 ms\n"
          ],
          "name": "stdout"
        }
      ]
    },
    {
      "cell_type": "code",
      "metadata": {
        "id": "SHD3yWoj7o4P",
        "colab_type": "code",
        "outputId": "d930a152-b918-47aa-a1e7-0198255725cd",
        "colab": {
          "base_uri": "https://localhost:8080/",
          "height": 51
        }
      },
      "source": [
        "%%time\n",
        "# Calculate the mean squared error of the testing dataset using the cuml linear regression model\n",
        "cu_predict_elas = elastic_cu.predict(X_cudf_test).to_array()\n",
        "error_cu_elas = mean_squared_error(y_test,cu_predict_elas)"
      ],
      "execution_count": 15,
      "outputs": [
        {
          "output_type": "stream",
          "text": [
            "CPU times: user 126 ms, sys: 133 µs, total: 126 ms\n",
            "Wall time: 134 ms\n"
          ],
          "name": "stdout"
        }
      ]
    },
    {
      "cell_type": "code",
      "metadata": {
        "id": "QId_kmGE7rrH",
        "colab_type": "code",
        "outputId": "7ddbeabd-7736-41f7-800a-2a257caa2d69",
        "colab": {
          "base_uri": "https://localhost:8080/",
          "height": 86
        }
      },
      "source": [
        "# Print the mean squared error of the sklearn and cuml model to compare the two\n",
        "print(\"SKL MSE(y):\")\n",
        "print(error_sk_elas)\n",
        "print(\"CUML MSE(y):\")\n",
        "print(error_cu_elas)"
      ],
      "execution_count": 16,
      "outputs": [
        {
          "output_type": "stream",
          "text": [
            "SKL MSE(y):\n",
            "2.124896967729471e-05\n",
            "CUML MSE(y):\n",
            "2.1248952e-05\n"
          ],
          "name": "stdout"
        }
      ]
    },
    {
      "cell_type": "code",
      "metadata": {
        "id": "K7jLGfvP7v4R",
        "colab_type": "code",
        "colab": {}
      },
      "source": [
        ""
      ],
      "execution_count": 0,
      "outputs": []
    }
  ]
}