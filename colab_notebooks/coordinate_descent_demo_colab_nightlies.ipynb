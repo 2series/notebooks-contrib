{
 "cells": [
  {
   "cell_type": "markdown",
   "metadata": {
    "colab_type": "text",
    "id": "Zsdl94MK50dG"
   },
   "source": [
    "#Coordinate descent#\n",
    "\n",
    "CuML library can implement lasso and elastic net algorithms. The lasso model extends LinearRegression with L2 regularization and elastic net extends LinearRegression with a combination of L1 and L2 regularizations. We see tremendous speed up for datasets with large number of rows and less number of rows. Furthermore, the MSE value for the cuML implementation is much smaller than the scikit-learn implementation for very small datasets.\n"
   ]
  },
  {
   "cell_type": "markdown",
   "metadata": {
    "colab_type": "text",
    "id": "9ipi2A2f5-Rr"
   },
   "source": [
    "#Setup:\n",
    "\n",
    "\n",
    "\n",
    "1.  Install most recent Miniconda release compatible with Google Colab's Python install (3.6.7)\n",
    "2.  Install RAPIDS libraries\n",
    "3. Set necessary environment variables\n",
    "4. Copy RAPIDS .so files into current working directory, a workaround for conda/colab interactions\n",
    "\n"
   ]
  },
  {
   "cell_type": "code",
   "execution_count": null,
   "metadata": {
    "colab": {
     "base_uri": "https://localhost:8080/",
     "height": 33
    },
    "colab_type": "code",
    "id": "UM9O78CTEDhO",
    "outputId": "ccd9bd00-1abf-4870-e84b-3125ca094405"
   },
   "outputs": [],
   "source": [
    "import pynvml\n",
    "\n",
    "pynvml.nvmlInit()\n",
    "handle = pynvml.nvmlDeviceGetHandleByIndex(0)\n",
    "device_name = pynvml.nvmlDeviceGetName(handle)\n",
    "\n",
    "if device_name != b'Tesla T4':\n",
    "  raise Exception(\"\"\"\n",
    "    Unfortunately this instance does not have a T4 GPU.\n",
    "    \n",
    "    Please make sure you've configured Colab to request a GPU instance type.\n",
    "    \n",
    "    Sometimes Colab allocates a Tesla K80 instead of a T4. Resetting the instance.\n",
    "\n",
    "    If you get a K80 GPU, try Runtime -> Reset all runtimes...\n",
    "  \"\"\")\n",
    "else:\n",
    "  print('Woo! You got the right kind of GPU!')"
   ]
  },
  {
   "cell_type": "code",
   "execution_count": null,
   "metadata": {
    "colab": {
     "base_uri": "https://localhost:8080/",
     "height": 3067
    },
    "colab_type": "code",
    "id": "hbB5MDqo59s0",
    "outputId": "5c16e888-8409-4dad-c0f4-970386e89e37"
   },
   "outputs": [],
   "source": [
    "# Install RAPIDS on Colab\n",
    "!wget -nc https://github.com/rapidsai/notebooks-extended/raw/master/utils/rapids-colab.sh\n",
    "!chmod +x rapids-colab.sh\n",
    "!./rapids-colab.sh\n",
    "\n",
    "import sys, os\n",
    "\n",
    "sys.path.append('/usr/local/lib/python3.6/site-packages/')\n",
    "os.environ['NUMBAPRO_NVVM'] = '/usr/local/cuda/nvvm/lib64/libnvvm.so'\n",
    "os.environ['NUMBAPRO_LIBDEVICE'] = '/usr/local/cuda/nvvm/libdevice/'\n",
    "\n",
    "# Download data \n",
    "!mkdir data\n",
    "!wget https://github.com/rapidsai/notebooks/raw/branch-0.8/cuml/data/mortgage.npy.gz -O data/mortgage.npy.gz\n",
    "\n",
    "import nvstrings, nvcategory, cudf, cuml, xgboost\n",
    "import dask_cudf, dask_cuml"
   ]
  },
  {
   "cell_type": "code",
   "execution_count": null,
   "metadata": {
    "colab": {},
    "colab_type": "code",
    "id": "EYeoBBAq5yHC"
   },
   "outputs": [],
   "source": [
    "# Select a particular GPU to run the notebook  (if needed)\n",
    "# %env CUDA_VISIBLE_DEVICES=2\n",
    "# Import the required libraries\n",
    "import numpy as np\n",
    "import pandas as pd\n",
    "import cudf\n",
    "import os\n",
    "from cuml import Lasso as cuLasso\n",
    "from sklearn.linear_model import Lasso\n",
    "from sklearn.datasets import make_regression\n",
    "from sklearn.metrics import mean_squared_error\n",
    "from cuml.linear_model import ElasticNet as cuElasticNet\n",
    "from sklearn.linear_model import ElasticNet"
   ]
  },
  {
   "cell_type": "markdown",
   "metadata": {
    "colab_type": "text",
    "id": "KaxPIKGg6QjG"
   },
   "source": [
    "#Helper Functions#"
   ]
  },
  {
   "cell_type": "code",
   "execution_count": null,
   "metadata": {
    "colab": {},
    "colab_type": "code",
    "id": "U788qOj86OQd"
   },
   "outputs": [],
   "source": [
    "# Check if the mortgage dataset is present and then extract the data from it, else just create a random dataset for regression \n",
    "import gzip\n",
    "def load_data(nrows, ncols, cached = 'data/mortgage.npy.gz'):\n",
    "    # Split the dataset in a 80:20 split\n",
    "    train_rows = int(nrows*0.8)\n",
    "    if os.path.exists(cached):\n",
    "        print('use mortgage data')\n",
    "\n",
    "        with gzip.open(cached) as f:\n",
    "            X = np.load(f)\n",
    "        # The 4th column is 'adj_remaining_months_to_maturity'\n",
    "        # used as the label\n",
    "        X = X[:,[i for i in range(X.shape[1]) if i!=4]]\n",
    "        y = X[:,4:5]\n",
    "        rindices = np.random.randint(0,X.shape[0]-1,nrows)\n",
    "        X = X[rindices,:ncols]\n",
    "        y = y[rindices]\n",
    "        df_y_train = pd.DataFrame({'fea%d'%i:y[0:train_rows,i] for i in range(y.shape[1])})\n",
    "        df_y_test = pd.DataFrame({'fea%d'%i:y[train_rows:,i] for i in range(y.shape[1])})\n",
    "    else:\n",
    "        print('use random data')\n",
    "        X,y = make_regression(n_samples=nrows,n_features=ncols,n_informative=ncols, random_state=0)\n",
    "        df_y_train = pd.DataFrame({'fea0':y[0:train_rows,]})\n",
    "        df_y_test = pd.DataFrame({'fea0':y[train_rows:,]})\n",
    "\n",
    "    df_X_train = pd.DataFrame({'fea%d'%i:X[0:train_rows,i] for i in range(X.shape[1])})\n",
    "    df_X_test = pd.DataFrame({'fea%d'%i:X[train_rows:,i] for i in range(X.shape[1])})\n",
    "\n",
    "    return df_X_train, df_X_test, df_y_train, df_y_test"
   ]
  },
  {
   "cell_type": "markdown",
   "metadata": {
    "colab_type": "text",
    "id": "IgpWUpv96VvW"
   },
   "source": [
    "#Obtain and convert the dataset#"
   ]
  },
  {
   "cell_type": "code",
   "execution_count": null,
   "metadata": {
    "colab": {
     "base_uri": "https://localhost:8080/",
     "height": 155
    },
    "colab_type": "code",
    "id": "xtvTpPNp6Z8S",
    "outputId": "0c7c6ab6-4b98-4ae4-d22c-90391ca8da51"
   },
   "outputs": [],
   "source": [
    "%%time\n",
    "# nrows = number of samples\n",
    "# ncols = number of features of each sample \n",
    "nrows = 2*21\n",
    "ncols = 500\n",
    "\n",
    "# Split the dataset into training and testing sets, in the ratio of 80:20 respectively\n",
    "X_train, X_test, y_train, y_test = load_data(nrows,ncols)\n",
    "print('training data',X_train.shape)\n",
    "print('training label',y_train.shape)\n",
    "print('testing data',X_test.shape)\n",
    "print('testing label',y_test.shape)\n",
    "print('label',y_test.shape)"
   ]
  },
  {
   "cell_type": "code",
   "execution_count": null,
   "metadata": {
    "colab": {
     "base_uri": "https://localhost:8080/",
     "height": 51
    },
    "colab_type": "code",
    "id": "xwIvmjYC6cl5",
    "outputId": "559cfacd-33e2-4481-9ee7-bb34627d97ea"
   },
   "outputs": [],
   "source": [
    "%%time\n",
    "# Convert the pandas dataframe to cudf format\n",
    "X_cudf = cudf.DataFrame.from_pandas(X_train)\n",
    "X_cudf_test = cudf.DataFrame.from_pandas(X_test)\n",
    "y_cudf = y_train.values\n",
    "y_cudf = y_cudf[:,0]\n",
    "y_cudf = cudf.Series(y_cudf)"
   ]
  },
  {
   "cell_type": "markdown",
   "metadata": {
    "colab_type": "text",
    "id": "Opklce2k6hKx"
   },
   "source": [
    "#Define the model parameters#"
   ]
  },
  {
   "cell_type": "code",
   "execution_count": null,
   "metadata": {
    "colab": {},
    "colab_type": "code",
    "id": "2sgPSC116fA2"
   },
   "outputs": [],
   "source": [
    "# lr = learning rate\n",
    "# algo = algorithm used in the model\n",
    "lr = 0.001\n",
    "algo = 'cyclic'"
   ]
  },
  {
   "cell_type": "markdown",
   "metadata": {
    "colab_type": "text",
    "id": "2L04Imx66m8v"
   },
   "source": [
    "#Lasso#\n",
    "\n",
    "The lasso model implemented in cuml allows the user to change the following parameter values:\n",
    "\n",
    "1. alpha: regularizing constant that is multiplied with L1 to control the extent of regularization. (default = 1)\n",
    "2. normalize: variable decides if the predictors in X will be normalized or not. (default = False)\n",
    "3. fit_intercept: if set to True the model tries to center the data. (default = True)\n",
    "4. max_iter: maximum number of iterations for training (fitting) the data to the model. (default = 1000)\n",
    "5. tol: the tolerance for optimization. (default = 1e-3)\n",
    "6. algorithm: the user can set the algorithm value as 'cyclic' or 'random'\n",
    "\n",
    "\n",
    "The model accepts only numpy arrays or cudf dataframes as the input. In order to convert your dataset to cudf format please read the cudf documentation on https://rapidsai.github.io/projects/cudf/en/latest/. For additional information on the lasso model please refer to the documentation on https://rapidsai.github.io/projects/cuml/en/latest/index.html"
   ]
  },
  {
   "cell_type": "markdown",
   "metadata": {
    "colab_type": "text",
    "id": "Bo9x5UBb64mn"
   },
   "source": [
    "#Scikit-learn model for lasso#"
   ]
  },
  {
   "cell_type": "code",
   "execution_count": null,
   "metadata": {
    "colab": {
     "base_uri": "https://localhost:8080/",
     "height": 51
    },
    "colab_type": "code",
    "id": "LGC7bdJT6kcW",
    "outputId": "78ba73a6-50d8-4903-e413-9b4686fc9f2c"
   },
   "outputs": [],
   "source": [
    "%%time\n",
    "# Use the sklearn lasso model to fit the training dataset \n",
    "skols = Lasso(alpha=np.array([lr]), fit_intercept = True, normalize = False, max_iter = 1000, selection=algo, tol=1e-10)\n",
    "skols.fit(X_train, y_train)"
   ]
  },
  {
   "cell_type": "code",
   "execution_count": null,
   "metadata": {
    "colab": {
     "base_uri": "https://localhost:8080/",
     "height": 51
    },
    "colab_type": "code",
    "id": "KA59j_vL67x5",
    "outputId": "4ee1e554-b47c-4ef1-bbc8-f3eaddae5440"
   },
   "outputs": [],
   "source": [
    "%%time\n",
    "# Calculate the mean squared error for the sklearn lasso model on the testing dataset\n",
    "sk_predict = skols.predict(X_test)\n",
    "error_sk = mean_squared_error(y_test,sk_predict)"
   ]
  },
  {
   "cell_type": "markdown",
   "metadata": {
    "colab_type": "text",
    "id": "duB7T1iI7Bjw"
   },
   "source": [
    "#CuML model for lasso#"
   ]
  },
  {
   "cell_type": "code",
   "execution_count": null,
   "metadata": {
    "colab": {
     "base_uri": "https://localhost:8080/",
     "height": 51
    },
    "colab_type": "code",
    "id": "GDZ2tt_56_et",
    "outputId": "b90ec5da-c8c4-4420-cfad-a027b16746c3"
   },
   "outputs": [],
   "source": [
    "%%time\n",
    "# Run the cuml linear regression model to fit the training dataset \n",
    "cuols = cuLasso(alpha=np.array([lr]), fit_intercept = True, normalize = False, max_iter = 1000, selection=algo, tol=1e-10)\n",
    "cuols.fit(X_cudf, y_cudf)"
   ]
  },
  {
   "cell_type": "code",
   "execution_count": null,
   "metadata": {
    "colab": {
     "base_uri": "https://localhost:8080/",
     "height": 51
    },
    "colab_type": "code",
    "id": "0aXHl3zv7Ebt",
    "outputId": "2f68b005-b85a-4221-ab6b-b0153855c4a1"
   },
   "outputs": [],
   "source": [
    "%%time\n",
    "# Calculate the mean squared error of the testing dataset using the cuml linear regression model\n",
    "cu_predict = cuols.predict(X_cudf_test).to_array()\n",
    "error_cu = mean_squared_error(y_test,cu_predict)"
   ]
  },
  {
   "cell_type": "code",
   "execution_count": null,
   "metadata": {
    "colab": {
     "base_uri": "https://localhost:8080/",
     "height": 86
    },
    "colab_type": "code",
    "id": "J2F4PkGn7G16",
    "outputId": "4a17cfe3-65dd-4a23-ea92-8a3b0b053218"
   },
   "outputs": [],
   "source": [
    "# Print the mean squared error of the sklearn and cuml model to compare the two\n",
    "print(\"SKL MSE(y):\")\n",
    "print(error_sk)\n",
    "print(\"CUML MSE(y):\")\n",
    "print(error_cu)"
   ]
  },
  {
   "cell_type": "markdown",
   "metadata": {
    "colab_type": "text",
    "id": "pUwWviae7Ixr"
   },
   "source": [
    "#Elastic Net#\n",
    "\n",
    "The elastic net model implemented in cuml contains the same parameters as the lasso model. In addition to the variable values that can be altered in lasso, elastic net has another variable who's value can be changed\n",
    "\n",
    "\n",
    "1. l1_ratio: decides the ratio of amount of L1 and L2 regularization that would be applied to the model. When L1 ratio = 0, the model will have only L2 reqularization shall be applied to the model. (default = 0.5)\n",
    "\n",
    "\n",
    "The model accepts only numpy arrays or cudf dataframes as the input. In order to convert your dataset to cudf format please read the cudf documentation on https://rapidsai.github.io/projects/cudf/en/latest/. For additional information on the lasso model please refer to the documentation on https://rapidsai.github.io/projects/cuml/en/latest/index.html"
   ]
  },
  {
   "cell_type": "markdown",
   "metadata": {
    "colab_type": "text",
    "id": "ka34In8G7b88"
   },
   "source": [
    "#Scikit-learn model for elastic net#"
   ]
  },
  {
   "cell_type": "code",
   "execution_count": null,
   "metadata": {
    "colab": {
     "base_uri": "https://localhost:8080/",
     "height": 51
    },
    "colab_type": "code",
    "id": "X1F0KmDc7buy",
    "outputId": "c81a043c-bd0e-473a-b7ce-48c3babe671e"
   },
   "outputs": [],
   "source": [
    "%%time\n",
    "# Use the sklearn linear regression model to fit the training dataset \n",
    "elastic_sk = ElasticNet(alpha=np.array([lr]), fit_intercept = True, normalize = False, max_iter = 1000, selection=algo, tol=1e-10)\n",
    "elastic_sk.fit(X_train, y_train)"
   ]
  },
  {
   "cell_type": "code",
   "execution_count": null,
   "metadata": {
    "colab": {
     "base_uri": "https://localhost:8080/",
     "height": 51
    },
    "colab_type": "code",
    "id": "_z7wWg3o7Q2t",
    "outputId": "ad890747-df0d-49da-8d46-eedd357e0b03"
   },
   "outputs": [],
   "source": [
    "%%time\n",
    "# Calculate the mean squared error of the sklearn linear regression model on the testing dataset\n",
    "sk_predict_elas = elastic_sk.predict(X_test)\n",
    "error_sk_elas = mean_squared_error(y_test,sk_predict_elas)"
   ]
  },
  {
   "cell_type": "markdown",
   "metadata": {
    "colab_type": "text",
    "id": "vUDc65Mq7lFg"
   },
   "source": [
    "#CuML model for elastic net#"
   ]
  },
  {
   "cell_type": "code",
   "execution_count": null,
   "metadata": {
    "colab": {
     "base_uri": "https://localhost:8080/",
     "height": 51
    },
    "colab_type": "code",
    "id": "L9BliOMv7jS-",
    "outputId": "75ff6dfa-9d3d-4794-a823-2134ab1b4049"
   },
   "outputs": [],
   "source": [
    "%%time\n",
    "# Run the cuml linear regression model to fit the training dataset \n",
    "elastic_cu = cuElasticNet(alpha=np.array([lr]), fit_intercept = True, normalize = False, max_iter = 1000, selection=algo, tol=1e-10)\n",
    "elastic_cu.fit(X_cudf, y_cudf)"
   ]
  },
  {
   "cell_type": "code",
   "execution_count": null,
   "metadata": {
    "colab": {
     "base_uri": "https://localhost:8080/",
     "height": 51
    },
    "colab_type": "code",
    "id": "SHD3yWoj7o4P",
    "outputId": "d930a152-b918-47aa-a1e7-0198255725cd"
   },
   "outputs": [],
   "source": [
    "%%time\n",
    "# Calculate the mean squared error of the testing dataset using the cuml linear regression model\n",
    "cu_predict_elas = elastic_cu.predict(X_cudf_test).to_array()\n",
    "error_cu_elas = mean_squared_error(y_test,cu_predict_elas)"
   ]
  },
  {
   "cell_type": "code",
   "execution_count": null,
   "metadata": {
    "colab": {
     "base_uri": "https://localhost:8080/",
     "height": 86
    },
    "colab_type": "code",
    "id": "QId_kmGE7rrH",
    "outputId": "7ddbeabd-7736-41f7-800a-2a257caa2d69"
   },
   "outputs": [],
   "source": [
    "# Print the mean squared error of the sklearn and cuml model to compare the two\n",
    "print(\"SKL MSE(y):\")\n",
    "print(error_sk_elas)\n",
    "print(\"CUML MSE(y):\")\n",
    "print(error_cu_elas)"
   ]
  },
  {
   "cell_type": "code",
   "execution_count": null,
   "metadata": {
    "colab": {},
    "colab_type": "code",
    "id": "K7jLGfvP7v4R"
   },
   "outputs": [],
   "source": []
  }
 ],
 "metadata": {
  "accelerator": "GPU",
  "colab": {
   "name": "coordinate_descent_demo_colab-0.8.ipynb",
   "provenance": [],
   "version": "0.3.2"
  },
  "kernelspec": {
   "display_name": "Python 3",
   "language": "python",
   "name": "python3"
  },
  "language_info": {
   "codemirror_mode": {
    "name": "ipython",
    "version": 3
   },
   "file_extension": ".py",
   "mimetype": "text/x-python",
   "name": "python",
   "nbconvert_exporter": "python",
   "pygments_lexer": "ipython3",
   "version": "3.7.3"
  }
 },
 "nbformat": 4,
 "nbformat_minor": 2
}
