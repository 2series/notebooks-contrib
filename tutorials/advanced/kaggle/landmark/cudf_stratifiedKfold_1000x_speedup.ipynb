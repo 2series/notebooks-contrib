{
 "cells": [
  {
   "cell_type": "code",
   "execution_count": 1,
   "metadata": {},
   "outputs": [
    {
     "name": "stdout",
     "output_type": "stream",
     "text": [
      "cudf version 0.6.1+0.gbeb4ef3.dirty\n"
     ]
    }
   ],
   "source": [
    "import pandas as pd\n",
    "import cudf as gd\n",
    "import time\n",
    "from sklearn.model_selection import StratifiedKFold\n",
    "import numpy as np\n",
    "import warnings\n",
    "from numba import cuda\n",
    "warnings.filterwarnings(\"ignore\")\n",
    "print('cudf version',gd.__version__)"
   ]
  },
  {
   "cell_type": "markdown",
   "metadata": {},
   "source": [
    "### I didn't expect to use rapids at all for the __[Google Landmark Recognition 2019](https://www.kaggle.com/c/landmark-recognition-2019)__ but it turned out that stratified kfold operation could be painfully slow. In this notebook, a cudf based implementation is shown to achieve 1000+ speedup."
   ]
  },
  {
   "cell_type": "markdown",
   "metadata": {},
   "source": [
    "### Table of contents\n",
    "[1. Implementation of cudf based stratified kfold split](#imp)<br>\n",
    "[2. Sanity Check with toy data](#san)<br>\n",
    "[3. The google landmark dataset](#land)<br>\n",
    "[4. Measure the runtime](#runtime)<br>"
   ]
  },
  {
   "cell_type": "markdown",
   "metadata": {},
   "source": [
    "### Implementation of cudf based stratified kfold split\n",
    "<a id=\"imp\"></a>"
   ]
  },
  {
   "cell_type": "code",
   "execution_count": 2,
   "metadata": {},
   "outputs": [],
   "source": [
    "class StratifiedKFold_cudf_gpu:\n",
    "    \"\"\"Stratified K-Folds cross-validator using cudf on gpu.\n",
    "    Functionality is the same as \n",
    "    https://scikit-learn.org/stable/modules/generated/sklearn.model_selection.StratifiedKFold.html\n",
    "    Parameters\n",
    "    ----------\n",
    "    n_splits : int, default=3\n",
    "        Number of folds. Must be at least 2.\n",
    "        .. versionchanged:: 0.20\n",
    "            ``n_splits`` default value will change from 3 to 5 in v0.22.\n",
    "    shuffle : boolean, optional\n",
    "        Whether to shuffle each stratification of the data before splitting\n",
    "        into batches.\n",
    "    random_state : int, default=42, RandomState instance, which is the seed used \n",
    "        by the random number generator;\n",
    "    tpb: int, default=32, number of threads per thread block. A thread block is a group of threads \n",
    "        to process the group of samples with same value of y. If the number of unique values of \n",
    "        y is small,the group size is large and tpb should increase accordingly. The largest value\n",
    "        of tpb is 1024 and it should be multiples of 32.\n",
    "    mode: str, default = 'relax', how to deal with class with fewer samples than n_splits\n",
    "        The possible options are 'relax' and 'sklearn'. \n",
    "        With 'sklearn' mode, it will assert that n_splits must be less or equal to the number of samples\n",
    "        in the smallest class.\n",
    "        With 'relax', class with fewer samples than n_splits will be only in either train or valid part\n",
    "        of a given fold.\n",
    "    Examples\n",
    "    --------\n",
    "    >>> X = np.array([[1, 2], [3, 4], [1, 2], [3, 4]])\n",
    "    >>> y = np.array([0, 0, 1, 1])\n",
    "    >>> skf = StratifiedKFold_cudf_gpu(n_splits=2,random_state=None, shuffle=False)\n",
    "    >>> for train_index, test_index in skf.split(X, y):\n",
    "    ...    print(\"TRAIN:\", train_index, \"TEST:\", test_index)\n",
    "    ...    X_train, X_test = X[train_index], X[test_index]\n",
    "    ...    y_train, y_test = y[train_index], y[test_index]\n",
    "    TRAIN: [1 3] TEST: [0 2]\n",
    "    TRAIN: [0 2] TEST: [1 3]\n",
    "    Notes\n",
    "    -----\n",
    "    Train and test sizes may be different in each fold, with a difference of at most ``n_classes``.\n",
    "    \"\"\"\n",
    "    def __init__(self,n_splits=3,shuffle=True,random_state=42,tpb=32,mode='relax'):\n",
    "        self.n_splits = n_splits\n",
    "        self.shuffle = shuffle\n",
    "        self.seed = random_state\n",
    "        self.tpb = tpb # threads per thread block\n",
    "        self.mode = mode\n",
    "        \n",
    "    def get_n_splits(self, X=None, y=None):\n",
    "        return self.n_splits\n",
    "              \n",
    "    def split(self,x,y):\n",
    "        \"\"\"Generate indices to split data into training and test set.\n",
    "        Parameters\n",
    "        ----------\n",
    "        X : array-like, shape (n_samples, n_features)\n",
    "        y : array-like, shape (n_samples,)\n",
    "            The target variable for supervised learning problems.\n",
    "            Stratification is done based on the y labels.\n",
    "        Yields\n",
    "        ------\n",
    "        train : ndarray\n",
    "            The training set indices for that split.\n",
    "        test : ndarray\n",
    "            The testing set indices for that split.\n",
    "        Notes\n",
    "        -----\n",
    "        Randomized CV splitters may return different results for each call of\n",
    "        split. You can make the results identical by setting ``random_state``\n",
    "        to an integer.\n",
    "        \"\"\"\n",
    "        assert x.shape[0] == y.shape[0]\n",
    "        df = gd.DataFrame()\n",
    "        x = np.array(x)\n",
    "        y = np.array(y)\n",
    "        ids = np.arange(x.shape[0])\n",
    "        \n",
    "        if self.shuffle:\n",
    "            np.random.seed(self.seed)\n",
    "            np.random.shuffle(ids)\n",
    "            x = x[ids]\n",
    "            y = y[ids]\n",
    "        \n",
    "        cols = []\n",
    "        df['y'] = np.ascontiguousarray(y)\n",
    "        df['ids'] = ids\n",
    "    \n",
    "        grpby = df.groupby(['y'], method=\"cudf\")\n",
    "        if self.mode == 'sklearn':\n",
    "            dg = grpby.agg({'y':'count'})\n",
    "            #print(dg.columns)\n",
    "            col = dg.columns[0]\n",
    "            msg = 'n_splits=%d cannot be greater than the number of members in each class.'%self.n_splits\n",
    "            assert dg[col].min()>=self.n_splits,msg\n",
    "\n",
    "        def get_order_in_group(y,ids,order):\n",
    "            for i in range(cuda.threadIdx.x, len(y), cuda.blockDim.x):\n",
    "                order[i] = i\n",
    "\n",
    "        got = grpby.apply_grouped(get_order_in_group,incols=['y','ids'],\n",
    "                                  outcols={'order': np.int32},\n",
    "                                  tpb=self.tpb)\n",
    "\n",
    "        got = got.sort_values('ids')\n",
    "            \n",
    "        dx = got.to_pandas()\n",
    "        del got,df\n",
    "        \n",
    "        for i in range(self.n_splits):\n",
    "            mask = dx['order']%self.n_splits==i\n",
    "            train = dx.loc[~mask,'ids'].values\n",
    "            test = dx.loc[mask,'ids'].values\n",
    "            if len(test)==0:\n",
    "                break\n",
    "            yield train,test     "
   ]
  },
  {
   "cell_type": "markdown",
   "metadata": {},
   "source": [
    "### Sanity check\n",
    "<a id=\"san\"></a>"
   ]
  },
  {
   "cell_type": "code",
   "execution_count": 3,
   "metadata": {},
   "outputs": [
    {
     "name": "stdout",
     "output_type": "stream",
     "text": [
      "TRAIN: [1 3] TEST: [0 2]\n",
      "TRAIN: [0 2] TEST: [1 3]\n"
     ]
    }
   ],
   "source": [
    "X = np.array([[1, 2], [3, 4], [1, 2], [3, 4]])\n",
    "y = np.array([0, 0, 1, 1])\n",
    "skf = StratifiedKFold_cudf_gpu(n_splits=2,random_state=None, shuffle=False)\n",
    "for train_index, test_index in skf.split(X, y):\n",
    "    print(\"TRAIN:\", train_index, \"TEST:\", test_index)\n",
    "    X_train, X_test = X[train_index], X[test_index]\n",
    "    y_train, y_test = y[train_index], y[test_index]"
   ]
  },
  {
   "cell_type": "markdown",
   "metadata": {},
   "source": [
    "### We compare relax and sklearn mode of StratifiedKFold_cudf_gpu"
   ]
  },
  {
   "cell_type": "code",
   "execution_count": 4,
   "metadata": {},
   "outputs": [
    {
     "name": "stdout",
     "output_type": "stream",
     "text": [
      "TRAIN: [1 3] TEST: [0 2]\n",
      "TRAIN: [0 2] TEST: [1 3]\n"
     ]
    }
   ],
   "source": [
    "skf = StratifiedKFold_cudf_gpu(n_splits=4,random_state=None, shuffle=False,mode='relax')\n",
    "for train_index, test_index in skf.split(X, y):\n",
    "    print(\"TRAIN:\", train_index, \"TEST:\", test_index)\n",
    "    X_train, X_test = X[train_index], X[test_index]\n",
    "    y_train, y_test = y[train_index], y[test_index]"
   ]
  },
  {
   "cell_type": "markdown",
   "metadata": {},
   "source": [
    "This examples shows that when the number of samples is too small for a certain `n_splits`, the `relax` mode stops making more splits without reporting an error. Please refer to [the google landmark dataset example](#land) for more behavior analysis of `relax` mode."
   ]
  },
  {
   "cell_type": "markdown",
   "metadata": {},
   "source": [
    "#### Errors are expected in the following example for both sklearn and cudf. The `sklearn` mode of cudf is designed to catch the same error as sklearn version."
   ]
  },
  {
   "cell_type": "code",
   "execution_count": 5,
   "metadata": {},
   "outputs": [
    {
     "ename": "AssertionError",
     "evalue": "n_splits=4 cannot be greater than the number of members in each class.",
     "output_type": "error",
     "traceback": [
      "\u001b[0;31m---------------------------------------------------------------------------\u001b[0m",
      "\u001b[0;31mAssertionError\u001b[0m                            Traceback (most recent call last)",
      "\u001b[0;32m<ipython-input-5-8a72eab6b918>\u001b[0m in \u001b[0;36m<module>\u001b[0;34m()\u001b[0m\n\u001b[1;32m      1\u001b[0m \u001b[0mskf\u001b[0m \u001b[0;34m=\u001b[0m \u001b[0mStratifiedKFold_cudf_gpu\u001b[0m\u001b[0;34m(\u001b[0m\u001b[0mn_splits\u001b[0m\u001b[0;34m=\u001b[0m\u001b[0;36m4\u001b[0m\u001b[0;34m,\u001b[0m\u001b[0mrandom_state\u001b[0m\u001b[0;34m=\u001b[0m\u001b[0;32mNone\u001b[0m\u001b[0;34m,\u001b[0m \u001b[0mshuffle\u001b[0m\u001b[0;34m=\u001b[0m\u001b[0;32mFalse\u001b[0m\u001b[0;34m,\u001b[0m\u001b[0mmode\u001b[0m\u001b[0;34m=\u001b[0m\u001b[0;34m'sklearn'\u001b[0m\u001b[0;34m)\u001b[0m\u001b[0;34m\u001b[0m\u001b[0;34m\u001b[0m\u001b[0m\n\u001b[0;32m----> 2\u001b[0;31m \u001b[0;32mfor\u001b[0m \u001b[0mtrain_index\u001b[0m\u001b[0;34m,\u001b[0m \u001b[0mtest_index\u001b[0m \u001b[0;32min\u001b[0m \u001b[0mskf\u001b[0m\u001b[0;34m.\u001b[0m\u001b[0msplit\u001b[0m\u001b[0;34m(\u001b[0m\u001b[0mX\u001b[0m\u001b[0;34m,\u001b[0m \u001b[0my\u001b[0m\u001b[0;34m)\u001b[0m\u001b[0;34m:\u001b[0m\u001b[0;34m\u001b[0m\u001b[0;34m\u001b[0m\u001b[0m\n\u001b[0m\u001b[1;32m      3\u001b[0m     \u001b[0mprint\u001b[0m\u001b[0;34m(\u001b[0m\u001b[0;34m\"TRAIN:\"\u001b[0m\u001b[0;34m,\u001b[0m \u001b[0mtrain_index\u001b[0m\u001b[0;34m,\u001b[0m \u001b[0;34m\"TEST:\"\u001b[0m\u001b[0;34m,\u001b[0m \u001b[0mtest_index\u001b[0m\u001b[0;34m)\u001b[0m\u001b[0;34m\u001b[0m\u001b[0;34m\u001b[0m\u001b[0m\n\u001b[1;32m      4\u001b[0m     \u001b[0mX_train\u001b[0m\u001b[0;34m,\u001b[0m \u001b[0mX_test\u001b[0m \u001b[0;34m=\u001b[0m \u001b[0mX\u001b[0m\u001b[0;34m[\u001b[0m\u001b[0mtrain_index\u001b[0m\u001b[0;34m]\u001b[0m\u001b[0;34m,\u001b[0m \u001b[0mX\u001b[0m\u001b[0;34m[\u001b[0m\u001b[0mtest_index\u001b[0m\u001b[0;34m]\u001b[0m\u001b[0;34m\u001b[0m\u001b[0;34m\u001b[0m\u001b[0m\n\u001b[1;32m      5\u001b[0m     \u001b[0my_train\u001b[0m\u001b[0;34m,\u001b[0m \u001b[0my_test\u001b[0m \u001b[0;34m=\u001b[0m \u001b[0my\u001b[0m\u001b[0;34m[\u001b[0m\u001b[0mtrain_index\u001b[0m\u001b[0;34m]\u001b[0m\u001b[0;34m,\u001b[0m \u001b[0my\u001b[0m\u001b[0;34m[\u001b[0m\u001b[0mtest_index\u001b[0m\u001b[0;34m]\u001b[0m\u001b[0;34m\u001b[0m\u001b[0;34m\u001b[0m\u001b[0m\n",
      "\u001b[0;32m<ipython-input-2-d0f9f025e88c>\u001b[0m in \u001b[0;36msplit\u001b[0;34m(self, x, y)\u001b[0m\n\u001b[1;32m     91\u001b[0m             \u001b[0mcol\u001b[0m \u001b[0;34m=\u001b[0m \u001b[0mdg\u001b[0m\u001b[0;34m.\u001b[0m\u001b[0mcolumns\u001b[0m\u001b[0;34m[\u001b[0m\u001b[0;36m0\u001b[0m\u001b[0;34m]\u001b[0m\u001b[0;34m\u001b[0m\u001b[0;34m\u001b[0m\u001b[0m\n\u001b[1;32m     92\u001b[0m             \u001b[0mmsg\u001b[0m \u001b[0;34m=\u001b[0m \u001b[0;34m'n_splits=%d cannot be greater than the number of members in each class.'\u001b[0m\u001b[0;34m%\u001b[0m\u001b[0mself\u001b[0m\u001b[0;34m.\u001b[0m\u001b[0mn_splits\u001b[0m\u001b[0;34m\u001b[0m\u001b[0;34m\u001b[0m\u001b[0m\n\u001b[0;32m---> 93\u001b[0;31m             \u001b[0;32massert\u001b[0m \u001b[0mdg\u001b[0m\u001b[0;34m[\u001b[0m\u001b[0mcol\u001b[0m\u001b[0;34m]\u001b[0m\u001b[0;34m.\u001b[0m\u001b[0mmin\u001b[0m\u001b[0;34m(\u001b[0m\u001b[0;34m)\u001b[0m\u001b[0;34m>=\u001b[0m\u001b[0mself\u001b[0m\u001b[0;34m.\u001b[0m\u001b[0mn_splits\u001b[0m\u001b[0;34m,\u001b[0m\u001b[0mmsg\u001b[0m\u001b[0;34m\u001b[0m\u001b[0;34m\u001b[0m\u001b[0m\n\u001b[0m\u001b[1;32m     94\u001b[0m \u001b[0;34m\u001b[0m\u001b[0m\n\u001b[1;32m     95\u001b[0m         \u001b[0;32mdef\u001b[0m \u001b[0mget_order_in_group\u001b[0m\u001b[0;34m(\u001b[0m\u001b[0my\u001b[0m\u001b[0;34m,\u001b[0m\u001b[0mids\u001b[0m\u001b[0;34m,\u001b[0m\u001b[0morder\u001b[0m\u001b[0;34m)\u001b[0m\u001b[0;34m:\u001b[0m\u001b[0;34m\u001b[0m\u001b[0;34m\u001b[0m\u001b[0m\n",
      "\u001b[0;31mAssertionError\u001b[0m: n_splits=4 cannot be greater than the number of members in each class."
     ]
    }
   ],
   "source": [
    "skf = StratifiedKFold_cudf_gpu(n_splits=4,random_state=None, shuffle=False,mode='sklearn')\n",
    "for train_index, test_index in skf.split(X, y):\n",
    "    print(\"TRAIN:\", train_index, \"TEST:\", test_index)\n",
    "    X_train, X_test = X[train_index], X[test_index]\n",
    "    y_train, y_test = y[train_index], y[test_index]"
   ]
  },
  {
   "cell_type": "code",
   "execution_count": 6,
   "metadata": {},
   "outputs": [
    {
     "ename": "ValueError",
     "evalue": "n_splits=4 cannot be greater than the number of members in each class.",
     "output_type": "error",
     "traceback": [
      "\u001b[0;31m---------------------------------------------------------------------------\u001b[0m",
      "\u001b[0;31mValueError\u001b[0m                                Traceback (most recent call last)",
      "\u001b[0;32m<ipython-input-6-7213cffdbb49>\u001b[0m in \u001b[0;36m<module>\u001b[0;34m()\u001b[0m\n\u001b[1;32m      1\u001b[0m \u001b[0mskf\u001b[0m \u001b[0;34m=\u001b[0m \u001b[0mStratifiedKFold\u001b[0m\u001b[0;34m(\u001b[0m\u001b[0mn_splits\u001b[0m\u001b[0;34m=\u001b[0m\u001b[0;36m4\u001b[0m\u001b[0;34m,\u001b[0m\u001b[0mrandom_state\u001b[0m\u001b[0;34m=\u001b[0m\u001b[0;32mNone\u001b[0m\u001b[0;34m,\u001b[0m \u001b[0mshuffle\u001b[0m\u001b[0;34m=\u001b[0m\u001b[0;32mFalse\u001b[0m\u001b[0;34m)\u001b[0m\u001b[0;34m\u001b[0m\u001b[0;34m\u001b[0m\u001b[0m\n\u001b[0;32m----> 2\u001b[0;31m \u001b[0;32mfor\u001b[0m \u001b[0mtrain_index\u001b[0m\u001b[0;34m,\u001b[0m \u001b[0mtest_index\u001b[0m \u001b[0;32min\u001b[0m \u001b[0mskf\u001b[0m\u001b[0;34m.\u001b[0m\u001b[0msplit\u001b[0m\u001b[0;34m(\u001b[0m\u001b[0mX\u001b[0m\u001b[0;34m,\u001b[0m \u001b[0my\u001b[0m\u001b[0;34m)\u001b[0m\u001b[0;34m:\u001b[0m\u001b[0;34m\u001b[0m\u001b[0;34m\u001b[0m\u001b[0m\n\u001b[0m\u001b[1;32m      3\u001b[0m     \u001b[0mprint\u001b[0m\u001b[0;34m(\u001b[0m\u001b[0;34m\"TRAIN:\"\u001b[0m\u001b[0;34m,\u001b[0m \u001b[0mtrain_index\u001b[0m\u001b[0;34m,\u001b[0m \u001b[0;34m\"TEST:\"\u001b[0m\u001b[0;34m,\u001b[0m \u001b[0mtest_index\u001b[0m\u001b[0;34m)\u001b[0m\u001b[0;34m\u001b[0m\u001b[0;34m\u001b[0m\u001b[0m\n\u001b[1;32m      4\u001b[0m     \u001b[0mX_train\u001b[0m\u001b[0;34m,\u001b[0m \u001b[0mX_test\u001b[0m \u001b[0;34m=\u001b[0m \u001b[0mX\u001b[0m\u001b[0;34m[\u001b[0m\u001b[0mtrain_index\u001b[0m\u001b[0;34m]\u001b[0m\u001b[0;34m,\u001b[0m \u001b[0mX\u001b[0m\u001b[0;34m[\u001b[0m\u001b[0mtest_index\u001b[0m\u001b[0;34m]\u001b[0m\u001b[0;34m\u001b[0m\u001b[0;34m\u001b[0m\u001b[0m\n\u001b[1;32m      5\u001b[0m     \u001b[0my_train\u001b[0m\u001b[0;34m,\u001b[0m \u001b[0my_test\u001b[0m \u001b[0;34m=\u001b[0m \u001b[0my\u001b[0m\u001b[0;34m[\u001b[0m\u001b[0mtrain_index\u001b[0m\u001b[0;34m]\u001b[0m\u001b[0;34m,\u001b[0m \u001b[0my\u001b[0m\u001b[0;34m[\u001b[0m\u001b[0mtest_index\u001b[0m\u001b[0;34m]\u001b[0m\u001b[0;34m\u001b[0m\u001b[0;34m\u001b[0m\u001b[0m\n",
      "\u001b[0;32m~/anaconda3/envs/cudf0.6/lib/python3.6/site-packages/sklearn/model_selection/_split.py\u001b[0m in \u001b[0;36msplit\u001b[0;34m(self, X, y, groups)\u001b[0m\n\u001b[1;32m    329\u001b[0m                 .format(self.n_splits, n_samples))\n\u001b[1;32m    330\u001b[0m \u001b[0;34m\u001b[0m\u001b[0m\n\u001b[0;32m--> 331\u001b[0;31m         \u001b[0;32mfor\u001b[0m \u001b[0mtrain\u001b[0m\u001b[0;34m,\u001b[0m \u001b[0mtest\u001b[0m \u001b[0;32min\u001b[0m \u001b[0msuper\u001b[0m\u001b[0;34m(\u001b[0m\u001b[0m_BaseKFold\u001b[0m\u001b[0;34m,\u001b[0m \u001b[0mself\u001b[0m\u001b[0;34m)\u001b[0m\u001b[0;34m.\u001b[0m\u001b[0msplit\u001b[0m\u001b[0;34m(\u001b[0m\u001b[0mX\u001b[0m\u001b[0;34m,\u001b[0m \u001b[0my\u001b[0m\u001b[0;34m,\u001b[0m \u001b[0mgroups\u001b[0m\u001b[0;34m)\u001b[0m\u001b[0;34m:\u001b[0m\u001b[0;34m\u001b[0m\u001b[0;34m\u001b[0m\u001b[0m\n\u001b[0m\u001b[1;32m    332\u001b[0m             \u001b[0;32myield\u001b[0m \u001b[0mtrain\u001b[0m\u001b[0;34m,\u001b[0m \u001b[0mtest\u001b[0m\u001b[0;34m\u001b[0m\u001b[0;34m\u001b[0m\u001b[0m\n\u001b[1;32m    333\u001b[0m \u001b[0;34m\u001b[0m\u001b[0m\n",
      "\u001b[0;32m~/anaconda3/envs/cudf0.6/lib/python3.6/site-packages/sklearn/model_selection/_split.py\u001b[0m in \u001b[0;36msplit\u001b[0;34m(self, X, y, groups)\u001b[0m\n\u001b[1;32m     98\u001b[0m         \u001b[0mX\u001b[0m\u001b[0;34m,\u001b[0m \u001b[0my\u001b[0m\u001b[0;34m,\u001b[0m \u001b[0mgroups\u001b[0m \u001b[0;34m=\u001b[0m \u001b[0mindexable\u001b[0m\u001b[0;34m(\u001b[0m\u001b[0mX\u001b[0m\u001b[0;34m,\u001b[0m \u001b[0my\u001b[0m\u001b[0;34m,\u001b[0m \u001b[0mgroups\u001b[0m\u001b[0;34m)\u001b[0m\u001b[0;34m\u001b[0m\u001b[0;34m\u001b[0m\u001b[0m\n\u001b[1;32m     99\u001b[0m         \u001b[0mindices\u001b[0m \u001b[0;34m=\u001b[0m \u001b[0mnp\u001b[0m\u001b[0;34m.\u001b[0m\u001b[0marange\u001b[0m\u001b[0;34m(\u001b[0m\u001b[0m_num_samples\u001b[0m\u001b[0;34m(\u001b[0m\u001b[0mX\u001b[0m\u001b[0;34m)\u001b[0m\u001b[0;34m)\u001b[0m\u001b[0;34m\u001b[0m\u001b[0;34m\u001b[0m\u001b[0m\n\u001b[0;32m--> 100\u001b[0;31m         \u001b[0;32mfor\u001b[0m \u001b[0mtest_index\u001b[0m \u001b[0;32min\u001b[0m \u001b[0mself\u001b[0m\u001b[0;34m.\u001b[0m\u001b[0m_iter_test_masks\u001b[0m\u001b[0;34m(\u001b[0m\u001b[0mX\u001b[0m\u001b[0;34m,\u001b[0m \u001b[0my\u001b[0m\u001b[0;34m,\u001b[0m \u001b[0mgroups\u001b[0m\u001b[0;34m)\u001b[0m\u001b[0;34m:\u001b[0m\u001b[0;34m\u001b[0m\u001b[0;34m\u001b[0m\u001b[0m\n\u001b[0m\u001b[1;32m    101\u001b[0m             \u001b[0mtrain_index\u001b[0m \u001b[0;34m=\u001b[0m \u001b[0mindices\u001b[0m\u001b[0;34m[\u001b[0m\u001b[0mnp\u001b[0m\u001b[0;34m.\u001b[0m\u001b[0mlogical_not\u001b[0m\u001b[0;34m(\u001b[0m\u001b[0mtest_index\u001b[0m\u001b[0;34m)\u001b[0m\u001b[0;34m]\u001b[0m\u001b[0;34m\u001b[0m\u001b[0;34m\u001b[0m\u001b[0m\n\u001b[1;32m    102\u001b[0m             \u001b[0mtest_index\u001b[0m \u001b[0;34m=\u001b[0m \u001b[0mindices\u001b[0m\u001b[0;34m[\u001b[0m\u001b[0mtest_index\u001b[0m\u001b[0;34m]\u001b[0m\u001b[0;34m\u001b[0m\u001b[0;34m\u001b[0m\u001b[0m\n",
      "\u001b[0;32m~/anaconda3/envs/cudf0.6/lib/python3.6/site-packages/sklearn/model_selection/_split.py\u001b[0m in \u001b[0;36m_iter_test_masks\u001b[0;34m(self, X, y, groups)\u001b[0m\n\u001b[1;32m    679\u001b[0m \u001b[0;34m\u001b[0m\u001b[0m\n\u001b[1;32m    680\u001b[0m     \u001b[0;32mdef\u001b[0m \u001b[0m_iter_test_masks\u001b[0m\u001b[0;34m(\u001b[0m\u001b[0mself\u001b[0m\u001b[0;34m,\u001b[0m \u001b[0mX\u001b[0m\u001b[0;34m,\u001b[0m \u001b[0my\u001b[0m\u001b[0;34m=\u001b[0m\u001b[0;32mNone\u001b[0m\u001b[0;34m,\u001b[0m \u001b[0mgroups\u001b[0m\u001b[0;34m=\u001b[0m\u001b[0;32mNone\u001b[0m\u001b[0;34m)\u001b[0m\u001b[0;34m:\u001b[0m\u001b[0;34m\u001b[0m\u001b[0;34m\u001b[0m\u001b[0m\n\u001b[0;32m--> 681\u001b[0;31m         \u001b[0mtest_folds\u001b[0m \u001b[0;34m=\u001b[0m \u001b[0mself\u001b[0m\u001b[0;34m.\u001b[0m\u001b[0m_make_test_folds\u001b[0m\u001b[0;34m(\u001b[0m\u001b[0mX\u001b[0m\u001b[0;34m,\u001b[0m \u001b[0my\u001b[0m\u001b[0;34m)\u001b[0m\u001b[0;34m\u001b[0m\u001b[0;34m\u001b[0m\u001b[0m\n\u001b[0m\u001b[1;32m    682\u001b[0m         \u001b[0;32mfor\u001b[0m \u001b[0mi\u001b[0m \u001b[0;32min\u001b[0m \u001b[0mrange\u001b[0m\u001b[0;34m(\u001b[0m\u001b[0mself\u001b[0m\u001b[0;34m.\u001b[0m\u001b[0mn_splits\u001b[0m\u001b[0;34m)\u001b[0m\u001b[0;34m:\u001b[0m\u001b[0;34m\u001b[0m\u001b[0;34m\u001b[0m\u001b[0m\n\u001b[1;32m    683\u001b[0m             \u001b[0;32myield\u001b[0m \u001b[0mtest_folds\u001b[0m \u001b[0;34m==\u001b[0m \u001b[0mi\u001b[0m\u001b[0;34m\u001b[0m\u001b[0;34m\u001b[0m\u001b[0m\n",
      "\u001b[0;32m~/anaconda3/envs/cudf0.6/lib/python3.6/site-packages/sklearn/model_selection/_split.py\u001b[0m in \u001b[0;36m_make_test_folds\u001b[0;34m(self, X, y)\u001b[0m\n\u001b[1;32m    644\u001b[0m             raise ValueError(\"n_splits=%d cannot be greater than the\"\n\u001b[1;32m    645\u001b[0m                              \u001b[0;34m\" number of members in each class.\"\u001b[0m\u001b[0;34m\u001b[0m\u001b[0;34m\u001b[0m\u001b[0m\n\u001b[0;32m--> 646\u001b[0;31m                              % (self.n_splits))\n\u001b[0m\u001b[1;32m    647\u001b[0m         \u001b[0;32mif\u001b[0m \u001b[0mself\u001b[0m\u001b[0;34m.\u001b[0m\u001b[0mn_splits\u001b[0m \u001b[0;34m>\u001b[0m \u001b[0mmin_groups\u001b[0m\u001b[0;34m:\u001b[0m\u001b[0;34m\u001b[0m\u001b[0;34m\u001b[0m\u001b[0m\n\u001b[1;32m    648\u001b[0m             warnings.warn((\"The least populated class in y has only %d\"\n",
      "\u001b[0;31mValueError\u001b[0m: n_splits=4 cannot be greater than the number of members in each class."
     ]
    }
   ],
   "source": [
    "skf = StratifiedKFold(n_splits=4,random_state=None, shuffle=False)\n",
    "for train_index, test_index in skf.split(X, y):\n",
    "    print(\"TRAIN:\", train_index, \"TEST:\", test_index)\n",
    "    X_train, X_test = X[train_index], X[test_index]\n",
    "    y_train, y_test = y[train_index], y[test_index]"
   ]
  },
  {
   "cell_type": "markdown",
   "metadata": {},
   "source": [
    "#### Examples above show that the `sklearn` mode of cudf can catch the same error as sklearn stratified kfold split."
   ]
  },
  {
   "cell_type": "markdown",
   "metadata": {},
   "source": [
    "### A real world example with the google landmark dataset\n",
    "<a id=\"land\"></a>"
   ]
  },
  {
   "cell_type": "code",
   "execution_count": 7,
   "metadata": {},
   "outputs": [
    {
     "name": "stdout",
     "output_type": "stream",
     "text": [
      "CPU times: user 460 ms, sys: 136 ms, total: 596 ms\n",
      "Wall time: 601 ms\n"
     ]
    }
   ],
   "source": [
    "%%time\n",
    "path = '../../landreg/input/train.csv'\n",
    "cols = ['id','url','landmark_id']\n",
    "dtypes = ['str','str','int32']\n",
    "train = gd.read_csv(path,names=cols,dtype=dtypes,skiprows=1) # skip the header"
   ]
  },
  {
   "cell_type": "code",
   "execution_count": 8,
   "metadata": {},
   "outputs": [
    {
     "data": {
      "text/html": [
       "<div>\n",
       "<style scoped>\n",
       "    .dataframe tbody tr th:only-of-type {\n",
       "        vertical-align: middle;\n",
       "    }\n",
       "\n",
       "    .dataframe tbody tr th {\n",
       "        vertical-align: top;\n",
       "    }\n",
       "\n",
       "    .dataframe thead th {\n",
       "        text-align: right;\n",
       "    }\n",
       "</style>\n",
       "<table border=\"1\" class=\"dataframe\">\n",
       "  <thead>\n",
       "    <tr style=\"text-align: right;\">\n",
       "      <th></th>\n",
       "      <th>id</th>\n",
       "      <th>url</th>\n",
       "      <th>landmark_id</th>\n",
       "    </tr>\n",
       "  </thead>\n",
       "  <tbody>\n",
       "    <tr>\n",
       "      <th>0</th>\n",
       "      <td>6e158a47eb2ca3f6</td>\n",
       "      <td>https://upload.wikimedia.org/wikipedia/commons...</td>\n",
       "      <td>142820</td>\n",
       "    </tr>\n",
       "    <tr>\n",
       "      <th>1</th>\n",
       "      <td>202cd79556f30760</td>\n",
       "      <td>http://upload.wikimedia.org/wikipedia/commons/...</td>\n",
       "      <td>104169</td>\n",
       "    </tr>\n",
       "    <tr>\n",
       "      <th>2</th>\n",
       "      <td>3ad87684c99c06e1</td>\n",
       "      <td>http://upload.wikimedia.org/wikipedia/commons/...</td>\n",
       "      <td>37914</td>\n",
       "    </tr>\n",
       "    <tr>\n",
       "      <th>3</th>\n",
       "      <td>e7f70e9c61e66af3</td>\n",
       "      <td>https://upload.wikimedia.org/wikipedia/commons...</td>\n",
       "      <td>102140</td>\n",
       "    </tr>\n",
       "    <tr>\n",
       "      <th>4</th>\n",
       "      <td>4072182eddd0100e</td>\n",
       "      <td>https://upload.wikimedia.org/wikipedia/commons...</td>\n",
       "      <td>2474</td>\n",
       "    </tr>\n",
       "  </tbody>\n",
       "</table>\n",
       "</div>"
      ],
      "text/plain": [
       "                 id                                                url  \\\n",
       "0  6e158a47eb2ca3f6  https://upload.wikimedia.org/wikipedia/commons...   \n",
       "1  202cd79556f30760  http://upload.wikimedia.org/wikipedia/commons/...   \n",
       "2  3ad87684c99c06e1  http://upload.wikimedia.org/wikipedia/commons/...   \n",
       "3  e7f70e9c61e66af3  https://upload.wikimedia.org/wikipedia/commons...   \n",
       "4  4072182eddd0100e  https://upload.wikimedia.org/wikipedia/commons...   \n",
       "\n",
       "   landmark_id  \n",
       "0       142820  \n",
       "1       104169  \n",
       "2        37914  \n",
       "3       102140  \n",
       "4         2474  "
      ]
     },
     "execution_count": 8,
     "metadata": {},
     "output_type": "execute_result"
    }
   ],
   "source": [
    "df = train.head().to_pandas()\n",
    "df.head()"
   ]
  },
  {
   "cell_type": "code",
   "execution_count": 9,
   "metadata": {},
   "outputs": [
    {
     "name": "stdout",
     "output_type": "stream",
     "text": [
      "number of samples 4132914 number of classes 203094\n"
     ]
    }
   ],
   "source": [
    "y = train['landmark_id'].to_pandas().values\n",
    "print('number of samples %d number of classes %d'%(y.shape[0],np.unique(y).shape[0]))"
   ]
  },
  {
   "cell_type": "code",
   "execution_count": 10,
   "metadata": {},
   "outputs": [
    {
     "name": "stdout",
     "output_type": "stream",
     "text": [
      "[samples, classes] in each fold:\n",
      "train [3610971,184200] valid [521943,203094]\n",
      "train [3641533,203094] valid [491381,184200]\n",
      "train [3670149,203094] valid [462765,166463]\n",
      "train [3695903,203094] valid [437011,150659]\n",
      "train [3718707,203094] valid [414207,137133]\n",
      "train [3738707,203094] valid [394207,125731]\n",
      "train [3756907,203094] valid [376007,115755]\n",
      "train [3773431,203094] valid [359483,106996]\n",
      "train [3788254,203094] valid [344660,99342]\n",
      "train [3801664,203094] valid [331250,92740]\n",
      "CPU times: user 3.66 s, sys: 148 ms, total: 3.81 s\n",
      "Wall time: 3.81 s\n"
     ]
    }
   ],
   "source": [
    "%%time\n",
    "skf = StratifiedKFold_cudf_gpu(n_splits=10,random_state=42, shuffle=True, mode='relax')\n",
    "print('[samples, classes] in each fold:')\n",
    "for train_index, test_index in skf.split(y, y):\n",
    "    print('train [%d,%d] valid [%d,%d]'%(y[train_index].shape[0],\n",
    "                                        np.unique(y[train_index]).shape[0],\n",
    "                                        y[test_index].shape[0],\n",
    "                                        np.unique(y[test_index]).shape[0],))\n",
    "    assert y[train_index].shape[0]+y[test_index].shape[0] == y.shape[0]"
   ]
  },
  {
   "cell_type": "markdown",
   "metadata": {},
   "source": [
    "Unlike sklearn's version, where n_splits cannot be greater than the number of members in the smallest class, we use an approximate approach to allow minority class samples to be only in train part or valid part. The downside is the number of samples in each fold is not even. Actually the number of samples in valid is monotonically decreasing from fold 0 to fold n-1, and the size difference between largest fold and smallest fold increases with n_splits. Based on my limited experience, this is acceptable."
   ]
  },
  {
   "cell_type": "markdown",
   "metadata": {},
   "source": [
    "### I don't even want to run sklean's version on this dataset since it runs forever. Please feel free to try."
   ]
  },
  {
   "cell_type": "code",
   "execution_count": 11,
   "metadata": {},
   "outputs": [
    {
     "data": {
      "text/plain": [
       "\"\\n%%time\\nskf = StratifiedKFold(n_splits=4,random_state=None, shuffle=False)\\nprint('[samples, classes] in each fold:')\\nfor train_index, test_index in skf.split(y, y):\\n    print('train [%d,%d] valid [%d,%d]'%(y[train_index].shape[0],\\n                                        np.unique(y[train_index]).shape[0],\\n                                        y[test_index].shape[0],\\n                                        np.unique(y[test_index]).shape[0],))\\n\""
      ]
     },
     "execution_count": 11,
     "metadata": {},
     "output_type": "execute_result"
    }
   ],
   "source": [
    "\"\"\"\n",
    "%%time\n",
    "skf = StratifiedKFold(n_splits=4,random_state=None, shuffle=False)\n",
    "print('[samples, classes] in each fold:')\n",
    "for train_index, test_index in skf.split(y, y):\n",
    "    print('train [%d,%d] valid [%d,%d]'%(y[train_index].shape[0],\n",
    "                                        np.unique(y[train_index]).shape[0],\n",
    "                                        y[test_index].shape[0],\n",
    "                                        np.unique(y[test_index]).shape[0],))\n",
    "\"\"\"                                        "
   ]
  },
  {
   "cell_type": "markdown",
   "metadata": {},
   "source": [
    "### Measure the run time of sklearn's stratified kfold using random data\n",
    "<a id=\"runtime\"></a>"
   ]
  },
  {
   "cell_type": "code",
   "execution_count": 12,
   "metadata": {},
   "outputs": [],
   "source": [
    "def stratified_kfold_timing(n_splits,classes,samples,gpu=False):\n",
    "    \"\"\"measure the run time of stratified kfold split using random synthetic data.\n",
    "        Parameters\n",
    "        ----------\n",
    "        n_splits : int, \n",
    "            number of splits\n",
    "        classes : int, \n",
    "            number of classes for the synthetic data\n",
    "        samples: int, \n",
    "            number of samples for the synthetic data\n",
    "        gpu: boolean, default False,\n",
    "            use gpu based stratified split or not\n",
    "        \n",
    "        Returns\n",
    "        ------\n",
    "        samples: int, \n",
    "            number of samples for the synthetic data\n",
    "        classes : int, \n",
    "            number of classes for the synthetic data\n",
    "        duration: float,\n",
    "            run time of the stratified kfold split operation\n",
    "        \"\"\"\n",
    "    y = np.random.randint(0,classes,samples)\n",
    "    start = time.time()\n",
    "    if gpu:\n",
    "        skf = StratifiedKFold_cudf_gpu(n_splits=n_splits)\n",
    "    else:\n",
    "        skf = StratifiedKFold(n_splits=n_splits)\n",
    "    try:\n",
    "        for train_index, test_index in skf.split(y, y):\n",
    "            break # only measure the time of one fold\n",
    "    except:\n",
    "        return None,None,None\n",
    "    duration = time.time()-start\n",
    "    return samples,classes,duration"
   ]
  },
  {
   "cell_type": "code",
   "execution_count": 13,
   "metadata": {},
   "outputs": [
    {
     "name": "stdout",
     "output_type": "stream",
     "text": [
      "samples: 10000 classes: 10 time:0.0091 seconds\n",
      "samples: 10000 classes: 100 time:0.0347 seconds\n",
      "samples: 10000 classes: 1000 time:0.2805 seconds\n",
      "samples: 100000 classes: 10 time:0.0595 seconds\n",
      "samples: 100000 classes: 100 time:0.1889 seconds\n",
      "samples: 100000 classes: 1000 time:1.2578 seconds\n",
      "samples: 100000 classes: 10000 time:11.4021 seconds\n",
      "samples: 1000000 classes: 10 time:0.5734 seconds\n",
      "samples: 1000000 classes: 100 time:1.5704 seconds\n",
      "samples: 1000000 classes: 1000 time:9.8214 seconds\n",
      "samples: 1000000 classes: 10000 time:88.9782 seconds\n",
      "samples: 1000000 classes: 100000 time:875.1936 seconds\n"
     ]
    }
   ],
   "source": [
    "sklearn_split_time = []\n",
    "for i in range(4,7):\n",
    "    for j in range(1,6):\n",
    "        samples,classes,t = stratified_kfold_timing(n_splits=10,classes=10**j,samples=10**i,gpu=False)\n",
    "        if t is None:\n",
    "            continue\n",
    "        print('samples: %d classes: %d time:%.4f seconds'%(samples,classes,t))\n",
    "        sklearn_split_time.append([samples,classes,t])"
   ]
  },
  {
   "cell_type": "markdown",
   "metadata": {},
   "source": [
    "### Measure the run time of cudf's stratified kfold using random data"
   ]
  },
  {
   "cell_type": "code",
   "execution_count": 14,
   "metadata": {},
   "outputs": [
    {
     "name": "stdout",
     "output_type": "stream",
     "text": [
      "samples: 10000 classes: 10 time:0.2233 seconds\n",
      "samples: 10000 classes: 100 time:0.2661 seconds\n",
      "samples: 10000 classes: 1000 time:0.2145 seconds\n",
      "samples: 10000 classes: 10000 time:0.2116 seconds\n",
      "samples: 10000 classes: 100000 time:0.2157 seconds\n",
      "samples: 100000 classes: 10 time:0.2157 seconds\n",
      "samples: 100000 classes: 100 time:0.2158 seconds\n",
      "samples: 100000 classes: 1000 time:0.2695 seconds\n",
      "samples: 100000 classes: 10000 time:0.2175 seconds\n",
      "samples: 100000 classes: 100000 time:0.2187 seconds\n",
      "samples: 1000000 classes: 10 time:0.3314 seconds\n",
      "samples: 1000000 classes: 100 time:0.3086 seconds\n",
      "samples: 1000000 classes: 1000 time:0.3190 seconds\n",
      "samples: 1000000 classes: 10000 time:0.4023 seconds\n",
      "samples: 1000000 classes: 100000 time:0.3639 seconds\n"
     ]
    }
   ],
   "source": [
    "cudf_split_time = []\n",
    "for i in range(4,7):\n",
    "    for j in range(1,6):\n",
    "        samples,classes,t = stratified_kfold_timing(n_splits=10,classes=10**j,samples=10**i,gpu=True)\n",
    "        if t is None:\n",
    "            continue\n",
    "        print('samples: %d classes: %d time:%.4f seconds'%(samples,classes,t))\n",
    "        cudf_split_time.append([samples,classes,t])"
   ]
  },
  {
   "cell_type": "code",
   "execution_count": 15,
   "metadata": {},
   "outputs": [],
   "source": [
    "import matplotlib.pyplot as plt\n",
    "%matplotlib inline"
   ]
  },
  {
   "cell_type": "code",
   "execution_count": 16,
   "metadata": {},
   "outputs": [
    {
     "data": {
      "image/png": "[encoded data removed]",
      "text/plain": [
       "<Figure size 1080x360 with 2 Axes>"
      ]
     },
     "metadata": {
      "needs_background": "light"
     },
     "output_type": "display_data"
    }
   ],
   "source": [
    "plt.figure(figsize=(15,5))\n",
    "colors = ['b','g','r']\n",
    "\n",
    "plt.subplot(1,2,1)\n",
    "seq = {}\n",
    "for samples,classes,t in sklearn_split_time:\n",
    "    if samples not in seq:\n",
    "        seq[samples] = [[],[]]\n",
    "    seq[samples][0].append(classes)\n",
    "    seq[samples][1].append(t)\n",
    "plt.yscale('log')\n",
    "plt.xscale('log')\n",
    "plt.xlabel('number of classes')\n",
    "plt.ylabel('run time: seconds')\n",
    "plt.grid()\n",
    "for samples,color in zip(seq,colors):\n",
    "    plt.scatter(seq[samples][0],seq[samples][1],c=color,label='%d samples'%samples)   \n",
    "    plt.plot(seq[samples][0],seq[samples][1],c=color)\n",
    "    plt.legend(loc='upper left')\n",
    "    plt.title('sklearn stratified split')\n",
    "    \n",
    "plt.subplot(1,2,2)\n",
    "seq = {}\n",
    "for samples,classes,t in cudf_split_time:\n",
    "    if samples not in seq:\n",
    "        seq[samples] = [[],[]]\n",
    "    seq[samples][0].append(classes)\n",
    "    seq[samples][1].append(t)\n",
    "plt.yscale('log')\n",
    "plt.xscale('log')\n",
    "plt.xlabel('number of classes')\n",
    "plt.ylabel('run time: seconds')\n",
    "plt.grid()\n",
    "for samples,color in zip(seq,colors):\n",
    "    plt.scatter(seq[samples][0],seq[samples][1],c=color,label='%d samples'%samples)   \n",
    "    plt.plot(seq[samples][0],seq[samples][1],c=color)\n",
    "    plt.legend(loc='upper left')\n",
    "    plt.title('cudf stratified split')"
   ]
  },
  {
   "cell_type": "markdown",
   "metadata": {},
   "source": [
    "Based on the synthetic data results, I expect the sklearn's version get the landscape data done in more than an hour and cudf's version just takes 4 seconds hence the **1000x speedup**."
   ]
  }
 ],
 "metadata": {
  "kernelspec": {
   "display_name": "Python 3",
   "language": "python",
   "name": "python3"
  },
  "language_info": {
   "codemirror_mode": {
    "name": "ipython",
    "version": 3
   },
   "file_extension": ".py",
   "mimetype": "text/x-python",
   "name": "python",
   "nbconvert_exporter": "python",
   "pygments_lexer": "ipython3",
   "version": "3.6.7"
  }
 },
 "nbformat": 4,
 "nbformat_minor": 2
}
