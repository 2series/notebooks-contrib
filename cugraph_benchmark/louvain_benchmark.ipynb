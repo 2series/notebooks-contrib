{
 "cells": [
  {
   "cell_type": "markdown",
   "metadata": {},
   "source": [
    "# Louvain Performance Benchmarking\n",
    "\n",
    "This notebook benchmarks performance improvement of running Louvain clustering within cuGraph against NetworkX.\n",
    "\n",
    "Notebook Credits\n",
    "\n",
    "    Original Authors: Bradley Rees\n",
    "    Last Edit: 04/04/2019\n",
    "\n",
    "RAPIDS Versions: 0.6.0\n",
    "\n",
    "Test Hardware\n",
    "\n",
    "    GP100 32G, CUDA 9,2\n",
    "    Dual Intel(R) Xeon(R) CPU E5-2643 v4 @ 3.40GHz\n",
    "    64GB system memory\n",
    "\n",
    "\n",
    "\n",
    "__Note__ Comparison against published results\n",
    "\n",
    "\n",
    "The cuGraph blog post included performance numbers that were collected over a year ago.  For the test graphs, int32 values are now used.  That improves GPUs performance.  Additionally, the initial benchamrks were measured on a P100 GPU. \n",
    "\n",
    "This test only comparse the modularity scores and a success is if the scores are within 15% of each other.  That comparison is done by adjusting the NetworkX modularity score and then verifying that the cuGraph score is higher.\n",
    "\n",
    "cuGraph did a full validation of NetworkX results against cuGraph results.  That included cross-validation of every cluster.  That test is very slow and not included here"
   ]
  },
  {
   "cell_type": "code",
   "execution_count": 9,
   "metadata": {},
   "outputs": [],
   "source": [
    "# Import needed libraries\n",
    "import time\n",
    "import cugraph\n",
    "import cudf\n",
    "import numpy as np\n",
    "from collections import OrderedDict"
   ]
  },
  {
   "cell_type": "code",
   "execution_count": 10,
   "metadata": {},
   "outputs": [],
   "source": [
    "# NetworkX libraries\n",
    "import community\n",
    "import networkx as nx\n",
    "from scipy.io import mmread"
   ]
  },
  {
   "cell_type": "markdown",
   "metadata": {},
   "source": [
    "### Define the test data"
   ]
  },
  {
   "cell_type": "code",
   "execution_count": 11,
   "metadata": {},
   "outputs": [],
   "source": [
    "# Test File\n",
    "data = {\n",
    "    'preferentialAttachment' : './data/preferentialAttachment.mtx',\n",
    "    'caidaRouterLevel'       : './data/caidaRouterLevel.mtx',\n",
    "    'coAuthorsDBLP'          : './data/coAuthorsDBLP.mtx',\n",
    "    'dblp'                   : './data/dblp-2010.mtx',\n",
    "    'citationCiteseer'       : './data/citationCiteseer.mtx',\n",
    "    'coPapersDBLP'           : './data/coPapersDBLP.mtx',\n",
    "    'coPapersCiteseer'       : './data/coPapersCiteseer.mtx',\n",
    "    'as-Skitter'             : './data/as-Skitter.mtx'\n",
    "}"
   ]
  },
  {
   "cell_type": "markdown",
   "metadata": {},
   "source": [
    "### Define the testing functions"
   ]
  },
  {
   "cell_type": "code",
   "execution_count": 12,
   "metadata": {},
   "outputs": [],
   "source": [
    "def read_mtx_file(mm_file):\n",
    "    print('Reading ' + str(mm_file) + '...')\n",
    "    d = mmread(mm_file).asfptype()\n",
    "    M = d.tocsr()\n",
    "    \n",
    "    if M is None:\n",
    "        raise TypeError('Could not read the input graph')\n",
    "    if M.shape[0] != M.shape[1]:\n",
    "        raise TypeError('Shape is not square')\n",
    "        \n",
    "    return M"
   ]
  },
  {
   "cell_type": "code",
   "execution_count": 13,
   "metadata": {},
   "outputs": [],
   "source": [
    "def cugraph_call(M):\n",
    "\n",
    "    # data\n",
    "    row_offsets = cudf.Series(M.indptr)\n",
    "    col_indices = cudf.Series(M.indices)\n",
    "    \n",
    "    # create graph \n",
    "    G = cugraph.Graph()\n",
    "    G.add_adj_list(row_offsets, col_indices, values)\n",
    "\n",
    "    # cugraph Louvain Call\n",
    "    print('  cuGraph Solving... ')\n",
    "    t1 = time.time()\n",
    "    df, mod = cugraph.nvLouvain(G)    \n",
    "    t2 = time.time() - t1\n",
    "    return t2, mod\n",
    "\n"
   ]
  },
  {
   "cell_type": "code",
   "execution_count": 14,
   "metadata": {},
   "outputs": [],
   "source": [
    "def networkx_call(M):\n",
    "   \n",
    "    # Directed NetworkX graph\n",
    "    Gnx = nx.Graph(M)\n",
    "\n",
    "    # Networkx \n",
    "    print('  NetworkX Solving... ')\n",
    "    t1 = time.time()\n",
    "    parts = community.best_partition(Gnx)\n",
    "    t2 = time.time() - t1\n",
    "    \n",
    "    # Calculating modularity scores for comparison \n",
    "    mod = community.modularity(parts, Gnx)    \n",
    "    \n",
    "    return t2, mod"
   ]
  },
  {
   "cell_type": "markdown",
   "metadata": {},
   "source": [
    "### Run the benchmarks"
   ]
  },
  {
   "cell_type": "code",
   "execution_count": 7,
   "metadata": {
    "scrolled": true
   },
   "outputs": [
    {
     "name": "stdout",
     "output_type": "stream",
     "text": [
      "Reading ./data/preferentialAttachment.mtx...\n",
      "  cuGraph Solving... \n",
      "  NetworkX Solving... \n",
      "8054.308719196283x fatser =>  cugraph 0.2728421688079834 vs 2197.555059194565\n",
      "Reading ./data/caidaRouterLevel.mtx...\n",
      "  cuGraph Solving... \n",
      "  NetworkX Solving... \n",
      "3660.6224597205246x fatser =>  cugraph 0.0872032642364502 vs 319.2182276248932\n",
      "Reading ./data/coAuthorsDBLP.mtx...\n",
      "  cuGraph Solving... \n",
      "  NetworkX Solving... \n",
      "8346.25085628359x fatser =>  cugraph 0.08561849594116211 vs 714.5934450626373\n",
      "Reading ./data/dblp-2010.mtx...\n",
      "  cuGraph Solving... \n",
      "  NetworkX Solving... \n",
      "6430.3236751743425x fatser =>  cugraph 0.09429121017456055 vs 606.3230011463165\n",
      "Reading ./data/citationCiteseer.mtx...\n",
      "  cuGraph Solving... \n",
      "  NetworkX Solving... \n",
      "8106.781294718824x fatser =>  cugraph 0.09513401985168457 vs 771.2306926250458\n",
      "Reading ./data/coPapersDBLP.mtx...\n",
      "  cuGraph Solving... \n",
      "  NetworkX Solving... \n",
      "10592.845769343247x fatser =>  cugraph 0.18506693840026855 vs 1960.385535478592\n",
      "Reading ./data/coPapersCiteseer.mtx...\n",
      "  cuGraph Solving... \n",
      "  NetworkX Solving... \n",
      "8069.726412294492x fatser =>  cugraph 0.16227483749389648 vs 1309.513542175293\n",
      "Reading ./data/as-Skitter.mtx...\n",
      "  cuGraph Solving... \n",
      "  NetworkX Solving... \n",
      "13374.832520118602x fatser =>  cugraph 0.25707030296325684 vs 3438.272248029709\n"
     ]
    }
   ],
   "source": [
    "perf  = []\n",
    "names = []\n",
    "\n",
    "for k,v in data.items():\n",
    "    M = read_mtx_file(v)\n",
    "    tr, modc = cugraph_call(M)\n",
    "    tn, modx = networkx_call(M)\n",
    "    \n",
    "    speedUp = (tn / tr)\n",
    "    names.append(k)\n",
    "    perf.append(speedUp)\n",
    "    \n",
    "    mod_delta = (0.85 * modx)\n",
    "    \n",
    "    print(str(speedUp) + \"x fatser =>  cugraph \" + str(tr) + \" vs \" + str(tn))\n",
    "    print(\"Modularity =>  cugraph \" + str(modc) + \" should be greater than \" + str(mod_delta))"
   ]
  },
  {
   "cell_type": "markdown",
   "metadata": {},
   "source": [
    "### plot the output"
   ]
  },
  {
   "cell_type": "code",
   "execution_count": 8,
   "metadata": {},
   "outputs": [
    {
     "data": {
      "image/png": "[encoded data removed]",
      "text/plain": [
       "<Figure size 640x480 with 1 Axes>"
      ]
     },
     "metadata": {},
     "output_type": "display_data"
    }
   ],
   "source": [
    "%matplotlib inline\n",
    "\n",
    "import matplotlib.pyplot as plt; plt.rcdefaults()\n",
    "import numpy as np\n",
    "import matplotlib.pyplot as plt\n",
    " \n",
    "y_pos = np.arange(len(names))\n",
    " \n",
    "plt.bar(y_pos, perf, align='center', alpha=0.5)\n",
    "plt.xticks(y_pos, names)\n",
    "plt.ylabel('Speed Up')\n",
    "plt.title('Performance Speedup: cuGraph vs NetworkX')\n",
    "plt.xticks(rotation=90) \n",
    "plt.show()"
   ]
  },
  {
   "cell_type": "code",
   "execution_count": null,
   "metadata": {},
   "outputs": [],
   "source": []
  },
  {
   "cell_type": "code",
   "execution_count": null,
   "metadata": {},
   "outputs": [],
   "source": []
  }
 ],
 "metadata": {
  "kernelspec": {
   "display_name": "Python 3",
   "language": "python",
   "name": "python3"
  },
  "language_info": {
   "codemirror_mode": {
    "name": "ipython",
    "version": 3
   },
   "file_extension": ".py",
   "mimetype": "text/x-python",
   "name": "python",
   "nbconvert_exporter": "python",
   "pygments_lexer": "ipython3",
   "version": "3.7.1"
  }
 },
 "nbformat": 4,
 "nbformat_minor": 2
}
