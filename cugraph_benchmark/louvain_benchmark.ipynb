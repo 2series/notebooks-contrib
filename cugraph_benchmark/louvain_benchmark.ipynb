{
 "cells": [
  {
   "cell_type": "markdown",
   "metadata": {},
   "source": [
    "# Louvain Performance Benchmarking\n"
   ]
  },
  {
   "cell_type": "code",
   "execution_count": null,
   "metadata": {},
   "outputs": [],
   "source": [
    "# Import needed libraries\n",
    "import time\n",
    "import cugraph\n",
    "import cudf\n",
    "import numpy as np\n",
    "from collections import OrderedDict"
   ]
  },
  {
   "cell_type": "code",
   "execution_count": null,
   "metadata": {},
   "outputs": [],
   "source": [
    "# NetworkX libraries\n",
    "import community\n",
    "import networkx as nx\n",
    "from scipy.io import mmread"
   ]
  },
  {
   "cell_type": "code",
   "execution_count": null,
   "metadata": {},
   "outputs": [],
   "source": []
  },
  {
   "cell_type": "code",
   "execution_count": null,
   "metadata": {},
   "outputs": [],
   "source": [
    "# Test File\n",
    "data = {\n",
    "    'preferentialAttachment' : './data/preferentialAttachment.mtx',\n",
    "    'caidaRouterLevel'       : './data/caidaRouterLevel.mtx',\n",
    "    'coAuthorsDBLP'          : './data/coAuthorsDBLP.mtx',\n",
    "    'dblp'                   : './data/dblp-2010.mtx',\n",
    "    'citationCiteseer'       : './data/citationCiteseer.mtx',\n",
    "    'coPapersDBLP'           : './data/coPapersDBLP.mtx',\n",
    "    'coPapersCiteseer'       : './data/coPapersCiteseer.mtx',\n",
    "    'as-Skitter'             : './data/as-Skitter.mtx'\n",
    "}"
   ]
  },
  {
   "cell_type": "code",
   "execution_count": null,
   "metadata": {},
   "outputs": [],
   "source": []
  },
  {
   "cell_type": "code",
   "execution_count": null,
   "metadata": {},
   "outputs": [],
   "source": [
    "def read_mtx_file(mm_file):\n",
    "    print('Reading ' + str(mm_file) + '...')\n",
    "    return mmread(mm_file).asfptype()"
   ]
  },
  {
   "cell_type": "code",
   "execution_count": null,
   "metadata": {},
   "outputs": [],
   "source": [
    "def cugraph_call(M, edgevals=False):\n",
    "    M = M.tocsr()\n",
    "    if M is None:\n",
    "        raise TypeError('Could not read the input graph')\n",
    "    if M.shape[0] != M.shape[1]:\n",
    "        raise TypeError('Shape is not square')\n",
    "\n",
    "    # Device data\n",
    "    row_offsets = cudf.Series(M.indptr)\n",
    "    col_indices = cudf.Series(M.indices)\n",
    "    \n",
    "    if edgevals is False:\n",
    "        values = None\n",
    "    else:\n",
    "        values = cudf.Series(M.data)\n",
    "\n",
    "    G = cugraph.Graph()\n",
    "    G.add_adj_list(row_offsets, col_indices, values)\n",
    "\n",
    "    # cugraph Louvain Call\n",
    "    print('  cuGraph Solving... ')\n",
    "    t1 = time.time()\n",
    "    df = cugraph.nvLouvain(G)\n",
    "    t2 = time.time() - t1\n",
    "    return t2\n",
    "\n"
   ]
  },
  {
   "cell_type": "code",
   "execution_count": null,
   "metadata": {},
   "outputs": [],
   "source": [
    "def networkx_call(M):\n",
    "    M = M.tocsr()\n",
    "    \n",
    "    # Directed NetworkX graph\n",
    "    Gnx = nx.Graph(M)\n",
    "    # z = {k: 1.0/M.shape[0] for k in range(M.shape[0])}\n",
    "\n",
    "    # Networkx \n",
    "    print('  NetworkX Solving... ')\n",
    "    t1 = time.time()\n",
    "    parts = community.best_partition(Gnx)\n",
    "    t2 = time.time() - t1\n",
    "    return t2"
   ]
  },
  {
   "cell_type": "code",
   "execution_count": null,
   "metadata": {},
   "outputs": [],
   "source": []
  },
  {
   "cell_type": "code",
   "execution_count": null,
   "metadata": {},
   "outputs": [],
   "source": [
    "perf  = []\n",
    "names = []\n",
    "\n",
    "for k,v in data.items():\n",
    "    M = read_mtx_file(v)\n",
    "    tr = cugraph_call(M)\n",
    "    tn = networkx_call(M)\n",
    "    speedUp = (tn / tr)\n",
    "    names.append(k)\n",
    "    perf.append(speedUp)\n",
    "    \n",
    "    print(str(speedUp) + \"x fatser =>  cugraph \" + str(tr) + \" vs \" + str(tn))"
   ]
  },
  {
   "cell_type": "code",
   "execution_count": null,
   "metadata": {},
   "outputs": [],
   "source": [
    "%matplotlib inline\n",
    "\n",
    "import matplotlib.pyplot as plt; plt.rcdefaults()\n",
    "import numpy as np\n",
    "import matplotlib.pyplot as plt\n",
    " \n",
    "y_pos = np.arange(len(names))\n",
    " \n",
    "plt.bar(y_pos, perf, align='center', alpha=0.5)\n",
    "plt.xticks(y_pos, names)\n",
    "plt.ylabel('Speed Up')\n",
    "plt.title('Performance Sppedup: cuGraph vs NetworkX')\n",
    "plt.xticks(rotation=90) \n",
    "plt.show()"
   ]
  },
  {
   "cell_type": "code",
   "execution_count": null,
   "metadata": {},
   "outputs": [],
   "source": []
  }
 ],
 "metadata": {
  "kernelspec": {
   "display_name": "Python 3",
   "language": "python",
   "name": "python3"
  },
  "language_info": {
   "codemirror_mode": {
    "name": "ipython",
    "version": 3
   },
   "file_extension": ".py",
   "mimetype": "text/x-python",
   "name": "python",
   "nbconvert_exporter": "python",
   "pygments_lexer": "ipython3",
   "version": "3.7.1"
  }
 },
 "nbformat": 4,
 "nbformat_minor": 2
}
