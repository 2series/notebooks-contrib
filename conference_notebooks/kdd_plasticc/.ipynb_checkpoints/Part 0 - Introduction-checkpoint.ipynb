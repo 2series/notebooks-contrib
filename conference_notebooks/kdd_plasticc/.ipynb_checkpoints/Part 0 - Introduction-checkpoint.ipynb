{
 "cells": [
  {
   "cell_type": "markdown",
   "metadata": {},
   "source": [
    "# PLAsTiCC Astronomical Classification Tutorial\n",
    "\n",
    "The Large Synoptic Survey Telescope (LSST) is increasing our ability to discover 10 to 100 times more astronomical sources in the\n",
    "night sky than can be seen with our eyes.\n",
    "\n",
    "The Photometric LSST Astronomical Time-Series Classification Challenge (PLAsTiCC) asked Kagglers to classify the data in an LSST survey of data.\n",
    "\n",
    "This tutorial will explore a solution to the challenge, which uses the RAPIDS open-source ecosystem of data science tools for GPU-accelerated ETL and model training. "
   ]
  },
  {
   "cell_type": "markdown",
   "metadata": {},
   "source": [
    "<img src=\"https://devblogs.nvidia.com/wp-content/uploads/2019/02/1tv0fuN-usAsQLJzTj1zSLQ.png\" width=700/>"
   ]
  },
  {
   "cell_type": "markdown",
   "metadata": {},
   "source": [
    "### This tutorial is broken down into five parts:\n",
    "\n",
    "- **Part 1:** Data analysis and feature engineering using cuDF \n",
    "- **Part 2:** Uses features from Part 1 to train XGBoost, MLP & Stack models\n",
    "- **Part 3:** Uses predictions from Part 2 to train an RNN and etract bottleneck features\n",
    "- **Part 4:** Uses features from part 3 to train new XGBoost, MLP, & Stack models"
   ]
  },
  {
   "cell_type": "code",
   "execution_count": null,
   "metadata": {},
   "outputs": [],
   "source": []
  }
 ],
 "metadata": {
  "kernelspec": {
   "display_name": "Python (cuml4)",
   "language": "python",
   "name": "python3"
  },
  "language_info": {
   "codemirror_mode": {
    "name": "ipython",
    "version": 3
   },
   "file_extension": ".py",
   "mimetype": "text/x-python",
   "name": "python",
   "nbconvert_exporter": "python",
   "pygments_lexer": "ipython3",
   "version": "3.7.3"
  }
 },
 "nbformat": 4,
 "nbformat_minor": 2
}
