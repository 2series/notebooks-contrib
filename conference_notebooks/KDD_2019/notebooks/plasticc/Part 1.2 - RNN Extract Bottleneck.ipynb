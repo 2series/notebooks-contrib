{
 "cells": [
  {
   "cell_type": "markdown",
   "metadata": {},
   "source": [
    "# Part 1.2 - Extract Predictions for RNN \n",
    "In this notebook, we will load a pre-trained RNN model and run both our train and test samples through it, extracting the bottleneck features (the outputs of the layer just before the fully-connected / classification layer(s)). \n",
    "\n",
    "These features will be used to represent the embedded timeseries features for each sample. They will be concatenated with other features to train our final XGBoost classification model. "
   ]
  },
  {
   "cell_type": "code",
   "execution_count": 1,
   "metadata": {},
   "outputs": [
    {
     "name": "stdout",
     "output_type": "stream",
     "text": [
      "1.13.1\n"
     ]
    }
   ],
   "source": [
    "import warnings\n",
    "warnings.filterwarnings(\"ignore\")\n",
    "import math\n",
    "import pandas as pd\n",
    "import numpy as np\n",
    "import time\n",
    "import tensorflow as tf\n",
    "from rnn import PlasticcRNN\n",
    "import matplotlib.pyplot as plt\n",
    "%matplotlib inline\n",
    "\n",
    "print(tf.__version__)"
   ]
  },
  {
   "cell_type": "markdown",
   "metadata": {},
   "source": [
    "### Load Train & Test Data"
   ]
  },
  {
   "cell_type": "code",
   "execution_count": 2,
   "metadata": {},
   "outputs": [],
   "source": [
    "train = pd.read_pickle('train_rnn.pkl')\n",
    "test = pd.read_pickle('test_rnn.pkl')"
   ]
  },
  {
   "cell_type": "markdown",
   "metadata": {},
   "source": [
    "### Load pre-trained RNN model\n",
    "\n",
    "Set relevant parameters and load the model. You can find the code for this model in `rnn.py` if you'd like to look further into the RNN implementation."
   ]
  },
  {
   "cell_type": "code",
   "execution_count": 3,
   "metadata": {},
   "outputs": [],
   "source": [
    "model = PlasticcRNN('weight/rnn.npy')"
   ]
  },
  {
   "cell_type": "markdown",
   "metadata": {},
   "source": [
    "Call `predict_bottleneck` to feed each training example through the pre-trained RNN model and extract the outputs from the layer just before the final classification layer ."
   ]
  },
  {
   "cell_type": "code",
   "execution_count": 4,
   "metadata": {},
   "outputs": [
    {
     "name": "stdout",
     "output_type": "stream",
     "text": [
      "WARNING:tensorflow:From /raid/cjnolet/rapids_env/lib/python3.7/site-packages/tensorflow/python/framework/op_def_library.py:263: colocate_with (from tensorflow.python.framework.ops) is deprecated and will be removed in a future version.\n",
      "Instructions for updating:\n",
      "Colocations handled automatically by placer.\n",
      "\n",
      "WARNING: The TensorFlow contrib module will not be included in TensorFlow 2.0.\n",
      "For more information, please see:\n",
      "  * https://github.com/tensorflow/community/blob/master/rfcs/20180907-contrib-sunset.md\n",
      "  * https://github.com/tensorflow/addons\n",
      "If you depend on functionality not listed there, please file an issue.\n",
      "\n",
      "WARNING:tensorflow:From /raid/cjnolet/workspace/notebooks-extended/conference_notebooks/KDD_2019/notebooks/plasticc/rnn.py:240: GRUCell.__init__ (from tensorflow.python.ops.rnn_cell_impl) is deprecated and will be removed in a future version.\n",
      "Instructions for updating:\n",
      "This class is equivalent as tf.keras.layers.GRUCell, and will be replaced by that in Tensorflow 2.0.\n",
      "WARNING:tensorflow:From /raid/cjnolet/workspace/notebooks-extended/conference_notebooks/KDD_2019/notebooks/plasticc/rnn.py:232: bidirectional_dynamic_rnn (from tensorflow.python.ops.rnn) is deprecated and will be removed in a future version.\n",
      "Instructions for updating:\n",
      "Please use `keras.layers.Bidirectional(keras.layers.RNN(cell))`, which is equivalent to this API\n",
      "WARNING:tensorflow:From /raid/cjnolet/rapids_env/lib/python3.7/site-packages/tensorflow/python/ops/rnn.py:443: dynamic_rnn (from tensorflow.python.ops.rnn) is deprecated and will be removed in a future version.\n",
      "Instructions for updating:\n",
      "Please use `keras.layers.RNN(cell)`, which is equivalent to this API\n",
      "restore RNN/rnn3/bidirectional_rnn/fw/gru_cell/gates/kernel:0\n",
      "restore RNN/rnn3/bidirectional_rnn/fw/gru_cell/gates/bias:0\n",
      "restore RNN/rnn3/bidirectional_rnn/fw/gru_cell/candidate/kernel:0\n",
      "restore RNN/rnn3/bidirectional_rnn/fw/gru_cell/candidate/bias:0\n",
      "restore RNN/rnn3/bidirectional_rnn/bw/gru_cell/gates/kernel:0\n",
      "restore RNN/rnn3/bidirectional_rnn/bw/gru_cell/gates/bias:0\n",
      "restore RNN/rnn3/bidirectional_rnn/bw/gru_cell/candidate/kernel:0\n",
      "restore RNN/rnn3/bidirectional_rnn/bw/gru_cell/candidate/bias:0\n",
      "restore RNN/rnn5/bidirectional_rnn/fw/output_projection_wrapper/gru_cell/gates/kernel:0\n",
      "restore RNN/rnn5/bidirectional_rnn/fw/output_projection_wrapper/gru_cell/gates/bias:0\n",
      "restore RNN/rnn5/bidirectional_rnn/fw/output_projection_wrapper/gru_cell/candidate/kernel:0\n",
      "restore RNN/rnn5/bidirectional_rnn/fw/output_projection_wrapper/gru_cell/candidate/bias:0\n",
      "restore RNN/rnn5/bidirectional_rnn/fw/output_projection_wrapper/kernel:0\n",
      "restore RNN/rnn5/bidirectional_rnn/fw/output_projection_wrapper/bias:0\n",
      "restore RNN/rnn5/bidirectional_rnn/bw/output_projection_wrapper/gru_cell/gates/kernel:0\n",
      "restore RNN/rnn5/bidirectional_rnn/bw/output_projection_wrapper/gru_cell/gates/bias:0\n",
      "restore RNN/rnn5/bidirectional_rnn/bw/output_projection_wrapper/gru_cell/candidate/kernel:0\n",
      "restore RNN/rnn5/bidirectional_rnn/bw/output_projection_wrapper/gru_cell/candidate/bias:0\n",
      "restore RNN/rnn5/bidirectional_rnn/bw/output_projection_wrapper/kernel:0\n",
      "restore RNN/rnn5/bidirectional_rnn/bw/output_projection_wrapper/bias:0\n",
      "restore RNN/rnn4/bidirectional_rnn/fw/gru_cell/gates/kernel:0\n",
      "restore RNN/rnn4/bidirectional_rnn/fw/gru_cell/gates/bias:0\n",
      "restore RNN/rnn4/bidirectional_rnn/fw/gru_cell/candidate/kernel:0\n",
      "restore RNN/rnn4/bidirectional_rnn/fw/gru_cell/candidate/bias:0\n"
     ]
    },
    {
     "name": "stderr",
     "output_type": "stream",
     "text": [
      "  0%|          | 0/3 [00:00<?, ?it/s]"
     ]
    },
    {
     "name": "stdout",
     "output_type": "stream",
     "text": [
      "restore RNN/rnn4/bidirectional_rnn/bw/gru_cell/gates/kernel:0\n",
      "restore RNN/rnn4/bidirectional_rnn/bw/gru_cell/gates/bias:0\n",
      "restore RNN/rnn4/bidirectional_rnn/bw/gru_cell/candidate/kernel:0\n",
      "restore RNN/rnn4/bidirectional_rnn/bw/gru_cell/candidate/bias:0\n"
     ]
    },
    {
     "name": "stderr",
     "output_type": "stream",
     "text": [
      "4it [00:03,  1.00it/s]                       \n"
     ]
    }
   ],
   "source": [
    "train_bn = model.predict_bottleneck(train)"
   ]
  },
  {
   "cell_type": "markdown",
   "metadata": {},
   "source": [
    "Call `predict_bottleneck` to do the same with the testing data. This can take a little time, so it might be worthwhile to move onto the next nextbook and return to this once it's complete. "
   ]
  },
  {
   "cell_type": "code",
   "execution_count": 5,
   "metadata": {},
   "outputs": [
    {
     "name": "stdout",
     "output_type": "stream",
     "text": [
      "restore RNN/rnn3/bidirectional_rnn/fw/gru_cell/gates/kernel:0\n",
      "restore RNN/rnn3/bidirectional_rnn/fw/gru_cell/gates/bias:0\n",
      "restore RNN/rnn3/bidirectional_rnn/fw/gru_cell/candidate/kernel:0\n",
      "restore RNN/rnn3/bidirectional_rnn/fw/gru_cell/candidate/bias:0\n",
      "restore RNN/rnn3/bidirectional_rnn/bw/gru_cell/gates/kernel:0\n",
      "restore RNN/rnn3/bidirectional_rnn/bw/gru_cell/gates/bias:0\n",
      "restore RNN/rnn3/bidirectional_rnn/bw/gru_cell/candidate/kernel:0\n",
      "restore RNN/rnn3/bidirectional_rnn/bw/gru_cell/candidate/bias:0\n",
      "restore RNN/rnn5/bidirectional_rnn/fw/output_projection_wrapper/gru_cell/gates/kernel:0\n",
      "restore RNN/rnn5/bidirectional_rnn/fw/output_projection_wrapper/gru_cell/gates/bias:0\n",
      "restore RNN/rnn5/bidirectional_rnn/fw/output_projection_wrapper/gru_cell/candidate/kernel:0\n",
      "restore RNN/rnn5/bidirectional_rnn/fw/output_projection_wrapper/gru_cell/candidate/bias:0\n",
      "restore RNN/rnn5/bidirectional_rnn/fw/output_projection_wrapper/kernel:0\n",
      "restore RNN/rnn5/bidirectional_rnn/fw/output_projection_wrapper/bias:0\n",
      "restore RNN/rnn5/bidirectional_rnn/bw/output_projection_wrapper/gru_cell/gates/kernel:0\n",
      "restore RNN/rnn5/bidirectional_rnn/bw/output_projection_wrapper/gru_cell/gates/bias:0\n",
      "restore RNN/rnn5/bidirectional_rnn/bw/output_projection_wrapper/gru_cell/candidate/kernel:0\n",
      "restore RNN/rnn5/bidirectional_rnn/bw/output_projection_wrapper/gru_cell/candidate/bias:0\n",
      "restore RNN/rnn5/bidirectional_rnn/bw/output_projection_wrapper/kernel:0\n",
      "restore RNN/rnn5/bidirectional_rnn/bw/output_projection_wrapper/bias:0\n",
      "restore RNN/rnn4/bidirectional_rnn/fw/gru_cell/gates/kernel:0\n",
      "restore RNN/rnn4/bidirectional_rnn/fw/gru_cell/gates/bias:0\n",
      "restore RNN/rnn4/bidirectional_rnn/fw/gru_cell/candidate/kernel:0\n",
      "restore RNN/rnn4/bidirectional_rnn/fw/gru_cell/candidate/bias:0\n",
      "restore RNN/rnn4/bidirectional_rnn/bw/gru_cell/gates/kernel:0\n",
      "restore RNN/rnn4/bidirectional_rnn/bw/gru_cell/gates/bias:0\n",
      "restore RNN/rnn4/bidirectional_rnn/bw/gru_cell/candidate/kernel:0\n",
      "restore RNN/rnn4/bidirectional_rnn/bw/gru_cell/candidate/bias:0\n"
     ]
    },
    {
     "name": "stderr",
     "output_type": "stream",
     "text": [
      "722it [07:46,  2.11it/s]                         \n"
     ]
    }
   ],
   "source": [
    "test_bn = model.predict_bottleneck(test)"
   ]
  },
  {
   "cell_type": "markdown",
   "metadata": {},
   "source": [
    "Let's verify that we have embedded each of our timeseries into 16-dimensional space. "
   ]
  },
  {
   "cell_type": "code",
   "execution_count": 6,
   "metadata": {},
   "outputs": [
    {
     "name": "stdout",
     "output_type": "stream",
     "text": [
      "(7848, 16)\n",
      "(1477022, 16)\n"
     ]
    }
   ],
   "source": [
    "print(train_bn.shape)\n",
    "print(test_bn.shape)"
   ]
  },
  {
   "cell_type": "markdown",
   "metadata": {},
   "source": [
    "### Convert Bottleneck Features to DataFrames"
   ]
  },
  {
   "cell_type": "code",
   "execution_count": 7,
   "metadata": {},
   "outputs": [],
   "source": [
    "train_bn = pd.DataFrame(train_bn,columns=['bottleneck%d'%i for i in range(train_bn.shape[1])])\n",
    "train_bn['object_id'] = train.object_id.unique()"
   ]
  },
  {
   "cell_type": "code",
   "execution_count": 8,
   "metadata": {},
   "outputs": [
    {
     "data": {
      "text/html": [
       "<div>\n",
       "<style scoped>\n",
       "    .dataframe tbody tr th:only-of-type {\n",
       "        vertical-align: middle;\n",
       "    }\n",
       "\n",
       "    .dataframe tbody tr th {\n",
       "        vertical-align: top;\n",
       "    }\n",
       "\n",
       "    .dataframe thead th {\n",
       "        text-align: right;\n",
       "    }\n",
       "</style>\n",
       "<table border=\"1\" class=\"dataframe\">\n",
       "  <thead>\n",
       "    <tr style=\"text-align: right;\">\n",
       "      <th></th>\n",
       "      <th>bottleneck0</th>\n",
       "      <th>bottleneck1</th>\n",
       "      <th>bottleneck2</th>\n",
       "      <th>bottleneck3</th>\n",
       "      <th>bottleneck4</th>\n",
       "      <th>bottleneck5</th>\n",
       "      <th>bottleneck6</th>\n",
       "      <th>bottleneck7</th>\n",
       "      <th>bottleneck8</th>\n",
       "      <th>bottleneck9</th>\n",
       "      <th>bottleneck10</th>\n",
       "      <th>bottleneck11</th>\n",
       "      <th>bottleneck12</th>\n",
       "      <th>bottleneck13</th>\n",
       "      <th>bottleneck14</th>\n",
       "      <th>bottleneck15</th>\n",
       "      <th>object_id</th>\n",
       "    </tr>\n",
       "  </thead>\n",
       "  <tbody>\n",
       "    <tr>\n",
       "      <th>0</th>\n",
       "      <td>39.626457</td>\n",
       "      <td>0.497825</td>\n",
       "      <td>9.503530</td>\n",
       "      <td>0.612190</td>\n",
       "      <td>0.370296</td>\n",
       "      <td>36.647839</td>\n",
       "      <td>0.001450</td>\n",
       "      <td>0.050136</td>\n",
       "      <td>0.076503</td>\n",
       "      <td>7.458235</td>\n",
       "      <td>0.147237</td>\n",
       "      <td>0.000974</td>\n",
       "      <td>0.472516</td>\n",
       "      <td>56.940910</td>\n",
       "      <td>0.144692</td>\n",
       "      <td>20.955284</td>\n",
       "      <td>615</td>\n",
       "    </tr>\n",
       "    <tr>\n",
       "      <th>1</th>\n",
       "      <td>2.315192</td>\n",
       "      <td>6.362340</td>\n",
       "      <td>8.646493</td>\n",
       "      <td>0.750931</td>\n",
       "      <td>2.506892</td>\n",
       "      <td>8.227393</td>\n",
       "      <td>7.570269</td>\n",
       "      <td>9.884037</td>\n",
       "      <td>3.889832</td>\n",
       "      <td>1.148435</td>\n",
       "      <td>2.220537</td>\n",
       "      <td>0.156296</td>\n",
       "      <td>5.254804</td>\n",
       "      <td>1.756874</td>\n",
       "      <td>3.062057</td>\n",
       "      <td>19.185877</td>\n",
       "      <td>713</td>\n",
       "    </tr>\n",
       "    <tr>\n",
       "      <th>2</th>\n",
       "      <td>2.349471</td>\n",
       "      <td>29.854164</td>\n",
       "      <td>0.534167</td>\n",
       "      <td>1.965333</td>\n",
       "      <td>7.866547</td>\n",
       "      <td>0.414091</td>\n",
       "      <td>21.975964</td>\n",
       "      <td>3.617615</td>\n",
       "      <td>3.761395</td>\n",
       "      <td>2.100560</td>\n",
       "      <td>0.536902</td>\n",
       "      <td>11.514246</td>\n",
       "      <td>3.766770</td>\n",
       "      <td>0.182644</td>\n",
       "      <td>9.025029</td>\n",
       "      <td>3.807947</td>\n",
       "      <td>730</td>\n",
       "    </tr>\n",
       "    <tr>\n",
       "      <th>3</th>\n",
       "      <td>14.263150</td>\n",
       "      <td>32.955151</td>\n",
       "      <td>3.364045</td>\n",
       "      <td>11.658510</td>\n",
       "      <td>2.128215</td>\n",
       "      <td>0.905252</td>\n",
       "      <td>25.994488</td>\n",
       "      <td>2.800233</td>\n",
       "      <td>9.684278</td>\n",
       "      <td>8.299098</td>\n",
       "      <td>0.385034</td>\n",
       "      <td>8.098384</td>\n",
       "      <td>4.981500</td>\n",
       "      <td>0.281322</td>\n",
       "      <td>15.864852</td>\n",
       "      <td>2.367192</td>\n",
       "      <td>745</td>\n",
       "    </tr>\n",
       "    <tr>\n",
       "      <th>4</th>\n",
       "      <td>9.047191</td>\n",
       "      <td>27.102867</td>\n",
       "      <td>8.031672</td>\n",
       "      <td>6.901597</td>\n",
       "      <td>2.862491</td>\n",
       "      <td>1.167179</td>\n",
       "      <td>23.666925</td>\n",
       "      <td>1.425559</td>\n",
       "      <td>7.036583</td>\n",
       "      <td>7.211462</td>\n",
       "      <td>0.203276</td>\n",
       "      <td>9.391024</td>\n",
       "      <td>2.969179</td>\n",
       "      <td>0.419447</td>\n",
       "      <td>8.057733</td>\n",
       "      <td>1.478815</td>\n",
       "      <td>1124</td>\n",
       "    </tr>\n",
       "  </tbody>\n",
       "</table>\n",
       "</div>"
      ],
      "text/plain": [
       "   bottleneck0  bottleneck1  bottleneck2  bottleneck3  bottleneck4  \\\n",
       "0    39.626457     0.497825     9.503530     0.612190     0.370296   \n",
       "1     2.315192     6.362340     8.646493     0.750931     2.506892   \n",
       "2     2.349471    29.854164     0.534167     1.965333     7.866547   \n",
       "3    14.263150    32.955151     3.364045    11.658510     2.128215   \n",
       "4     9.047191    27.102867     8.031672     6.901597     2.862491   \n",
       "\n",
       "   bottleneck5  bottleneck6  bottleneck7  bottleneck8  bottleneck9  \\\n",
       "0    36.647839     0.001450     0.050136     0.076503     7.458235   \n",
       "1     8.227393     7.570269     9.884037     3.889832     1.148435   \n",
       "2     0.414091    21.975964     3.617615     3.761395     2.100560   \n",
       "3     0.905252    25.994488     2.800233     9.684278     8.299098   \n",
       "4     1.167179    23.666925     1.425559     7.036583     7.211462   \n",
       "\n",
       "   bottleneck10  bottleneck11  bottleneck12  bottleneck13  bottleneck14  \\\n",
       "0      0.147237      0.000974      0.472516     56.940910      0.144692   \n",
       "1      2.220537      0.156296      5.254804      1.756874      3.062057   \n",
       "2      0.536902     11.514246      3.766770      0.182644      9.025029   \n",
       "3      0.385034      8.098384      4.981500      0.281322     15.864852   \n",
       "4      0.203276      9.391024      2.969179      0.419447      8.057733   \n",
       "\n",
       "   bottleneck15  object_id  \n",
       "0     20.955284        615  \n",
       "1     19.185877        713  \n",
       "2      3.807947        730  \n",
       "3      2.367192        745  \n",
       "4      1.478815       1124  "
      ]
     },
     "execution_count": 8,
     "metadata": {},
     "output_type": "execute_result"
    }
   ],
   "source": [
    "train_bn.head()"
   ]
  },
  {
   "cell_type": "code",
   "execution_count": 9,
   "metadata": {},
   "outputs": [],
   "source": [
    "test_bn = pd.DataFrame(test_bn,columns=['bottleneck%d'%i for i in range(test_bn.shape[1])])\n",
    "test_bn['object_id'] = test.object_id.unique()"
   ]
  },
  {
   "cell_type": "code",
   "execution_count": 10,
   "metadata": {},
   "outputs": [
    {
     "data": {
      "text/html": [
       "<div>\n",
       "<style scoped>\n",
       "    .dataframe tbody tr th:only-of-type {\n",
       "        vertical-align: middle;\n",
       "    }\n",
       "\n",
       "    .dataframe tbody tr th {\n",
       "        vertical-align: top;\n",
       "    }\n",
       "\n",
       "    .dataframe thead th {\n",
       "        text-align: right;\n",
       "    }\n",
       "</style>\n",
       "<table border=\"1\" class=\"dataframe\">\n",
       "  <thead>\n",
       "    <tr style=\"text-align: right;\">\n",
       "      <th></th>\n",
       "      <th>bottleneck0</th>\n",
       "      <th>bottleneck1</th>\n",
       "      <th>bottleneck2</th>\n",
       "      <th>bottleneck3</th>\n",
       "      <th>bottleneck4</th>\n",
       "      <th>bottleneck5</th>\n",
       "      <th>bottleneck6</th>\n",
       "      <th>bottleneck7</th>\n",
       "      <th>bottleneck8</th>\n",
       "      <th>bottleneck9</th>\n",
       "      <th>bottleneck10</th>\n",
       "      <th>bottleneck11</th>\n",
       "      <th>bottleneck12</th>\n",
       "      <th>bottleneck13</th>\n",
       "      <th>bottleneck14</th>\n",
       "      <th>bottleneck15</th>\n",
       "      <th>object_id</th>\n",
       "    </tr>\n",
       "  </thead>\n",
       "  <tbody>\n",
       "    <tr>\n",
       "      <th>0</th>\n",
       "      <td>0.951065</td>\n",
       "      <td>0.251945</td>\n",
       "      <td>3.318633</td>\n",
       "      <td>0.000736</td>\n",
       "      <td>2.441339</td>\n",
       "      <td>2.927944</td>\n",
       "      <td>1.147542</td>\n",
       "      <td>4.429283</td>\n",
       "      <td>3.313076</td>\n",
       "      <td>0.003929</td>\n",
       "      <td>1.196651</td>\n",
       "      <td>0.306426</td>\n",
       "      <td>1.503734</td>\n",
       "      <td>0.039145</td>\n",
       "      <td>0.131615</td>\n",
       "      <td>0.641174</td>\n",
       "      <td>49433749</td>\n",
       "    </tr>\n",
       "    <tr>\n",
       "      <th>1</th>\n",
       "      <td>11.885058</td>\n",
       "      <td>2.603644</td>\n",
       "      <td>3.270815</td>\n",
       "      <td>1.826216</td>\n",
       "      <td>1.102672</td>\n",
       "      <td>1.243358</td>\n",
       "      <td>3.490134</td>\n",
       "      <td>7.530881</td>\n",
       "      <td>10.645997</td>\n",
       "      <td>0.500468</td>\n",
       "      <td>6.901350</td>\n",
       "      <td>4.232432</td>\n",
       "      <td>2.833216</td>\n",
       "      <td>0.686619</td>\n",
       "      <td>8.815798</td>\n",
       "      <td>5.550112</td>\n",
       "      <td>49433769</td>\n",
       "    </tr>\n",
       "    <tr>\n",
       "      <th>2</th>\n",
       "      <td>0.660288</td>\n",
       "      <td>8.012924</td>\n",
       "      <td>0.600806</td>\n",
       "      <td>2.113838</td>\n",
       "      <td>3.681345</td>\n",
       "      <td>0.808573</td>\n",
       "      <td>6.829436</td>\n",
       "      <td>2.589654</td>\n",
       "      <td>5.121986</td>\n",
       "      <td>1.699079</td>\n",
       "      <td>4.928893</td>\n",
       "      <td>2.138904</td>\n",
       "      <td>1.987519</td>\n",
       "      <td>0.085826</td>\n",
       "      <td>4.800367</td>\n",
       "      <td>4.929393</td>\n",
       "      <td>49433826</td>\n",
       "    </tr>\n",
       "    <tr>\n",
       "      <th>3</th>\n",
       "      <td>7.590333</td>\n",
       "      <td>5.189585</td>\n",
       "      <td>0.883393</td>\n",
       "      <td>0.451710</td>\n",
       "      <td>1.230645</td>\n",
       "      <td>6.413009</td>\n",
       "      <td>7.873522</td>\n",
       "      <td>6.185088</td>\n",
       "      <td>3.346524</td>\n",
       "      <td>1.267524</td>\n",
       "      <td>5.761439</td>\n",
       "      <td>7.788362</td>\n",
       "      <td>5.899473</td>\n",
       "      <td>0.721337</td>\n",
       "      <td>10.079144</td>\n",
       "      <td>8.565522</td>\n",
       "      <td>49433842</td>\n",
       "    </tr>\n",
       "    <tr>\n",
       "      <th>4</th>\n",
       "      <td>2.929134</td>\n",
       "      <td>8.943206</td>\n",
       "      <td>1.777365</td>\n",
       "      <td>0.801600</td>\n",
       "      <td>0.625757</td>\n",
       "      <td>1.670301</td>\n",
       "      <td>2.025340</td>\n",
       "      <td>1.249137</td>\n",
       "      <td>11.079231</td>\n",
       "      <td>3.141696</td>\n",
       "      <td>1.676079</td>\n",
       "      <td>8.165009</td>\n",
       "      <td>3.502824</td>\n",
       "      <td>4.667575</td>\n",
       "      <td>10.525523</td>\n",
       "      <td>4.981074</td>\n",
       "      <td>49433919</td>\n",
       "    </tr>\n",
       "  </tbody>\n",
       "</table>\n",
       "</div>"
      ],
      "text/plain": [
       "   bottleneck0  bottleneck1  bottleneck2  bottleneck3  bottleneck4  \\\n",
       "0     0.951065     0.251945     3.318633     0.000736     2.441339   \n",
       "1    11.885058     2.603644     3.270815     1.826216     1.102672   \n",
       "2     0.660288     8.012924     0.600806     2.113838     3.681345   \n",
       "3     7.590333     5.189585     0.883393     0.451710     1.230645   \n",
       "4     2.929134     8.943206     1.777365     0.801600     0.625757   \n",
       "\n",
       "   bottleneck5  bottleneck6  bottleneck7  bottleneck8  bottleneck9  \\\n",
       "0     2.927944     1.147542     4.429283     3.313076     0.003929   \n",
       "1     1.243358     3.490134     7.530881    10.645997     0.500468   \n",
       "2     0.808573     6.829436     2.589654     5.121986     1.699079   \n",
       "3     6.413009     7.873522     6.185088     3.346524     1.267524   \n",
       "4     1.670301     2.025340     1.249137    11.079231     3.141696   \n",
       "\n",
       "   bottleneck10  bottleneck11  bottleneck12  bottleneck13  bottleneck14  \\\n",
       "0      1.196651      0.306426      1.503734      0.039145      0.131615   \n",
       "1      6.901350      4.232432      2.833216      0.686619      8.815798   \n",
       "2      4.928893      2.138904      1.987519      0.085826      4.800367   \n",
       "3      5.761439      7.788362      5.899473      0.721337     10.079144   \n",
       "4      1.676079      8.165009      3.502824      4.667575     10.525523   \n",
       "\n",
       "   bottleneck15  object_id  \n",
       "0      0.641174   49433749  \n",
       "1      5.550112   49433769  \n",
       "2      4.929393   49433826  \n",
       "3      8.565522   49433842  \n",
       "4      4.981074   49433919  "
      ]
     },
     "execution_count": 10,
     "metadata": {},
     "output_type": "execute_result"
    }
   ],
   "source": [
    "test_bn.head()"
   ]
  },
  {
   "cell_type": "markdown",
   "metadata": {},
   "source": [
    "### Store Features to Disk"
   ]
  },
  {
   "cell_type": "code",
   "execution_count": 11,
   "metadata": {},
   "outputs": [],
   "source": [
    "train_bn.to_pickle('train_bn.pkl')\n",
    "test_bn.to_pickle('test_bn.pkl')"
   ]
  },
  {
   "cell_type": "code",
   "execution_count": null,
   "metadata": {},
   "outputs": [],
   "source": []
  }
 ],
 "metadata": {
  "kernelspec": {
   "display_name": "Python (rapids_env)",
   "language": "python",
   "name": "python3"
  },
  "language_info": {
   "codemirror_mode": {
    "name": "ipython",
    "version": 3
   },
   "file_extension": ".py",
   "mimetype": "text/x-python",
   "name": "python",
   "nbconvert_exporter": "python",
   "pygments_lexer": "ipython3",
   "version": "3.7.3"
  }
 },
 "nbformat": 4,
 "nbformat_minor": 4
}
