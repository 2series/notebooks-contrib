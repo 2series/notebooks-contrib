{
 "cells": [
  {
   "cell_type": "markdown",
   "metadata": {},
   "source": [
    "# Part 1.2 - Extract Predictions for RNN \n",
    "In this notebook, we will load a pre-trained RNN model and run both our train and test samples through it, extracting the bottleneck features (the outputs of the layer just before the fully-connected / classification layer(s)). \n",
    "\n",
    "These features will be used to represent the embedded timeseries features for each sample. They will be concatenated with other features to train our final XGBoost classification model. "
   ]
  },
  {
   "cell_type": "code",
   "execution_count": 1,
   "metadata": {},
   "outputs": [],
   "source": [
    "import os\n",
    "GPU_id = 0\n",
    "os.environ['CUDA_VISIBLE_DEVICES'] = str(GPU_id)"
   ]
  },
  {
   "cell_type": "code",
   "execution_count": 2,
   "metadata": {},
   "outputs": [
    {
     "name": "stdout",
     "output_type": "stream",
     "text": [
      "1.13.1\n"
     ]
    }
   ],
   "source": [
    "import warnings\n",
    "warnings.filterwarnings(\"ignore\")\n",
    "import math\n",
    "import pandas as pd\n",
    "import numpy as np\n",
    "import time\n",
    "import tensorflow as tf\n",
    "from rnn import PlasticcRNN\n",
    "import matplotlib.pyplot as plt\n",
    "%matplotlib inline\n",
    "\n",
    "print(tf.__version__)"
   ]
  },
  {
   "cell_type": "markdown",
   "metadata": {},
   "source": [
    "### Load Train & Test Data"
   ]
  },
  {
   "cell_type": "code",
   "execution_count": 3,
   "metadata": {},
   "outputs": [],
   "source": [
    "train = pd.read_pickle('train_rnn.pkl')\n",
    "test = pd.read_pickle('test_rnn.pkl')"
   ]
  },
  {
   "cell_type": "markdown",
   "metadata": {},
   "source": [
    "### Load pre-trained RNN model\n",
    "\n",
    "Set relevant parameters and load the model. You can find the code for this model in `rnn.py` if you'd like to look further into the RNN implementation."
   ]
  },
  {
   "cell_type": "code",
   "execution_count": 4,
   "metadata": {},
   "outputs": [],
   "source": [
    "model = PlasticcRNN('weight/rnn.npy')"
   ]
  },
  {
   "cell_type": "markdown",
   "metadata": {},
   "source": [
    "Call `predict_bottleneck` to feed each training example through the pre-trained RNN model and extract the outputs from the layer just before the final classification layer ."
   ]
  },
  {
   "cell_type": "code",
   "execution_count": 5,
   "metadata": {},
   "outputs": [
    {
     "name": "stdout",
     "output_type": "stream",
     "text": [
      "WARNING:tensorflow:From /raid/cjnolet/rapids_env/lib/python3.7/site-packages/tensorflow/python/framework/op_def_library.py:263: colocate_with (from tensorflow.python.framework.ops) is deprecated and will be removed in a future version.\n",
      "Instructions for updating:\n",
      "Colocations handled automatically by placer.\n",
      "\n",
      "WARNING: The TensorFlow contrib module will not be included in TensorFlow 2.0.\n",
      "For more information, please see:\n",
      "  * https://github.com/tensorflow/community/blob/master/rfcs/20180907-contrib-sunset.md\n",
      "  * https://github.com/tensorflow/addons\n",
      "If you depend on functionality not listed there, please file an issue.\n",
      "\n",
      "WARNING:tensorflow:From /raid/cjnolet/workspace/notebooks-extended/conference_notebooks/KDD_2019/notebooks/plasticc/rnn.py:240: GRUCell.__init__ (from tensorflow.python.ops.rnn_cell_impl) is deprecated and will be removed in a future version.\n",
      "Instructions for updating:\n",
      "This class is equivalent as tf.keras.layers.GRUCell, and will be replaced by that in Tensorflow 2.0.\n",
      "WARNING:tensorflow:From /raid/cjnolet/workspace/notebooks-extended/conference_notebooks/KDD_2019/notebooks/plasticc/rnn.py:232: bidirectional_dynamic_rnn (from tensorflow.python.ops.rnn) is deprecated and will be removed in a future version.\n",
      "Instructions for updating:\n",
      "Please use `keras.layers.Bidirectional(keras.layers.RNN(cell))`, which is equivalent to this API\n",
      "WARNING:tensorflow:From /raid/cjnolet/rapids_env/lib/python3.7/site-packages/tensorflow/python/ops/rnn.py:443: dynamic_rnn (from tensorflow.python.ops.rnn) is deprecated and will be removed in a future version.\n",
      "Instructions for updating:\n",
      "Please use `keras.layers.RNN(cell)`, which is equivalent to this API\n",
      "restore RNN/rnn3/bidirectional_rnn/fw/gru_cell/gates/kernel:0\n",
      "restore RNN/rnn3/bidirectional_rnn/fw/gru_cell/gates/bias:0\n",
      "restore RNN/rnn3/bidirectional_rnn/fw/gru_cell/candidate/kernel:0\n",
      "restore RNN/rnn3/bidirectional_rnn/fw/gru_cell/candidate/bias:0\n",
      "restore RNN/rnn3/bidirectional_rnn/bw/gru_cell/gates/kernel:0\n",
      "restore RNN/rnn3/bidirectional_rnn/bw/gru_cell/gates/bias:0\n",
      "restore RNN/rnn3/bidirectional_rnn/bw/gru_cell/candidate/kernel:0\n",
      "restore RNN/rnn3/bidirectional_rnn/bw/gru_cell/candidate/bias:0\n",
      "restore RNN/rnn5/bidirectional_rnn/fw/output_projection_wrapper/gru_cell/gates/kernel:0\n",
      "restore RNN/rnn5/bidirectional_rnn/fw/output_projection_wrapper/gru_cell/gates/bias:0\n",
      "restore RNN/rnn5/bidirectional_rnn/fw/output_projection_wrapper/gru_cell/candidate/kernel:0\n",
      "restore RNN/rnn5/bidirectional_rnn/fw/output_projection_wrapper/gru_cell/candidate/bias:0\n",
      "restore RNN/rnn5/bidirectional_rnn/fw/output_projection_wrapper/kernel:0\n",
      "restore RNN/rnn5/bidirectional_rnn/fw/output_projection_wrapper/bias:0\n",
      "restore RNN/rnn5/bidirectional_rnn/bw/output_projection_wrapper/gru_cell/gates/kernel:0\n",
      "restore RNN/rnn5/bidirectional_rnn/bw/output_projection_wrapper/gru_cell/gates/bias:0\n",
      "restore RNN/rnn5/bidirectional_rnn/bw/output_projection_wrapper/gru_cell/candidate/kernel:0\n",
      "restore RNN/rnn5/bidirectional_rnn/bw/output_projection_wrapper/gru_cell/candidate/bias:0\n",
      "restore RNN/rnn5/bidirectional_rnn/bw/output_projection_wrapper/kernel:0\n",
      "restore RNN/rnn5/bidirectional_rnn/bw/output_projection_wrapper/bias:0\n",
      "restore RNN/rnn4/bidirectional_rnn/fw/gru_cell/gates/kernel:0\n",
      "restore RNN/rnn4/bidirectional_rnn/fw/gru_cell/gates/bias:0\n",
      "restore RNN/rnn4/bidirectional_rnn/fw/gru_cell/candidate/kernel:0\n",
      "restore RNN/rnn4/bidirectional_rnn/fw/gru_cell/candidate/bias:0\n"
     ]
    },
    {
     "name": "stderr",
     "output_type": "stream",
     "text": [
      "  0%|          | 0/3 [00:00<?, ?it/s]"
     ]
    },
    {
     "name": "stdout",
     "output_type": "stream",
     "text": [
      "restore RNN/rnn4/bidirectional_rnn/bw/gru_cell/gates/kernel:0\n",
      "restore RNN/rnn4/bidirectional_rnn/bw/gru_cell/gates/bias:0\n",
      "restore RNN/rnn4/bidirectional_rnn/bw/gru_cell/candidate/kernel:0\n",
      "restore RNN/rnn4/bidirectional_rnn/bw/gru_cell/candidate/bias:0\n"
     ]
    },
    {
     "name": "stderr",
     "output_type": "stream",
     "text": [
      "4it [00:04,  1.15s/it]                       \n"
     ]
    }
   ],
   "source": [
    "train_bn = model.predict_bottleneck(train)"
   ]
  },
  {
   "cell_type": "markdown",
   "metadata": {},
   "source": [
    "Call `predict_bottleneck` to do the same with the testing data. This can take a little time, so it might be worthwhile to move onto the next nextbook and return to this once it's complete. "
   ]
  },
  {
   "cell_type": "code",
   "execution_count": 6,
   "metadata": {},
   "outputs": [
    {
     "name": "stdout",
     "output_type": "stream",
     "text": [
      "restore RNN/rnn3/bidirectional_rnn/fw/gru_cell/gates/kernel:0\n",
      "restore RNN/rnn3/bidirectional_rnn/fw/gru_cell/gates/bias:0\n",
      "restore RNN/rnn3/bidirectional_rnn/fw/gru_cell/candidate/kernel:0\n",
      "restore RNN/rnn3/bidirectional_rnn/fw/gru_cell/candidate/bias:0\n",
      "restore RNN/rnn3/bidirectional_rnn/bw/gru_cell/gates/kernel:0\n",
      "restore RNN/rnn3/bidirectional_rnn/bw/gru_cell/gates/bias:0\n",
      "restore RNN/rnn3/bidirectional_rnn/bw/gru_cell/candidate/kernel:0\n",
      "restore RNN/rnn3/bidirectional_rnn/bw/gru_cell/candidate/bias:0\n",
      "restore RNN/rnn5/bidirectional_rnn/fw/output_projection_wrapper/gru_cell/gates/kernel:0\n",
      "restore RNN/rnn5/bidirectional_rnn/fw/output_projection_wrapper/gru_cell/gates/bias:0\n",
      "restore RNN/rnn5/bidirectional_rnn/fw/output_projection_wrapper/gru_cell/candidate/kernel:0\n",
      "restore RNN/rnn5/bidirectional_rnn/fw/output_projection_wrapper/gru_cell/candidate/bias:0\n",
      "restore RNN/rnn5/bidirectional_rnn/fw/output_projection_wrapper/kernel:0\n",
      "restore RNN/rnn5/bidirectional_rnn/fw/output_projection_wrapper/bias:0\n",
      "restore RNN/rnn5/bidirectional_rnn/bw/output_projection_wrapper/gru_cell/gates/kernel:0\n",
      "restore RNN/rnn5/bidirectional_rnn/bw/output_projection_wrapper/gru_cell/gates/bias:0\n",
      "restore RNN/rnn5/bidirectional_rnn/bw/output_projection_wrapper/gru_cell/candidate/kernel:0\n",
      "restore RNN/rnn5/bidirectional_rnn/bw/output_projection_wrapper/gru_cell/candidate/bias:0\n",
      "restore RNN/rnn5/bidirectional_rnn/bw/output_projection_wrapper/kernel:0\n",
      "restore RNN/rnn5/bidirectional_rnn/bw/output_projection_wrapper/bias:0\n",
      "restore RNN/rnn4/bidirectional_rnn/fw/gru_cell/gates/kernel:0\n",
      "restore RNN/rnn4/bidirectional_rnn/fw/gru_cell/gates/bias:0\n",
      "restore RNN/rnn4/bidirectional_rnn/fw/gru_cell/candidate/kernel:0\n",
      "restore RNN/rnn4/bidirectional_rnn/fw/gru_cell/candidate/bias:0\n",
      "restore RNN/rnn4/bidirectional_rnn/bw/gru_cell/gates/kernel:0\n",
      "restore RNN/rnn4/bidirectional_rnn/bw/gru_cell/gates/bias:0\n",
      "restore RNN/rnn4/bidirectional_rnn/bw/gru_cell/candidate/kernel:0\n",
      "restore RNN/rnn4/bidirectional_rnn/bw/gru_cell/candidate/bias:0\n"
     ]
    },
    {
     "name": "stderr",
     "output_type": "stream",
     "text": [
      "722it [08:55,  1.82it/s]                         \n"
     ]
    }
   ],
   "source": [
    "test_bn = model.predict_bottleneck(test)"
   ]
  },
  {
   "cell_type": "markdown",
   "metadata": {},
   "source": [
    "Let's verify that we have embedded each of our timeseries into 16-dimensional space. "
   ]
  },
  {
   "cell_type": "code",
   "execution_count": 8,
   "metadata": {},
   "outputs": [
    {
     "name": "stdout",
     "output_type": "stream",
     "text": [
      "(7848, 16)\n",
      "(1477022, 16)\n"
     ]
    }
   ],
   "source": [
    "print(train_bn.shape)\n",
    "print(test_bn.shape)"
   ]
  },
  {
   "cell_type": "markdown",
   "metadata": {},
   "source": [
    "### Convert Bottleneck Features to DataFrames"
   ]
  },
  {
   "cell_type": "code",
   "execution_count": 9,
   "metadata": {},
   "outputs": [],
   "source": [
    "train_bn = pd.DataFrame(train_bn,columns=['bottleneck%d'%i for i in range(train_bn.shape[1])])\n",
    "train_bn['object_id'] = train.object_id.unique()"
   ]
  },
  {
   "cell_type": "code",
   "execution_count": 10,
   "metadata": {},
   "outputs": [
    {
     "data": {
      "text/html": [
       "<div>\n",
       "<style scoped>\n",
       "    .dataframe tbody tr th:only-of-type {\n",
       "        vertical-align: middle;\n",
       "    }\n",
       "\n",
       "    .dataframe tbody tr th {\n",
       "        vertical-align: top;\n",
       "    }\n",
       "\n",
       "    .dataframe thead th {\n",
       "        text-align: right;\n",
       "    }\n",
       "</style>\n",
       "<table border=\"1\" class=\"dataframe\">\n",
       "  <thead>\n",
       "    <tr style=\"text-align: right;\">\n",
       "      <th></th>\n",
       "      <th>bottleneck0</th>\n",
       "      <th>bottleneck1</th>\n",
       "      <th>bottleneck2</th>\n",
       "      <th>bottleneck3</th>\n",
       "      <th>bottleneck4</th>\n",
       "      <th>bottleneck5</th>\n",
       "      <th>bottleneck6</th>\n",
       "      <th>bottleneck7</th>\n",
       "      <th>bottleneck8</th>\n",
       "      <th>bottleneck9</th>\n",
       "      <th>bottleneck10</th>\n",
       "      <th>bottleneck11</th>\n",
       "      <th>bottleneck12</th>\n",
       "      <th>bottleneck13</th>\n",
       "      <th>bottleneck14</th>\n",
       "      <th>bottleneck15</th>\n",
       "      <th>object_id</th>\n",
       "    </tr>\n",
       "  </thead>\n",
       "  <tbody>\n",
       "    <tr>\n",
       "      <th>0</th>\n",
       "      <td>39.732155</td>\n",
       "      <td>0.481644</td>\n",
       "      <td>9.545387</td>\n",
       "      <td>0.620394</td>\n",
       "      <td>0.356216</td>\n",
       "      <td>36.236870</td>\n",
       "      <td>0.001318</td>\n",
       "      <td>0.045979</td>\n",
       "      <td>0.075107</td>\n",
       "      <td>7.429900</td>\n",
       "      <td>0.131433</td>\n",
       "      <td>0.000731</td>\n",
       "      <td>0.459890</td>\n",
       "      <td>56.466602</td>\n",
       "      <td>0.147015</td>\n",
       "      <td>20.742071</td>\n",
       "      <td>615</td>\n",
       "    </tr>\n",
       "    <tr>\n",
       "      <th>1</th>\n",
       "      <td>2.141680</td>\n",
       "      <td>6.474412</td>\n",
       "      <td>8.759027</td>\n",
       "      <td>0.114260</td>\n",
       "      <td>2.240716</td>\n",
       "      <td>9.736775</td>\n",
       "      <td>7.122033</td>\n",
       "      <td>10.171883</td>\n",
       "      <td>3.942687</td>\n",
       "      <td>1.042941</td>\n",
       "      <td>1.473614</td>\n",
       "      <td>0.025092</td>\n",
       "      <td>6.322167</td>\n",
       "      <td>1.655638</td>\n",
       "      <td>3.261944</td>\n",
       "      <td>18.709698</td>\n",
       "      <td>713</td>\n",
       "    </tr>\n",
       "    <tr>\n",
       "      <th>2</th>\n",
       "      <td>1.139721</td>\n",
       "      <td>28.513445</td>\n",
       "      <td>0.475544</td>\n",
       "      <td>0.954771</td>\n",
       "      <td>9.411226</td>\n",
       "      <td>1.062097</td>\n",
       "      <td>18.426237</td>\n",
       "      <td>2.884042</td>\n",
       "      <td>2.424170</td>\n",
       "      <td>1.874314</td>\n",
       "      <td>0.666819</td>\n",
       "      <td>10.709209</td>\n",
       "      <td>5.510745</td>\n",
       "      <td>0.388815</td>\n",
       "      <td>8.288030</td>\n",
       "      <td>2.827858</td>\n",
       "      <td>730</td>\n",
       "    </tr>\n",
       "    <tr>\n",
       "      <th>3</th>\n",
       "      <td>13.054786</td>\n",
       "      <td>24.500618</td>\n",
       "      <td>3.417213</td>\n",
       "      <td>2.564089</td>\n",
       "      <td>0.949260</td>\n",
       "      <td>1.549925</td>\n",
       "      <td>21.927141</td>\n",
       "      <td>6.542571</td>\n",
       "      <td>6.207672</td>\n",
       "      <td>4.959156</td>\n",
       "      <td>2.384908</td>\n",
       "      <td>2.566332</td>\n",
       "      <td>9.735011</td>\n",
       "      <td>0.954083</td>\n",
       "      <td>17.784239</td>\n",
       "      <td>3.097169</td>\n",
       "      <td>745</td>\n",
       "    </tr>\n",
       "    <tr>\n",
       "      <th>4</th>\n",
       "      <td>2.804562</td>\n",
       "      <td>22.519892</td>\n",
       "      <td>5.931814</td>\n",
       "      <td>2.715422</td>\n",
       "      <td>2.990609</td>\n",
       "      <td>2.720287</td>\n",
       "      <td>20.145376</td>\n",
       "      <td>4.909363</td>\n",
       "      <td>5.238785</td>\n",
       "      <td>2.418490</td>\n",
       "      <td>0.306978</td>\n",
       "      <td>3.099148</td>\n",
       "      <td>7.483637</td>\n",
       "      <td>0.263367</td>\n",
       "      <td>8.544586</td>\n",
       "      <td>1.836025</td>\n",
       "      <td>1124</td>\n",
       "    </tr>\n",
       "  </tbody>\n",
       "</table>\n",
       "</div>"
      ],
      "text/plain": [
       "   bottleneck0  bottleneck1  bottleneck2  bottleneck3  bottleneck4  \\\n",
       "0    39.732155     0.481644     9.545387     0.620394     0.356216   \n",
       "1     2.141680     6.474412     8.759027     0.114260     2.240716   \n",
       "2     1.139721    28.513445     0.475544     0.954771     9.411226   \n",
       "3    13.054786    24.500618     3.417213     2.564089     0.949260   \n",
       "4     2.804562    22.519892     5.931814     2.715422     2.990609   \n",
       "\n",
       "   bottleneck5  bottleneck6  bottleneck7  bottleneck8  bottleneck9  \\\n",
       "0    36.236870     0.001318     0.045979     0.075107     7.429900   \n",
       "1     9.736775     7.122033    10.171883     3.942687     1.042941   \n",
       "2     1.062097    18.426237     2.884042     2.424170     1.874314   \n",
       "3     1.549925    21.927141     6.542571     6.207672     4.959156   \n",
       "4     2.720287    20.145376     4.909363     5.238785     2.418490   \n",
       "\n",
       "   bottleneck10  bottleneck11  bottleneck12  bottleneck13  bottleneck14  \\\n",
       "0      0.131433      0.000731      0.459890     56.466602      0.147015   \n",
       "1      1.473614      0.025092      6.322167      1.655638      3.261944   \n",
       "2      0.666819     10.709209      5.510745      0.388815      8.288030   \n",
       "3      2.384908      2.566332      9.735011      0.954083     17.784239   \n",
       "4      0.306978      3.099148      7.483637      0.263367      8.544586   \n",
       "\n",
       "   bottleneck15  object_id  \n",
       "0     20.742071        615  \n",
       "1     18.709698        713  \n",
       "2      2.827858        730  \n",
       "3      3.097169        745  \n",
       "4      1.836025       1124  "
      ]
     },
     "execution_count": 10,
     "metadata": {},
     "output_type": "execute_result"
    }
   ],
   "source": [
    "train_bn.head()"
   ]
  },
  {
   "cell_type": "code",
   "execution_count": 11,
   "metadata": {},
   "outputs": [],
   "source": [
    "test_bn = pd.DataFrame(test_bn,columns=['bottleneck%d'%i for i in range(test_bn.shape[1])])\n",
    "test_bn['object_id'] = test.object_id.unique()"
   ]
  },
  {
   "cell_type": "code",
   "execution_count": 12,
   "metadata": {},
   "outputs": [
    {
     "data": {
      "text/html": [
       "<div>\n",
       "<style scoped>\n",
       "    .dataframe tbody tr th:only-of-type {\n",
       "        vertical-align: middle;\n",
       "    }\n",
       "\n",
       "    .dataframe tbody tr th {\n",
       "        vertical-align: top;\n",
       "    }\n",
       "\n",
       "    .dataframe thead th {\n",
       "        text-align: right;\n",
       "    }\n",
       "</style>\n",
       "<table border=\"1\" class=\"dataframe\">\n",
       "  <thead>\n",
       "    <tr style=\"text-align: right;\">\n",
       "      <th></th>\n",
       "      <th>bottleneck0</th>\n",
       "      <th>bottleneck1</th>\n",
       "      <th>bottleneck2</th>\n",
       "      <th>bottleneck3</th>\n",
       "      <th>bottleneck4</th>\n",
       "      <th>bottleneck5</th>\n",
       "      <th>bottleneck6</th>\n",
       "      <th>bottleneck7</th>\n",
       "      <th>bottleneck8</th>\n",
       "      <th>bottleneck9</th>\n",
       "      <th>bottleneck10</th>\n",
       "      <th>bottleneck11</th>\n",
       "      <th>bottleneck12</th>\n",
       "      <th>bottleneck13</th>\n",
       "      <th>bottleneck14</th>\n",
       "      <th>bottleneck15</th>\n",
       "      <th>object_id</th>\n",
       "    </tr>\n",
       "  </thead>\n",
       "  <tbody>\n",
       "    <tr>\n",
       "      <th>0</th>\n",
       "      <td>0.951065</td>\n",
       "      <td>0.251945</td>\n",
       "      <td>3.318633</td>\n",
       "      <td>0.000736</td>\n",
       "      <td>2.441339</td>\n",
       "      <td>2.927944</td>\n",
       "      <td>1.147542</td>\n",
       "      <td>4.429283</td>\n",
       "      <td>3.313076</td>\n",
       "      <td>0.003929</td>\n",
       "      <td>1.196651</td>\n",
       "      <td>0.306426</td>\n",
       "      <td>1.503734</td>\n",
       "      <td>0.039145</td>\n",
       "      <td>0.131615</td>\n",
       "      <td>0.641174</td>\n",
       "      <td>49433749</td>\n",
       "    </tr>\n",
       "    <tr>\n",
       "      <th>1</th>\n",
       "      <td>10.752055</td>\n",
       "      <td>2.290999</td>\n",
       "      <td>3.327535</td>\n",
       "      <td>1.669374</td>\n",
       "      <td>1.118064</td>\n",
       "      <td>1.246555</td>\n",
       "      <td>3.303480</td>\n",
       "      <td>7.597229</td>\n",
       "      <td>10.859291</td>\n",
       "      <td>0.491331</td>\n",
       "      <td>6.444759</td>\n",
       "      <td>3.714051</td>\n",
       "      <td>2.977882</td>\n",
       "      <td>0.727500</td>\n",
       "      <td>8.415606</td>\n",
       "      <td>5.365532</td>\n",
       "      <td>49433769</td>\n",
       "    </tr>\n",
       "    <tr>\n",
       "      <th>2</th>\n",
       "      <td>0.783580</td>\n",
       "      <td>7.849600</td>\n",
       "      <td>0.511416</td>\n",
       "      <td>2.363377</td>\n",
       "      <td>3.164022</td>\n",
       "      <td>1.021771</td>\n",
       "      <td>7.064289</td>\n",
       "      <td>3.281812</td>\n",
       "      <td>5.019171</td>\n",
       "      <td>1.784289</td>\n",
       "      <td>4.517395</td>\n",
       "      <td>2.340687</td>\n",
       "      <td>1.919580</td>\n",
       "      <td>0.080435</td>\n",
       "      <td>5.031864</td>\n",
       "      <td>4.927163</td>\n",
       "      <td>49433826</td>\n",
       "    </tr>\n",
       "    <tr>\n",
       "      <th>3</th>\n",
       "      <td>5.999395</td>\n",
       "      <td>4.163189</td>\n",
       "      <td>2.212542</td>\n",
       "      <td>0.434298</td>\n",
       "      <td>1.154950</td>\n",
       "      <td>4.638714</td>\n",
       "      <td>7.524287</td>\n",
       "      <td>6.470583</td>\n",
       "      <td>6.138540</td>\n",
       "      <td>1.092754</td>\n",
       "      <td>4.615685</td>\n",
       "      <td>5.806994</td>\n",
       "      <td>3.477190</td>\n",
       "      <td>0.701255</td>\n",
       "      <td>8.968193</td>\n",
       "      <td>10.473462</td>\n",
       "      <td>49433842</td>\n",
       "    </tr>\n",
       "    <tr>\n",
       "      <th>4</th>\n",
       "      <td>2.767842</td>\n",
       "      <td>8.570052</td>\n",
       "      <td>2.039266</td>\n",
       "      <td>0.764213</td>\n",
       "      <td>0.918890</td>\n",
       "      <td>2.032316</td>\n",
       "      <td>1.962744</td>\n",
       "      <td>1.229088</td>\n",
       "      <td>11.210056</td>\n",
       "      <td>3.119527</td>\n",
       "      <td>1.505223</td>\n",
       "      <td>8.089897</td>\n",
       "      <td>3.605143</td>\n",
       "      <td>4.458409</td>\n",
       "      <td>10.702970</td>\n",
       "      <td>5.939607</td>\n",
       "      <td>49433919</td>\n",
       "    </tr>\n",
       "  </tbody>\n",
       "</table>\n",
       "</div>"
      ],
      "text/plain": [
       "   bottleneck0  bottleneck1  bottleneck2  bottleneck3  bottleneck4  \\\n",
       "0     0.951065     0.251945     3.318633     0.000736     2.441339   \n",
       "1    10.752055     2.290999     3.327535     1.669374     1.118064   \n",
       "2     0.783580     7.849600     0.511416     2.363377     3.164022   \n",
       "3     5.999395     4.163189     2.212542     0.434298     1.154950   \n",
       "4     2.767842     8.570052     2.039266     0.764213     0.918890   \n",
       "\n",
       "   bottleneck5  bottleneck6  bottleneck7  bottleneck8  bottleneck9  \\\n",
       "0     2.927944     1.147542     4.429283     3.313076     0.003929   \n",
       "1     1.246555     3.303480     7.597229    10.859291     0.491331   \n",
       "2     1.021771     7.064289     3.281812     5.019171     1.784289   \n",
       "3     4.638714     7.524287     6.470583     6.138540     1.092754   \n",
       "4     2.032316     1.962744     1.229088    11.210056     3.119527   \n",
       "\n",
       "   bottleneck10  bottleneck11  bottleneck12  bottleneck13  bottleneck14  \\\n",
       "0      1.196651      0.306426      1.503734      0.039145      0.131615   \n",
       "1      6.444759      3.714051      2.977882      0.727500      8.415606   \n",
       "2      4.517395      2.340687      1.919580      0.080435      5.031864   \n",
       "3      4.615685      5.806994      3.477190      0.701255      8.968193   \n",
       "4      1.505223      8.089897      3.605143      4.458409     10.702970   \n",
       "\n",
       "   bottleneck15  object_id  \n",
       "0      0.641174   49433749  \n",
       "1      5.365532   49433769  \n",
       "2      4.927163   49433826  \n",
       "3     10.473462   49433842  \n",
       "4      5.939607   49433919  "
      ]
     },
     "execution_count": 12,
     "metadata": {},
     "output_type": "execute_result"
    }
   ],
   "source": [
    "test_bn.head()"
   ]
  },
  {
   "cell_type": "markdown",
   "metadata": {},
   "source": [
    "### Store Features to Disk"
   ]
  },
  {
   "cell_type": "code",
   "execution_count": 13,
   "metadata": {},
   "outputs": [],
   "source": [
    "train_bn.to_pickle('train_bn.pkl')\n",
    "test_bn.to_pickle('test_bn.pkl')"
   ]
  },
  {
   "cell_type": "code",
   "execution_count": null,
   "metadata": {},
   "outputs": [],
   "source": []
  }
 ],
 "metadata": {
  "kernelspec": {
   "display_name": "Python (rapids_env)",
   "language": "python",
   "name": "python3"
  },
  "language_info": {
   "codemirror_mode": {
    "name": "ipython",
    "version": 3
   },
   "file_extension": ".py",
   "mimetype": "text/x-python",
   "name": "python",
   "nbconvert_exporter": "python",
   "pygments_lexer": "ipython3",
   "version": "3.7.3"
  }
 },
 "nbformat": 4,
 "nbformat_minor": 4
}
