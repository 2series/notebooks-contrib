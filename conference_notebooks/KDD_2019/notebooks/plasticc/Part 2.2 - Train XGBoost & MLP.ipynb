{
 "cells": [
  {
   "cell_type": "markdown",
   "metadata": {},
   "source": [
    "# Part 2.2 - Train Final XGBoost model\n",
    "Use the final training and testing data sets, containing statistical features and timeseries bottleneck features, to train an XGBoost classifier."
   ]
  },
  {
   "cell_type": "code",
   "execution_count": 1,
   "metadata": {},
   "outputs": [],
   "source": [
    "import cudf as gd\n",
    "import pandas as pd\n",
    "import numpy as np\n",
    "import math\n",
    "import xgboost as xgb\n",
    "from termcolor import colored\n",
    "import matplotlib.pyplot as plt"
   ]
  },
  {
   "cell_type": "code",
   "execution_count": 2,
   "metadata": {},
   "outputs": [],
   "source": [
    "train_final_gd = gd.from_pandas(pd.read_pickle(\"train_gdf.pkl\"))\n",
    "test_final_gd = gd.from_pandas(pd.read_pickle(\"test_gdf.pkl\"))"
   ]
  },
  {
   "cell_type": "code",
   "execution_count": 3,
   "metadata": {},
   "outputs": [
    {
     "data": {
      "text/html": [
       "<div>\n",
       "<style scoped>\n",
       "    .dataframe tbody tr th:only-of-type {\n",
       "        vertical-align: middle;\n",
       "    }\n",
       "\n",
       "    .dataframe tbody tr th {\n",
       "        vertical-align: top;\n",
       "    }\n",
       "\n",
       "    .dataframe thead th {\n",
       "        text-align: right;\n",
       "    }\n",
       "</style>\n",
       "<table border=\"1\" class=\"dataframe\">\n",
       "  <thead>\n",
       "    <tr style=\"text-align: right;\">\n",
       "      <th></th>\n",
       "      <th>object_id</th>\n",
       "      <th>ddf</th>\n",
       "      <th>hostgal_specz</th>\n",
       "      <th>hostgal_photoz</th>\n",
       "      <th>hostgal_photoz_err</th>\n",
       "      <th>distmod</th>\n",
       "      <th>mwebv</th>\n",
       "      <th>target</th>\n",
       "      <th>mean_passband</th>\n",
       "      <th>mean_detected</th>\n",
       "      <th>...</th>\n",
       "      <th>bottleneck6</th>\n",
       "      <th>bottleneck7</th>\n",
       "      <th>bottleneck8</th>\n",
       "      <th>bottleneck9</th>\n",
       "      <th>bottleneck10</th>\n",
       "      <th>bottleneck11</th>\n",
       "      <th>bottleneck12</th>\n",
       "      <th>bottleneck13</th>\n",
       "      <th>bottleneck14</th>\n",
       "      <th>bottleneck15</th>\n",
       "    </tr>\n",
       "  </thead>\n",
       "  <tbody>\n",
       "    <tr>\n",
       "      <th>0</th>\n",
       "      <td>116619873</td>\n",
       "      <td>0</td>\n",
       "      <td>0.0000</td>\n",
       "      <td>0.0000</td>\n",
       "      <td>0.0000</td>\n",
       "      <td>NaN</td>\n",
       "      <td>0.082</td>\n",
       "      <td>65</td>\n",
       "      <td>2.983333</td>\n",
       "      <td>0.033333</td>\n",
       "      <td>...</td>\n",
       "      <td>0.285420</td>\n",
       "      <td>0.925031</td>\n",
       "      <td>7.406346</td>\n",
       "      <td>0.233305</td>\n",
       "      <td>2.419885</td>\n",
       "      <td>3.648186</td>\n",
       "      <td>1.956079</td>\n",
       "      <td>11.332726</td>\n",
       "      <td>0.021425</td>\n",
       "      <td>12.859538</td>\n",
       "    </tr>\n",
       "    <tr>\n",
       "      <th>1</th>\n",
       "      <td>116673023</td>\n",
       "      <td>0</td>\n",
       "      <td>0.0000</td>\n",
       "      <td>0.0000</td>\n",
       "      <td>0.0000</td>\n",
       "      <td>NaN</td>\n",
       "      <td>0.038</td>\n",
       "      <td>65</td>\n",
       "      <td>3.200000</td>\n",
       "      <td>0.022222</td>\n",
       "      <td>...</td>\n",
       "      <td>0.801986</td>\n",
       "      <td>0.498845</td>\n",
       "      <td>4.601831</td>\n",
       "      <td>1.305613</td>\n",
       "      <td>0.888614</td>\n",
       "      <td>2.483444</td>\n",
       "      <td>2.155313</td>\n",
       "      <td>8.742307</td>\n",
       "      <td>0.152133</td>\n",
       "      <td>4.563786</td>\n",
       "    </tr>\n",
       "    <tr>\n",
       "      <th>2</th>\n",
       "      <td>116679053</td>\n",
       "      <td>0</td>\n",
       "      <td>0.5547</td>\n",
       "      <td>0.5190</td>\n",
       "      <td>0.0163</td>\n",
       "      <td>42.358498</td>\n",
       "      <td>0.032</td>\n",
       "      <td>42</td>\n",
       "      <td>3.152941</td>\n",
       "      <td>0.058824</td>\n",
       "      <td>...</td>\n",
       "      <td>1.241324</td>\n",
       "      <td>3.500375</td>\n",
       "      <td>5.497740</td>\n",
       "      <td>0.093113</td>\n",
       "      <td>5.392372</td>\n",
       "      <td>1.593976</td>\n",
       "      <td>3.090402</td>\n",
       "      <td>3.614620</td>\n",
       "      <td>3.312078</td>\n",
       "      <td>2.549653</td>\n",
       "    </tr>\n",
       "    <tr>\n",
       "      <th>3</th>\n",
       "      <td>116697120</td>\n",
       "      <td>0</td>\n",
       "      <td>0.3160</td>\n",
       "      <td>0.2924</td>\n",
       "      <td>0.8410</td>\n",
       "      <td>40.891098</td>\n",
       "      <td>0.077</td>\n",
       "      <td>15</td>\n",
       "      <td>3.139860</td>\n",
       "      <td>0.034965</td>\n",
       "      <td>...</td>\n",
       "      <td>3.911131</td>\n",
       "      <td>2.503263</td>\n",
       "      <td>8.598086</td>\n",
       "      <td>4.952506</td>\n",
       "      <td>7.825676</td>\n",
       "      <td>6.651542</td>\n",
       "      <td>0.828635</td>\n",
       "      <td>0.477027</td>\n",
       "      <td>6.891924</td>\n",
       "      <td>7.729534</td>\n",
       "    </tr>\n",
       "    <tr>\n",
       "      <th>4</th>\n",
       "      <td>116704758</td>\n",
       "      <td>0</td>\n",
       "      <td>1.6903</td>\n",
       "      <td>2.0762</td>\n",
       "      <td>0.1813</td>\n",
       "      <td>46.056499</td>\n",
       "      <td>0.102</td>\n",
       "      <td>88</td>\n",
       "      <td>3.042857</td>\n",
       "      <td>0.107143</td>\n",
       "      <td>...</td>\n",
       "      <td>1.444528</td>\n",
       "      <td>2.305176</td>\n",
       "      <td>1.441843</td>\n",
       "      <td>0.056685</td>\n",
       "      <td>4.565281</td>\n",
       "      <td>0.252759</td>\n",
       "      <td>1.588520</td>\n",
       "      <td>7.086769</td>\n",
       "      <td>3.575921</td>\n",
       "      <td>34.985985</td>\n",
       "    </tr>\n",
       "  </tbody>\n",
       "</table>\n",
       "<p>5 rows × 40 columns</p>\n",
       "</div>"
      ],
      "text/plain": [
       "   object_id  ddf  hostgal_specz  hostgal_photoz  hostgal_photoz_err  \\\n",
       "0  116619873    0         0.0000          0.0000              0.0000   \n",
       "1  116673023    0         0.0000          0.0000              0.0000   \n",
       "2  116679053    0         0.5547          0.5190              0.0163   \n",
       "3  116697120    0         0.3160          0.2924              0.8410   \n",
       "4  116704758    0         1.6903          2.0762              0.1813   \n",
       "\n",
       "     distmod  mwebv  target  mean_passband  mean_detected  ...  bottleneck6  \\\n",
       "0        NaN  0.082      65       2.983333       0.033333  ...     0.285420   \n",
       "1        NaN  0.038      65       3.200000       0.022222  ...     0.801986   \n",
       "2  42.358498  0.032      42       3.152941       0.058824  ...     1.241324   \n",
       "3  40.891098  0.077      15       3.139860       0.034965  ...     3.911131   \n",
       "4  46.056499  0.102      88       3.042857       0.107143  ...     1.444528   \n",
       "\n",
       "   bottleneck7  bottleneck8  bottleneck9  bottleneck10  bottleneck11  \\\n",
       "0     0.925031     7.406346     0.233305      2.419885      3.648186   \n",
       "1     0.498845     4.601831     1.305613      0.888614      2.483444   \n",
       "2     3.500375     5.497740     0.093113      5.392372      1.593976   \n",
       "3     2.503263     8.598086     4.952506      7.825676      6.651542   \n",
       "4     2.305176     1.441843     0.056685      4.565281      0.252759   \n",
       "\n",
       "   bottleneck12  bottleneck13  bottleneck14  bottleneck15  \n",
       "0      1.956079     11.332726      0.021425     12.859538  \n",
       "1      2.155313      8.742307      0.152133      4.563786  \n",
       "2      3.090402      3.614620      3.312078      2.549653  \n",
       "3      0.828635      0.477027      6.891924      7.729534  \n",
       "4      1.588520      7.086769      3.575921     34.985985  \n",
       "\n",
       "[5 rows x 40 columns]"
      ]
     },
     "execution_count": 3,
     "metadata": {},
     "output_type": "execute_result"
    }
   ],
   "source": [
    "train_final_gd.head().to_pandas()"
   ]
  },
  {
   "cell_type": "code",
   "execution_count": 4,
   "metadata": {},
   "outputs": [
    {
     "name": "stdout",
     "output_type": "stream",
     "text": [
      "[6, 15, 16, 42, 52, 53, 62, 64, 65, 67, 88, 90, 92, 95]\n"
     ]
    }
   ],
   "source": [
    "from sklearn.model_selection import train_test_split\n",
    "from sklearn.preprocessing import LabelEncoder\n",
    "\n",
    "y = train_final_gd['target'].to_array()\n",
    "\n",
    "classes = sorted(np.unique(y))\n",
    "\n",
    "print(classes)"
   ]
  },
  {
   "cell_type": "code",
   "execution_count": 5,
   "metadata": {},
   "outputs": [],
   "source": [
    "# Build classes with labels from [0, n-1]\n",
    "lbl = LabelEncoder()\n",
    "y = lbl.fit_transform(y)"
   ]
  },
  {
   "cell_type": "markdown",
   "metadata": {},
   "source": [
    "Set our class weights and build a multi-weighted cross-entropy loss function to train our XGBoost model"
   ]
  },
  {
   "cell_type": "code",
   "execution_count": 6,
   "metadata": {},
   "outputs": [],
   "source": [
    "def multi_weighted_logloss(y_true, y_preds, classes, class_weights):\n",
    "    \"\"\"\n",
    "    Computes the weighted cross-entropy \n",
    "    refactor from\n",
    "    @author olivier https://www.kaggle.com/ogrellier\n",
    "    multi logloss for PLAsTiCC challenge\n",
    "    \"\"\"\n",
    "    y_p = y_preds.reshape(y_true.shape[0], len(classes), order='F')\n",
    "\n",
    "    # Trasform y_true in dummies\n",
    "    y_ohe = pd.get_dummies(y_true) # one-hot encodes y_true values\n",
    "    \n",
    "    # Normalize rows and limit y_preds to 1e-15, 1-1e-15\n",
    "    y_p = np.clip(a=y_p, a_min=1e-15, a_max=1 - 1e-15)\n",
    "\n",
    "    # Transform to log\n",
    "    y_p_log = np.log(y_p)\n",
    "    \n",
    "    # Get the log for ones, .values is used to drop the index of DataFrames\n",
    "    # Exclude class 99 for now, since there is no class99 in the training set\n",
    "    # we gave a special process for that class\n",
    "    y_log_ones = np.sum(y_ohe.values * y_p_log, axis=0)\n",
    "    \n",
    "    # Get the number of positives for each class\n",
    "    nb_pos = y_ohe.sum(axis=0).values.astype(float)\n",
    "\n",
    "    # Weight average and divide by the number of positives\n",
    "    class_arr = np.array([class_weights[k] for k in sorted(class_weights.keys())])\n",
    "    y_w = y_log_ones * class_arr / nb_pos\n",
    "\n",
    "    loss = - np.sum(y_w) / np.sum(class_arr)\n",
    "    \n",
    "    return loss\n",
    "\n",
    "def xgb_multi_weighted_logloss(y_predicted, y_true, classes, class_weights):\n",
    "    loss = multi_weighted_logloss(y_true.get_label(), y_predicted, \n",
    "                                  classes, class_weights)\n",
    "    return 'wloss', loss"
   ]
  },
  {
   "cell_type": "code",
   "execution_count": 7,
   "metadata": {},
   "outputs": [],
   "source": [
    "from functools import partial\n",
    "\n",
    "# Taken from Giba's topic : https://www.kaggle.com/titericz\n",
    "# https://www.kaggle.com/c/PLAsTiCC-2018/discussion/67194\n",
    "# with Kyle Boone's post https://www.kaggle.com/kyleboone\n",
    "class_weights = {c: 1 for c in classes}\n",
    "class_weights.update({c:2 for c in [64, 15]})\n",
    "\n",
    "func_loss = partial(xgb_multi_weighted_logloss, \n",
    "                    classes=classes, \n",
    "                    class_weights=class_weights)"
   ]
  },
  {
   "cell_type": "markdown",
   "metadata": {},
   "source": [
    "Preprocess our columns to fill `nan` values with zeros"
   ]
  },
  {
   "cell_type": "code",
   "execution_count": 8,
   "metadata": {},
   "outputs": [],
   "source": [
    "cols = [i for i in test_final_gd.columns if i not in ['object_id','target']]\n",
    "for col in cols:\n",
    "    train_final_gd[col] = train_final_gd[col].fillna(0).astype('float32')\n",
    "\n",
    "for col in cols:\n",
    "    test_final_gd[col] = test_final_gd[col].fillna(0).astype('float32')"
   ]
  },
  {
   "cell_type": "markdown",
   "metadata": {},
   "source": [
    "Perform a stratified split of our training dataset into 90% training and 10% validation datasets. "
   ]
  },
  {
   "cell_type": "code",
   "execution_count": 9,
   "metadata": {},
   "outputs": [],
   "source": [
    "X = train_final_gd[cols].as_matrix()\n",
    "Xt = test_final_gd[cols].as_matrix()\n",
    "\n",
    "X_train, X_test, y_train, y_test = train_test_split(X,y,test_size=0.1,stratify=y)"
   ]
  },
  {
   "cell_type": "markdown",
   "metadata": {},
   "source": [
    "Set the parameters for XGBoost to build our ensemble of trees   "
   ]
  },
  {
   "cell_type": "code",
   "execution_count": 10,
   "metadata": {},
   "outputs": [],
   "source": [
    "gpu_params = {\n",
    "            'objective': 'multi:softprob', \n",
    "            'tree_method': 'hist', \n",
    "            'nthread': 16, \n",
    "            'num_class':14,\n",
    "            'max_depth': 7, \n",
    "            'silent':0,\n",
    "            'subsample':0.7,\n",
    "            'colsample_bytree': 0.7,\n",
    "            \"objective\": \"multi:softprob\",\n",
    "            \"tree_method\": \"gpu_hist\"\n",
    "}"
   ]
  },
  {
   "cell_type": "markdown",
   "metadata": {},
   "source": [
    "Build DMatrix objects with our train, validation, and test datasets "
   ]
  },
  {
   "cell_type": "code",
   "execution_count": 11,
   "metadata": {},
   "outputs": [],
   "source": [
    "dtrain = xgb.DMatrix(data=X_train, label=y_train)\n",
    "dvalid = xgb.DMatrix(data=X_test, label=y_test)\n",
    "dtest = xgb.DMatrix(data=Xt)"
   ]
  },
  {
   "cell_type": "markdown",
   "metadata": {},
   "source": [
    "Train our XGBoost model"
   ]
  },
  {
   "cell_type": "code",
   "execution_count": 18,
   "metadata": {},
   "outputs": [
    {
     "name": "stdout",
     "output_type": "stream",
     "text": [
      "[0]\teval-merror:0.228025\ttrain-merror:0.182784\teval-wloss:1.664\ttrain-wloss:1.60015\n",
      "Multiple eval metrics have been passed: 'train-wloss' will be used for early stopping.\n",
      "\n",
      "Will train until train-wloss hasn't improved in 10 rounds.\n",
      "[59]\teval-merror:0.15414\ttrain-merror:0\teval-wloss:0.668419\ttrain-wloss:0.025191\n",
      "\u001b[32mvalidation loss 0.6684\u001b[0m\n"
     ]
    }
   ],
   "source": [
    "watchlist = [(dvalid, 'eval'), (dtrain, 'train')]\n",
    "\n",
    "clf = xgb.train(gpu_params, \n",
    "                dtrain=dtrain,\n",
    "                num_boost_round=60,\n",
    "                evals=watchlist,\n",
    "                feval=func_loss,\n",
    "                early_stopping_rounds=10,\n",
    "                verbose_eval=1000)\n",
    "\n",
    "yp = clf.predict(dvalid)\n",
    "\n",
    "gpu_loss = multi_weighted_logloss(y_test, yp, classes, class_weights)\n",
    "\n",
    "ysub = clf.predict(dtest)\n",
    "\n",
    "line = 'validation loss %.4f'%gpu_loss\n",
    "print(colored(line,'green'))"
   ]
  },
  {
   "cell_type": "code",
   "execution_count": 13,
   "metadata": {},
   "outputs": [],
   "source": [
    "y_hat = clf.predict(dvalid)"
   ]
  },
  {
   "cell_type": "code",
   "execution_count": 14,
   "metadata": {},
   "outputs": [],
   "source": [
    "y_pred = np.argmax(y_hat, axis=1)"
   ]
  },
  {
   "cell_type": "code",
   "execution_count": 15,
   "metadata": {},
   "outputs": [
    {
     "name": "stdout",
     "output_type": "stream",
     "text": [
      "Normalized confusion matrix\n"
     ]
    },
    {
     "data": {
      "text/plain": [
       "<matplotlib.axes._subplots.AxesSubplot at 0x7f4c842e6b38>"
      ]
     },
     "execution_count": 15,
     "metadata": {},
     "output_type": "execute_result"
    },
    {
     "data": {
      "image/png": "[encoded data removed]",
      "text/plain": [
       "<Figure size 2016x576 with 2 Axes>"
      ]
     },
     "metadata": {
      "needs_background": "light"
     },
     "output_type": "display_data"
    }
   ],
   "source": [
    "from utils import plot_confusion_matrix\n",
    "plot_confusion_matrix(y_test, y_pred, np.arange(1, len(classes)+1), normalize=True)"
   ]
  },
  {
   "cell_type": "markdown",
   "metadata": {},
   "source": [
    "## Independent Exercise\n",
    "\n",
    "Now that you have trained an XGBoost model using both the timeseries embeddings and the statistical features,\n",
    "1. re-run the previous notebook, but don't merge the timseries features into your training and test datasets before storing them. \n",
    "2. Use your new dataset to train a new XGBoost classifier. \n",
    "3. Compare the accuracy and confusion matrix against the model that included the timeseries embedding features. "
   ]
  },
  {
   "cell_type": "code",
   "execution_count": null,
   "metadata": {},
   "outputs": [],
   "source": []
  }
 ],
 "metadata": {
  "kernelspec": {
   "display_name": "Python (rapids_env)",
   "language": "python",
   "name": "python3"
  },
  "language_info": {
   "codemirror_mode": {
    "name": "ipython",
    "version": 3
   },
   "file_extension": ".py",
   "mimetype": "text/x-python",
   "name": "python",
   "nbconvert_exporter": "python",
   "pygments_lexer": "ipython3",
   "version": "3.7.3"
  }
 },
 "nbformat": 4,
 "nbformat_minor": 4
}
