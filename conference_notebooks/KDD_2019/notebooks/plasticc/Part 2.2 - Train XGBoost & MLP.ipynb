{
 "cells": [
  {
   "cell_type": "markdown",
   "metadata": {},
   "source": [
    "# Part 2.2 - Train Final XGBoost model\n",
    "Use the final training and testing data sets, containing statistical features and embedded timeseries features, to train an XGBoost classifier."
   ]
  },
  {
   "cell_type": "code",
   "execution_count": 15,
   "metadata": {},
   "outputs": [],
   "source": [
    "import cudf as gd\n",
    "import pandas as pd\n",
    "import numpy as np\n",
    "import math\n",
    "import xgboost as xgb\n",
    "import seaborn as sns\n",
    "from termcolor import colored\n",
    "import matplotlib.pyplot as plt"
   ]
  },
  {
   "cell_type": "code",
   "execution_count": 16,
   "metadata": {},
   "outputs": [],
   "source": [
    "train_final_gd = gd.from_pandas(pd.read_pickle(\"train_gdf.pkl\"))\n",
    "test_final_gd = gd.from_pandas(pd.read_pickle(\"test_gdf.pkl\"))"
   ]
  },
  {
   "cell_type": "code",
   "execution_count": 17,
   "metadata": {},
   "outputs": [
    {
     "data": {
      "text/html": [
       "<div>\n",
       "<style scoped>\n",
       "    .dataframe tbody tr th:only-of-type {\n",
       "        vertical-align: middle;\n",
       "    }\n",
       "\n",
       "    .dataframe tbody tr th {\n",
       "        vertical-align: top;\n",
       "    }\n",
       "\n",
       "    .dataframe thead th {\n",
       "        text-align: right;\n",
       "    }\n",
       "</style>\n",
       "<table border=\"1\" class=\"dataframe\">\n",
       "  <thead>\n",
       "    <tr style=\"text-align: right;\">\n",
       "      <th></th>\n",
       "      <th>object_id</th>\n",
       "      <th>ddf</th>\n",
       "      <th>hostgal_specz</th>\n",
       "      <th>hostgal_photoz</th>\n",
       "      <th>hostgal_photoz_err</th>\n",
       "      <th>distmod</th>\n",
       "      <th>mwebv</th>\n",
       "      <th>mean_passband</th>\n",
       "      <th>mean_detected</th>\n",
       "      <th>sum_flux_ratio_sq</th>\n",
       "      <th>...</th>\n",
       "      <th>bottleneck6</th>\n",
       "      <th>bottleneck7</th>\n",
       "      <th>bottleneck8</th>\n",
       "      <th>bottleneck9</th>\n",
       "      <th>bottleneck10</th>\n",
       "      <th>bottleneck11</th>\n",
       "      <th>bottleneck12</th>\n",
       "      <th>bottleneck13</th>\n",
       "      <th>bottleneck14</th>\n",
       "      <th>bottleneck15</th>\n",
       "    </tr>\n",
       "  </thead>\n",
       "  <tbody>\n",
       "    <tr>\n",
       "      <th>0</th>\n",
       "      <td>2432745</td>\n",
       "      <td>0</td>\n",
       "      <td>NaN</td>\n",
       "      <td>0.7562</td>\n",
       "      <td>0.0301</td>\n",
       "      <td>43.352196</td>\n",
       "      <td>0.005</td>\n",
       "      <td>NaN</td>\n",
       "      <td>NaN</td>\n",
       "      <td>NaN</td>\n",
       "      <td>...</td>\n",
       "      <td>NaN</td>\n",
       "      <td>NaN</td>\n",
       "      <td>NaN</td>\n",
       "      <td>NaN</td>\n",
       "      <td>NaN</td>\n",
       "      <td>NaN</td>\n",
       "      <td>NaN</td>\n",
       "      <td>NaN</td>\n",
       "      <td>NaN</td>\n",
       "      <td>NaN</td>\n",
       "    </tr>\n",
       "    <tr>\n",
       "      <th>1</th>\n",
       "      <td>2432779</td>\n",
       "      <td>0</td>\n",
       "      <td>0.5079</td>\n",
       "      <td>0.5467</td>\n",
       "      <td>0.0336</td>\n",
       "      <td>42.494404</td>\n",
       "      <td>0.093</td>\n",
       "      <td>NaN</td>\n",
       "      <td>NaN</td>\n",
       "      <td>NaN</td>\n",
       "      <td>...</td>\n",
       "      <td>NaN</td>\n",
       "      <td>NaN</td>\n",
       "      <td>NaN</td>\n",
       "      <td>NaN</td>\n",
       "      <td>NaN</td>\n",
       "      <td>NaN</td>\n",
       "      <td>NaN</td>\n",
       "      <td>NaN</td>\n",
       "      <td>NaN</td>\n",
       "      <td>NaN</td>\n",
       "    </tr>\n",
       "    <tr>\n",
       "      <th>2</th>\n",
       "      <td>2432785</td>\n",
       "      <td>0</td>\n",
       "      <td>NaN</td>\n",
       "      <td>0.3393</td>\n",
       "      <td>0.0401</td>\n",
       "      <td>41.265503</td>\n",
       "      <td>0.067</td>\n",
       "      <td>NaN</td>\n",
       "      <td>NaN</td>\n",
       "      <td>NaN</td>\n",
       "      <td>...</td>\n",
       "      <td>NaN</td>\n",
       "      <td>NaN</td>\n",
       "      <td>NaN</td>\n",
       "      <td>NaN</td>\n",
       "      <td>NaN</td>\n",
       "      <td>NaN</td>\n",
       "      <td>NaN</td>\n",
       "      <td>NaN</td>\n",
       "      <td>NaN</td>\n",
       "      <td>NaN</td>\n",
       "    </tr>\n",
       "    <tr>\n",
       "      <th>3</th>\n",
       "      <td>2432798</td>\n",
       "      <td>0</td>\n",
       "      <td>NaN</td>\n",
       "      <td>0.3930</td>\n",
       "      <td>0.9962</td>\n",
       "      <td>41.639095</td>\n",
       "      <td>0.008</td>\n",
       "      <td>NaN</td>\n",
       "      <td>NaN</td>\n",
       "      <td>NaN</td>\n",
       "      <td>...</td>\n",
       "      <td>NaN</td>\n",
       "      <td>NaN</td>\n",
       "      <td>NaN</td>\n",
       "      <td>NaN</td>\n",
       "      <td>NaN</td>\n",
       "      <td>NaN</td>\n",
       "      <td>NaN</td>\n",
       "      <td>NaN</td>\n",
       "      <td>NaN</td>\n",
       "      <td>NaN</td>\n",
       "    </tr>\n",
       "    <tr>\n",
       "      <th>4</th>\n",
       "      <td>2432832</td>\n",
       "      <td>0</td>\n",
       "      <td>NaN</td>\n",
       "      <td>0.7017</td>\n",
       "      <td>0.0137</td>\n",
       "      <td>43.153496</td>\n",
       "      <td>0.029</td>\n",
       "      <td>NaN</td>\n",
       "      <td>NaN</td>\n",
       "      <td>NaN</td>\n",
       "      <td>...</td>\n",
       "      <td>NaN</td>\n",
       "      <td>NaN</td>\n",
       "      <td>NaN</td>\n",
       "      <td>NaN</td>\n",
       "      <td>NaN</td>\n",
       "      <td>NaN</td>\n",
       "      <td>NaN</td>\n",
       "      <td>NaN</td>\n",
       "      <td>NaN</td>\n",
       "      <td>NaN</td>\n",
       "    </tr>\n",
       "  </tbody>\n",
       "</table>\n",
       "<p>5 rows × 39 columns</p>\n",
       "</div>"
      ],
      "text/plain": [
       "   object_id  ddf  hostgal_specz  hostgal_photoz  hostgal_photoz_err  \\\n",
       "0    2432745    0            NaN          0.7562              0.0301   \n",
       "1    2432779    0         0.5079          0.5467              0.0336   \n",
       "2    2432785    0            NaN          0.3393              0.0401   \n",
       "3    2432798    0            NaN          0.3930              0.9962   \n",
       "4    2432832    0            NaN          0.7017              0.0137   \n",
       "\n",
       "     distmod  mwebv  mean_passband  mean_detected  sum_flux_ratio_sq  ...  \\\n",
       "0  43.352196  0.005            NaN            NaN                NaN  ...   \n",
       "1  42.494404  0.093            NaN            NaN                NaN  ...   \n",
       "2  41.265503  0.067            NaN            NaN                NaN  ...   \n",
       "3  41.639095  0.008            NaN            NaN                NaN  ...   \n",
       "4  43.153496  0.029            NaN            NaN                NaN  ...   \n",
       "\n",
       "   bottleneck6  bottleneck7  bottleneck8  bottleneck9  bottleneck10  \\\n",
       "0          NaN          NaN          NaN          NaN           NaN   \n",
       "1          NaN          NaN          NaN          NaN           NaN   \n",
       "2          NaN          NaN          NaN          NaN           NaN   \n",
       "3          NaN          NaN          NaN          NaN           NaN   \n",
       "4          NaN          NaN          NaN          NaN           NaN   \n",
       "\n",
       "   bottleneck11  bottleneck12  bottleneck13  bottleneck14  bottleneck15  \n",
       "0           NaN           NaN           NaN           NaN           NaN  \n",
       "1           NaN           NaN           NaN           NaN           NaN  \n",
       "2           NaN           NaN           NaN           NaN           NaN  \n",
       "3           NaN           NaN           NaN           NaN           NaN  \n",
       "4           NaN           NaN           NaN           NaN           NaN  \n",
       "\n",
       "[5 rows x 39 columns]"
      ]
     },
     "execution_count": 17,
     "metadata": {},
     "output_type": "execute_result"
    }
   ],
   "source": [
    "test_final_gd.head().to_pandas()"
   ]
  },
  {
   "cell_type": "code",
   "execution_count": 18,
   "metadata": {},
   "outputs": [],
   "source": [
    "from sklearn.model_selection import train_test_split\n",
    "from sklearn.preprocessing import LabelEncoder\n",
    "\n",
    "y = train_final_gd['target'].to_array()\n",
    "\n",
    "classes = sorted(np.unique(y))\n",
    "\n",
    "# Build classes with labels from [0, n-1]\n",
    "lbl = LabelEncoder()\n",
    "y = lbl.fit_transform(y)"
   ]
  },
  {
   "cell_type": "markdown",
   "metadata": {},
   "source": [
    "Set our class weights and build a multi-weighted cross-entropy loss function to train our XGBoost model"
   ]
  },
  {
   "cell_type": "code",
   "execution_count": 19,
   "metadata": {},
   "outputs": [],
   "source": [
    "def multi_weighted_logloss(y_true, y_preds, classes, class_weights):\n",
    "    \"\"\"\n",
    "    Computes the weighted cross-entropy \n",
    "    refactor from\n",
    "    @author olivier https://www.kaggle.com/ogrellier\n",
    "    multi logloss for PLAsTiCC challenge\n",
    "    \"\"\"\n",
    "    y_p = y_preds.reshape(y_true.shape[0], len(classes), order='F')\n",
    "\n",
    "    # Trasform y_true in dummies\n",
    "    y_ohe = pd.get_dummies(y_true) # one-hot encodes y_true values\n",
    "    \n",
    "    # Normalize rows and limit y_preds to 1e-15, 1-1e-15\n",
    "    y_p = np.clip(a=y_p, a_min=1e-15, a_max=1 - 1e-15)\n",
    "\n",
    "    # Transform to log\n",
    "    y_p_log = np.log(y_p)\n",
    "    \n",
    "    # Get the log for ones, .values is used to drop the index of DataFrames\n",
    "    # Exclude class 99 for now, since there is no class99 in the training set\n",
    "    # we gave a special process for that class\n",
    "    y_log_ones = np.sum(y_ohe.values * y_p_log, axis=0)\n",
    "    \n",
    "    # Get the number of positives for each class\n",
    "    nb_pos = y_ohe.sum(axis=0).values.astype(float)\n",
    "\n",
    "    # Weight average and divide by the number of positives\n",
    "    class_arr = np.array([class_weights[k] for k in sorted(class_weights.keys())])\n",
    "    y_w = y_log_ones * class_arr / nb_pos\n",
    "\n",
    "    loss = - np.sum(y_w) / np.sum(class_arr)\n",
    "    \n",
    "    return loss\n",
    "\n",
    "def xgb_multi_weighted_logloss(y_predicted, y_true, classes, class_weights):\n",
    "    loss = multi_weighted_logloss(y_true.get_label(), y_predicted, \n",
    "                                  classes, class_weights)\n",
    "    return 'wloss', loss"
   ]
  },
  {
   "cell_type": "code",
   "execution_count": 20,
   "metadata": {},
   "outputs": [],
   "source": [
    "from functools import partial\n",
    "\n",
    "# Taken from Giba's topic : https://www.kaggle.com/titericz\n",
    "# https://www.kaggle.com/c/PLAsTiCC-2018/discussion/67194\n",
    "# with Kyle Boone's post https://www.kaggle.com/kyleboone\n",
    "class_weights = {c: 1 for c in classes}\n",
    "class_weights.update({c:2 for c in [64, 15]})\n",
    "\n",
    "func_loss = partial(xgb_multi_weighted_logloss, \n",
    "                        classes=classes, \n",
    "                        class_weights=class_weights)"
   ]
  },
  {
   "cell_type": "markdown",
   "metadata": {},
   "source": [
    "Preprocess our columns to fill `nan` values with zeros"
   ]
  },
  {
   "cell_type": "code",
   "execution_count": 21,
   "metadata": {},
   "outputs": [],
   "source": [
    "cols = [i for i in test_final_gd.columns if i not in ['object_id','target']]\n",
    "for col in cols:\n",
    "    train_final_gd[col] = train_final_gd[col].fillna(0).astype('float32')\n",
    "\n",
    "for col in cols:\n",
    "    test_final_gd[col] = test_final_gd[col].fillna(0).astype('float32')"
   ]
  },
  {
   "cell_type": "markdown",
   "metadata": {},
   "source": [
    "Perform a stratified split of our training dataset into 90% training and 10% validation datasets. "
   ]
  },
  {
   "cell_type": "code",
   "execution_count": 22,
   "metadata": {},
   "outputs": [],
   "source": [
    "X = train_final_gd[cols].as_matrix()\n",
    "Xt = test_final_gd[cols].as_matrix()\n",
    "\n",
    "X_train, X_test, y_train, y_test = train_test_split(X,y,test_size=0.1,stratify=y)"
   ]
  },
  {
   "cell_type": "markdown",
   "metadata": {},
   "source": [
    "Set the parameters for XGBoost to build our ensemble of trees   "
   ]
  },
  {
   "cell_type": "code",
   "execution_count": 23,
   "metadata": {},
   "outputs": [],
   "source": [
    "gpu_params = {\n",
    "            'objective': 'multi:softprob', \n",
    "            'tree_method': 'hist', \n",
    "            'nthread': 16, \n",
    "            'num_class':14,\n",
    "            'max_depth': 7, \n",
    "            'silent':0,\n",
    "            'subsample':0.7,\n",
    "            'colsample_bytree': 0.7,\n",
    "            \"objective\": \"multi:softprob\",\n",
    "            \"tree_method\": \"gpu_hist\"\n",
    "}"
   ]
  },
  {
   "cell_type": "markdown",
   "metadata": {},
   "source": [
    "Build DMatrix objects with our train, validation, and test datasets "
   ]
  },
  {
   "cell_type": "code",
   "execution_count": 29,
   "metadata": {},
   "outputs": [],
   "source": [
    "dtrain = xgb.DMatrix(data=X_train, label=y_train)\n",
    "dvalid = xgb.DMatrix(data=X_test, label=y_test)\n",
    "dtest = xgb.DMatrix(data=Xt)"
   ]
  },
  {
   "cell_type": "markdown",
   "metadata": {},
   "source": [
    "Train our XGBoost model"
   ]
  },
  {
   "cell_type": "code",
   "execution_count": 30,
   "metadata": {},
   "outputs": [
    {
     "name": "stdout",
     "output_type": "stream",
     "text": [
      "[0]\teval-merror:0.247134\ttrain-merror:0.190571\teval-wloss:1.76342\ttrain-wloss:1.62092\n",
      "Multiple eval metrics have been passed: 'train-wloss' will be used for early stopping.\n",
      "\n",
      "Will train until train-wloss hasn't improved in 10 rounds.\n",
      "[59]\teval-merror:0.174522\ttrain-merror:0\teval-wloss:0.838652\ttrain-wloss:0.028231\n",
      "\u001b[32mvalidation loss 0.8387\u001b[0m\n"
     ]
    }
   ],
   "source": [
    "watchlist = [(dvalid, 'eval'), (dtrain, 'train')]\n",
    "\n",
    "clf = xgb.train(gpu_params, \n",
    "                dtrain=dtrain,\n",
    "                num_boost_round=60,\n",
    "                evals=watchlist,\n",
    "                feval=func_loss,\n",
    "                early_stopping_rounds=10,\n",
    "                verbose_eval=1000)\n",
    "\n",
    "yp = clf.predict(dvalid)\n",
    "\n",
    "gpu_loss = multi_weighted_logloss(y_test, yp, classes, class_weights)\n",
    "\n",
    "ysub = clf.predict(dtest)\n",
    "\n",
    "line = 'validation loss %.4f'%gpu_loss\n",
    "print(colored(line,'green'))"
   ]
  },
  {
   "cell_type": "code",
   "execution_count": 31,
   "metadata": {},
   "outputs": [],
   "source": [
    "y_hat = clf.predict(dvalid)"
   ]
  },
  {
   "cell_type": "code",
   "execution_count": 32,
   "metadata": {},
   "outputs": [],
   "source": [
    "y_pred = np.argmax(y_hat, axis=1)"
   ]
  },
  {
   "cell_type": "code",
   "execution_count": 33,
   "metadata": {},
   "outputs": [
    {
     "name": "stdout",
     "output_type": "stream",
     "text": [
      "Normalized confusion matrix\n",
      "[[0.86666667 0.         0.06666667 0.         0.         0.\n",
      "  0.         0.         0.06666667 0.         0.         0.\n",
      "  0.         0.        ]\n",
      " [0.         0.84       0.         0.06       0.         0.\n",
      "  0.04       0.         0.         0.         0.         0.06\n",
      "  0.         0.        ]\n",
      " [0.01075269 0.         0.97849462 0.         0.         0.\n",
      "  0.         0.         0.         0.         0.         0.\n",
      "  0.01075269 0.        ]\n",
      " [0.         0.00840336 0.         0.70588235 0.         0.\n",
      "  0.11764706 0.00840336 0.         0.00840336 0.         0.1512605\n",
      "  0.         0.        ]\n",
      " [0.         0.         0.         0.22222222 0.11111111 0.\n",
      "  0.         0.         0.         0.         0.         0.66666667\n",
      "  0.         0.        ]\n",
      " [0.         0.         0.         0.         0.         0.66666667\n",
      "  0.         0.         0.         0.         0.         0.\n",
      "  0.33333333 0.        ]\n",
      " [0.         0.         0.         0.4375     0.         0.\n",
      "  0.35416667 0.         0.         0.02083333 0.         0.1875\n",
      "  0.         0.        ]\n",
      " [0.         0.1        0.         0.1        0.         0.\n",
      "  0.1        0.7        0.         0.         0.         0.\n",
      "  0.         0.        ]\n",
      " [0.         0.         0.         0.         0.         0.\n",
      "  0.         0.         1.         0.         0.         0.\n",
      "  0.         0.        ]\n",
      " [0.         0.         0.         0.14285714 0.         0.\n",
      "  0.0952381  0.         0.         0.28571429 0.         0.47619048\n",
      "  0.         0.        ]\n",
      " [0.         0.02702703 0.         0.         0.         0.\n",
      "  0.         0.         0.         0.         0.94594595 0.02702703\n",
      "  0.         0.        ]\n",
      " [0.         0.01731602 0.         0.05627706 0.         0.\n",
      "  0.01298701 0.         0.         0.         0.         0.91341991\n",
      "  0.         0.        ]\n",
      " [0.         0.         0.         0.         0.         0.\n",
      "  0.         0.         0.         0.         0.         0.\n",
      "  1.         0.        ]\n",
      " [0.         0.         0.         0.05555556 0.         0.\n",
      "  0.         0.         0.         0.         0.         0.05555556\n",
      "  0.         0.88888889]]\n"
     ]
    },
    {
     "data": {
      "text/plain": [
       "<matplotlib.axes._subplots.AxesSubplot at 0x7f81bf1dd780>"
      ]
     },
     "execution_count": 33,
     "metadata": {},
     "output_type": "execute_result"
    },
    {
     "data": {
      "image/png": "[encoded data removed]",
      "text/plain": [
       "<Figure size 2016x576 with 2 Axes>"
      ]
     },
     "metadata": {
      "needs_background": "light"
     },
     "output_type": "display_data"
    }
   ],
   "source": [
    "from utils import plot_confusion_matrix\n",
    "plot_confusion_matrix(y_test, y_pred, np.arange(1, len(classes)+1), normalize=True)"
   ]
  },
  {
   "cell_type": "markdown",
   "metadata": {},
   "source": [
    "## Independent Exercise\n",
    "\n",
    "Now that you have trained an XGBoost model using both the timeseries embeddings and the statistical features,\n",
    "1. re-run the previous notebook, but don't merge the timseries features into your training and test datasets before storing them. \n",
    "2. Use your new dataset to train a new XGBoost classifier. \n",
    "3. Compare the accuracy and confusion matrix against the model that included the timeseries embedding features. "
   ]
  }
 ],
 "metadata": {
  "kernelspec": {
   "display_name": "Python 3",
   "language": "python",
   "name": "python3"
  },
  "language_info": {
   "codemirror_mode": {
    "name": "ipython",
    "version": 3
   },
   "file_extension": ".py",
   "mimetype": "text/x-python",
   "name": "python",
   "nbconvert_exporter": "python",
   "pygments_lexer": "ipython3",
   "version": "3.7.3"
  }
 },
 "nbformat": 4,
 "nbformat_minor": 4
}
