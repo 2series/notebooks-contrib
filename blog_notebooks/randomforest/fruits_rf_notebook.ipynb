{
 "cells": [
  {
   "cell_type": "code",
   "execution_count": 11,
   "metadata": {},
   "outputs": [],
   "source": [
    "from cuml import RandomForestClassifier as cuRF\n",
    "import numpy as np"
   ]
  },
  {
   "cell_type": "code",
   "execution_count": 12,
   "metadata": {},
   "outputs": [],
   "source": [
    "fruit_to_label = {'apple': 0, 'water melon': 1, 'cherry': 2, 'strawberry': 3} "
   ]
  },
  {
   "cell_type": "code",
   "execution_count": 13,
   "metadata": {},
   "outputs": [],
   "source": [
    "# Red, Green, Blue, Size(cm), Fruit (label)\n",
    "dataset = np.array([[1.0, 0.0, 0.0, 7.0, fruit_to_label['apple']],\n",
    "                   [0.0, 1.0, 0.0, 20.0, fruit_to_label['water melon']],\n",
    "                   [1.0, 0.0, 0.0, 1.0, fruit_to_label['cherry']],\n",
    "                   [0.0, 1.0, 0.0, 7.5, fruit_to_label['apple']],\n",
    "                   [1.0, 0.0, 0.0, 1.0, fruit_to_label['strawberry']],\n",
    "                   [1.0, 0.0, 0.0, 0.8, fruit_to_label['cherry']]])\n",
    "\n",
    "X_train = dataset[:, :-1]\n",
    "y_train = dataset[:, -1].astype(np.int32)\n",
    "#print(y_train.shape)"
   ]
  },
  {
   "cell_type": "code",
   "execution_count": 14,
   "metadata": {},
   "outputs": [],
   "source": [
    "# cuml Random Forest params\n",
    "cu_rf_params = {\n",
    "    'n_estimators': 3,\n",
    "    'max_depth': 8,\n",
    "    'n_bins': 2,\n",
    "    'n_streams': 1,\n",
    "    'rows_sample': 0.67,\n",
    "    'split_algo': 0\n",
    "}"
   ]
  },
  {
   "cell_type": "code",
   "execution_count": 15,
   "metadata": {},
   "outputs": [],
   "source": [
    "cu_rf = cuRF(**cu_rf_params)"
   ]
  },
  {
   "cell_type": "code",
   "execution_count": 16,
   "metadata": {},
   "outputs": [
    {
     "name": "stderr",
     "output_type": "stream",
     "text": [
      "/home/vishalm/anaconda3/lib/python3.7/site-packages/ipykernel_launcher.py:1: UserWarning: Using NumPy for number of class detection,install CuPy for faster processing.\n",
      "  \"\"\"Entry point for launching an IPython kernel.\n"
     ]
    },
    {
     "data": {
      "text/plain": [
       "RandomForestClassifier(n_estimators=3, max_depth=8, handle=<cuml.common.handle.Handle object at 0x7ffa6c13aa38>, max_features=1.0, n_bins=2, n_streams=1, split_algo=0, split_criterion=0, min_rows_per_node=2, bootstrap=True, bootstrap_features=False, verbose=False, rows_sample=0.67, max_leaves=-1, quantile_per_tree=False)"
      ]
     },
     "execution_count": 16,
     "metadata": {},
     "output_type": "execute_result"
    }
   ],
   "source": [
    "cu_rf.fit(X_train, y_train)"
   ]
  },
  {
   "cell_type": "code",
   "execution_count": 17,
   "metadata": {},
   "outputs": [],
   "source": [
    "X_test = np.array([[0.0, 1.0, 0.0, 18.0], [1.0, 0.0, 0.0, 1.0]])"
   ]
  },
  {
   "cell_type": "code",
   "execution_count": 18,
   "metadata": {},
   "outputs": [
    {
     "name": "stdout",
     "output_type": "stream",
     "text": [
      "[1 3]\n"
     ]
    }
   ],
   "source": [
    "predictions = cu_rf.predict(X_test)\n",
    "print(predictions)"
   ]
  }
 ],
 "metadata": {
  "kernelspec": {
   "display_name": "Python 3",
   "language": "python",
   "name": "python3"
  },
  "language_info": {
   "codemirror_mode": {
    "name": "ipython",
    "version": 3
   },
   "file_extension": ".py",
   "mimetype": "text/x-python",
   "name": "python",
   "nbconvert_exporter": "python",
   "pygments_lexer": "ipython3",
   "version": "3.7.3"
  }
 },
 "nbformat": 4,
 "nbformat_minor": 2
}
