{
 "cells": [
  {
   "cell_type": "markdown",
   "metadata": {},
   "source": [
    "# This is a small example showing classification of various fruits based on their size and color"
   ]
  },
  {
   "cell_type": "code",
   "execution_count": 1,
   "metadata": {},
   "outputs": [],
   "source": [
    "from cuml import RandomForestClassifier as cuRF\n",
    "import numpy as np"
   ]
  },
  {
   "cell_type": "markdown",
   "metadata": {},
   "source": [
    "Here we map fuit label to consecutive integers which is required for Random Forest Classifier"
   ]
  },
  {
   "cell_type": "code",
   "execution_count": 2,
   "metadata": {},
   "outputs": [],
   "source": [
    "fruit_to_label = {'apple': 0, 'water melon': 1, 'cherry': 2, 'strawberry': 3} "
   ]
  },
  {
   "cell_type": "markdown",
   "metadata": {},
   "source": [
    "The dataset below float numbers for fruit size and one-hot encoding (float based) for different color types"
   ]
  },
  {
   "cell_type": "code",
   "execution_count": 3,
   "metadata": {},
   "outputs": [],
   "source": [
    "# Red, Green, Blue, Size(cm), Fruit (label)\n",
    "dataset = np.array([[1.0, 0.0, 0.0, 7.0, fruit_to_label['apple']],\n",
    "                   [0.0, 1.0, 0.0, 20.0, fruit_to_label['water melon']],\n",
    "                   [1.0, 0.0, 0.0, 1.0, fruit_to_label['cherry']],\n",
    "                   [0.0, 1.0, 0.0, 7.5, fruit_to_label['apple']],\n",
    "                   [1.0, 0.0, 0.0, 1.0, fruit_to_label['strawberry']],\n",
    "                   [1.0, 0.0, 0.0, 0.8, fruit_to_label['cherry']]])\n",
    "\n",
    "X_train = dataset[:, :-1]\n",
    "y_train = dataset[:, -1].astype(np.int32)\n",
    "#print(y_train.shape)"
   ]
  },
  {
   "cell_type": "code",
   "execution_count": 4,
   "metadata": {},
   "outputs": [],
   "source": [
    "# cuml Random Forest params\n",
    "cu_rf_params = {\n",
    "    'n_estimators': 3, #number of trees in RF\n",
    "    'max_depth': 8, # max depth of each tree\n",
    "    'n_bins': 2, # number of bins used in split point calculation\n",
    "    'n_streams': 1, # CUDA stream to use for parallel processing on GPU\n",
    "    'rows_sample': 0.67, # Percentage of input data to be considered for each tree\n",
    "    'split_algo': 0 # Split algorithm\n",
    "}"
   ]
  },
  {
   "cell_type": "code",
   "execution_count": 5,
   "metadata": {},
   "outputs": [],
   "source": [
    "cu_rf = cuRF(**cu_rf_params)"
   ]
  },
  {
   "cell_type": "code",
   "execution_count": 6,
   "metadata": {},
   "outputs": [
    {
     "name": "stderr",
     "output_type": "stream",
     "text": [
      "/home/vishalm/anaconda3/lib/python3.7/site-packages/ipykernel_launcher.py:1: UserWarning: Using NumPy for number of class detection,install CuPy for faster processing.\n",
      "  \"\"\"Entry point for launching an IPython kernel.\n"
     ]
    },
    {
     "data": {
      "text/plain": [
       "RandomForestClassifier(n_estimators=3, max_depth=8, handle=<cuml.common.handle.Handle object at 0x7ff103e4a900>, max_features=1.0, n_bins=2, n_streams=1, split_algo=0, split_criterion=0, min_rows_per_node=2, bootstrap=True, bootstrap_features=False, verbose=False, rows_sample=0.67, max_leaves=-1, quantile_per_tree=False)"
      ]
     },
     "execution_count": 6,
     "metadata": {},
     "output_type": "execute_result"
    }
   ],
   "source": [
    "cu_rf.fit(X_train, y_train)"
   ]
  },
  {
   "cell_type": "code",
   "execution_count": 7,
   "metadata": {},
   "outputs": [],
   "source": [
    "X_test = np.array([[0.0, 1.0, 0.0, 18.0], [1.0, 0.0, 0.0, 1.0]])"
   ]
  },
  {
   "cell_type": "code",
   "execution_count": 8,
   "metadata": {},
   "outputs": [
    {
     "name": "stdout",
     "output_type": "stream",
     "text": [
      "[1 3]\n"
     ]
    }
   ],
   "source": [
    "predictions = cu_rf.predict(X_test)\n",
    "print(predictions)"
   ]
  }
 ],
 "metadata": {
  "kernelspec": {
   "display_name": "Python 3",
   "language": "python",
   "name": "python3"
  },
  "language_info": {
   "codemirror_mode": {
    "name": "ipython",
    "version": 3
   },
   "file_extension": ".py",
   "mimetype": "text/x-python",
   "name": "python",
   "nbconvert_exporter": "python",
   "pygments_lexer": "ipython3",
   "version": "3.7.3"
  }
 },
 "nbformat": 4,
 "nbformat_minor": 2
}
