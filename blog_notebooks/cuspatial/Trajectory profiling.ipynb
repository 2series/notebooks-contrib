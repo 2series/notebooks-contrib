{
 "cells": [
  {
   "cell_type": "code",
   "execution_count": 1,
   "metadata": {},
   "outputs": [],
   "source": [
    "import numpy as np\n",
    "import time\n",
    "import cudf\n",
    "import cuspatial\n",
    "%load_ext snakeviz"
   ]
  },
  {
   "cell_type": "code",
   "execution_count": 2,
   "metadata": {},
   "outputs": [],
   "source": [
    "import pickle\n",
    "\n",
    "with open('data/trajectories_extracted.p','rb') as f:\n",
    "    trajectories = pickle.load(f)"
   ]
  },
  {
   "cell_type": "code",
   "execution_count": 3,
   "metadata": {},
   "outputs": [],
   "source": [
    "def convert_latlon_2_image_for_vis_wrongway_intersection(lat,long):\n",
    "\n",
    "    x_anchor = 436.369\n",
    "    y_anchor = 126.613\n",
    "    long_anchor = -90.666714\n",
    "    lat_anchor = 42.492466\n",
    "\n",
    "    long_1 = -90.663183\n",
    "    lat_1 = 42.491671\n",
    "    x_1 = 971.026\n",
    "    y_1 = 291.955\n",
    "\n",
    "    long_2_x_rate = (x_1-x_anchor)/(long_1-long_anchor)\n",
    "    lat_2_y_rate = (y_1-y_anchor)/(lat_1-lat_anchor)\n",
    "\n",
    "    y = (lat-lat_anchor)*lat_2_y_rate+y_anchor\n",
    "    x = (long-long_anchor)*long_2_x_rate+x_anchor\n",
    "\n",
    "    return x, y\n",
    "\n",
    "def convert_traj_latlon_2_image_wrongway_intersection(traj):\n",
    "\n",
    "    traj_image = []\n",
    "    for pt in traj:\n",
    "        lat = pt[0]\n",
    "        long = pt[1]\n",
    "        x,y = convert_latlon_2_image_for_vis_wrongway_intersection(lat,long)\n",
    "        traj_image.append((x,y))\n",
    "\n",
    "    return np.asarray(traj_image)\n",
    "\n",
    "def traj_filter_num_points(trajectories,num_min):\n",
    "    max_length = 0\n",
    "    min_length = 999\n",
    "    lengths = []\n",
    "    long_trajectories = []\n",
    "    for traj in trajectories:\n",
    "        if len(traj)>=num_min:\n",
    "            long_trajectories.append(traj)\n",
    "            if len(traj)<min_length:\n",
    "                min_length = len(traj)\n",
    "            lengths.append(len(traj))\n",
    "        if len(traj) > max_length:\n",
    "            max_length = len(traj)\n",
    "    print(\"the longest traj length is: \",max_length)\n",
    "    print(\"the shortest traj length is: \",min_length)\n",
    "    print(\"the average traj length is: \",int(np.mean(lengths)))\n",
    "    return long_trajectories\n",
    "\n",
    "def pick_traj_with_label(label,labels,trajectories):\n",
    "    selected_trajectories = []\n",
    "    for i in range(len(labels)):\n",
    "        if labels[i] == label:\n",
    "            selected_trajectories.append(trajectories[i])\n",
    "    return selected_trajectories  "
   ]
  },
  {
   "cell_type": "code",
   "execution_count": 4,
   "metadata": {},
   "outputs": [
    {
     "name": "stdout",
     "output_type": "stream",
     "text": [
      "Filtering based on number of points ...\n",
      "the longest traj length is:  961\n",
      "the shortest traj length is:  30\n",
      "the average traj length is:  87\n",
      "10070 left after filtering based on number of points\n"
     ]
    }
   ],
   "source": [
    "print('Filtering based on number of points ...')\n",
    "trajectories = traj_filter_num_points(trajectories,num_min=30)\n",
    "print('{} left after filtering based on number of points'.format(len(trajectories)))\n",
    "\n",
    "trajectories = [convert_traj_latlon_2_image_wrongway_intersection(trajectory) for trajectory in trajectories]"
   ]
  },
  {
   "cell_type": "code",
   "execution_count": 7,
   "metadata": {
    "scrolled": false
   },
   "outputs": [],
   "source": [
    "start = time.time()\n",
    "cnt = []\n",
    "for traj in trajectories:\n",
    "    cnt.append(len(traj))\n",
    "cnt = np.asarray(cnt)\n",
    "\n",
    "trajs = np.concatenate([np.asarray(traj) for traj in trajectories],0)\n",
    "\n",
    "x_s = trajs[:,0]\n",
    "y_s = trajs[:,1]\n",
    "\n",
    "pnt_x=cudf.Series(x_s)\n",
    "pnt_y=cudf.Series(y_s)\n",
    "cnt=cudf.Series(cnt)"
   ]
  },
  {
   "cell_type": "code",
   "execution_count": 8,
   "metadata": {},
   "outputs": [
    {
     "name": "stdout",
     "output_type": "stream",
     "text": [
      " \n",
      "*** Profile stats marshalled to file '/tmp/tmpnk95ax_0'. \n",
      "Embedding SnakeViz in the notebook...\n"
     ]
    },
    {
     "data": {
      "text/html": [
       "\n",
       "<iframe id='snakeviz-33097a58-d3ff-11e9-a84e-54ab3adac8ff' frameborder=0 seamless width='100%' height='1000'></iframe>\n",
       "<script>$(\"#snakeviz-33097a58-d3ff-11e9-a84e-54ab3adac8ff\").attr({src:\"http://\"+document.location.hostname+\":42822/snakeviz/%2Ftmp%2Ftmpnk95ax_0\"})</script>\n"
      ],
      "text/plain": [
       "<IPython.core.display.HTML object>"
      ]
     },
     "metadata": {},
     "output_type": "display_data"
    }
   ],
   "source": [
    "%%snakeviz\n",
    "start1 = time.time()\n",
    "dist=cuspatial.directed_hausdorff_distance(pnt_x,pnt_y,cnt)\n",
    "end1 = time.time() "
   ]
  },
  {
   "cell_type": "code",
   "execution_count": null,
   "metadata": {},
   "outputs": [],
   "source": [
    "print('\\nHausdorff distance calculation by Cuspatial in GPU takes: \\n  {0:.3f} seconds (~1500X)'.format(end1 - start1))\n",
    "urt=dist.data.to_array()\n",
    "dmatrix = np.reshape(urt,(len(cnt),len(cnt)))\n",
    "end = time.time()\n",
    "print('\\nThe complete Dmatrix calculation including data transitioning and transforming takes: \\n  {0:.3f} seconds (~1400X)'.format(end - start)) "
   ]
  },
  {
   "cell_type": "code",
   "execution_count": 7,
   "metadata": {
    "collapsed": true
   },
   "outputs": [
    {
     "name": "stdout",
     "output_type": "stream",
     "text": [
      "\n",
      "Hausdorff distance calculation by Cuspatial in GPU takes: \n",
      "  12.609 seconds (~1500X)\n"
     ]
    }
   ],
   "source": [
    "import cudf.core.column as column\n",
    "c_x=column.as_column(np.array(x_s,dtype=np.float64))\n",
    "c_y=column.as_column(np.array(y_s,dtype=np.float64))\n",
    "c_cnt=column.as_column(np.array(cnt,dtype=np.int32))\n",
    "\n",
    "start_c = time.time()\n",
    "dist=cuspatial.directed_hausdorff_distance_column(c_x,c_y,c_cnt)\n",
    "end_c = time.time()\n",
    "print('\\nHausdorff distance calculation by Cuspatial in GPU takes: \\n  {0:.3f} seconds (~1500X)'.format(end_c - start_c))"
   ]
  },
  {
   "cell_type": "code",
   "execution_count": null,
   "metadata": {},
   "outputs": [],
   "source": []
  },
  {
   "cell_type": "code",
   "execution_count": null,
   "metadata": {},
   "outputs": [],
   "source": []
  }
 ],
 "metadata": {
  "kernelspec": {
   "display_name": "Python 3",
   "language": "python",
   "name": "python3"
  },
  "language_info": {
   "codemirror_mode": {
    "name": "ipython",
    "version": 3
   },
   "file_extension": ".py",
   "mimetype": "text/x-python",
   "name": "python",
   "nbconvert_exporter": "python",
   "pygments_lexer": "ipython3",
   "version": "3.7.3"
  }
 },
 "nbformat": 4,
 "nbformat_minor": 2
}
